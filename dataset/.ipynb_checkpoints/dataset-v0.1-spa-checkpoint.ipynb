{
 "cells": [
  {
   "cell_type": "markdown",
   "metadata": {},
   "source": [
    "# Dataset - Colorectal Cancer (CRC)\n",
    "\n",
    "* Introducción\n",
    "* Exploración del conjunto de datos\n",
    "* Conjunto de datos 1\n",
    "* Pre procesado de imágenes para la arquitectura Alexnet (2012)\n",
    "* Muestra"
   ]
  },
  {
   "cell_type": "markdown",
   "metadata": {},
   "source": [
    "## Introducción\n",
    "\n",
    "El conjunto de datos consiste en un grupo de imágenes fueron liberadas bajo [Creative Commons Attribution 4.0 International License](https://creativecommons.org/licenses/by/4.0/) pudiéndose descargar en esta [página](https://zenodo.org/record/53169/export/hx).\n",
    "\n",
    "Cabe mencionar que la realización de los experimentos fue aprobada por el comité de ética de la Universidad de Heildelberg (Alemania) tal y como mencionan los autores Kather et al. en su [artículo](https://www.nature.com/articles/srep27988?WT.feed_name=subjects_translational-research) y así mismo se siguió la [Declaración de Helsinki](http://www.who.int/bulletin/archives/79%284%29373.pdf)."
   ]
  },
  {
   "cell_type": "markdown",
   "metadata": {},
   "source": [
    "## Exploración del conjunto de datos\n",
    "\n",
    "Nota:\n",
    "\n",
    "Los autores liberaron dos conjuntos de imágenes, si bien se realizan nuestras investigaciones sobre el primero de ellos, ambos son descritos a continuación.\n",
    "\n",
    "### Conjunto de datos 1\n",
    "\n",
    "En este conjunto se hallan 8 categorías de tejido, listadas a continuación. En cada una de ellas hay 625 imágenes que **no se solapan entre sí**. Cada imagen tiene un tamaño de 150x150 px (píxeles), que se corresponden con 74$\\mathrm{\\mu}$m de tejido. En total son 5000 imágenes.\n",
    "\n",
    "Categorías seleccionadas por los investigadores\n",
    "1. Epitelio canceroso\n",
    "2. Estroma simple (de composición homogenea, estroma tumoroso, estroma extra-tumoral y tejido blando)\n",
    "3. Estroma complejo (células tumorosas y/o alguna célula inmune)\n",
    "4. Células inmunes (conglomerado de células inmunes y folículos linfoides submucosos)\n",
    "5. Material variado (mucosas, hemorrargía, necrosado)\n",
    "6. Glándulas mucosas normales\n",
    "7. Tejido adiposo\n",
    "8. Imagen de fondo (no se corresponde con tejido)\n",
    "\n",
    "### Conjunto de datos 2\n",
    "\n",
    "Se hallan 10 imágenes grandes, de tamaño 5000x5000 px, que provienen de distinta región con respecto a las imágenes del conjunto anterior. Según los investigadores pueden ser usadas para comprobar distintas combinaciones de descriptores de textura o clasificadores en un entorno real."
   ]
  },
  {
   "cell_type": "markdown",
   "metadata": {},
   "source": [
    "## Conjunto de datos 1\n",
    "\n",
    "Se muestra una imagen por categoría. Cada imagen tiene 150x150 px, por lo que tiene 22500 *características* (features).\n",
    "\n",
    "Las imágenes histológicas están en formato [TIF](https://en.wikipedia.org/wiki/TIFF)."
   ]
  },
  {
   "cell_type": "code",
   "execution_count": null,
   "metadata": {},
   "outputs": [],
   "source": [
    "# Imports To Do --> control loading module errors \n",
    "from PIL import Image\n",
    "\n",
    "%matplotlib inline\n",
    "import numpy as np\n",
    "import matplotlib.pyplot as plt\n",
    "\n",
    "import numpy as np\n",
    "\n",
    "from skimage.transform import resize"
   ]
  },
  {
   "cell_type": "code",
   "execution_count": null,
   "metadata": {},
   "outputs": [],
   "source": [
    "from PIL import Image\n",
    "# just image info\n",
    "# tutorial --> http://pillow.readthedocs.io/en/3.4.x/handbook/tutorial.html\n",
    "# TO-DO path var + name + os-use (linux - windows) + randomize\n",
    "myImage = Image.open(\"../img-raw/01_TUMOR/1A11_CRC-Prim-HE-07_022.tif_Row_601_Col_151.tif\")\n",
    "print(myImage.format, myImage.size, myImage.mode)"
   ]
  },
  {
   "cell_type": "code",
   "execution_count": null,
   "metadata": {},
   "outputs": [],
   "source": [
    "# show the image - inline? 2 alternatives + point 9.2 handson\n",
    "#myImage.show()\n",
    "\n",
    "# alternative 1\n",
    "%matplotlib inline\n",
    "import numpy as np\n",
    "import matplotlib.pyplot as plt\n",
    "myImageAux = plt.imread(\"../img-raw/01_TUMOR/1A11_CRC-Prim-HE-07_022.tif_Row_601_Col_151.tif\")\n",
    "plt.imshow(myImageAux.astype(np.uint8),interpolation=\"nearest\")"
   ]
  },
  {
   "cell_type": "code",
   "execution_count": null,
   "metadata": {},
   "outputs": [],
   "source": [
    "# alternative 2\n",
    "# working with mumpy as array\n",
    "import numpy as np\n",
    "\n",
    "# http://scikit-image.org/docs/dev/user_guide/numpy_images.html\n",
    "\n",
    "myImageArray = np.array(myImage)\n",
    "print(myImageArray.shape) #same result\n",
    "\n",
    "# row = height - height = width - channels\n",
    "height , width, channels = myImageArray.shape\n",
    "\n",
    "print(height)\n",
    "print(width)\n",
    "print(channels)\n",
    "\n",
    "print(myImageArray.size) #150x150x3 - heitgh x witdh x deepth (channels)\n",
    "\n",
    "# the whole array nonsense to show it\n",
    "#myImageArray\n",
    "\n",
    "# print image\n",
    "Image.fromarray(myImageArray)"
   ]
  },
  {
   "cell_type": "code",
   "execution_count": null,
   "metadata": {},
   "outputs": [],
   "source": [
    "# Re-dim imgs\n",
    "# In order to get the exact size of Alexnet input, we have to up-size (256x256) and the down-size (227x227)\n",
    "\n",
    "# image pre-processing: An example, related to data augmentation\n",
    "# link module --> http://scikit-image.org/docs/dev/api/skimage.transform.html\n",
    "# link function --> http://scikit-image.org/docs/dev/api/skimage.transform.html#skimage.transform.resize\n",
    "\n",
    "# in the first cell there is the full import\n",
    "from skimage.transform import resize\n",
    "\n",
    "# original img\n",
    "#skimage.io.imshow(myImageArray) # ok\n",
    "\n",
    "# resize up img\n",
    "myImageArrayUpSize = resize(myImageArray, (256, 256), preserve_range = False, mode='reflect')\n",
    "print(myImageArrayUpSize.shape) # ok\n",
    "#print(type(myImageArrayUpSize)) # ok\n",
    "#skimage.io.imshow(myImageArrayUpSize) # ok\n",
    "\n",
    "#Image.fromarray(myImageArrayUpSize) # does not work\n",
    "\n",
    "# downsize: anti_aliasing true in order to avoid aliasing artifacts\n",
    "# with aliasing artifacts\n",
    "myImageArrayDownSize = resize(myImageArrayUpSize, (227, 227), preserve_range = False, mode='reflect')\n",
    "print(myImageArrayDownSize.shape) # ok\n",
    "#print(type(myImageArrayDownSize)) # ok\n",
    "#skimage.io.imshow(myImageArrayDownSize) # ok\n",
    "\n",
    "# without aliasing artifacts\n",
    "#myImageArrayDownSize = resize(myImageArrayUpSize, (227, 227), anti_aliasing = True, anti_aliasing_sigma = float,preserve_range = False, mode='reflect')\n",
    "\n",
    "#print(myImageArrayDownSize.shape)\n",
    "\n",
    "#print(type(myImageArrayDownSize))"
   ]
  }
 ],
 "metadata": {
  "kernelspec": {
   "display_name": "Python 3",
   "language": "python",
   "name": "python3"
  },
  "language_info": {
   "codemirror_mode": {
    "name": "ipython",
    "version": 3
   },
   "file_extension": ".py",
   "mimetype": "text/x-python",
   "name": "python",
   "nbconvert_exporter": "python",
   "pygments_lexer": "ipython3",
   "version": "3.6.3"
  }
 },
 "nbformat": 4,
 "nbformat_minor": 2
}
