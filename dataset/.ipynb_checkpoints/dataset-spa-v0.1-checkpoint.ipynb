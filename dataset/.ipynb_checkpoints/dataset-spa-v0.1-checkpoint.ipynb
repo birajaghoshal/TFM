{
 "cells": [
  {
   "cell_type": "markdown",
   "metadata": {},
   "source": [
    "# Dataset - Colorectal Cancer (CRC)\n",
    "\n",
    "* Introducción\n",
    "* Muestra"
   ]
  },
  {
   "cell_type": "markdown",
   "metadata": {},
   "source": [
    "### Introduction\n",
    "\n",
    "The data set was released under a [Creative Commons Attribution 4.0 International License](https://creativecommons.org/licenses/by/4.0/) and the data can be downloaded via DOI: 10.5281/zenodo.53169. [Link](https://zenodo.org/record/53169/export/hx).\n",
    "\n",
    "The afore mentioned data followed the [Declaration of Helsinki](http://www.who.int/bulletin/archives/79%284%29373.pdf) and it was approved by the institutional ethics board of Heildelberg University (Germany) as Kather et al. mentioned in their [paper](https://www.nature.com/articles/srep27988?WT.feed_name=subjects_translational-research).\n",
    "\n",
    "**bibtex info of the Kather et al. paper**\n",
    "***\n",
    "@article{kather2016multi,\n",
    "  title={Multi-class texture analysis in colorectal cancer histology},\n",
    "  author={Kather, Jakob Nikolas and Weis, Cleo-Aron and Bianconi, Francesco and Melchers, Susanne M and Schad, Lothar R and Gaiser, Timo and Marx, Alexander and Z{\\\"o}llner, Frank Gerrit},\n",
    "  journal={Scientific reports},\n",
    "  volume={6},\n",
    "  pages={27988},\n",
    "  year={2016},\n",
    "  publisher={Nature Publishing Group}\n",
    "}\n",
    "***"
   ]
  },
  {
   "cell_type": "markdown",
   "metadata": {},
   "source": [
    "### Data exploration\n",
    "\n",
    "#### First data set\n",
    "\n",
    "There are eight(8) types of tissue, listed bellow, with six houndred and twentyfive (625) non-overlapping tissue tiles. Therefore, there are 5000 images. Each one of them has 150px squared shape (74$\\mathrm{\\mu}$m)\n",
    "\n",
    "1. Tumour epithelium\n",
    "2. Simple stroma\n",
    "3. Complex stroma\n",
    "4. Immune cells\n",
    "5. Debris\n",
    "6. Normal mucosal glands\n",
    "7. Adipose tissue\n",
    "8. Background\n",
    "\n",
    "#### Second data set\n",
    "\n",
    "There are ten(10) larger images from different tissue region from those used in the first data set"
   ]
  },
  {
   "cell_type": "markdown",
   "metadata": {},
   "source": [
    "### Tile information\n",
    "\n"
   ]
  },
  {
   "cell_type": "code",
   "execution_count": null,
   "metadata": {
    "collapsed": true
   },
   "outputs": [],
   "source": []
  }
 ],
 "metadata": {
  "kernelspec": {
   "display_name": "Python 3",
   "language": "python",
   "name": "python3"
  },
  "language_info": {
   "codemirror_mode": {
    "name": "ipython",
    "version": 3
   },
   "file_extension": ".py",
   "mimetype": "text/x-python",
   "name": "python",
   "nbconvert_exporter": "python",
   "pygments_lexer": "ipython3",
   "version": "3.6.2"
  }
 },
 "nbformat": 4,
 "nbformat_minor": 2
}
