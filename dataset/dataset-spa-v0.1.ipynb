{
 "cells": [
  {
   "cell_type": "markdown",
   "metadata": {},
   "source": [
    "# Dataset - Colorectal Cancer (CRC)\n",
    "\n",
    "* Introducción\n",
    "* Exploración del conjunto de datos\n",
    "* Conjunto de datos 1\n",
    "* Muestra"
   ]
  },
  {
   "cell_type": "markdown",
   "metadata": {},
   "source": [
    "## Introducción\n",
    "\n",
    "El conjunto de imágenes fueron liberadas bajo [Creative Commons Attribution 4.0 International License](https://creativecommons.org/licenses/by/4.0/) se puede copiar el conjunto completo en [Link](https://zenodo.org/record/53169/export/hx).\n",
    "\n",
    "Para la realización de los experimentos se siguió la [Declaration of Helsinki](http://www.who.int/bulletin/archives/79%284%29373.pdf) y estos, fueron aprobados por el comité de ética de la Universidad de Heildelberg (Alemania) tal y como menciona los autores Kather et al. en su [artículo](https://www.nature.com/articles/srep27988?WT.feed_name=subjects_translational-research).\n",
    "\n",
    "**bibtex info of the Kather et al. paper**\n",
    "***\n",
    "@article{kather2016multi,\n",
    "  title={Multi-class texture analysis in colorectal cancer histology},\n",
    "  author={Kather, Jakob Nikolas and Weis, Cleo-Aron and Bianconi, Francesco and Melchers, Susanne M and Schad, Lothar R and Gaiser, Timo and Marx, Alexander and Z{\\\"o}llner, Frank Gerrit},\n",
    "  journal={Scientific reports},\n",
    "  volume={6},\n",
    "  pages={27988},\n",
    "  year={2016},\n",
    "  publisher={Nature Publishing Group}\n",
    "}\n",
    "***"
   ]
  },
  {
   "cell_type": "markdown",
   "metadata": {},
   "source": [
    "## Exploración del conjunto de datos\n",
    "\n",
    "El conjunto de imágenes está divido en dos, aunque se explican ambos, tomaremos el primer conjunto para realizar nuestras investigaciones.\n",
    "\n",
    "### Conjunto de datos 1\n",
    "\n",
    "Se hallan 8 categorías de tejido, listadas a continuación. En cada una de ellas hay 625 imágenes que **no se solapan entre sí**. Cada imagen tiene un tamaño de 150x150 píxeles, que se corresponden con 74$\\mathrm{\\mu}$m de tejido. En total son 5000 imágenes.\n",
    "\n",
    "Categorías seleccionadas\n",
    "1. Epitelio canceroso\n",
    "2. Estroma simple (de composición homogenea, estroma tumoroso, estroma extra-tumoral y tejido blando)\n",
    "3. Estroma complejo (células tumorosas y/o alguna célula inmune)\n",
    "4. Células inmunes (conglomerado de células inmunes y folículos linfoides submucosos)\n",
    "5. Material variado (mucosas, hemorrargía, necrosado)\n",
    "6. Glándulas mucosas normales\n",
    "7. Tejido adiposo\n",
    "8. Imagen de fondo (no se corresponde con tejido)\n",
    "\n",
    "### Conjunto de datos 2\n",
    "\n",
    "Se hallan 10 imágenes grandes, que provienen de distinta región con respecto a las imágenes del conjunto 1."
   ]
  },
  {
   "cell_type": "markdown",
   "metadata": {},
   "source": [
    "## Conjunto de datos 1\n",
    "\n",
    "mostras algunas imágenes¿? usando código similar a la página 80 del libro base ¿?"
   ]
  },
  {
   "cell_type": "code",
   "execution_count": null,
   "metadata": {
    "collapsed": true
   },
   "outputs": [],
   "source": []
  },
  {
   "cell_type": "markdown",
   "metadata": {},
   "source": [
    "## Muestra\n",
    "\n",
    "Cosas a tener en cuenta.\n",
    "\n",
    "   0. Son categorías con el mismo número de elementos\n",
    "   1. seleccionarlas yo mismo de forma aleatoria (¿?)\n",
    "   2. aleatorizar las categorías \n",
    "   3. seleccionarlas mediante la clase StratifiedShuffleSplit de Scikit-Learn\n",
    "   4. guardar la seleccion en variables(array) / archivo, o un diccionario con clave(tipo de imagen = test / training / cross validation) nombre  para poder leer desde otro jupyter notebook¿? \n",
    "\n"
   ]
  },
  {
   "cell_type": "code",
   "execution_count": null,
   "metadata": {
    "collapsed": true
   },
   "outputs": [],
   "source": []
  }
 ],
 "metadata": {
  "kernelspec": {
   "display_name": "Python 3",
   "language": "python",
   "name": "python3"
  },
  "language_info": {
   "codemirror_mode": {
    "name": "ipython",
    "version": 3
   },
   "file_extension": ".py",
   "mimetype": "text/x-python",
   "name": "python",
   "nbconvert_exporter": "python",
   "pygments_lexer": "ipython3",
   "version": "3.6.2"
  }
 },
 "nbformat": 4,
 "nbformat_minor": 2
}
