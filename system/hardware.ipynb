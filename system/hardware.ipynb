{
 "cells": [
  {
   "cell_type": "markdown",
   "metadata": {},
   "source": [
    "## Especificaciones del equipo\n",
    "\n",
    "### 1. GPU - graphics processing unit - tarjeta gráfica\n",
    "   * GPU - GeForce GTX 960 - año 2015\n",
    "   * Modelo GV-N960G1 Gaming-4GD\n",
    "   * Core clock\n",
    "       * Boost:1329 MHz/ Base: 1266 MHz in OC Mode\n",
    "       * Boost:1304 MHz/ Base: 1241 MHz in Gaming Mode\n",
    "   * Process Technology - 28 nm\n",
    "   * Interface gráfica - PCI-E 3.0\n",
    "   * DDR5 SDRAM 4Gb - Clock: 7.010MHz - Bus: 128bit\n",
    "   * [Página oficial de la GPU](https://www.gigabyte.com/Graphics-Card/GV-N960G1-GAMING-4GD-rev-10#sp)\n",
    "   \n",
    "### 2. Resto del sistema\n",
    "   * CPU - Intel Core i5-4460 @ 3.2GHz\n",
    "   * RAM - 16Gb (comprobar especificaciones)\n",
    "   * SSD - 256Gb (90Gb libres)\n",
    "   * Windows 10 pro 64bit"
   ]
  },
  {
   "cell_type": "markdown",
   "metadata": {},
   "source": [
    "## Instalación herramientas\n",
    "\n",
    "### 1. Sistema operativo - Python\n",
    "\n",
    "Si bien en un principio se comenzó el proyecto con el sistema operativo Ms Windows 10, tras muchísimas dificultades encontradas tanto en la instalación como en la configuración de las distintas herramientas y librerías, se tomó la decisión de comenzar de nuevo el proceso en un entorno Linux.\n",
    "\n",
    "En el archivo linux.log se puede obtener la versión completa del sistema Linux. Se trata de Linux Mint 18.3 MATE 64-bit, la versión exacta del kernel instalado se halla en linux_2.log. \n",
    "\n",
    "Linux brain 4.10.0-42-generic #46~16.04.1-Ubuntu SMP Mon Dec 4 15:57:59 UTC 2017 x86_64 x86_64 x86_64 GNU/Linux\n",
    "\n",
    "En el sistema operativo linux viene instalado por defecto el intérprete del lenguaje de programación Python. En python.log se hallan los detalles de la versión.\n",
    "\n",
    "\n",
    "### 2. Drivers GPU-Nvidia\n",
    "\n",
    "Se comenzó por instalar el driver de la tarjeta gráfica para que el propio sistema operativo pueda trabajar con ella. Desde la [página oficial](http://www.nvidia.es/download/driverResults.aspx/126684/es) y seleccionando las especificaciones de la tarjeta y sistema operativo instalado podemos bajar un archivo con los drivers.\n",
    "\n",
    "Drivers\n",
    " * versión: 384.98\n",
    " * Fecha publicación: 2 de noviembre de 2017\n",
    " * Sistema: Linux 64-bit\n",
    "\n",
    "Durante el desarrollo de las implementaciones se instalaron varios drivers debido a la última actualización cuya fecha aparece reflejada.\n",
    "\n",
    "### 3. Drivers Cuda-Nvidia Toolkit 8.1 - cudNN\n",
    "\n",
    "La instalación de las distintas librerias y herramientas se basó en la ayuda oficial ofrecida por Tensorflow en su [página oficial](https://www.tensorflow.org/install/install_linux).\n",
    "\n",
    "En esa guía se remite a la [página oficial de documentación de CUDA Toolkit](http://docs.nvidia.com/cuda/cuda-installation-guide-linux/#axzz4VZnqTJ2A) CUDA es una plataforma para realizar cálculos distribuidos, sobre todo beneficiándose de los núcleos (cores) de las tarjetas gráficas.\n",
    "\n",
    "La instalación de CUDA no es compleja, pero se ha de seguir paso a paso para instalarla correctamente, en este punto no se encontraron dificultades añadidas. En el archivo cuda.log se tiene la versión instalada. En diciembre, hubo una actualización que ocasionó problemas debido a que no era totalmente compatible con los whells que ofrece Tensorflow, se recurrió a unos compilados a tal efecto en el siguiente [github](https://github.com/mind/wheels/releases/tag/tf1.4.1-gpu-cuda91) en él se pueden encontrar instrucciones precisas para su instalación.\n",
    "\n",
    "\n",
    "Tras tener los drivers de la GPU actualizados, se debe proceder a bajar [Cuda-Toolkit](https://developer.nvidia.com/cuda-80-ga2-download-archive) un archivo ejecutable de unos 1.2Gb tal y como se indica en la página oficial de [Tensorflow](https://www.tensorflow.org/install/install_windows) cuya versión es la 8.0.61. Se trata de unas librerias para poder utilizar la potencia de cálculo de la GPU.\n",
    "\n",
    "Una vez terminado el punto anterior, se debe instalar cuDNN, una libreria que permite aprovechar las capacidades de la tarjeta gráfica y que está diseñada para implementar redes neuronales profundas, entre otras puede trabajar con Tensorflow, Theano, etc. Para su descarga es necesario crear una cuenta gratuita. Durante esta instalación no se encontraron problemas.\n",
    "\n",
    "### 5. Anaconda - Anaconda Navigator\n",
    "\n",
    "Para instalar la libreria Tensorflow se tienen varias posibilidades la elegida por diversos motivos es [Anaconda](https://anaconda.org/) es una plataforma en la que se pueden configurar entornos virtuales, desde la que se pueden lanzar servidores web para [Jupyter](http://jupyter.org/), gestionar paquetes etc. Entre ellos, se hallan librerías muy útiles para el propósito de la investigación. En este [enlace](https://docs.anaconda.com/anaconda/) puede encontrarse una completa documentación, que es otro punto a favor, así como su comunidad, a la que se ha recurrido para solventar problemas en la configuración y uso. La versión instalada es 4.3.30.\n",
    "\n",
    "Ahora ya se tienen las herramientas necesarias para instalar Tensorflow que es una libreria para cálculo numérico sobre grafos, que son las representaciones de las redes neuronales. Gracias a la interacción entre las librerias CUDA, cuDNN y Tensorflow los cálculos de las redes neuronales son posibles.\n",
    "\n",
    "#### Instalación Tensorflow\n",
    "\n",
    "Una vez instalado el entorno Anaconda. Se crea un entorno virtual siguiendo la [guía oficial de instalación](https://www.tensorflow.org/install/install_linux#InstallingAnaconda). \n",
    "\n",
    "En una consola linux, y mediante conda install -c anaconda anaconda-navigator, se instalará un entorno visual, desde el cual podremos seleccionar el entorno virtual en que se ha hecho la instalación de Tensorflow. Para arrancar Navigator, simplemente desde una consola linux se ejecuta anaconda-navigator.\n",
    "\n",
    "Foto de navigator\n",
    "\n",
    "Una vez seleccionando el entorno conda en el que está instalada la librería Tensorflow, se lanza un servidor web desde el cual, los *jupyter notebooks* son accesibles.\n",
    "\n",
    "Para comprobar que la que la instalación es correcta, bastará cargar la libreria y mostrar la versión instalada."
   ]
  },
  {
   "cell_type": "code",
   "execution_count": 1,
   "metadata": {},
   "outputs": [
    {
     "name": "stdout",
     "output_type": "stream",
     "text": [
      "1.4.1\n"
     ]
    }
   ],
   "source": [
    "import tensorflow as tf\n",
    "print(tf.VERSION)"
   ]
  },
  {
   "cell_type": "markdown",
   "metadata": {},
   "source": [
    "Keras es una librería escrita en lenguaje python que simplifica la implementación de convnets. Incluyendo diversas funciones para el pre procesamiento de imágenes o para el aumento de datos (data augmentation) entre otras. La instalación, en el entorno virtual creado en pasos previos, a traves de anaconda es sencilla, simplemente hay que activar el entorno virtual y ejecutar el siguiente comando conda install -c conda-forge keras. Bastará con importar la libreria para saber si está correctamente instalada."
   ]
  },
  {
   "cell_type": "code",
   "execution_count": 1,
   "metadata": {
    "scrolled": true
   },
   "outputs": [
    {
     "name": "stderr",
     "output_type": "stream",
     "text": [
      "Using TensorFlow backend.\n"
     ]
    }
   ],
   "source": [
    "import keras"
   ]
  },
  {
   "cell_type": "markdown",
   "metadata": {},
   "source": [
    "Dos cosas hay que tener en cuenta con Keras, en cuanto a su configuración. En en archivo keras.json hay que especificar dos variables, la primera el backend a utilizar, en este caso Tensorflow, y segundo el orden de los atributos de las imágenes, alto x ancho x número de canales (al ser imágenes RGB son 3). Este es el archivo de configuración usado.\n",
    "\n",
    "{\n",
    "\n",
    "    \"image_data_format\": \"channels_last\",\n",
    "    \n",
    "    \"epsilon\": 1e-07,\n",
    "    \n",
    "    \"floatx\": \"float32\",\n",
    "    \n",
    "    \"backend\": \"tensorflow\"\n",
    "}\n",
    "\n",
    "### 6. Git - Github\n",
    "\n",
    "Git es una herramienta de versionado de archivos. Se puede mantener una traza con los cambios hechos en uno o varios archivos. Se considera una herramienta muy útil y necesaria en cualquier proyecto como este. Por su parte, Github es un servidor remoto (en la nube) en el que se almacenan estos archivos con sus respectivas versiones, es necesaria una cuenta que es gratuita.\n",
    "\n",
    "Git, al igual que el intérprete de Python, es una herramienta que viene instalada por defecto en Linux. Para iniciar el siguimiento de los cambios basta con iniciar git en la carpeta, mediante git init\n",
    "\n",
    "Para finalizar, se han generado una clave ssh para conectarlas al [repositorio remoto](https://github.com/jmartu/TFM) en Github."
   ]
  }
 ],
 "metadata": {
  "kernelspec": {
   "display_name": "Python 3",
   "language": "python",
   "name": "python3"
  },
  "language_info": {
   "codemirror_mode": {
    "name": "ipython",
    "version": 3
   },
   "file_extension": ".py",
   "mimetype": "text/x-python",
   "name": "python",
   "nbconvert_exporter": "python",
   "pygments_lexer": "ipython3",
   "version": "3.6.3"
  }
 },
 "nbformat": 4,
 "nbformat_minor": 2
}
