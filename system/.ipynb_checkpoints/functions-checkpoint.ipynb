{
 "cells": [
  {
   "cell_type": "code",
   "execution_count": null,
   "metadata": {
    "collapsed": true
   },
   "outputs": [],
   "source": [
    "# pre processing\n",
    "\n",
    "def img_preprocessing(img, arch):\n",
    "    \n",
    "    # https://python-pillow.org/pillow-perf/\n",
    "    aux = Image.open(img)\n",
    "    \n",
    "    # input for VGG16 = VGG19 = resnet50 --> 224 x 224px (width x height)\n",
    "    \n",
    "    if(arch==\"inception\"):\n",
    "#         return aux.resize((width,height),resample = Image.BICUBIC)\n",
    "        return aux.resize((299,299),resample = Image.LANCZOS)\n",
    "    else:\n",
    "#         return aux.resize((224,224),resample = Image.BICUBIC)\n",
    "        return aux.resize((224,244),resample = Image.LANCZOS)"
   ]
  },
  {
   "cell_type": "code",
   "execution_count": null,
   "metadata": {
    "collapsed": true
   },
   "outputs": [],
   "source": [
    "# data augmentation with keras\n",
    "\n",
    "from keras.preprocessing.image import ImageDataGenerator\n",
    "\n",
    "newDataSet = ImageDataGenerator(rotation_range=40,width_shift_range=0.2,\\\n",
    "                                height_shift_range=0.2, rescale=1./255, shear_range=0.2,\\\n",
    "                                zoom_range=0.2, horizontal_flip=True, fill_mode='nearest')"
   ]
  }
 ],
 "metadata": {
  "kernelspec": {
   "display_name": "Python 3",
   "language": "python",
   "name": "python3"
  },
  "language_info": {
   "codemirror_mode": {
    "name": "ipython",
    "version": 3
   },
   "file_extension": ".py",
   "mimetype": "text/x-python",
   "name": "python",
   "nbconvert_exporter": "python",
   "pygments_lexer": "ipython3",
   "version": "3.6.2"
  }
 },
 "nbformat": 4,
 "nbformat_minor": 2
}
