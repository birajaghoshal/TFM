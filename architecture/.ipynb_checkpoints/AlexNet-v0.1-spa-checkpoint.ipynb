{
 "cells": [
  {
   "cell_type": "markdown",
   "metadata": {},
   "source": [
    "# AlexNet (2012)\n",
    "\n",
    "## Introducción\n",
    "\n",
    "Breve descripción de la red convolucional AlexNet.\n",
    "\n",
    "## Arquitectura\n",
    "\n",
    "Explicación de la aquí.\n",
    "![](./img/AlexNet-architecture.png)\n",
    "\n",
    "## Pre procesado\n",
    "\n",
    "Las imágenes pertenecientes a la investigación tienen un tamaño de 150x150 px, [se recomienda](https://github.com/heuritech/convnets-keras) aumentar hasta 256x256px para luego reducirlas a 227x227px que es el tamaño de la entrada de AlexNet. El pre procesado de imágenes se hace en tiempo real. Se implementa una función para automatizar todo el proceso."
   ]
  },
  {
   "cell_type": "markdown",
   "metadata": {},
   "source": [
    "#### Links (recolocar al final)\n",
    "\n",
    "[Artículo original](http://yann.lecun.com/exdb/publis/pdf/lecun-01a.pdf) con descripción detallada de la arquitectura.\n",
    "\n",
    "[Página interesante](https://adeshpande3.github.io/adeshpande3.github.io/The-9-Deep-Learning-Papers-You-Need-To-Know-About.html) en la que se explica la arquitectura y sus capas.\n",
    "\n",
    "[Tfrecords](http://www.machinelearninguru.com/deep_learning/tensorflow/basics/tfrecord/tfrecord.html)\n",
    "\n",
    "[Otro Tfrecords](http://warmspringwinds.github.io/tensorflow/tf-slim/2016/12/21/tfrecords-guide/)\n",
    "\n",
    "[Pre-procesado de imágenes](https://github.com/heuritech/convnets-keras) "
   ]
  },
  {
   "cell_type": "markdown",
   "metadata": {},
   "source": [
    "#### Bibliografía de esta sección (recolocar al final)\n",
    "\n",
    "Foto de la arquitectura [página web](https://blogs.technet.microsoft.com/machinelearning/2017/04/12/embarrassingly-parallel-image-classification-using-cognitive-toolkit-tensorflow-on-azure-hdinsight-spark/)."
   ]
  },
  {
   "cell_type": "code",
   "execution_count": null,
   "metadata": {
    "collapsed": true
   },
   "outputs": [],
   "source": []
  },
  {
   "cell_type": "code",
   "execution_count": null,
   "metadata": {
    "collapsed": true
   },
   "outputs": [],
   "source": []
  },
  {
   "cell_type": "code",
   "execution_count": null,
   "metadata": {
    "collapsed": true
   },
   "outputs": [],
   "source": []
  },
  {
   "cell_type": "markdown",
   "metadata": {
    "collapsed": true
   },
   "source": []
  }
 ],
 "metadata": {
  "kernelspec": {
   "display_name": "Python 3",
   "language": "python",
   "name": "python3"
  },
  "language_info": {
   "codemirror_mode": {
    "name": "ipython",
    "version": 3
   },
   "file_extension": ".py",
   "mimetype": "text/x-python",
   "name": "python",
   "nbconvert_exporter": "python",
   "pygments_lexer": "ipython3",
   "version": "3.6.2"
  }
 },
 "nbformat": 4,
 "nbformat_minor": 2
}
