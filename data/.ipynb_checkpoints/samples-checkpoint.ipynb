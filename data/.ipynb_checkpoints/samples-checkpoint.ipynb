{
 "cells": [
  {
   "cell_type": "markdown",
   "metadata": {},
   "source": [
    "## Mejoras\n",
    "\n",
    "* el muestreo puede simplificarse muchísimo usando otras librerias como [sklearn](http://scikit-learn.org/stable/modules/generated/sklearn.model_selection.train_test_split.html)"
   ]
  },
  {
   "cell_type": "code",
   "execution_count": 1,
   "metadata": {
    "collapsed": true
   },
   "outputs": [],
   "source": [
    "# img_labels & img_list - completed path to file\n",
    "PATH_TO_LABELS_FILE = \"output_dataset/img_labels\"\n",
    "PATH_TO_PATHS_FILE = \"output_dataset/img_list\"\n",
    "\n",
    "PATH_TO_IMG = \"input_dataset\"\n",
    "\n",
    "# output convnet files path + feed\n",
    "PATH_TO_SAMPLES = \"samples/\"\n",
    "\n",
    "# proportions\n",
    "TRAIN = 0.6\n",
    "VALIDATION = 0.2"
   ]
  },
  {
   "cell_type": "code",
   "execution_count": 2,
   "metadata": {
    "collapsed": true
   },
   "outputs": [],
   "source": [
    "# path example --> input_dataset/01_TUMOR/2642_CRC-Prim-HE-07_025.tif_Row_1351_Col_601.tif\n",
    "\n",
    "img_labels = []\n",
    "img_list = []\n",
    "\n",
    "with open(PATH_TO_LABELS_FILE,'r') as f_img_labels:\n",
    "    for line in f_img_labels:\n",
    "        img_labels.append(line[:-1]) \n",
    "\n",
    "with open(PATH_TO_PATHS_FILE,'r') as f_img_list:\n",
    "    for line in f_img_list:\n",
    "        img_list.append(\"../data/\"+line[:-1]) # get rid of EOL (end of line)"
   ]
  },
  {
   "cell_type": "code",
   "execution_count": 3,
   "metadata": {
    "collapsed": true
   },
   "outputs": [],
   "source": [
    "import numpy as np\n",
    "\n",
    "img_labels_arr = np.array(img_labels)\n",
    "img_list_arr = np.array(img_list)"
   ]
  },
  {
   "cell_type": "code",
   "execution_count": 4,
   "metadata": {
    "collapsed": true
   },
   "outputs": [],
   "source": [
    "import numpy as np\n",
    "\n",
    "# index selection\n",
    "index_selection = np.arange(len(img_list))\n",
    "\n",
    "# random array\n",
    "np.random.shuffle(index_selection) \n",
    "\n",
    "# paired arrays\n",
    "img_labels_arr_rand = img_labels_arr[index_selection]\n",
    "img_list_arr_rand = img_list_arr[index_selection]\n",
    "\n",
    "# index cuts\n",
    "sep_1 = int(TRAIN*len(img_list))\n",
    "sep_2 = int(VALIDATION*len(img_list))\n",
    "\n",
    "# training\n",
    "labels_train = img_labels_arr_rand[:sep_1]\n",
    "img_list_train = img_list_arr_rand[:sep_1]\n",
    "\n",
    "# validation\n",
    "labels_val = img_labels_arr_rand[sep_1:sep_1+sep_2]\n",
    "img_list_val = img_list_arr_rand[sep_1:sep_1+sep_2]\n",
    "\n",
    "# test\n",
    "labels_test = img_labels_arr_rand[sep_1+sep_2:]\n",
    "img_list_test = img_list_arr_rand[sep_1+sep_2:]"
   ]
  },
  {
   "cell_type": "code",
   "execution_count": 5,
   "metadata": {
    "collapsed": true
   },
   "outputs": [],
   "source": [
    "# folder structure\n",
    "import os\n",
    "\n",
    "if not os.path.exists(PATH_TO_SAMPLES):\n",
    "        os.mkdir(PATH_TO_SAMPLES)\n",
    "\n",
    "sample_folder = [\"train\", \"validation\", \"test\"]\n",
    "# data_augmentation = [\"train_augmented\", \"validation_augmented\", \"test_augmented\"]\n",
    "\n",
    "img_folder = sorted([folder for folder in os.listdir(PATH_TO_IMG)\n",
    "                  if os.path.isdir(os.path.join(PATH_TO_IMG, folder))])\n",
    "\n",
    "# for name in data_augmentation:\n",
    "#     if not os.path.exists(os.path.join(PATH_TO_SAMPLES,name)):\n",
    "#         os.mkdir(os.path.join(PATH_TO_SAMPLES,name))\n",
    "#     else:\n",
    "#         continue\n",
    "    \n",
    "for folder in sample_folder:\n",
    "    \n",
    "    if not os.path.exists(os.path.join(PATH_TO_SAMPLES,folder)):\n",
    "        os.mkdir(os.path.join(PATH_TO_SAMPLES,folder))\n",
    "    else:\n",
    "        continue\n",
    "    \n",
    "    for subfolder in img_folder:\n",
    "        if not os.path.exists(os.path.join(PATH_TO_SAMPLES,subfolder)):\n",
    "            os.mkdir(os.path.join(os.path.join(PATH_TO_SAMPLES,folder),subfolder))\n",
    "        else:\n",
    "            continue"
   ]
  },
  {
   "cell_type": "code",
   "execution_count": 6,
   "metadata": {
    "collapsed": true
   },
   "outputs": [],
   "source": [
    "import shutil\n",
    "import re\n",
    "\n",
    "def cp_images(sample_list,sample):\n",
    "    \n",
    "    for img in sample_list:\n",
    "        \n",
    "        subfolder = re.split('_\\d+',img.split('/')[3])[0]\n",
    "        shutil.copy(img,os.path.join(os.path.join(PATH_TO_SAMPLES,sample),subfolder))\n"
   ]
  },
  {
   "cell_type": "code",
   "execution_count": null,
   "metadata": {},
   "outputs": [],
   "source": [
    "cp_images(img_list_train,\"train\")"
   ]
  },
  {
   "cell_type": "code",
   "execution_count": null,
   "metadata": {
    "collapsed": true
   },
   "outputs": [],
   "source": [
    "cp_images(img_list_val,\"validation\")"
   ]
  },
  {
   "cell_type": "code",
   "execution_count": null,
   "metadata": {
    "collapsed": true
   },
   "outputs": [],
   "source": [
    "cp_images(img_list_test,\"test\")"
   ]
  }
 ],
 "metadata": {
  "kernelspec": {
   "display_name": "Python 3",
   "language": "python",
   "name": "python3"
  },
  "language_info": {
   "codemirror_mode": {
    "name": "ipython",
    "version": 3
   },
   "file_extension": ".py",
   "mimetype": "text/x-python",
   "name": "python",
   "nbconvert_exporter": "python",
   "pygments_lexer": "ipython3",
   "version": "3.6.3"
  }
 },
 "nbformat": 4,
 "nbformat_minor": 2
}
