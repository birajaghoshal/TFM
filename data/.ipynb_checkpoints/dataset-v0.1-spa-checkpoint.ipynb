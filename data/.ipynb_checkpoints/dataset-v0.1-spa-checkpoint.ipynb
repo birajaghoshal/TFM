{
 "cells": [
  {
   "cell_type": "markdown",
   "metadata": {},
   "source": [
    "# Conjunto de datos - Cáncer de colon (CRC)\n",
    "\n",
    "* Introducción\n",
    "* Exploración del conjunto de datos\n",
    "* Conjunto de datos 1\n",
    "* Pre procesado de imágenes"
   ]
  },
  {
   "cell_type": "markdown",
   "metadata": {},
   "source": [
    "## Introducción\n",
    "\n",
    "El conjunto de datos consiste en un grupo de imágenes fueron liberadas bajo [Creative Commons Attribution 4.0 International License](https://creativecommons.org/licenses/by/4.0/) pudiéndose descargar en esta [página](https://zenodo.org/record/53169/export/hx).\n",
    "\n",
    "Cabe mencionar que la realización de los experimentos fue aprobada por el comité de ética de la Universidad de Heildelberg (Alemania) tal y como mencionan los autores Kather et al. en su [artículo](https://www.nature.com/articles/srep27988?WT.feed_name=subjects_translational-research) y así mismo se siguió la [Declaración de Helsinki](http://www.who.int/bulletin/archives/79%284%29373.pdf)."
   ]
  },
  {
   "cell_type": "markdown",
   "metadata": {},
   "source": [
    "## Exploración del conjunto de datos\n",
    "\n",
    "### Conjunto de datos 1\n",
    "\n",
    "En este conjunto se hallan 8 categorías de tejido, listadas a continuación. En cada una de ellas hay 625 imágenes que **no se solapan entre sí**. Cada imagen tiene un tamaño de 150x150 px (píxeles), que se corresponden con 74$\\mathrm{\\mu}$m de tejido. En total son 5000 imágenes.\n",
    "\n",
    "Categorías seleccionadas por los investigadores\n",
    "1. Epitelio canceroso: Tejido epitelial, una o varias capas de celulas que constituyen revestimiento interno de organos y cavidades asi como la citada mucosa. https://es.wikipedia.org/wiki/Epitelio\n",
    "2. Estroma simple (de composición homogenea, estroma tumoroso, estroma extra-tumoral y tejido blando): Se trata de la matriz extracelular, es un medio de integracion fisiologico, en el que están embebidas las células, en este caso la composición es homogénea https://es.wikipedia.org/wiki/Estroma_(histolog%C3%ADa) y https://es.wikipedia.org/wiki/Matriz_extracelular\n",
    "3. Estroma complejo (células tumorosas y/o alguna célula inmune): Como el anterior pero en este caso, se hallan celulas tumorosas y alguna inmune\n",
    "4. Células inmunes (conglomerado de células inmunes y folículos linfoides submucosos): Foliculo linfoide es una agrupacion de celulas sin organización / estructura, que se encuentra asociado a mucosas. Foliculo linfoide → https://es.wikipedia.org/wiki/Tejido_linfoide_asociado_a_las_mucosas. En el caso de esta investigacion GALT.\n",
    "5. Material variado (mucosas, hemorrargía, necrosado): necrosado → conjunto de material muerto por patologia\n",
    "6. Glándulas mucosas normales\n",
    "7. Tejido adiposo: Tejido conjuntivo cuyas celulas acumulan lipidos en su citoplasma, cumple funciones mecánicas asi como fisiologicas. https://es.wikipedia.org/wiki/Tejido_adiposo\n",
    "8. Imagen de fondo (no se corresponde con tejido)\n",
    "\n",
    "### Conjunto de datos 2\n",
    "\n",
    "Se hallan 10 imágenes grandes, de tamaño 5000x5000 px, que provienen de distinta región con respecto a las imágenes del conjunto anterior. Según los investigadores pueden ser usadas para comprobar distintas combinaciones de descriptores de textura o clasificadores en un entorno real.\n",
    "\n",
    "Nota 1:\n",
    "\n",
    "Los autores liberaron los dos conjuntos de imágenes, si bien se realiza la implementación de redes convolucionales con el primero de ellos.\n",
    "\n",
    "Nota 2:\n",
    "\n",
    "Al provenir de tan solo 10 pacientes hay que tener en cuenta el sesgo que se comete en esta investigación."
   ]
  },
  {
   "cell_type": "markdown",
   "metadata": {},
   "source": [
    "## Conjunto de datos 1\n",
    "\n",
    "A continuación, se muestra la estructura del conjunto de datos. Las imágenes están ordenadas en subcapetas, habiendo 625 en cada una de ellas. En total 5000."
   ]
  },
  {
   "cell_type": "code",
   "execution_count": null,
   "metadata": {},
   "outputs": [],
   "source": [
    "import os\n",
    "\n",
    "PATH_TO_IMG = \"input-dataset\"\n",
    "\n",
    "imgCategories = sorted([category for category in os.listdir(PATH_TO_IMG)\n",
    "                  if os.path.isdir(os.path.join(PATH_TO_IMG, category))])\n",
    "\n",
    "print(\"Categories in the dataset: \",imgCategories)"
   ]
  },
  {
   "cell_type": "markdown",
   "metadata": {},
   "source": [
    "Nota: La siguiente celda no conviene ejecutarla, es un comando de bash (consola linux)"
   ]
  },
  {
   "cell_type": "markdown",
   "metadata": {},
   "source": [
    "bash command --> $tree -d img-raw/\n",
    "bash linux output\n",
    "\n",
    "img-raw/\n",
    "├── 01_TUMOR\n",
    "├── 02_STROMA\n",
    "├── 03_COMPLEX\n",
    "├── 04_LYMPHO\n",
    "├── 05_DEBRIS\n",
    "├── 06_MUCOSA\n",
    "├── 07_ADIPOSE\n",
    "└── 08_EMPTY\n",
    "\n",
    "8 directories"
   ]
  },
  {
   "cell_type": "code",
   "execution_count": null,
   "metadata": {},
   "outputs": [],
   "source": [
    "# nº img by category\n",
    "\n",
    "nImages = 0\n",
    "\n",
    "for count, category in enumerate(imgCategories):\n",
    "    categoryPath = os.path.join(PATH_TO_IMG, category)\n",
    "    n = len([img for img in os.listdir(categoryPath) if os.path.isfile(os.path.join(categoryPath, img))])\n",
    "    nImages += n\n",
    "    print(\"%d. Category %s has: %d images\" % (count+1, category,n))\n",
    "\n",
    "print()\n",
    "print(\"the whole dataset has: %d images\" % (nImages))\n"
   ]
  },
  {
   "cell_type": "markdown",
   "metadata": {},
   "source": [
    "Cada imagen tiene 150x150 px, por lo que tiene 22500 *características* (features).\n",
    "\n",
    "Las imágenes histológicas están en formato [TIF](https://en.wikipedia.org/wiki/TIFF)."
   ]
  },
  {
   "cell_type": "code",
   "execution_count": null,
   "metadata": {},
   "outputs": [],
   "source": [
    "# all img in a list To-Do improve print format of imgDict & imgList\n",
    "\n",
    "# version 1: defaultdict\n",
    "\n",
    "'''\n",
    "link: https://docs.python.org/2/library/collections.html#collections.defaultdict\n",
    "\n",
    "dict structure: key [category] - value [list of images (path/img.tif)]\n",
    "\n",
    "'''\n",
    "\n",
    "from collections import defaultdict\n",
    "\n",
    "imgDict = defaultdict(list)\n",
    "\n",
    "for imgCategory in imgCategories:\n",
    "    imgFolder = os.path.join(PATH_TO_IMG, imgCategory)\n",
    "    for img in os.listdir(imgFolder):\n",
    "        if img.endswith(\".tif\"): # just in case there are other kind of files like .db\n",
    "            \n",
    "            # windows users: backslash management method replace is used [it is not mandatory tbh]\n",
    "            #imgDict[imgCategory].append(os.path.join(imgFolder, img).replace(\"\\\\\",\"/\"))\n",
    "            \n",
    "            # linux users:\n",
    "            imgDict[imgCategory].append(os.path.join(imgFolder, img))\n",
    "\n",
    "\n",
    "# imgDict is not sorted\n",
    "\n",
    "# sorting the img names\n",
    "for imgPath in imgDict.values():\n",
    "    imgPath.sort()  \n",
    "\n",
    "# print(imgDict) # output: the whole deafultdict\n",
    "# print(list(imgDict.values())) # output: list of paths of the dataset images\n",
    "# print(len(list(imgDict.values())[1])) # number of images in cat 1\n",
    "# list(imgDict.items()) # output: with list format\n",
    "\n",
    "# version 2: list\n",
    "\n",
    "'''\n",
    "so this way we get a list of images and in order to get the category name\n",
    "we have to use regex\n",
    "\n",
    "'''\n",
    "\n",
    "import re\n",
    "\n",
    "imgList = []\n",
    "\n",
    "for imgCategory in imgCategories:\n",
    "    imgFolder = os.path.join(PATH_TO_IMG, imgCategory)\n",
    "    \n",
    "    for img in os.listdir(imgFolder):\n",
    "        if img.endswith(\".tif\"): # just in case there are other kind of files like .db\n",
    "            \n",
    "            # windows users: backslash management method replace is used [it is not mandatory tbh]\n",
    "            #imgList.append(os.path.join(imgFolder, img).replace(\"\\\\\",\"/\"))\n",
    "            \n",
    "            # linux users:\n",
    "            imgList.append(os.path.join(imgFolder, img))\n",
    "\n",
    "print(imgList[0]) # first element of the list\n",
    "print(re.split('_\\d+',imgList[0].split('/')[2])[0]) # category of the first element\n",
    "\n",
    "#imgList"
   ]
  },
  {
   "cell_type": "markdown",
   "metadata": {},
   "source": [
    "Se muestra el formato de una imagen aleatoria del conjunto."
   ]
  },
  {
   "cell_type": "code",
   "execution_count": null,
   "metadata": {},
   "outputs": [],
   "source": [
    "# show random img shape\n",
    "from PIL import Image # http://pillow.readthedocs.io/en/3.4.x/handbook/tutorial.html\n",
    "import random as rand\n",
    "\n",
    "# random cat with random\n",
    "# imgCategories[rand.randint(0, len(imgCategories))]\n",
    "\n",
    "# random cat with numpy \n",
    "\n",
    "# get a random image shape from imgList and its attributes\n",
    "myImagePath = imgList[rand.randint(0, nImages)]\n",
    "myImage = Image.open(myImagePath)\n",
    "extension, size, mode = myImage.format, myImage.size, myImage.mode\n",
    "\n",
    "\n",
    "# prints\n",
    "\n",
    "print(\"Image's relative path: %s\" % myImagePath) # image's path\n",
    "print(\"Image's category: %s\" % re.split('_\\d+',myImagePath.split('/')[2])[0]) # image's category\n",
    "print()\n",
    "print(\"Image's metadata\")\n",
    "print(\"Image's extension: %s. Image's size (width, height): (%d, %d). Image's mode: %s.\" % \\\n",
    "     (extension, size[0],size[1],mode))\n",
    "print()\n",
    "print(\"The actual image: \")\n",
    "print()\n",
    "\n",
    "myImage # the image"
   ]
  },
  {
   "cell_type": "markdown",
   "metadata": {},
   "source": [
    "Se comprueba que todas las imágenes del conjunto poseen el mismo formato."
   ]
  },
  {
   "cell_type": "code",
   "execution_count": null,
   "metadata": {},
   "outputs": [],
   "source": [
    "# check every img has the same shape\n",
    "error = 0\n",
    "for count, img in enumerate(imgList):\n",
    "    \n",
    "    if (Image.open(img).format != 'TIFF' ) or \\\n",
    "    (Image.open(img).size[0] != 150) or \\\n",
    "    (Image.open(img).size[1] != 150) or \\\n",
    "    (Image.open(img).mode != 'RGB'): \n",
    "        print(\"Image %s has got something different: \" % img)\n",
    "        error += 1\n",
    "\n",
    "if (error == 0): print(\"Process finished with no errors.\")\n",
    "else: print(\"There is %d images in the dataset with some distinct image's parameter\")"
   ]
  },
  {
   "cell_type": "markdown",
   "metadata": {},
   "source": [
    "## Pre procesado de imágenes - repasar mejorar textos\n",
    "\n",
    "Se han creado varias estructuras, y dependiendo de cuál se use se deberá proceder de una forma u otra. En cualquier caso, además se han de tener en cuenta lo siguientes puntos:\n",
    "\n",
    "* Tamaño de la imagen: Cada arquitectura trabaja con un tamaño de imagen. En la función que toma como argumento la arquitectura de la red convolucional, se especifica este aspecto.\n",
    "\n",
    "* Canales en la imagen: Tal y como se ha comentado la extensión de las imágenes es TIFF, tiene 3 canales (mode) para los colores rojo, verde y azul, que en inglés se codifican como Red - Green - Blue (RGB) respectivamente. Por defecto en el archivo keras.json (ver jupyter testing/system) se especifica el *\"formato\": \"canales al final\"*, en inglés *\"image_data_format\": \"channels_last\"*. Por lo que, las imágenes se deberán pasar de esta forma <lote, altura, ancho, canales>, en inglés <batch, height, width, channels>.\n",
    "\n",
    "* Estructura del conjunto de datos: Con el atributo lotes del apartado anterior, se especifica el número de imágenes (lote) \n",
    "\n",
    "* Aumento del conjunto de imágenes (data augmentation): \n",
    "\n",
    "* Procedimiento - Pipeline: \n",
    "\n"
   ]
  },
  {
   "cell_type": "code",
   "execution_count": null,
   "metadata": {
    "collapsed": true
   },
   "outputs": [],
   "source": [
    "# preprocessing with imgList structure, basic changes to fit the convnet input\n",
    "from PIL import Image # imported before\n",
    "\n",
    "# http://effbot.org/imagingbook/introduction.htm\n",
    "\n",
    "def img_preprocessing(arch, img, width = 150, height = 150):\n",
    "    \n",
    "    imgAux = Image.open(img)\n",
    "    if(arch==\"VGG16\"):\n",
    "        return imgAux.resize((224,224))\n",
    "\n",
    "    #add new archs\n",
    "    \n",
    "    return img\n",
    "\n",
    "# example imgList[0] --> ../img-raw/01_TUMOR/2642_CRC-Prim-HE-07_025.tif_Row_1351_Col_601.tif\n",
    "\n",
    "exampleBefore = Image.open(imgList[0])\n",
    "exampleAfter = img_preprocessing(\"VGG16\",imgList[0])\n"
   ]
  },
  {
   "cell_type": "code",
   "execution_count": null,
   "metadata": {},
   "outputs": [],
   "source": [
    "exampleBefore"
   ]
  },
  {
   "cell_type": "code",
   "execution_count": null,
   "metadata": {},
   "outputs": [],
   "source": [
    "exampleAfter"
   ]
  },
  {
   "cell_type": "markdown",
   "metadata": {},
   "source": [
    "# data augmentation with keras"
   ]
  },
  {
   "cell_type": "code",
   "execution_count": null,
   "metadata": {
    "collapsed": true
   },
   "outputs": [],
   "source": [
    "# preprocessing with imgList structure + keras\n",
    "# https://keras.io/preprocessing/image/\n",
    "# https://blog.keras.io/building-powerful-image-classification-models-using-very-little-data.html\n",
    "# https://machinelearningmastery.com/image-augmentation-deep-learning-keras/"
   ]
  },
  {
   "cell_type": "code",
   "execution_count": null,
   "metadata": {
    "collapsed": true
   },
   "outputs": [],
   "source": [
    "# image example data augmentation with keras\n",
    "from keras.preprocessing.image import ImageDataGenerator\n",
    "\n",
    "newDataSet = ImageDataGenerator(rotation_range=40,width_shift_range=0.2,\\\n",
    "                                height_shift_range=0.2, rescale=1./255, shear_range=0.2,\\\n",
    "                                zoom_range=0.2, horizontal_flip=True, fill_mode='nearest')"
   ]
  },
  {
   "cell_type": "code",
   "execution_count": null,
   "metadata": {
    "collapsed": true
   },
   "outputs": [],
   "source": [
    "keras.preprocessing.image.ImageDataGenerator(featurewise_center=False,\n",
    "    samplewise_center=False,\n",
    "    featurewise_std_normalization=False,\n",
    "    samplewise_std_normalization=False,\n",
    "    zca_whitening=False,\n",
    "    zca_epsilon=1e-6,\n",
    "    rotation_range=0.,\n",
    "    width_shift_range=0.,\n",
    "    height_shift_range=0.,\n",
    "    shear_range=0.,\n",
    "    zoom_range=0.,\n",
    "    channel_shift_range=0.,\n",
    "    fill_mode='nearest',\n",
    "    cval=0.,\n",
    "    horizontal_flip=False,\n",
    "    vertical_flip=False,\n",
    "    rescale=None,\n",
    "    preprocessing_function=None,\n",
    "    data_format=K.image_data_format())"
   ]
  },
  {
   "cell_type": "code",
   "execution_count": null,
   "metadata": {
    "collapsed": true
   },
   "outputs": [],
   "source": [
    "''''\n",
    "mostramos las primeras 3-5 imagenes aleatorias en una fila\n",
    "1.- sin pre procesado\n",
    "\n",
    "2.- pre procesado simple (ampliacion con interpolacion lineal?)\n",
    "\n",
    "3.- pre procesado + data augmentation con keras\n",
    "'''' "
   ]
  }
 ],
 "metadata": {
  "kernelspec": {
   "display_name": "Python 3",
   "language": "python",
   "name": "python3"
  },
  "language_info": {
   "codemirror_mode": {
    "name": "ipython",
    "version": 3
   },
   "file_extension": ".py",
   "mimetype": "text/x-python",
   "name": "python",
   "nbconvert_exporter": "python",
   "pygments_lexer": "ipython3",
   "version": "3.6.2"
  }
 },
 "nbformat": 4,
 "nbformat_minor": 2
}
