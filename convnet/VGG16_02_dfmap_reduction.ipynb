{
 "cells": [
  {
   "cell_type": "markdown",
   "metadata": {},
   "source": [
    "Original Data no relU\n",
    "    * file 163 Mb (around)\n",
    "    * time 17' calcs // 0'' file (around)\n",
    "    * deep features 4096\n",
    "       \n",
    "Original Data no relU with pca\n",
    "    * file 8 Mb (around)\n",
    "    * time 51'' calcs // 2'' file (around)\n",
    "    * pca features 200 (aprox)\n"
   ]
  },
  {
   "cell_type": "code",
   "execution_count": 1,
   "metadata": {},
   "outputs": [],
   "source": [
    "PATH_TO_LABELS_FILE = \"../data/output_dataset\"\n",
    "LABELS = \"img_labels\"\n",
    "\n",
    "PATH_TO_DF = \"../data/output_convnet/VGG16\"\n",
    "# DF_MAP = \"VGG16_dfmap_relU_pickle\" # with relU activation function\n",
    "DF_MAP = \"VGG16_dfmap_no_relU_pickle\" # without activation function"
   ]
  },
  {
   "cell_type": "code",
   "execution_count": 2,
   "metadata": {},
   "outputs": [],
   "source": [
    "import os\n",
    "import pickle\n",
    "\n",
    "labels = []\n",
    "\n",
    "with open(os.path.join(PATH_TO_LABELS_FILE,LABELS),'r') as f_img_labels:\n",
    "    for line in f_img_labels:\n",
    "        labels.append(line[:-1])\n",
    "\n",
    "features = pickle.load(open(os.path.join(PATH_TO_DF,DF_MAP),'rb'))"
   ]
  },
  {
   "cell_type": "code",
   "execution_count": 3,
   "metadata": {},
   "outputs": [],
   "source": [
    "import numpy as np\n",
    "\n",
    "features_arr = np.array(features)\n",
    "labels_arr = np.array(labels)"
   ]
  },
  {
   "cell_type": "code",
   "execution_count": 4,
   "metadata": {},
   "outputs": [
    {
     "name": "stdout",
     "output_type": "stream",
     "text": [
      "Deep features - deep feature map\n",
      "\n",
      "Structure dims: 5000 x 4096\n",
      "\n",
      "N of deep features arrays (images):  5000\n",
      "\n",
      "N of deep features:  4096\n",
      "\n",
      "[[  1.4363389   -9.70764256 -14.33625031 ...,  -0.2988835   -4.04614496\n",
      "   -2.43703127]\n",
      " [ -6.25107241  -8.4447031  -11.96656322 ...,   0.47403866  -4.45992088\n",
      "   -8.00944138]\n",
      " [  7.5820446  -21.92349815  -4.70616055 ...,   9.63796329  -3.06682301\n",
      "  -17.91776276]\n",
      " ..., \n",
      " [ -4.1283865    1.40950263  -4.15737724 ...,   0.21009497  -0.19954918\n",
      "   -1.71088219]\n",
      " [ -3.73391938  -0.72124833  -5.90556002 ...,   0.99256498  -0.52596283\n",
      "   -2.18934989]\n",
      " [ -2.97715545   0.57167876  -6.36512375 ...,  -1.06647027  -1.3277365\n",
      "   -3.27218819]]\n",
      "\n",
      "\n",
      "Image's labels\n",
      "\n",
      "Structure:  <class 'numpy.ndarray'>\n",
      "\n",
      "Nº of image labels (images):  5000\n",
      "\n",
      "['01_TUMOR' '01_TUMOR' '01_TUMOR' ..., '08_EMPTY' '08_EMPTY' '08_EMPTY']\n"
     ]
    }
   ],
   "source": [
    "print(\"Deep features - deep feature map\")\n",
    "print()\n",
    "print(\"Structure dims: {0:d} x {1:d}\".format(features_arr.shape[0], features_arr.shape[1]))\n",
    "print()\n",
    "print(\"N of deep features arrays (images): \", features_arr.shape[0])\n",
    "print()\n",
    "print(\"N of deep features: \",features_arr.shape[1])\n",
    "print()\n",
    "print(features_arr) # array with deep features\n",
    "print()\n",
    "print()\n",
    "print(\"Image's labels\")\n",
    "print()\n",
    "print(\"Structure: \", type(labels_arr))\n",
    "print()\n",
    "print(\"Nº of image labels (images): \", len(labels_arr))\n",
    "print()\n",
    "print(labels_arr) # img's label\n",
    "\n",
    "features_arr = features_arr.T # n x m matrix!"
   ]
  },
  {
   "cell_type": "code",
   "execution_count": 5,
   "metadata": {},
   "outputs": [
    {
     "data": {
      "image/png": "[encoded data removed]",
      "text/plain": [
       "<matplotlib.figure.Figure at 0x7fa2fc0655f8>"
      ]
     },
     "metadata": {},
     "output_type": "display_data"
    },
    {
     "name": "stdout",
     "output_type": "stream",
     "text": [
      "00:00:47\n"
     ]
    }
   ],
   "source": [
    "import time\n",
    "from sklearn.decomposition import PCA\n",
    "import matplotlib.pyplot as plt\n",
    "%matplotlib inline\n",
    "\n",
    "\n",
    "ti_pca = time.time()\n",
    "\n",
    "features_model_pca = PCA().fit(features_arr) # model\n",
    "\n",
    "# plot\n",
    "plt.plot(np.cumsum(features_model_pca.explained_variance_ratio_))\n",
    "plt.xlabel('Number of features')\n",
    "plt.ylabel('Cumulative explained variance')\n",
    "\n",
    "plt.savefig(os.path.join(PATH_TO_DF, \"VGG16_pca.png\"), bbox_inches='tight') # png 70kb vs jpg 135 kb\n",
    "plt.show()\n",
    "\n",
    "\n",
    "tf_pca = time.time()\n",
    "tt_pca = tf_pca - ti_pca\n",
    "print(time.strftime(\"%H:%M:%S\", time.gmtime(tt_pca)))"
   ]
  },
  {
   "cell_type": "code",
   "execution_count": 6,
   "metadata": {
    "scrolled": true
   },
   "outputs": [
    {
     "name": "stdout",
     "output_type": "stream",
     "text": [
      "With 4 features we get 0.700000 of cumulative explicative variance.\n",
      "With 6 features we get 0.750000 of cumulative explicative variance.\n",
      "With 12 features we get 0.800000 of cumulative explicative variance.\n",
      "With 25 features we get 0.850000 of cumulative explicative variance.\n",
      "With 59 features we get 0.900000 of cumulative explicative variance.\n",
      "With 178 features we get 0.950000 of cumulative explicative variance.\n",
      "With 0 features we get 1.000000 of cumulative explicative variance.\n"
     ]
    }
   ],
   "source": [
    "# arange() does not work properly?\n",
    "\n",
    "for i in np.arange(0.7,1,0.05):\n",
    "    print(\"With %d features we get %f of cumulative explicative variance.\" % \\\n",
    "          (np.argmax(features_model_pca.explained_variance_ratio_.cumsum() > i), i))"
   ]
  },
  {
   "cell_type": "code",
   "execution_count": 7,
   "metadata": {},
   "outputs": [
    {
     "name": "stdout",
     "output_type": "stream",
     "text": [
      "00:00:02\n"
     ]
    }
   ],
   "source": [
    "ti_pca = time.time()\n",
    "\n",
    "features_model_pca = PCA(n_components=200) # fixed number of features\n",
    "features_model_pca.fit(features_arr)\n",
    "\n",
    "\n",
    "tf_pca = time.time()\n",
    "tt_pca = tf_pca - ti_pca\n",
    "print(time.strftime(\"%H:%M:%S\", time.gmtime(tt_pca)))"
   ]
  },
  {
   "cell_type": "code",
   "execution_count": 8,
   "metadata": {},
   "outputs": [],
   "source": [
    "# transpose again the matrix\n",
    "# pickle.dump(features_model_pca.components_.T,\\\n",
    "#             open(os.path.join(PATH_TO_DF,\"VGG16_dfmap_relU_pca_pickle\"), 'wb')) # with relU 33.7Mb\n",
    "pickle.dump(features_model_pca.components_.T,\\\n",
    "            open(os.path.join(PATH_TO_DF,\"VGG16_dfmap_no_relU_pca_pickle\"), 'wb')) # without relU"
   ]
  }
 ],
 "metadata": {
  "kernelspec": {
   "display_name": "Python 3",
   "language": "python",
   "name": "python3"
  },
  "language_info": {
   "codemirror_mode": {
    "name": "ipython",
    "version": 3
   },
   "file_extension": ".py",
   "mimetype": "text/x-python",
   "name": "python",
   "nbconvert_exporter": "python",
   "pygments_lexer": "ipython3",
   "version": "3.6.2"
  }
 },
 "nbformat": 4,
 "nbformat_minor": 2
}
