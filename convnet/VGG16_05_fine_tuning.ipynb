{
 "cells": [
  {
   "cell_type": "code",
   "execution_count": 1,
   "metadata": {},
   "outputs": [
    {
     "name": "stderr",
     "output_type": "stream",
     "text": [
      "Using TensorFlow backend.\n"
     ]
    }
   ],
   "source": [
    "from keras import applications\n",
    "from keras.preprocessing.image import ImageDataGenerator\n",
    "# from keras import optimizers\n",
    "from keras.optimizers import SGD\n",
    "from keras.models import Sequential\n",
    "from keras.layers import Dropout, Flatten, Dense\n",
    "\n",
    "from keras import applications\n",
    "from keras.preprocessing.image import ImageDataGenerator\n",
    "from keras import optimizers\n",
    "from keras.models import Sequential, Model\n",
    "from keras.layers import Dropout, Flatten, Dense, Input"
   ]
  },
  {
   "cell_type": "code",
   "execution_count": 2,
   "metadata": {},
   "outputs": [],
   "source": [
    "# path to the model weights files.\n",
    "# weights_path = '../keras/examples/vgg16_weights.h5'\n",
    "top_model_weights_path = '../data/output_convnet/bn_VGG16_model.h5'\n",
    "\n",
    "# dimensions of our images.\n",
    "img_width, img_height = 150, 150\n",
    "\n",
    "train_data_dir = 'train/'\n",
    "validation_data_dir = 'validation/'\n",
    "\n",
    "nb_train_samples = 3000\n",
    "nb_validation_samples = 1000\n",
    "epochs = 50\n",
    "batch_size = 5 # con 5 funciona con 16 es imposible probar con 10\n",
    "num_classes = 8"
   ]
  },
  {
   "cell_type": "code",
   "execution_count": 3,
   "metadata": {},
   "outputs": [
    {
     "name": "stdout",
     "output_type": "stream",
     "text": [
      "model loaded\n"
     ]
    }
   ],
   "source": [
    "# build the VGG16 network\n",
    "input_tensor = Input(shape=(img_width,img_height,3))\n",
    "base_model = applications.VGG16(weights='imagenet', include_top=False, input_tensor=input_tensor)\n",
    "print(\"model loaded\")"
   ]
  },
  {
   "cell_type": "code",
   "execution_count": 4,
   "metadata": {},
   "outputs": [
    {
     "data": {
      "text/plain": [
       "(4, 4, 512)"
      ]
     },
     "execution_count": 4,
     "metadata": {},
     "output_type": "execute_result"
    }
   ],
   "source": [
    "base_model.output_shape[1:]"
   ]
  },
  {
   "cell_type": "code",
   "execution_count": 5,
   "metadata": {},
   "outputs": [],
   "source": [
    "# build a classifier model to put on top of the convolutional model\n",
    "top_model = Sequential()\n",
    "top_model.add(Flatten(input_shape=base_model.output_shape[1:]))\n",
    "top_model.add(Dense(256, activation='relu'))\n",
    "top_model.add(Dropout(0.5))\n",
    "top_model.add(Dense(8, activation='softmax'))"
   ]
  },
  {
   "cell_type": "code",
   "execution_count": 6,
   "metadata": {},
   "outputs": [
    {
     "name": "stdout",
     "output_type": "stream",
     "text": [
      "['dense_1', 'dense_2', 'dropout_1', 'flatten_1']\n"
     ]
    }
   ],
   "source": [
    "import h5py\n",
    "hdf5_file = h5py.File(top_model_weights_path, mode='r')\n",
    "# print(len(hdf5_file))\n",
    "print(list(hdf5_file))"
   ]
  },
  {
   "cell_type": "code",
   "execution_count": 7,
   "metadata": {},
   "outputs": [
    {
     "name": "stdout",
     "output_type": "stream",
     "text": [
      "0 input_1 (None, 150, 150, 3)\n",
      "1 block1_conv1 (None, 150, 150, 64)\n",
      "2 block1_conv2 (None, 150, 150, 64)\n",
      "3 block1_pool (None, 75, 75, 64)\n",
      "4 block2_conv1 (None, 75, 75, 128)\n",
      "5 block2_conv2 (None, 75, 75, 128)\n",
      "6 block2_pool (None, 37, 37, 128)\n",
      "7 block3_conv1 (None, 37, 37, 256)\n",
      "8 block3_conv2 (None, 37, 37, 256)\n",
      "9 block3_conv3 (None, 37, 37, 256)\n",
      "10 block3_pool (None, 18, 18, 256)\n",
      "11 block4_conv1 (None, 18, 18, 512)\n",
      "12 block4_conv2 (None, 18, 18, 512)\n",
      "13 block4_conv3 (None, 18, 18, 512)\n",
      "14 block4_pool (None, 9, 9, 512)\n",
      "15 block5_conv1 (None, 9, 9, 512)\n",
      "16 block5_conv2 (None, 9, 9, 512)\n",
      "17 block5_conv3 (None, 9, 9, 512)\n",
      "18 block5_pool (None, 4, 4, 512)\n"
     ]
    }
   ],
   "source": [
    "for i, layer in enumerate(base_model.layers):\n",
    "    print (i, layer.name, layer.output_shape)"
   ]
  },
  {
   "cell_type": "code",
   "execution_count": 8,
   "metadata": {},
   "outputs": [
    {
     "name": "stdout",
     "output_type": "stream",
     "text": [
      "0 flatten_1 (None, 8192)\n",
      "1 dense_1 (None, 256)\n",
      "2 dropout_1 (None, 256)\n",
      "3 dense_2 (None, 8)\n"
     ]
    }
   ],
   "source": [
    "for i, layer in enumerate(top_model.layers):\n",
    "    print (i, layer.name, layer.output_shape)"
   ]
  },
  {
   "cell_type": "code",
   "execution_count": 10,
   "metadata": {},
   "outputs": [],
   "source": [
    "# note that it is necessary to start with a fully-trained\n",
    "# classifier, including the top classifier,\n",
    "# in order to successfully do fine-tuning\n",
    "top_model.load_weights(\"../data/output_convnet/bn_VGG16_model.h5\")"
   ]
  },
  {
   "cell_type": "code",
   "execution_count": 11,
   "metadata": {},
   "outputs": [
    {
     "name": "stderr",
     "output_type": "stream",
     "text": [
      "/home/jon/anaconda3/envs/test/lib/python3.6/site-packages/ipykernel_launcher.py:2: UserWarning: Update your `Model` call to the Keras 2 API: `Model(inputs=Tensor(\"in..., outputs=Tensor(\"se...)`\n",
      "  \n"
     ]
    }
   ],
   "source": [
    "# add the model on top of the convolutional base\n",
    "model_total = Model(input= base_model.input, output= top_model(base_model.output))"
   ]
  },
  {
   "cell_type": "code",
   "execution_count": 12,
   "metadata": {},
   "outputs": [
    {
     "name": "stdout",
     "output_type": "stream",
     "text": [
      "0 input_1 (None, 150, 150, 3)\n",
      "1 block1_conv1 (None, 150, 150, 64)\n",
      "2 block1_conv2 (None, 150, 150, 64)\n",
      "3 block1_pool (None, 75, 75, 64)\n",
      "4 block2_conv1 (None, 75, 75, 128)\n",
      "5 block2_conv2 (None, 75, 75, 128)\n",
      "6 block2_pool (None, 37, 37, 128)\n",
      "7 block3_conv1 (None, 37, 37, 256)\n",
      "8 block3_conv2 (None, 37, 37, 256)\n",
      "9 block3_conv3 (None, 37, 37, 256)\n",
      "10 block3_pool (None, 18, 18, 256)\n",
      "11 block4_conv1 (None, 18, 18, 512)\n",
      "12 block4_conv2 (None, 18, 18, 512)\n",
      "13 block4_conv3 (None, 18, 18, 512)\n",
      "14 block4_pool (None, 9, 9, 512)\n",
      "15 block5_conv1 (None, 9, 9, 512)\n",
      "16 block5_conv2 (None, 9, 9, 512)\n",
      "17 block5_conv3 (None, 9, 9, 512)\n",
      "18 block5_pool (None, 4, 4, 512)\n"
     ]
    }
   ],
   "source": [
    "for i, layer in enumerate(base_model.layers):\n",
    "    print (i, layer.name, layer.output_shape)"
   ]
  },
  {
   "cell_type": "code",
   "execution_count": 13,
   "metadata": {},
   "outputs": [
    {
     "name": "stdout",
     "output_type": "stream",
     "text": [
      "0 flatten_1 (None, 8192)\n",
      "1 dense_1 (None, 256)\n",
      "2 dropout_1 (None, 256)\n",
      "3 dense_2 (None, 8)\n"
     ]
    }
   ],
   "source": [
    "for i, layer in enumerate(top_model.layers):\n",
    "    print (i, layer.name, layer.output_shape)"
   ]
  },
  {
   "cell_type": "code",
   "execution_count": 14,
   "metadata": {},
   "outputs": [
    {
     "name": "stdout",
     "output_type": "stream",
     "text": [
      "0 input_1 (None, 150, 150, 3)\n",
      "1 block1_conv1 (None, 150, 150, 64)\n",
      "2 block1_conv2 (None, 150, 150, 64)\n",
      "3 block1_pool (None, 75, 75, 64)\n",
      "4 block2_conv1 (None, 75, 75, 128)\n",
      "5 block2_conv2 (None, 75, 75, 128)\n",
      "6 block2_pool (None, 37, 37, 128)\n",
      "7 block3_conv1 (None, 37, 37, 256)\n",
      "8 block3_conv2 (None, 37, 37, 256)\n",
      "9 block3_conv3 (None, 37, 37, 256)\n",
      "10 block3_pool (None, 18, 18, 256)\n",
      "11 block4_conv1 (None, 18, 18, 512)\n",
      "12 block4_conv2 (None, 18, 18, 512)\n",
      "13 block4_conv3 (None, 18, 18, 512)\n",
      "14 block4_pool (None, 9, 9, 512)\n",
      "15 block5_conv1 (None, 9, 9, 512)\n",
      "16 block5_conv2 (None, 9, 9, 512)\n",
      "17 block5_conv3 (None, 9, 9, 512)\n",
      "18 block5_pool (None, 4, 4, 512)\n",
      "19 sequential_1 (None, 8)\n"
     ]
    }
   ],
   "source": [
    "for i, layer in enumerate(model_total.layers):\n",
    "    print (i, layer.name, layer.output_shape)"
   ]
  },
  {
   "cell_type": "code",
   "execution_count": 15,
   "metadata": {},
   "outputs": [
    {
     "name": "stdout",
     "output_type": "stream",
     "text": [
      "layer 0, input_1 is freezed\n",
      "layer 1, block1_conv1 is trainable\n",
      "layer 2, block1_conv2 is trainable\n",
      "layer 3, block1_pool is trainable\n",
      "layer 4, block2_conv1 is trainable\n",
      "layer 5, block2_conv2 is trainable\n",
      "layer 6, block2_pool is trainable\n",
      "layer 7, block3_conv1 is trainable\n",
      "layer 8, block3_conv2 is trainable\n",
      "layer 9, block3_conv3 is trainable\n",
      "layer 10, block3_pool is trainable\n",
      "layer 11, block4_conv1 is trainable\n",
      "layer 12, block4_conv2 is trainable\n",
      "layer 13, block4_conv3 is trainable\n",
      "layer 14, block4_pool is trainable\n",
      "layer 15, block5_conv1 is trainable\n",
      "layer 16, block5_conv2 is trainable\n",
      "layer 17, block5_conv3 is trainable\n",
      "layer 18, block5_pool is trainable\n",
      "layer 19, sequential_1 is trainable\n"
     ]
    }
   ],
   "source": [
    "for i, layer in enumerate(model_total.layers):\n",
    "    if layer.trainable:\n",
    "        print(\"layer {0:d}, {1:s} is trainable\".format(i, layer.name))\n",
    "    else:\n",
    "        print(\"layer {0:d}, {1:s} is freezed\".format(i, layer.name))"
   ]
  },
  {
   "cell_type": "code",
   "execution_count": 17,
   "metadata": {},
   "outputs": [],
   "source": [
    "# set the first 25 layers (up to the last conv block)\n",
    "# to non-trainable (weights will not be updated)\n",
    "for layer in model_total.layers[:15]:\n",
    "    layer.trainable = False"
   ]
  },
  {
   "cell_type": "code",
   "execution_count": 18,
   "metadata": {},
   "outputs": [
    {
     "name": "stdout",
     "output_type": "stream",
     "text": [
      "layer 0, input_1 is freezed\n",
      "layer 1, block1_conv1 is freezed\n",
      "layer 2, block1_conv2 is freezed\n",
      "layer 3, block1_pool is freezed\n",
      "layer 4, block2_conv1 is freezed\n",
      "layer 5, block2_conv2 is freezed\n",
      "layer 6, block2_pool is freezed\n",
      "layer 7, block3_conv1 is freezed\n",
      "layer 8, block3_conv2 is freezed\n",
      "layer 9, block3_conv3 is freezed\n",
      "layer 10, block3_pool is freezed\n",
      "layer 11, block4_conv1 is freezed\n",
      "layer 12, block4_conv2 is freezed\n",
      "layer 13, block4_conv3 is freezed\n",
      "layer 14, block4_pool is freezed\n",
      "layer 15, block5_conv1 is trainable\n",
      "layer 16, block5_conv2 is trainable\n",
      "layer 17, block5_conv3 is trainable\n",
      "layer 18, block5_pool is trainable\n",
      "layer 19, sequential_1 is trainable\n"
     ]
    }
   ],
   "source": [
    "for i, layer in enumerate(model_total.layers):\n",
    "    if layer.trainable:\n",
    "        print(\"layer {0:d}, {1:s} is trainable\".format(i, layer.name))\n",
    "    else:\n",
    "        print(\"layer {0:d}, {1:s} is freezed\".format(i, layer.name))"
   ]
  },
  {
   "cell_type": "code",
   "execution_count": 19,
   "metadata": {},
   "outputs": [],
   "source": [
    "model_total.compile(optimizer=SGD(lr=1e-4, momentum=0.9),\n",
    "              loss='categorical_crossentropy', metrics=['accuracy']) "
   ]
  },
  {
   "cell_type": "code",
   "execution_count": 20,
   "metadata": {},
   "outputs": [
    {
     "name": "stdout",
     "output_type": "stream",
     "text": [
      "Found 3000 images belonging to 8 classes.\n",
      "Found 1000 images belonging to 8 classes.\n"
     ]
    }
   ],
   "source": [
    "# prepare data augmentation configuration\n",
    "train_datagen = ImageDataGenerator(\n",
    "    rescale=1. / 255,\n",
    "    shear_range=0.2,\n",
    "    zoom_range=0.2,\n",
    "    horizontal_flip=True)\n",
    "\n",
    "test_datagen = ImageDataGenerator(rescale=1. / 255)\n",
    "\n",
    "train_generator = train_datagen.flow_from_directory(\n",
    "    train_data_dir,\n",
    "    target_size=(img_height, img_width),\n",
    "    batch_size=batch_size,\n",
    "    class_mode='categorical')\n",
    "\n",
    "validation_generator = test_datagen.flow_from_directory(\n",
    "    validation_data_dir,\n",
    "    target_size=(img_height, img_width),\n",
    "    batch_size=batch_size,\n",
    "    class_mode='categorical')\n"
   ]
  },
  {
   "cell_type": "code",
   "execution_count": 21,
   "metadata": {},
   "outputs": [
    {
     "name": "stderr",
     "output_type": "stream",
     "text": [
      "/home/jon/anaconda3/envs/test/lib/python3.6/site-packages/ipykernel_launcher.py:15: UserWarning: Update your `fit_generator` call to the Keras 2 API: `fit_generator(<keras.pre..., epochs=50, verbose=1, validation_data=<keras.pre..., validation_steps=1000, steps_per_epoch=600)`\n",
      "  from ipykernel import kernelapp as app\n"
     ]
    },
    {
     "name": "stdout",
     "output_type": "stream",
     "text": [
      "Epoch 1/50\n",
      "600/600 [==============================] - 93s 156ms/step - loss: 0.5455 - acc: 0.8113 - val_loss: 0.3334 - val_acc: 0.8820\n",
      "Epoch 2/50\n",
      "600/600 [==============================] - 91s 152ms/step - loss: 0.4294 - acc: 0.8457 - val_loss: 0.3358 - val_acc: 0.8750\n",
      "Epoch 3/50\n",
      "600/600 [==============================] - 91s 152ms/step - loss: 0.3715 - acc: 0.8737 - val_loss: 0.3087 - val_acc: 0.8720\n",
      "Epoch 4/50\n",
      "600/600 [==============================] - 92s 153ms/step - loss: 0.3368 - acc: 0.8853 - val_loss: 0.2935 - val_acc: 0.9020\n",
      "Epoch 5/50\n",
      "600/600 [==============================] - 92s 153ms/step - loss: 0.3033 - acc: 0.8997 - val_loss: 0.2483 - val_acc: 0.9170\n",
      "Epoch 6/50\n",
      "600/600 [==============================] - 92s 153ms/step - loss: 0.3005 - acc: 0.8960 - val_loss: 0.2330 - val_acc: 0.9210\n",
      "Epoch 7/50\n",
      "600/600 [==============================] - 92s 153ms/step - loss: 0.2740 - acc: 0.9080 - val_loss: 0.2524 - val_acc: 0.9090\n",
      "Epoch 8/50\n",
      "600/600 [==============================] - 92s 153ms/step - loss: 0.2591 - acc: 0.9127 - val_loss: 0.2562 - val_acc: 0.9090\n",
      "Epoch 9/50\n",
      "600/600 [==============================] - 91s 152ms/step - loss: 0.2314 - acc: 0.9213 - val_loss: 0.2301 - val_acc: 0.9230\n",
      "Epoch 10/50\n",
      "600/600 [==============================] - 92s 153ms/step - loss: 0.2231 - acc: 0.9207 - val_loss: 0.2916 - val_acc: 0.9000\n",
      "Epoch 11/50\n",
      "600/600 [==============================] - 91s 152ms/step - loss: 0.2232 - acc: 0.9240 - val_loss: 0.2494 - val_acc: 0.9050\n",
      "Epoch 12/50\n",
      "600/600 [==============================] - 92s 153ms/step - loss: 0.2084 - acc: 0.9260 - val_loss: 0.2242 - val_acc: 0.9240\n",
      "Epoch 13/50\n",
      "600/600 [==============================] - 92s 153ms/step - loss: 0.2023 - acc: 0.9240 - val_loss: 0.2376 - val_acc: 0.9180\n",
      "Epoch 14/50\n",
      "600/600 [==============================] - 92s 153ms/step - loss: 0.1834 - acc: 0.9410 - val_loss: 0.2968 - val_acc: 0.9000\n",
      "Epoch 15/50\n",
      "600/600 [==============================] - 91s 152ms/step - loss: 0.1800 - acc: 0.9320 - val_loss: 0.2283 - val_acc: 0.9250\n",
      "Epoch 16/50\n",
      "600/600 [==============================] - 92s 153ms/step - loss: 0.1685 - acc: 0.9420 - val_loss: 0.2306 - val_acc: 0.9200\n",
      "Epoch 17/50\n",
      "600/600 [==============================] - 92s 153ms/step - loss: 0.1793 - acc: 0.9327 - val_loss: 0.2606 - val_acc: 0.9070\n",
      "Epoch 18/50\n",
      "600/600 [==============================] - 91s 152ms/step - loss: 0.1581 - acc: 0.9430 - val_loss: 0.2182 - val_acc: 0.9270\n",
      "Epoch 19/50\n",
      "600/600 [==============================] - 91s 152ms/step - loss: 0.1501 - acc: 0.9477 - val_loss: 0.2498 - val_acc: 0.9190\n",
      "Epoch 20/50\n",
      "600/600 [==============================] - 91s 152ms/step - loss: 0.1409 - acc: 0.9537 - val_loss: 0.2321 - val_acc: 0.9230\n",
      "Epoch 21/50\n",
      "600/600 [==============================] - 91s 152ms/step - loss: 0.1486 - acc: 0.9437 - val_loss: 0.2466 - val_acc: 0.9150\n",
      "Epoch 22/50\n",
      "600/600 [==============================] - 91s 152ms/step - loss: 0.1560 - acc: 0.9480 - val_loss: 0.2132 - val_acc: 0.9260\n",
      "Epoch 23/50\n",
      "600/600 [==============================] - 91s 152ms/step - loss: 0.1459 - acc: 0.9510 - val_loss: 0.2288 - val_acc: 0.9310\n",
      "Epoch 24/50\n",
      "600/600 [==============================] - 91s 152ms/step - loss: 0.1253 - acc: 0.9587 - val_loss: 0.2311 - val_acc: 0.9360\n",
      "Epoch 25/50\n",
      "600/600 [==============================] - 91s 152ms/step - loss: 0.1255 - acc: 0.9577 - val_loss: 0.2347 - val_acc: 0.9270\n",
      "Epoch 26/50\n",
      "600/600 [==============================] - 92s 153ms/step - loss: 0.1215 - acc: 0.9600 - val_loss: 0.2460 - val_acc: 0.9240\n",
      "Epoch 27/50\n",
      "600/600 [==============================] - 92s 153ms/step - loss: 0.1209 - acc: 0.9603 - val_loss: 0.2152 - val_acc: 0.9300\n",
      "Epoch 28/50\n",
      "600/600 [==============================] - 91s 152ms/step - loss: 0.1029 - acc: 0.9647 - val_loss: 0.3131 - val_acc: 0.9050\n",
      "Epoch 29/50\n",
      "600/600 [==============================] - 92s 153ms/step - loss: 0.0963 - acc: 0.9677 - val_loss: 0.2664 - val_acc: 0.9220\n",
      "Epoch 30/50\n",
      "600/600 [==============================] - 92s 153ms/step - loss: 0.0992 - acc: 0.9657 - val_loss: 0.2391 - val_acc: 0.9300\n",
      "Epoch 31/50\n",
      "600/600 [==============================] - 92s 153ms/step - loss: 0.0982 - acc: 0.9673 - val_loss: 0.2283 - val_acc: 0.9260\n",
      "Epoch 32/50\n",
      "600/600 [==============================] - 91s 152ms/step - loss: 0.1048 - acc: 0.9650 - val_loss: 0.2762 - val_acc: 0.9160\n",
      "Epoch 33/50\n",
      "600/600 [==============================] - 91s 152ms/step - loss: 0.0970 - acc: 0.9660 - val_loss: 0.2281 - val_acc: 0.9240\n",
      "Epoch 34/50\n",
      "600/600 [==============================] - 91s 152ms/step - loss: 0.0929 - acc: 0.9693 - val_loss: 0.2410 - val_acc: 0.9300\n",
      "Epoch 35/50\n",
      "600/600 [==============================] - 91s 152ms/step - loss: 0.0840 - acc: 0.9693 - val_loss: 0.2373 - val_acc: 0.9280\n",
      "Epoch 36/50\n",
      "600/600 [==============================] - 91s 152ms/step - loss: 0.0794 - acc: 0.9727 - val_loss: 0.2600 - val_acc: 0.9280\n",
      "Epoch 37/50\n",
      "600/600 [==============================] - 91s 152ms/step - loss: 0.0848 - acc: 0.9717 - val_loss: 0.2328 - val_acc: 0.9320\n",
      "Epoch 38/50\n",
      "600/600 [==============================] - 91s 152ms/step - loss: 0.0928 - acc: 0.9690 - val_loss: 0.2426 - val_acc: 0.9300\n",
      "Epoch 39/50\n",
      "600/600 [==============================] - 91s 152ms/step - loss: 0.0804 - acc: 0.9700 - val_loss: 0.2405 - val_acc: 0.9270\n",
      "Epoch 40/50\n",
      "600/600 [==============================] - 91s 152ms/step - loss: 0.0792 - acc: 0.9747 - val_loss: 0.2370 - val_acc: 0.9320\n",
      "Epoch 41/50\n",
      "600/600 [==============================] - 91s 152ms/step - loss: 0.0720 - acc: 0.9770 - val_loss: 0.2296 - val_acc: 0.9400\n",
      "Epoch 42/50\n",
      "600/600 [==============================] - 91s 152ms/step - loss: 0.0722 - acc: 0.9793 - val_loss: 0.2427 - val_acc: 0.9320\n",
      "Epoch 43/50\n",
      "600/600 [==============================] - 92s 153ms/step - loss: 0.0780 - acc: 0.9720 - val_loss: 0.2162 - val_acc: 0.9360\n",
      "Epoch 44/50\n",
      "600/600 [==============================] - 91s 152ms/step - loss: 0.0706 - acc: 0.9797 - val_loss: 0.2356 - val_acc: 0.9350\n",
      "Epoch 45/50\n",
      "600/600 [==============================] - 91s 152ms/step - loss: 0.0684 - acc: 0.9773 - val_loss: 0.2469 - val_acc: 0.9320\n",
      "Epoch 46/50\n",
      "600/600 [==============================] - 91s 152ms/step - loss: 0.0696 - acc: 0.9800 - val_loss: 0.2536 - val_acc: 0.9310\n",
      "Epoch 47/50\n",
      "600/600 [==============================] - 91s 152ms/step - loss: 0.0610 - acc: 0.9823 - val_loss: 0.2448 - val_acc: 0.9370\n",
      "Epoch 48/50\n",
      "600/600 [==============================] - 91s 152ms/step - loss: 0.0698 - acc: 0.9753 - val_loss: 0.2598 - val_acc: 0.9280\n",
      "Epoch 49/50\n",
      "600/600 [==============================] - 91s 152ms/step - loss: 0.0646 - acc: 0.9777 - val_loss: 0.2591 - val_acc: 0.9280\n",
      "Epoch 50/50\n",
      "600/600 [==============================] - 91s 152ms/step - loss: 0.0598 - acc: 0.9823 - val_loss: 0.2648 - val_acc: 0.9240\n"
     ]
    },
    {
     "ename": "NameError",
     "evalue": "name 'tt_bn_features' is not defined",
     "output_type": "error",
     "traceback": [
      "\u001b[0;31m---------------------------------------------------------------------------\u001b[0m",
      "\u001b[0;31mNameError\u001b[0m                                 Traceback (most recent call last)",
      "\u001b[0;32m<ipython-input-21-669f16132983>\u001b[0m in \u001b[0;36m<module>\u001b[0;34m()\u001b[0m\n\u001b[1;32m     17\u001b[0m \u001b[0mtf_ftuning\u001b[0m \u001b[0;34m=\u001b[0m \u001b[0mtime\u001b[0m\u001b[0;34m.\u001b[0m\u001b[0mtime\u001b[0m\u001b[0;34m(\u001b[0m\u001b[0;34m)\u001b[0m\u001b[0;34m\u001b[0m\u001b[0m\n\u001b[1;32m     18\u001b[0m \u001b[0mtt_ftuning\u001b[0m \u001b[0;34m=\u001b[0m \u001b[0mtf_ftuning\u001b[0m \u001b[0;34m-\u001b[0m \u001b[0mti_ftuning\u001b[0m\u001b[0;34m\u001b[0m\u001b[0m\n\u001b[0;32m---> 19\u001b[0;31m \u001b[0mprint\u001b[0m\u001b[0;34m(\u001b[0m\u001b[0mtime\u001b[0m\u001b[0;34m.\u001b[0m\u001b[0mstrftime\u001b[0m\u001b[0;34m(\u001b[0m\u001b[0;34m\"%H:%M:%S\"\u001b[0m\u001b[0;34m,\u001b[0m \u001b[0mtime\u001b[0m\u001b[0;34m.\u001b[0m\u001b[0mgmtime\u001b[0m\u001b[0;34m(\u001b[0m\u001b[0mtt_bn_features\u001b[0m\u001b[0;34m)\u001b[0m\u001b[0;34m)\u001b[0m\u001b[0;34m)\u001b[0m\u001b[0;34m\u001b[0m\u001b[0m\n\u001b[0m",
      "\u001b[0;31mNameError\u001b[0m: name 'tt_bn_features' is not defined"
     ]
    }
   ],
   "source": [
    "import time\n",
    "# fine-tune the model\n",
    "\n",
    "# añadir medidas de acc loss como el bottleneck\n",
    "\n",
    "ti_ftuning = time.time()\n",
    "\n",
    "\n",
    "historical_data = model_total.fit_generator(\n",
    "    train_generator,\n",
    "    samples_per_epoch=nb_train_samples,\n",
    "    epochs=epochs,\n",
    "    verbose = 1,\n",
    "    validation_data=validation_generator,\n",
    "    validation_steps=nb_validation_samples)\n",
    "\n",
    "tf_ftuning = time.time()\n",
    "tt_ftuning = tf_ftuning - ti_ftuning\n",
    "print(time.strftime(\"%H:%M:%S\", time.gmtime(tt_ftuning)))"
   ]
  },
  {
   "cell_type": "code",
   "execution_count": 33,
   "metadata": {},
   "outputs": [
    {
     "data": {
      "image/png": "[encoded data removed]",
      "text/plain": [
       "<matplotlib.figure.Figure at 0x7f37f0240c50>"
      ]
     },
     "metadata": {},
     "output_type": "display_data"
    },
    {
     "data": {
      "image/png": "[encoded data removed]",
      "text/plain": [
       "<matplotlib.figure.Figure at 0x7f37f02376d8>"
      ]
     },
     "metadata": {},
     "output_type": "display_data"
    }
   ],
   "source": [
    "import matplotlib.pyplot as plt\n",
    "PATH_TO_DF = \"../data/output_convnet\"\n",
    "\n",
    "acc = historical_data.history['acc']\n",
    "val_acc = historical_data.history['val_acc']\n",
    "loss = historical_data.history['loss']\n",
    "val_loss = historical_data.history['val_loss']\n",
    "\n",
    "epochs = range(len(acc))\n",
    "\n",
    "plt.plot(epochs, acc, 'bo', label='Training acc')\n",
    "plt.plot(epochs, val_acc, 'b', label='Validation acc')\n",
    "plt.title('Training and validation accuracy')\n",
    "plt.legend()\n",
    "\n",
    "plt.figure()\n",
    "\n",
    "plt.plot(epochs, loss, 'bo', label='Training loss')\n",
    "plt.plot(epochs, val_loss, 'b', label='Validation loss')\n",
    "plt.title('Training and validation loss')\n",
    "plt.legend()\n",
    "\n",
    "plt.show()"
   ]
  },
  {
   "cell_type": "code",
   "execution_count": 28,
   "metadata": {},
   "outputs": [],
   "source": [
    "model_total.save_weights('../data/output_convnet/ft_VGG16_model.h5')"
   ]
  },
  {
   "cell_type": "code",
   "execution_count": 29,
   "metadata": {},
   "outputs": [
    {
     "name": "stdout",
     "output_type": "stream",
     "text": [
      "['block1_conv1', 'block1_conv2', 'block1_pool', 'block2_conv1', 'block2_conv2', 'block2_pool', 'block3_conv1', 'block3_conv2', 'block3_conv3', 'block3_pool', 'block4_conv1', 'block4_conv2', 'block4_conv3', 'block4_pool', 'block5_conv1', 'block5_conv2', 'block5_conv3', 'block5_pool', 'input_1', 'sequential_1']\n"
     ]
    }
   ],
   "source": [
    "import h5py\n",
    "hdf5_file = h5py.File('../data/output_convnet/ft_VGG16_model.h5', mode='r')\n",
    "print(list(hdf5_file))"
   ]
  },
  {
   "cell_type": "code",
   "execution_count": null,
   "metadata": {},
   "outputs": [],
   "source": [
    "# cargar pesos para no lanzar de nuevo el proceso"
   ]
  },
  {
   "cell_type": "code",
   "execution_count": 34,
   "metadata": {
    "scrolled": true
   },
   "outputs": [
    {
     "name": "stdout",
     "output_type": "stream",
     "text": [
      "model base for predition loaded\n",
      "\n",
      "model top for predition loaded\n"
     ]
    }
   ],
   "source": [
    "# build the VGG16 network\n",
    "# input_tensor = Input(shape=(img_width,img_height,3))\n",
    "model_base_pred = applications.VGG16(weights='imagenet', include_top=False, input_tensor=input_tensor)  \n",
    "print(\"model base for predition loaded\")\n",
    "\n",
    "# build top model  \n",
    "model_top_pred = Sequential()  \n",
    "model_top_pred.add(Flatten(input_shape=model_base_pred.output_shape[1:]))  \n",
    "model_top_pred.add(Dense(256, activation='relu'))  \n",
    "model_top_pred.add(Dropout(0.5))  \n",
    "model_top_pred.add(Dense(8, activation='softmax'))\n",
    "print()\n",
    "print(\"model top for predition loaded\")"
   ]
  },
  {
   "cell_type": "code",
   "execution_count": 35,
   "metadata": {},
   "outputs": [
    {
     "name": "stderr",
     "output_type": "stream",
     "text": [
      "/home/jon/anaconda3/envs/test/lib/python3.6/site-packages/ipykernel_launcher.py:1: UserWarning: Update your `Model` call to the Keras 2 API: `Model(inputs=Tensor(\"in..., outputs=Tensor(\"se...)`\n",
      "  \"\"\"Entry point for launching an IPython kernel.\n"
     ]
    }
   ],
   "source": [
    "model_total_pred = Model(input= model_base_pred.input, output= model_top_pred(model_base_pred.output))"
   ]
  },
  {
   "cell_type": "code",
   "execution_count": 36,
   "metadata": {},
   "outputs": [
    {
     "name": "stdout",
     "output_type": "stream",
     "text": [
      "0 input_1 (None, 150, 150, 3)\n",
      "1 block1_conv1 (None, 150, 150, 64)\n",
      "2 block1_conv2 (None, 150, 150, 64)\n",
      "3 block1_pool (None, 75, 75, 64)\n",
      "4 block2_conv1 (None, 75, 75, 128)\n",
      "5 block2_conv2 (None, 75, 75, 128)\n",
      "6 block2_pool (None, 37, 37, 128)\n",
      "7 block3_conv1 (None, 37, 37, 256)\n",
      "8 block3_conv2 (None, 37, 37, 256)\n",
      "9 block3_conv3 (None, 37, 37, 256)\n",
      "10 block3_pool (None, 18, 18, 256)\n",
      "11 block4_conv1 (None, 18, 18, 512)\n",
      "12 block4_conv2 (None, 18, 18, 512)\n",
      "13 block4_conv3 (None, 18, 18, 512)\n",
      "14 block4_pool (None, 9, 9, 512)\n",
      "15 block5_conv1 (None, 9, 9, 512)\n",
      "16 block5_conv2 (None, 9, 9, 512)\n",
      "17 block5_conv3 (None, 9, 9, 512)\n",
      "18 block5_pool (None, 4, 4, 512)\n",
      "19 sequential_2 (None, 8)\n"
     ]
    }
   ],
   "source": [
    "for i, layer in enumerate(model_total_pred.layers):\n",
    "    print (i, layer.name, layer.output_shape)"
   ]
  },
  {
   "cell_type": "code",
   "execution_count": 37,
   "metadata": {},
   "outputs": [],
   "source": [
    "# cargamos los pesos anteriormente obtenidos en el entrenamiento\n",
    "model_total_pred.load_weights(\"../data/output_convnet/ft_VGG16_model.h5\")"
   ]
  },
  {
   "cell_type": "code",
   "execution_count": 38,
   "metadata": {},
   "outputs": [
    {
     "name": "stdout",
     "output_type": "stream",
     "text": [
      "Found 1000 images belonging to 8 classes.\n"
     ]
    }
   ],
   "source": [
    "test_data_dir = 'test/'\n",
    "batch_size_test = 5 # probamos con esto\n",
    "\n",
    "test_convnet = ImageDataGenerator(rescale=1. / 255)\n",
    "\n",
    "test_generator = test_convnet.flow_from_directory(\n",
    "    test_data_dir,\n",
    "    target_size=(img_height, img_width),\n",
    "    batch_size=batch_size,\n",
    "    shuffle =False,\n",
    "    class_mode='categorical')\n",
    "\n",
    "cat_dict = test_generator.class_indices\n",
    "\n",
    "inverse_coding = {v: k for k, v in cat_dict.items()}"
   ]
  },
  {
   "cell_type": "code",
   "execution_count": 39,
   "metadata": {},
   "outputs": [
    {
     "name": "stdout",
     "output_type": "stream",
     "text": [
      "Category 01_TUMOR has 130 images.\n",
      "Category 02_STROMA has 124 images.\n",
      "Category 03_COMPLEX has 132 images.\n",
      "Category 04_LYMPHO has 112 images.\n",
      "Category 05_DEBRIS has 117 images.\n",
      "Category 06_MUCOSA has 127 images.\n",
      "Category 07_ADIPOSE has 131 images.\n",
      "Category 08_EMPTY has 127 images.\n"
     ]
    }
   ],
   "source": [
    "import os\n",
    "\n",
    "test_data_dir = \"test/\"\n",
    "\n",
    "# listado del train\n",
    "img_test_real = [] # listado de las imagenes pareado con img_cat_real\n",
    "img_cat_real = [] # categorias de las imagenes\n",
    "\n",
    "\n",
    "img_cat_pred = [] # elementos predichos por la convnet\n",
    "\n",
    "img_folder = sorted([folder for folder in os.listdir(test_data_dir)\n",
    "                  if os.path.isdir(os.path.join(test_data_dir, folder))])\n",
    "\n",
    "for index_folder, category in enumerate(img_folder):\n",
    "    \n",
    "    folder = os.path.join(test_data_dir, category)\n",
    "\n",
    "    for index_img, img in enumerate(os.listdir(folder)):\n",
    "        \n",
    "        if img.endswith(\".tif\"): # just in case there are other kind of files like .db\n",
    "            img_test_real.append(os.path.join(folder, img))\n",
    "            img_cat_real.append(img_folder[index_folder])\n",
    "\n",
    "    print(\"Category {0:s} has {1:d} images.\".format(category, index_img+1))"
   ]
  },
  {
   "cell_type": "code",
   "execution_count": 40,
   "metadata": {},
   "outputs": [],
   "source": [
    "from keras.preprocessing import image\n",
    "import numpy as np\n",
    "from keras.applications.vgg16 import preprocess_input"
   ]
  },
  {
   "cell_type": "code",
   "execution_count": 41,
   "metadata": {},
   "outputs": [
    {
     "name": "stdout",
     "output_type": "stream",
     "text": [
      "image 100 processed\n",
      "image 200 processed\n",
      "image 300 processed\n",
      "image 400 processed\n",
      "image 500 processed\n",
      "image 600 processed\n",
      "image 700 processed\n",
      "image 800 processed\n",
      "image 900 processed\n",
      "image 1000 processed\n"
     ]
    }
   ],
   "source": [
    "for index, img_path in enumerate(img_test_real):\n",
    "    \n",
    "    index += 1\n",
    "    \n",
    "    if not index % 100:\n",
    "        print(\"image {0:d} processed\".format(index))\n",
    "        \n",
    "    # pre process\n",
    "    img = image.load_img(img_path, target_size=(150, 150))\n",
    "    x = image.img_to_array(img)\n",
    "    x = np.expand_dims(x, axis=0)\n",
    "    x = preprocess_input(x)\n",
    "    \n",
    "    x = x / 255\n",
    "    \n",
    "    # prediction\n",
    "    x = model_total_pred.predict(x)\n",
    "    \n",
    "    # label\n",
    "    label = inverse_coding[np.argmax(x)]\n",
    "    \n",
    "    # store the label\n",
    "    img_cat_pred.append(label)\n",
    "    "
   ]
  },
  {
   "cell_type": "code",
   "execution_count": 42,
   "metadata": {},
   "outputs": [],
   "source": [
    "img_cat_pred_arr = np.array(img_cat_pred)\n",
    "img_cat_real_arr = np.array(img_cat_real)"
   ]
  },
  {
   "cell_type": "code",
   "execution_count": 43,
   "metadata": {},
   "outputs": [],
   "source": [
    "from sklearn.metrics import confusion_matrix\n",
    "ft_conf_mat = confusion_matrix(img_cat_real_arr,img_cat_pred_arr)"
   ]
  },
  {
   "cell_type": "code",
   "execution_count": 44,
   "metadata": {},
   "outputs": [
    {
     "data": {
      "text/plain": [
       "array([[ 18,   2,   1,   0, 109,   0,   0,   0],\n",
       "       [  5,  85,  11,   2,  14,   7,   0,   0],\n",
       "       [  4,  63,  14,   0,  51,   0,   0,   0],\n",
       "       [  0,   7,   0,  10,  95,   0,   0,   0],\n",
       "       [ 24,   2,   2,   0,  87,   1,   0,   1],\n",
       "       [  0,   5,   0,   0,  18, 104,   0,   0],\n",
       "       [  0,   0,   0,   0,   0,   0, 129,   2],\n",
       "       [  0,   0,   0,   0,   0,   0,   1, 126]])"
      ]
     },
     "execution_count": 44,
     "metadata": {},
     "output_type": "execute_result"
    }
   ],
   "source": [
    "ft_conf_mat"
   ]
  },
  {
   "cell_type": "code",
   "execution_count": 45,
   "metadata": {},
   "outputs": [],
   "source": [
    "# reference http://scikit-learn.org/stable/auto_examples/model_selection/plot_confusion_matrix.html\n",
    "import itertools\n",
    "import matplotlib.pyplot as plt\n",
    "\n",
    "def plot_confusion_matrix(cm, classes, normalize=False, title='Confusion matrix',\n",
    "                          cmap=plt.cm.Blues):\n",
    "    \"\"\"\n",
    "    This function prints and plots the confusion matrix.\n",
    "    Normalization can be applied by setting `normalize=True`.\n",
    "    \"\"\"\n",
    "    if normalize:\n",
    "        cm = cm.astype('float') / cm.sum(axis=1)[:, np.newaxis]\n",
    "#         print(\"Normalized confusion matrix\")\n",
    "#     else:\n",
    "#         print('Confusion matrix, without normalization')\n",
    "\n",
    "#     print(cm)\n",
    "\n",
    "    plt.imshow(cm, interpolation='nearest', cmap=cmap)\n",
    "    plt.title(title)\n",
    "    plt.colorbar()\n",
    "    tick_marks = np.arange(len(classes))\n",
    "    plt.xticks(tick_marks, classes, rotation=45)\n",
    "    plt.yticks(tick_marks, classes)\n",
    "\n",
    "    fmt = '.2f' if normalize else 'd'\n",
    "    thresh = cm.max() / 2.\n",
    "    for i, j in itertools.product(range(cm.shape[0]), range(cm.shape[1])):\n",
    "        plt.text(j, i, format(cm[i, j], fmt),\n",
    "                 horizontalalignment=\"center\",\n",
    "                 color=\"white\" if cm[i, j] > thresh else \"black\")\n",
    "\n",
    "    plt.tight_layout()\n",
    "    plt.ylabel('True label',size=20)\n",
    "    plt.xlabel('Predicted label',size=20)"
   ]
  },
  {
   "cell_type": "code",
   "execution_count": 46,
   "metadata": {},
   "outputs": [],
   "source": [
    "PATH_TO_IMG = \"../data/input_dataset\"\n",
    "class_names = sorted([folder for folder in os.listdir(PATH_TO_IMG)\n",
    "                      if os.path.isdir(os.path.join(PATH_TO_IMG, folder))])"
   ]
  },
  {
   "cell_type": "code",
   "execution_count": 47,
   "metadata": {},
   "outputs": [
    {
     "data": {
      "image/png": "[encoded data removed]",
      "text/plain": [
       "<matplotlib.figure.Figure at 0x7f373086de80>"
      ]
     },
     "metadata": {},
     "output_type": "display_data"
    }
   ],
   "source": [
    "fig = plt.figure(figsize=(20, 6))\n",
    "\n",
    "fig.add_subplot(1,2,1)\n",
    "plot_confusion_matrix(ft_conf_mat, classes=class_names, title='Confusion matrix')\n",
    "\n",
    "fig.add_subplot(1,2,2)\n",
    "plot_confusion_matrix(ft_conf_mat, classes=class_names, normalize=True, title='Confusion matrix')\n",
    "\n",
    "plt.savefig(os.path.join(PATH_TO_DF, \"ft_confmat_VGG16.png\"), bbox_inches='tight') # png 70kb vs jpg 135 kb\n",
    "\n",
    "plt.show()"
   ]
  }
 ],
 "metadata": {
  "kernelspec": {
   "display_name": "Python 3",
   "language": "python",
   "name": "python3"
  },
  "language_info": {
   "codemirror_mode": {
    "name": "ipython",
    "version": 3
   },
   "file_extension": ".py",
   "mimetype": "text/x-python",
   "name": "python",
   "nbconvert_exporter": "python",
   "pygments_lexer": "ipython3",
   "version": "3.6.2"
  }
 },
 "nbformat": 4,
 "nbformat_minor": 2
}
