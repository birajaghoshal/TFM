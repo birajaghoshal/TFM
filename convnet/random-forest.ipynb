{
 "cells": [
  {
   "cell_type": "code",
   "execution_count": null,
   "metadata": {
    "collapsed": true
   },
   "outputs": [],
   "source": [
    "# random forest from convnet"
   ]
  },
  {
   "cell_type": "code",
   "execution_count": 1,
   "metadata": {
    "collapsed": true
   },
   "outputs": [],
   "source": [
    "# http://scikit-learn.org/stable/tutorial/machine_learning_map/\n",
    "import os\n",
    "import numpy as np\n",
    "\n",
    "PATH_TO_DATA = \"../architecture/feature-maps/\"\n",
    "# example\n",
    "# DF_MAP = \"example_dfmap\"\n",
    "# LABELS = \"example_imgLabels\"\n",
    "\n",
    "# real\n",
    "DF_MAP = \"VGG16-dfmap\"\n",
    "DF_MAP_PCA = \"VGG16-dfmap-PCA\"\n",
    "LABELS = \"VGG16-imgLabels\""
   ]
  },
  {
   "cell_type": "code",
   "execution_count": 2,
   "metadata": {
    "collapsed": true
   },
   "outputs": [],
   "source": [
    "import pickle\n",
    "\n",
    "features = pickle.load(open(os.path.join(PATH_TO_DATA,DF_MAP),'rb')) # first without PCA technique\n",
    "labels = pickle.load(open(os.path.join(PATH_TO_DATA,LABELS),'rb'))"
   ]
  },
  {
   "cell_type": "code",
   "execution_count": 3,
   "metadata": {
    "collapsed": true
   },
   "outputs": [],
   "source": [
    "features_array = np.array(features)\n",
    "labels_array = np.array(labels)"
   ]
  },
  {
   "cell_type": "code",
   "execution_count": 4,
   "metadata": {
    "collapsed": true
   },
   "outputs": [],
   "source": [
    "from sklearn.model_selection import train_test_split\n",
    "# change test size, X train x test Y train y test check features_array has the correct dim otherwise .Transpose\n",
    "\n",
    "# http://scikit-learn.org/stable/modules/generated/sklearn.model_selection.train_test_split.html\n",
    "x_train, x_test, y_train, y_test = \\\n",
    "train_test_split(features_array, labels_array, test_size=0.2, random_state=42)"
   ]
  },
  {
   "cell_type": "code",
   "execution_count": 5,
   "metadata": {},
   "outputs": [
    {
     "name": "stdout",
     "output_type": "stream",
     "text": [
      "train\n",
      "x <class 'numpy.ndarray'>\n",
      "x (4000, 4096)\n",
      "\n",
      "y <class 'numpy.ndarray'>\n",
      "y (4000,)\n",
      "\n",
      "\n",
      "test\n",
      "x <class 'numpy.ndarray'>\n",
      "x (1000, 4096)\n",
      "\n",
      "y <class 'numpy.ndarray'>\n",
      "y (1000,)\n"
     ]
    }
   ],
   "source": [
    "print(\"train\")\n",
    "print(\"x\",type(x_train))\n",
    "print(\"x\",x_train.shape)\n",
    "print()\n",
    "print(\"y\",type(y_train))\n",
    "print(\"y\",y_train.shape)\n",
    "print()\n",
    "print()\n",
    "print(\"test\")\n",
    "print(\"x\",type(x_test))\n",
    "print(\"x\",x_test.shape)\n",
    "print()\n",
    "print(\"y\",type(y_test))\n",
    "print(\"y\",y_test.shape)"
   ]
  },
  {
   "cell_type": "code",
   "execution_count": 7,
   "metadata": {},
   "outputs": [],
   "source": [
    "# svm classifier\n",
    "from sklearn.ensemble import RandomForestClassifier\n",
    "\n",
    "# model definition\n",
    "RFC = RandomForestClassifier()\n",
    "\n",
    "# model training\n",
    "RFC.fit(x_train, y_train)\n",
    "\n",
    "# model predict\n",
    "y_pred = RFC.predict(x_test)"
   ]
  },
  {
   "cell_type": "code",
   "execution_count": 8,
   "metadata": {},
   "outputs": [
    {
     "data": {
      "image/png": "[encoded data removed]",
      "text/plain": [
       "<matplotlib.figure.Figure at 0x7fd9ba4c64e0>"
      ]
     },
     "metadata": {},
     "output_type": "display_data"
    }
   ],
   "source": [
    "# Decision Tree without PCA - confusion matrix\n",
    "from sklearn.metrics import confusion_matrix\n",
    "import matplotlib.pyplot as plt\n",
    "%matplotlib inline\n",
    "\n",
    "def SVM_NO_PCA_CM(y_true,y_pred):\n",
    "    \n",
    "    # confusion matrix\n",
    "    CM = confusion_matrix(y_true,y_pred)\n",
    "    \n",
    "    # image's categories\n",
    "    true_labels = np.unique(y_true)\n",
    "    pred_labels = np.unique(y_pred)\n",
    "    \n",
    "    # color pallete\n",
    "    plt.imshow(CM[:-1,:-1], interpolation='nearest', cmap=plt.cm.Blues)\n",
    "    \n",
    "    plt.title(\"Confusion matrix\", fontsize=16)\n",
    "    \n",
    "    cbar = plt.colorbar(fraction=0.046, pad=0.04)\n",
    "    cbar.set_label('Number of images', rotation=270, labelpad=30, fontsize=12)\n",
    "    \n",
    "    xtick_marks = np.arange(len(true_labels))\n",
    "    ytick_marks = np.arange(len(pred_labels))\n",
    "    \n",
    "    plt.xticks(xtick_marks, true_labels, rotation=90)\n",
    "    plt.yticks(ytick_marks,pred_labels)\n",
    "    \n",
    "    plt.tight_layout()\n",
    "    \n",
    "    plt.ylabel('True label', fontsize=14)\n",
    "    plt.xlabel('Predicted label', fontsize=14)\n",
    "    \n",
    "    fig_size = plt.rcParams[\"figure.figsize\"]\n",
    "    fig_size[0] = 12\n",
    "    fig_size[1] = 12\n",
    "    plt.rcParams[\"figure.figsize\"] = fig_size\n",
    "\n",
    "SVM_NO_PCA_CM(y_test,y_pred)"
   ]
  },
  {
   "cell_type": "code",
   "execution_count": 9,
   "metadata": {},
   "outputs": [
    {
     "name": "stdout",
     "output_type": "stream",
     "text": [
      "Accuracy: 81.3%\n"
     ]
    }
   ],
   "source": [
    "# metrics\n",
    "from sklearn.metrics import accuracy_score\n",
    "\n",
    "print(\"Accuracy: {0:0.1f}%\".format(accuracy_score(y_test,y_pred)*100))"
   ]
  },
  {
   "cell_type": "code",
   "execution_count": null,
   "metadata": {
    "collapsed": true
   },
   "outputs": [],
   "source": [
    "# svm + pca"
   ]
  },
  {
   "cell_type": "code",
   "execution_count": 10,
   "metadata": {
    "collapsed": true
   },
   "outputs": [],
   "source": [
    "# open the files\n",
    "import pickle\n",
    "\n",
    "features = pickle.load(open(os.path.join(PATH_TO_DATA,DF_MAP_PCA),'rb')) # first without PCA technique\n",
    "labels = pickle.load(open(os.path.join(PATH_TO_DATA,LABELS),'rb'))"
   ]
  },
  {
   "cell_type": "code",
   "execution_count": 11,
   "metadata": {
    "collapsed": true
   },
   "outputs": [],
   "source": [
    "features_array = np.array(features)\n",
    "labels_array = np.array(labels)"
   ]
  },
  {
   "cell_type": "code",
   "execution_count": 12,
   "metadata": {
    "collapsed": true
   },
   "outputs": [],
   "source": [
    "from sklearn.model_selection import train_test_split\n",
    "# change test size, X train x test Y train y test check features_array has the correct dim otherwise .Transpose\n",
    "\n",
    "# http://scikit-learn.org/stable/modules/generated/sklearn.model_selection.train_test_split.html\n",
    "x_train, x_test, y_train, y_test = \\\n",
    "train_test_split(features_array, labels_array, test_size=0.2, random_state=42)\n"
   ]
  },
  {
   "cell_type": "code",
   "execution_count": 13,
   "metadata": {},
   "outputs": [
    {
     "name": "stdout",
     "output_type": "stream",
     "text": [
      "train\n",
      "x <class 'numpy.ndarray'>\n",
      "x (4000, 800)\n",
      "\n",
      "y <class 'numpy.ndarray'>\n",
      "y (4000,)\n",
      "\n",
      "\n",
      "test\n",
      "x <class 'numpy.ndarray'>\n",
      "x (1000, 800)\n",
      "\n",
      "y <class 'numpy.ndarray'>\n",
      "y (1000,)\n"
     ]
    }
   ],
   "source": [
    "print(\"train\")\n",
    "print(\"x\",type(x_train))\n",
    "print(\"x\",x_train.shape)\n",
    "print()\n",
    "print(\"y\",type(y_train))\n",
    "print(\"y\",y_train.shape)\n",
    "print()\n",
    "print()\n",
    "print(\"test\")\n",
    "print(\"x\",type(x_test))\n",
    "print(\"x\",x_test.shape)\n",
    "print()\n",
    "print(\"y\",type(y_test))\n",
    "print(\"y\",y_test.shape)"
   ]
  },
  {
   "cell_type": "code",
   "execution_count": 15,
   "metadata": {
    "collapsed": true
   },
   "outputs": [],
   "source": [
    "# svm classifier\n",
    "from sklearn.ensemble import RandomForestClassifier\n",
    "\n",
    "# model definition\n",
    "RFC_PCA = RandomForestClassifier()\n",
    "\n",
    "# model training\n",
    "RFC_PCA.fit(x_train, y_train)\n",
    "\n",
    "# model predict\n",
    "y_pred = RFC_PCA.predict(x_test)"
   ]
  },
  {
   "cell_type": "code",
   "execution_count": 16,
   "metadata": {},
   "outputs": [
    {
     "data": {
      "image/png": "[encoded data removed]",
      "text/plain": [
       "<matplotlib.figure.Figure at 0x7fd96cb26780>"
      ]
     },
     "metadata": {},
     "output_type": "display_data"
    }
   ],
   "source": [
    "# Decision Tree without PCA - confusion matrix\n",
    "from sklearn.metrics import confusion_matrix\n",
    "import matplotlib.pyplot as plt\n",
    "%matplotlib inline\n",
    "\n",
    "def SVM_PCA_CM(y_true,y_pred):\n",
    "    \n",
    "    # confusion matrix\n",
    "    CM = confusion_matrix(y_true,y_pred)\n",
    "    \n",
    "    # image's categories\n",
    "    true_labels = np.unique(y_true)\n",
    "    pred_labels = np.unique(y_pred)\n",
    "    \n",
    "    # color pallete\n",
    "    plt.imshow(CM[:-1,:-1], interpolation='nearest', cmap=plt.cm.Blues)\n",
    "    \n",
    "    plt.title(\"Confusion matrix\", fontsize=16)\n",
    "    \n",
    "    cbar = plt.colorbar(fraction=0.046, pad=0.04)\n",
    "    cbar.set_label('Number of images', rotation=270, labelpad=30, fontsize=12)\n",
    "    \n",
    "    xtick_marks = np.arange(len(true_labels))\n",
    "    ytick_marks = np.arange(len(pred_labels))\n",
    "    \n",
    "    plt.xticks(xtick_marks, true_labels, rotation=90)\n",
    "    plt.yticks(ytick_marks,pred_labels)\n",
    "    \n",
    "    plt.tight_layout()\n",
    "    \n",
    "    plt.ylabel('True label', fontsize=14)\n",
    "    plt.xlabel('Predicted label', fontsize=14)\n",
    "    \n",
    "    fig_size = plt.rcParams[\"figure.figsize\"]\n",
    "    fig_size[0] = 12\n",
    "    fig_size[1] = 12\n",
    "    plt.rcParams[\"figure.figsize\"] = fig_size\n",
    "\n",
    "SVM_PCA_CM(y_test,y_pred)"
   ]
  },
  {
   "cell_type": "code",
   "execution_count": 17,
   "metadata": {},
   "outputs": [
    {
     "name": "stdout",
     "output_type": "stream",
     "text": [
      "Accuracy: 68.1%\n"
     ]
    }
   ],
   "source": [
    "# metrics\n",
    "from sklearn.metrics import accuracy_score\n",
    "\n",
    "print(\"Accuracy: {0:0.1f}%\".format(accuracy_score(y_test,y_pred)*100))"
   ]
  }
 ],
 "metadata": {
  "kernelspec": {
   "display_name": "Python 3",
   "language": "python",
   "name": "python3"
  },
  "language_info": {
   "codemirror_mode": {
    "name": "ipython",
    "version": 3
   },
   "file_extension": ".py",
   "mimetype": "text/x-python",
   "name": "python",
   "nbconvert_exporter": "python",
   "pygments_lexer": "ipython3",
   "version": "3.6.2"
  }
 },
 "nbformat": 4,
 "nbformat_minor": 2
}
