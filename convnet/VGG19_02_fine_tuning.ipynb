{
 "cells": [
  {
   "cell_type": "markdown",
   "metadata": {},
   "source": [
    "# bottleneck"
   ]
  },
  {
   "cell_type": "code",
   "execution_count": 1,
   "metadata": {},
   "outputs": [
    {
     "name": "stderr",
     "output_type": "stream",
     "text": [
      "Using TensorFlow backend.\n"
     ]
    }
   ],
   "source": [
    "from keras.preprocessing.image import ImageDataGenerator, img_to_array, load_img\n",
    "from keras.models import Sequential\n",
    "from keras.layers import Dropout, Flatten, Dense\n",
    "from keras.applications.vgg19 import preprocess_input, VGG19\n",
    "from keras.optimizers import SGD\n",
    "from keras.utils.np_utils import to_categorical\n",
    "\n",
    "import numpy as np\n",
    "import math"
   ]
  },
  {
   "cell_type": "code",
   "execution_count": 2,
   "metadata": {},
   "outputs": [],
   "source": [
    "PATH_TO_DF = \"../data/output_convnet/VGG19\"\n",
    "\n",
    "img_width = 150\n",
    "img_height = 150\n",
    "\n",
    "n_epochs = 50\n",
    "batch_size = 16\n",
    "\n",
    "train_data_dir = \"train\"  \n",
    "validation_data_dir = \"validation\"\n",
    "test_data_dir = \"test\"\n",
    "\n",
    "n_train_samples = 3000\n",
    "n_validation_samples = 1000\n",
    "n_test_samples = 1000\n",
    "n_classes = 8"
   ]
  },
  {
   "cell_type": "code",
   "execution_count": 3,
   "metadata": {},
   "outputs": [
    {
     "name": "stdout",
     "output_type": "stream",
     "text": [
      "Found 3000 images belonging to 8 classes.\n",
      "Found 1000 images belonging to 8 classes.\n"
     ]
    }
   ],
   "source": [
    "# https://b/log.keras.io/building-powerful-image-classification-models-using-very-little-data.html\n",
    "# saving bottleneck features\n",
    "import time\n",
    "\n",
    "ti_bn_features = time.time()\n",
    "\n",
    "model = VGG19(include_top=False, weights='imagenet')\n",
    "\n",
    "datagen = ImageDataGenerator(rescale=1. / 255)\n",
    "\n",
    "'''\n",
    "https://github.com/keras-team/keras/blob/master/keras/preprocessing/image.py#L1002\n",
    "if PIL version 1.1.3 interpolation = 'lanczos'\n",
    "else interpolation = 'bicubic' \n",
    "''' \n",
    "\n",
    "# train\n",
    "generator = datagen.flow_from_directory(\n",
    "    train_data_dir,\n",
    "    target_size = (img_width, img_height),\n",
    "    batch_size = batch_size,\n",
    "    class_mode = None,\n",
    "    shuffle = False,\n",
    "    interpolation = 'lanczos')\n",
    "\n",
    "# important step in order to get the exact number\n",
    "max_queue_size_train = int(math.ceil(n_train_samples / batch_size))\n",
    "\n",
    "bnfeatures_train = model.predict_generator(\n",
    "    generator, max_queue_size_train)\n",
    "\n",
    "np.save('../data/output_convnet/VGG19/VGG19_bnfeatures_train.npy', bnfeatures_train)\n",
    "\n",
    "# validation\n",
    "generator = datagen.flow_from_directory(\n",
    "    validation_data_dir,\n",
    "    target_size=(img_width, img_height),\n",
    "    batch_size=batch_size,\n",
    "    class_mode=None,\n",
    "    shuffle=False,\n",
    "    interpolation = 'lanczos')\n",
    "\n",
    "max_queue_size_val = int(math.ceil(n_validation_samples / batch_size))\n",
    "\n",
    "   \n",
    "bnfeatures_val = model.predict_generator(  \n",
    "     generator, max_queue_size_val)\n",
    "\n",
    "np.save('../data/output_convnet/VGG19/VGG19_bnfeatures_val.npy', bnfeatures_val)\n",
    "\n",
    "\n",
    "tf_bn_features = time.time()    \n",
    "tt_bn_features = tf_bn_features - ti_bn_features"
   ]
  },
  {
   "cell_type": "code",
   "execution_count": 4,
   "metadata": {},
   "outputs": [
    {
     "name": "stdout",
     "output_type": "stream",
     "text": [
      "00:00:37\n"
     ]
    }
   ],
   "source": [
    "print(time.strftime(\"%H:%M:%S\", time.gmtime(tt_bn_features)))"
   ]
  },
  {
   "cell_type": "code",
   "execution_count": 5,
   "metadata": {},
   "outputs": [
    {
     "name": "stdout",
     "output_type": "stream",
     "text": [
      "Found 3000 images belonging to 8 classes.\n",
      "Found 1000 images belonging to 8 classes.\n",
      "Train on 3000 samples, validate on 1000 samples\n",
      "Epoch 1/50\n",
      "3000/3000 [==============================] - 1s 492us/step - loss: 1.6503 - acc: 0.4070 - val_loss: 1.2588 - val_acc: 0.6210\n",
      "Epoch 2/50\n",
      "3000/3000 [==============================] - 1s 297us/step - loss: 1.2226 - acc: 0.5797 - val_loss: 1.0116 - val_acc: 0.7180\n",
      "Epoch 3/50\n",
      "3000/3000 [==============================] - 1s 320us/step - loss: 1.0448 - acc: 0.6480 - val_loss: 0.8844 - val_acc: 0.7350\n",
      "Epoch 4/50\n",
      "3000/3000 [==============================] - 1s 299us/step - loss: 0.9547 - acc: 0.6810 - val_loss: 0.7982 - val_acc: 0.7940\n",
      "Epoch 5/50\n",
      "3000/3000 [==============================] - 1s 294us/step - loss: 0.8773 - acc: 0.7087 - val_loss: 0.7620 - val_acc: 0.7560\n",
      "Epoch 6/50\n",
      "3000/3000 [==============================] - 1s 295us/step - loss: 0.8362 - acc: 0.7217 - val_loss: 0.7024 - val_acc: 0.7980\n",
      "Epoch 7/50\n",
      "3000/3000 [==============================] - 1s 308us/step - loss: 0.7869 - acc: 0.7347 - val_loss: 0.6616 - val_acc: 0.7940\n",
      "Epoch 8/50\n",
      "3000/3000 [==============================] - 1s 292us/step - loss: 0.7514 - acc: 0.7530 - val_loss: 0.6442 - val_acc: 0.8050\n",
      "Epoch 9/50\n",
      "3000/3000 [==============================] - 1s 298us/step - loss: 0.7196 - acc: 0.7653 - val_loss: 0.6123 - val_acc: 0.8060\n",
      "Epoch 10/50\n",
      "3000/3000 [==============================] - 1s 299us/step - loss: 0.7064 - acc: 0.7667 - val_loss: 0.6129 - val_acc: 0.7920\n",
      "Epoch 11/50\n",
      "3000/3000 [==============================] - 1s 300us/step - loss: 0.6728 - acc: 0.7673 - val_loss: 0.5927 - val_acc: 0.7980\n",
      "Epoch 12/50\n",
      "3000/3000 [==============================] - 1s 308us/step - loss: 0.6534 - acc: 0.7830 - val_loss: 0.5815 - val_acc: 0.8170\n",
      "Epoch 13/50\n",
      "3000/3000 [==============================] - 1s 302us/step - loss: 0.6489 - acc: 0.7817 - val_loss: 0.5791 - val_acc: 0.8090\n",
      "Epoch 14/50\n",
      "3000/3000 [==============================] - 1s 296us/step - loss: 0.6243 - acc: 0.7953 - val_loss: 0.5566 - val_acc: 0.8150\n",
      "Epoch 15/50\n",
      "3000/3000 [==============================] - 1s 298us/step - loss: 0.6155 - acc: 0.7953 - val_loss: 0.5536 - val_acc: 0.8210\n",
      "Epoch 16/50\n",
      "3000/3000 [==============================] - 1s 299us/step - loss: 0.6001 - acc: 0.8007 - val_loss: 0.5194 - val_acc: 0.8280\n",
      "Epoch 17/50\n",
      "3000/3000 [==============================] - 1s 304us/step - loss: 0.5862 - acc: 0.8040 - val_loss: 0.5239 - val_acc: 0.8220\n",
      "Epoch 18/50\n",
      "3000/3000 [==============================] - 1s 295us/step - loss: 0.5739 - acc: 0.8073 - val_loss: 0.5030 - val_acc: 0.8390\n",
      "Epoch 19/50\n",
      "3000/3000 [==============================] - 1s 298us/step - loss: 0.5660 - acc: 0.8137 - val_loss: 0.5122 - val_acc: 0.8290\n",
      "Epoch 20/50\n",
      "3000/3000 [==============================] - 1s 298us/step - loss: 0.5590 - acc: 0.8107 - val_loss: 0.4985 - val_acc: 0.8290\n",
      "Epoch 21/50\n",
      "3000/3000 [==============================] - 1s 301us/step - loss: 0.5547 - acc: 0.8173 - val_loss: 0.5039 - val_acc: 0.8290\n",
      "Epoch 22/50\n",
      "3000/3000 [==============================] - 1s 302us/step - loss: 0.5384 - acc: 0.8183 - val_loss: 0.5026 - val_acc: 0.8380\n",
      "Epoch 23/50\n",
      "3000/3000 [==============================] - 1s 297us/step - loss: 0.5289 - acc: 0.8253 - val_loss: 0.4877 - val_acc: 0.8380\n",
      "Epoch 24/50\n",
      "3000/3000 [==============================] - 1s 293us/step - loss: 0.5202 - acc: 0.8257 - val_loss: 0.4969 - val_acc: 0.8250\n",
      "Epoch 25/50\n",
      "3000/3000 [==============================] - 1s 297us/step - loss: 0.5032 - acc: 0.8300 - val_loss: 0.4781 - val_acc: 0.8340\n",
      "Epoch 26/50\n",
      "3000/3000 [==============================] - 1s 300us/step - loss: 0.5058 - acc: 0.8380 - val_loss: 0.4655 - val_acc: 0.8370\n",
      "Epoch 27/50\n",
      "3000/3000 [==============================] - 1s 294us/step - loss: 0.5043 - acc: 0.8370 - val_loss: 0.4628 - val_acc: 0.8350\n",
      "Epoch 28/50\n",
      "3000/3000 [==============================] - 1s 296us/step - loss: 0.4851 - acc: 0.8420 - val_loss: 0.4571 - val_acc: 0.8450\n",
      "Epoch 29/50\n",
      "3000/3000 [==============================] - 1s 305us/step - loss: 0.4849 - acc: 0.8450 - val_loss: 0.4658 - val_acc: 0.8300\n",
      "Epoch 30/50\n",
      "3000/3000 [==============================] - 1s 313us/step - loss: 0.4844 - acc: 0.8380 - val_loss: 0.4561 - val_acc: 0.8430\n",
      "Epoch 31/50\n",
      "3000/3000 [==============================] - 1s 308us/step - loss: 0.4739 - acc: 0.8400 - val_loss: 0.4543 - val_acc: 0.8380\n",
      "Epoch 32/50\n",
      "3000/3000 [==============================] - 1s 302us/step - loss: 0.4714 - acc: 0.8460 - val_loss: 0.4440 - val_acc: 0.8400\n",
      "Epoch 33/50\n",
      "3000/3000 [==============================] - 1s 299us/step - loss: 0.4650 - acc: 0.8483 - val_loss: 0.4492 - val_acc: 0.8380\n",
      "Epoch 34/50\n",
      "3000/3000 [==============================] - 1s 311us/step - loss: 0.4595 - acc: 0.8467 - val_loss: 0.4446 - val_acc: 0.8360\n",
      "Epoch 35/50\n",
      "3000/3000 [==============================] - 1s 310us/step - loss: 0.4622 - acc: 0.8457 - val_loss: 0.4509 - val_acc: 0.8380\n",
      "Epoch 36/50\n",
      "3000/3000 [==============================] - 1s 311us/step - loss: 0.4410 - acc: 0.8583 - val_loss: 0.4407 - val_acc: 0.8470\n",
      "Epoch 37/50\n",
      "3000/3000 [==============================] - 1s 300us/step - loss: 0.4436 - acc: 0.8540 - val_loss: 0.4330 - val_acc: 0.8460\n",
      "Epoch 38/50\n",
      "3000/3000 [==============================] - 1s 329us/step - loss: 0.4337 - acc: 0.8540 - val_loss: 0.4316 - val_acc: 0.8430\n",
      "Epoch 39/50\n",
      "3000/3000 [==============================] - 1s 292us/step - loss: 0.4310 - acc: 0.8560 - val_loss: 0.4421 - val_acc: 0.8420\n",
      "Epoch 40/50\n",
      "3000/3000 [==============================] - 1s 304us/step - loss: 0.4253 - acc: 0.8637 - val_loss: 0.4204 - val_acc: 0.8500\n",
      "Epoch 41/50\n",
      "3000/3000 [==============================] - 1s 285us/step - loss: 0.4300 - acc: 0.8557 - val_loss: 0.4228 - val_acc: 0.8420\n",
      "Epoch 42/50\n",
      "3000/3000 [==============================] - 1s 310us/step - loss: 0.4219 - acc: 0.8550 - val_loss: 0.4273 - val_acc: 0.8500\n",
      "Epoch 43/50\n",
      "3000/3000 [==============================] - 1s 311us/step - loss: 0.4240 - acc: 0.8620 - val_loss: 0.4249 - val_acc: 0.8460\n",
      "Epoch 44/50\n",
      "3000/3000 [==============================] - 1s 351us/step - loss: 0.4315 - acc: 0.8600 - val_loss: 0.4144 - val_acc: 0.8540\n",
      "Epoch 45/50\n",
      "3000/3000 [==============================] - 1s 309us/step - loss: 0.4132 - acc: 0.8703 - val_loss: 0.4172 - val_acc: 0.8570\n",
      "Epoch 46/50\n",
      "3000/3000 [==============================] - 1s 308us/step - loss: 0.4156 - acc: 0.8643 - val_loss: 0.4120 - val_acc: 0.8550\n",
      "Epoch 47/50\n",
      "3000/3000 [==============================] - 1s 310us/step - loss: 0.3972 - acc: 0.8640 - val_loss: 0.4173 - val_acc: 0.8440\n",
      "Epoch 48/50\n",
      "3000/3000 [==============================] - 1s 314us/step - loss: 0.4071 - acc: 0.8690 - val_loss: 0.4124 - val_acc: 0.8470\n",
      "Epoch 49/50\n",
      "3000/3000 [==============================] - 1s 313us/step - loss: 0.3916 - acc: 0.8687 - val_loss: 0.4208 - val_acc: 0.8490\n",
      "Epoch 50/50\n",
      "3000/3000 [==============================] - 1s 310us/step - loss: 0.3955 - acc: 0.8693 - val_loss: 0.4057 - val_acc: 0.8480\n"
     ]
    }
   ],
   "source": [
    "# training top layer\n",
    "import os\n",
    "\n",
    "ti_bn_train = time.time()\n",
    "\n",
    "# we have to get the classes names so we build again a generator\n",
    "datagen_top_layer = ImageDataGenerator(rescale=1./255)  \n",
    "\n",
    "# train\n",
    "generator_top_layer = datagen_top_layer.flow_from_directory(\n",
    "    train_data_dir,  \n",
    "    target_size=(img_width, img_height),  \n",
    "    batch_size=batch_size,  \n",
    "    class_mode='categorical',  \n",
    "    shuffle=False,\n",
    "    interpolation = 'lanczos')  \n",
    "\n",
    "train_data = np.load('../data/output_convnet/VGG19/VGG19_bnfeatures_train.npy')\n",
    "\n",
    "# ref attribute classes --> https://keras.io/preprocessing/image/\n",
    "train_labels = generator_top_layer.classes # the key attribute\n",
    "train_labels = to_categorical(train_labels, num_classes=n_classes) # the key function\n",
    "\n",
    "# validation\n",
    "generator_top_layer = datagen_top_layer.flow_from_directory(  \n",
    "    validation_data_dir,  \n",
    "    target_size=(img_width, img_height),  \n",
    "    batch_size=batch_size,  \n",
    "    class_mode=None,  \n",
    "    shuffle=False,\n",
    "    interpolation = 'lanczos')  \n",
    "\n",
    "val_data = np.load('../data/output_convnet/VGG19/VGG19_bnfeatures_val.npy') \n",
    "\n",
    "val_labels = generator_top_layer.classes # the key attribute\n",
    "val_labels = to_categorical(val_labels, num_classes=n_classes) # the key function\n",
    "\n",
    "\n",
    "# top model, could be with a diff dense, optimizer, momentum -> https://keras.io/optimizers/\n",
    "model = Sequential()  \n",
    "model.add(Flatten(input_shape=train_data.shape[1:]))  \n",
    "model.add(Dense(256, activation='relu'))  \n",
    "model.add(Dropout(0.5))  \n",
    "model.add(Dense(n_classes, activation='softmax'))  \n",
    "\n",
    "\n",
    "model.compile(optimizer=SGD(lr=0.001),\n",
    "              loss='categorical_crossentropy', metrics=['accuracy']) \n",
    "\n",
    "\n",
    "historical_data = model.fit(train_data, train_labels,\n",
    "                    epochs=n_epochs,\n",
    "                    batch_size=batch_size,\n",
    "                    validation_data=(val_data, val_labels))  \n",
    "\n",
    "# h5py\n",
    "model.save_weights('../data/output_convnet/VGG19/VGG19_bn_model.h5')  \n",
    "\n",
    "tf_bn_train = time.time()    \n",
    "tt_bn_train = tf_bn_train - ti_bn_train"
   ]
  },
  {
   "cell_type": "code",
   "execution_count": 6,
   "metadata": {},
   "outputs": [
    {
     "name": "stdout",
     "output_type": "stream",
     "text": [
      "00:00:46\n"
     ]
    }
   ],
   "source": [
    "print(time.strftime(\"%H:%M:%S\", time.gmtime(tt_bn_train)))"
   ]
  },
  {
   "cell_type": "code",
   "execution_count": 7,
   "metadata": {},
   "outputs": [
    {
     "name": "stdout",
     "output_type": "stream",
     "text": [
      "['dense_1', 'dense_2', 'dropout_1', 'flatten_1']\n"
     ]
    }
   ],
   "source": [
    "import h5py\n",
    "hdf5_file = h5py.File('../data/output_convnet/VGG19/VGG19_bn_model.h5', mode='r')\n",
    "print(list(hdf5_file))"
   ]
  },
  {
   "cell_type": "code",
   "execution_count": 8,
   "metadata": {},
   "outputs": [
    {
     "name": "stdout",
     "output_type": "stream",
     "text": [
      "acc: 84.80% - loss: 0.405727\n"
     ]
    }
   ],
   "source": [
    "(loss, acc) = model.evaluate(val_data, val_labels, batch_size=batch_size, verbose=0)\n",
    "print(\"acc: {0:.2f}% - loss: {1:f}\".format(acc * 100, loss))  "
   ]
  },
  {
   "cell_type": "code",
   "execution_count": 10,
   "metadata": {},
   "outputs": [
    {
     "data": {
      "image/png": "[encoded data removed]",
      "text/plain": [
       "<matplotlib.figure.Figure at 0x7f04efdcb828>"
      ]
     },
     "metadata": {},
     "output_type": "display_data"
    }
   ],
   "source": [
    "# historical_data.history acc and loss data over the epochs (train and validation)\n",
    "import matplotlib.pyplot as plt\n",
    "\n",
    "train_acc = historical_data.history['acc']\n",
    "train_loss = historical_data.history['loss']\n",
    "\n",
    "val_acc = historical_data.history['val_acc'] # validation\n",
    "val_loss = historical_data.history['val_loss'] # validation\n",
    "\n",
    "range_epochs = range(n_epochs)\n",
    "\n",
    "fig = plt.figure(figsize=(20, 6))\n",
    "\n",
    "fig.add_subplot(1,2,1)\n",
    "plt.plot(range_epochs, train_acc, 'bo', label='Training acc')\n",
    "plt.plot(range_epochs, val_acc, 'b', label='Validation acc')\n",
    "plt.title('Training and validation accuracy')\n",
    "plt.legend()\n",
    "\n",
    "# plt.figure()\n",
    "fig.add_subplot(1,2,2)\n",
    "plt.plot(range_epochs, train_loss, 'bo', label='Training loss')\n",
    "plt.plot(range_epochs, val_loss, 'b', label='Validation loss')\n",
    "plt.title('Training and validation loss')\n",
    "plt.legend()\n",
    "\n",
    "plt.savefig(os.path.join(PATH_TO_DF, \"VGG19_bn_acc_loss.png\"), bbox_inches='tight') # png 70kb vs jpg 135 kb\n",
    "plt.show()"
   ]
  },
  {
   "cell_type": "markdown",
   "metadata": {},
   "source": [
    "# fine tuning"
   ]
  },
  {
   "cell_type": "code",
   "execution_count": 11,
   "metadata": {},
   "outputs": [],
   "source": [
    "# check them out\n",
    "from keras import applications\n",
    "from keras.preprocessing.image import ImageDataGenerator\n",
    "from keras.optimizers import SGD\n",
    "from keras.models import Sequential, Model\n",
    "from keras.layers import Dropout, Flatten, Dense, Input"
   ]
  },
  {
   "cell_type": "code",
   "execution_count": 12,
   "metadata": {},
   "outputs": [],
   "source": [
    "top_model_weights_path = '../data/output_convnet/VGG19/VGG19_bn_model.h5'\n",
    "batch_size = 5 # reduce to 5 in order to be able to compute the calcs"
   ]
  },
  {
   "cell_type": "code",
   "execution_count": 14,
   "metadata": {},
   "outputs": [],
   "source": [
    "# base model\n",
    "input_tensor = Input(shape=(img_width,img_height,3)) # another way to shape the input\n",
    "base_model = VGG19(weights='imagenet', include_top=False, input_tensor=input_tensor)"
   ]
  },
  {
   "cell_type": "code",
   "execution_count": 15,
   "metadata": {},
   "outputs": [],
   "source": [
    "# top model\n",
    "top_model = Sequential()\n",
    "top_model.add(Flatten(input_shape=base_model.output_shape[1:]))\n",
    "top_model.add(Dense(256, activation='relu'))\n",
    "top_model.add(Dropout(0.5))\n",
    "top_model.add(Dense(8, activation='softmax'))"
   ]
  },
  {
   "cell_type": "code",
   "execution_count": 16,
   "metadata": {},
   "outputs": [],
   "source": [
    "# base model has its weights, now we load the weights on the top layer\n",
    "top_model.load_weights(\"../data/output_convnet/VGG19/VGG19_bn_model.h5\")"
   ]
  },
  {
   "cell_type": "code",
   "execution_count": 17,
   "metadata": {},
   "outputs": [
    {
     "name": "stderr",
     "output_type": "stream",
     "text": [
      "/home/jon/anaconda3/envs/test/lib/python3.6/site-packages/ipykernel_launcher.py:2: UserWarning: Update your `Model` call to the Keras 2 API: `Model(inputs=Tensor(\"in..., outputs=Tensor(\"se...)`\n",
      "  \n"
     ]
    }
   ],
   "source": [
    "# we join base and top it has to be updated to api2\n",
    "model_total = Model(input= base_model.input, output= top_model(base_model.output))"
   ]
  },
  {
   "cell_type": "code",
   "execution_count": 18,
   "metadata": {},
   "outputs": [
    {
     "name": "stdout",
     "output_type": "stream",
     "text": [
      "0 input_3 (None, 150, 150, 3)\n",
      "1 block1_conv1 (None, 150, 150, 64)\n",
      "2 block1_conv2 (None, 150, 150, 64)\n",
      "3 block1_pool (None, 75, 75, 64)\n",
      "4 block2_conv1 (None, 75, 75, 128)\n",
      "5 block2_conv2 (None, 75, 75, 128)\n",
      "6 block2_pool (None, 37, 37, 128)\n",
      "7 block3_conv1 (None, 37, 37, 256)\n",
      "8 block3_conv2 (None, 37, 37, 256)\n",
      "9 block3_conv3 (None, 37, 37, 256)\n",
      "10 block3_conv4 (None, 37, 37, 256)\n",
      "11 block3_pool (None, 18, 18, 256)\n",
      "12 block4_conv1 (None, 18, 18, 512)\n",
      "13 block4_conv2 (None, 18, 18, 512)\n",
      "14 block4_conv3 (None, 18, 18, 512)\n",
      "15 block4_conv4 (None, 18, 18, 512)\n",
      "16 block4_pool (None, 9, 9, 512)\n",
      "17 block5_conv1 (None, 9, 9, 512)\n",
      "18 block5_conv2 (None, 9, 9, 512)\n",
      "19 block5_conv3 (None, 9, 9, 512)\n",
      "20 block5_conv4 (None, 9, 9, 512)\n",
      "21 block5_pool (None, 4, 4, 512)\n",
      "22 sequential_2 (None, 8)\n"
     ]
    }
   ],
   "source": [
    "# sequential is the top layer a complex one\n",
    "for i, layer in enumerate(model_total.layers):\n",
    "    print (i, layer.name, layer.output_shape)"
   ]
  },
  {
   "cell_type": "code",
   "execution_count": 19,
   "metadata": {},
   "outputs": [
    {
     "name": "stdout",
     "output_type": "stream",
     "text": [
      "layer 0, input_3 is freezed\n",
      "layer 1, block1_conv1 is trainable\n",
      "layer 2, block1_conv2 is trainable\n",
      "layer 3, block1_pool is trainable\n",
      "layer 4, block2_conv1 is trainable\n",
      "layer 5, block2_conv2 is trainable\n",
      "layer 6, block2_pool is trainable\n",
      "layer 7, block3_conv1 is trainable\n",
      "layer 8, block3_conv2 is trainable\n",
      "layer 9, block3_conv3 is trainable\n",
      "layer 10, block3_conv4 is trainable\n",
      "layer 11, block3_pool is trainable\n",
      "layer 12, block4_conv1 is trainable\n",
      "layer 13, block4_conv2 is trainable\n",
      "layer 14, block4_conv3 is trainable\n",
      "layer 15, block4_conv4 is trainable\n",
      "layer 16, block4_pool is trainable\n",
      "layer 17, block5_conv1 is trainable\n",
      "layer 18, block5_conv2 is trainable\n",
      "layer 19, block5_conv3 is trainable\n",
      "layer 20, block5_conv4 is trainable\n",
      "layer 21, block5_pool is trainable\n",
      "layer 22, sequential_2 is trainable\n"
     ]
    }
   ],
   "source": [
    "for i, layer in enumerate(model_total.layers):\n",
    "    if layer.trainable:\n",
    "        print(\"layer {0:d}, {1:s} is trainable\".format(i, layer.name))\n",
    "    else:\n",
    "        print(\"layer {0:d}, {1:s} is freezed\".format(i, layer.name))"
   ]
  },
  {
   "cell_type": "code",
   "execution_count": 21,
   "metadata": {},
   "outputs": [],
   "source": [
    "# freezing layers implies they will not update their weights over the training\n",
    "# there are 2 more layers without train\n",
    "for layer in model_total.layers[:17]:\n",
    "    layer.trainable = False"
   ]
  },
  {
   "cell_type": "code",
   "execution_count": 22,
   "metadata": {},
   "outputs": [
    {
     "name": "stdout",
     "output_type": "stream",
     "text": [
      "layer 0, input_3 is freezed\n",
      "layer 1, block1_conv1 is freezed\n",
      "layer 2, block1_conv2 is freezed\n",
      "layer 3, block1_pool is freezed\n",
      "layer 4, block2_conv1 is freezed\n",
      "layer 5, block2_conv2 is freezed\n",
      "layer 6, block2_pool is freezed\n",
      "layer 7, block3_conv1 is freezed\n",
      "layer 8, block3_conv2 is freezed\n",
      "layer 9, block3_conv3 is freezed\n",
      "layer 10, block3_conv4 is freezed\n",
      "layer 11, block3_pool is freezed\n",
      "layer 12, block4_conv1 is freezed\n",
      "layer 13, block4_conv2 is freezed\n",
      "layer 14, block4_conv3 is freezed\n",
      "layer 15, block4_conv4 is freezed\n",
      "layer 16, block4_pool is freezed\n",
      "layer 17, block5_conv1 is trainable\n",
      "layer 18, block5_conv2 is trainable\n",
      "layer 19, block5_conv3 is trainable\n",
      "layer 20, block5_conv4 is trainable\n",
      "layer 21, block5_pool is trainable\n",
      "layer 22, sequential_2 is trainable\n"
     ]
    }
   ],
   "source": [
    "# check for updates\n",
    "for i, layer in enumerate(model_total.layers):\n",
    "    if layer.trainable:\n",
    "        print(\"layer {0:d}, {1:s} is trainable\".format(i, layer.name))\n",
    "    else:\n",
    "        print(\"layer {0:d}, {1:s} is freezed\".format(i, layer.name))"
   ]
  },
  {
   "cell_type": "code",
   "execution_count": 23,
   "metadata": {},
   "outputs": [],
   "source": [
    "model_total.compile(optimizer=SGD(lr=1e-4, momentum=0.9),\n",
    "              loss='categorical_crossentropy', metrics=['accuracy'])"
   ]
  },
  {
   "cell_type": "code",
   "execution_count": 24,
   "metadata": {},
   "outputs": [
    {
     "name": "stdout",
     "output_type": "stream",
     "text": [
      "Found 3000 images belonging to 8 classes.\n",
      "Found 1000 images belonging to 8 classes.\n"
     ]
    }
   ],
   "source": [
    "# diff with bottleneck, we have to use data augmentation here\n",
    "train_datagen = ImageDataGenerator(\n",
    "    rescale=1. / 255,\n",
    "    shear_range=0.2,\n",
    "    zoom_range=0.2,\n",
    "    horizontal_flip=True)\n",
    "\n",
    "train_generator = train_datagen.flow_from_directory(\n",
    "    train_data_dir,\n",
    "    target_size=(img_height, img_width),\n",
    "    batch_size=batch_size,\n",
    "    class_mode='categorical')\n",
    "\n",
    "val_datagen = ImageDataGenerator(rescale=1. / 255) # not in the val data\n",
    "\n",
    "val_generator = val_datagen.flow_from_directory(\n",
    "    validation_data_dir,\n",
    "    target_size=(img_height, img_width),\n",
    "    batch_size=batch_size,\n",
    "    class_mode='categorical')"
   ]
  },
  {
   "cell_type": "code",
   "execution_count": 25,
   "metadata": {},
   "outputs": [
    {
     "data": {
      "text/plain": [
       "'\\nsome cells are run based only in 5 epoch just for testing purposes\\nthe real weights were calculated with 50 epochs and will be loaded ahead\\n'"
      ]
     },
     "execution_count": 25,
     "metadata": {},
     "output_type": "execute_result"
    }
   ],
   "source": [
    "n_epochs = 5 # just for testing purposes\n",
    "'''\n",
    "some cells are run based only in 5 epoch just for testing purposes\n",
    "the real weights were calculated with 50 epochs and will be loaded ahead\n",
    "'''"
   ]
  },
  {
   "cell_type": "code",
   "execution_count": 26,
   "metadata": {},
   "outputs": [
    {
     "name": "stderr",
     "output_type": "stream",
     "text": [
      "/home/jon/anaconda3/envs/test/lib/python3.6/site-packages/ipykernel_launcher.py:13: UserWarning: Update your `fit_generator` call to the Keras 2 API: `fit_generator(<keras.pre..., epochs=5, verbose=1, validation_data=<keras.pre..., validation_steps=1000, steps_per_epoch=600)`\n",
      "  del sys.path[0]\n"
     ]
    },
    {
     "name": "stdout",
     "output_type": "stream",
     "text": [
      "Epoch 1/5\n",
      "600/600 [==============================] - 114s 191ms/step - loss: 0.6083 - acc: 0.7907 - val_loss: 0.4258 - val_acc: 0.8400\n",
      "Epoch 2/5\n",
      "600/600 [==============================] - 113s 189ms/step - loss: 0.4659 - acc: 0.8377 - val_loss: 0.5047 - val_acc: 0.8130\n",
      "Epoch 3/5\n",
      "600/600 [==============================] - 113s 189ms/step - loss: 0.4138 - acc: 0.8550 - val_loss: 0.3107 - val_acc: 0.8860\n",
      "Epoch 4/5\n",
      "600/600 [==============================] - 113s 189ms/step - loss: 0.3827 - acc: 0.8633 - val_loss: 0.2683 - val_acc: 0.9010\n",
      "Epoch 5/5\n",
      "600/600 [==============================] - 113s 189ms/step - loss: 0.3394 - acc: 0.8737 - val_loss: 0.2891 - val_acc: 0.8890\n"
     ]
    }
   ],
   "source": [
    "import time\n",
    "# fine-tune the model\n",
    "\n",
    "ti_ftuning = time.time()\n",
    "\n",
    "\n",
    "historical_data = model_total.fit_generator(\n",
    "    train_generator,\n",
    "    samples_per_epoch=n_train_samples,\n",
    "    epochs=n_epochs,\n",
    "    verbose = 1,\n",
    "    validation_data=val_generator,\n",
    "    validation_steps=n_validation_samples)\n",
    "\n",
    "tf_ftuning = time.time()\n",
    "tt_ftuning = tf_ftuning - ti_ftuning"
   ]
  },
  {
   "cell_type": "code",
   "execution_count": 27,
   "metadata": {},
   "outputs": [
    {
     "name": "stdout",
     "output_type": "stream",
     "text": [
      "00:09:27\n"
     ]
    }
   ],
   "source": [
    "print(time.strftime(\"%H:%M:%S\", time.gmtime(tt_ftuning)))"
   ]
  },
  {
   "cell_type": "code",
   "execution_count": 28,
   "metadata": {},
   "outputs": [],
   "source": [
    "model_total.save_weights('../data/output_convnet/VGG19/VGG19_ft_testing_model.h5') # testing\n",
    "# model_total.save_weights('../data/output_convnet/VGG19/VGG19_ft_model.h5')"
   ]
  },
  {
   "cell_type": "code",
   "execution_count": 29,
   "metadata": {},
   "outputs": [
    {
     "name": "stdout",
     "output_type": "stream",
     "text": [
      "acc: 88.90% - loss: 0.289144\n"
     ]
    }
   ],
   "source": [
    "steps = int(math.ceil(n_validation_samples / batch_size))\n",
    "\n",
    "(loss, acc) = model_total.evaluate_generator(val_generator, steps=steps)\n",
    "\n",
    "print(\"acc: {0:.2f}% - loss: {1:f}\".format(acc * 100, loss))"
   ]
  },
  {
   "cell_type": "code",
   "execution_count": 30,
   "metadata": {},
   "outputs": [
    {
     "name": "stdout",
     "output_type": "stream",
     "text": [
      "train acc mean: 0.84 * train loss mean: 0.44\n",
      "validation acc mean: 0.87 * validation loss mean: 0.36\n"
     ]
    }
   ],
   "source": [
    "train_acc = historical_data.history['acc']\n",
    "train_loss = historical_data.history['loss']\n",
    "\n",
    "val_acc = historical_data.history['val_acc'] # validation\n",
    "val_loss = historical_data.history['val_loss'] # validation\n",
    "\n",
    "print(\"train acc mean: {0:.2f} * train loss mean: {1:.2f}\".format(np.average(train_acc),np.average(train_loss)))\n",
    "print(\"validation acc mean: {0:.2f} * validation loss mean: {1:.2f}\".format(np.average(val_acc),np.average(val_loss)))"
   ]
  },
  {
   "cell_type": "code",
   "execution_count": 31,
   "metadata": {},
   "outputs": [
    {
     "data": {
      "image/png": "[encoded data removed]",
      "text/plain": [
       "<matplotlib.figure.Figure at 0x7f04f317a860>"
      ]
     },
     "metadata": {},
     "output_type": "display_data"
    }
   ],
   "source": [
    "# historical_data.history acc and loss data over the epochs (train and validation)\n",
    "\n",
    "range_epochs = range(n_epochs)\n",
    "\n",
    "fig = plt.figure(figsize=(20, 6))\n",
    "\n",
    "fig.add_subplot(1,2,1)\n",
    "plt.plot(range_epochs, train_acc, 'bo', label='Training acc')\n",
    "plt.plot(range_epochs, val_acc, 'b', label='Validation acc')\n",
    "plt.title('Training and validation accuracy')\n",
    "plt.legend()\n",
    "\n",
    "# plt.figure()\n",
    "fig.add_subplot(1,2,2)\n",
    "plt.plot(range_epochs, train_loss, 'bo', label='Training loss')\n",
    "plt.plot(range_epochs, val_loss, 'b', label='Validation loss')\n",
    "plt.title('Training and validation loss')\n",
    "plt.legend()\n",
    "\n",
    "plt.savefig(os.path.join(PATH_TO_DF, \"VGG19_ft_testing_acc_loss.png\"), bbox_inches='tight')\n",
    "# plt.savefig(os.path.join(PATH_TO_DF, \"VGG19_ft_acc_loss.png\"), bbox_inches='tight')\n",
    "plt.show()"
   ]
  },
  {
   "cell_type": "code",
   "execution_count": 33,
   "metadata": {},
   "outputs": [
    {
     "name": "stderr",
     "output_type": "stream",
     "text": [
      "/home/jon/anaconda3/envs/test/lib/python3.6/site-packages/ipykernel_launcher.py:13: UserWarning: Update your `Model` call to the Keras 2 API: `Model(inputs=Tensor(\"in..., outputs=Tensor(\"se...)`\n",
      "  del sys.path[0]\n"
     ]
    }
   ],
   "source": [
    "# import h5py\n",
    "\n",
    "# hdf5_file = h5py.File('../data/output_convnet/VGG19/VGG19_ft_model.h5', mode='r')\n",
    "\n",
    "model_base = VGG19(weights='imagenet', include_top=False, input_tensor=input_tensor)  \n",
    "\n",
    "model_top = Sequential()  \n",
    "model_top.add(Flatten(input_shape=model_base.output_shape[1:]))  \n",
    "model_top.add(Dense(256, activation='relu'))  \n",
    "model_top.add(Dropout(0.5))  \n",
    "model_top.add(Dense(8, activation='softmax'))\n",
    "\n",
    "model_total = Model(input= model_base.input, output= model_top(model_base.output))\n",
    "\n",
    "# loading the weights trained before\n",
    "model_total.load_weights(\"../data/output_convnet/VGG19/VGG19_ft_model.h5\")\n",
    "\n",
    "model_total.compile(optimizer=SGD(lr=1e-4, momentum=0.9),\n",
    "              loss='categorical_crossentropy', metrics=['accuracy']) "
   ]
  },
  {
   "cell_type": "code",
   "execution_count": 34,
   "metadata": {},
   "outputs": [
    {
     "name": "stdout",
     "output_type": "stream",
     "text": [
      "Found 1000 images belonging to 8 classes.\n"
     ]
    }
   ],
   "source": [
    "test_convnet = ImageDataGenerator(rescale=1. / 255)\n",
    "\n",
    "test_generator = test_convnet.flow_from_directory(\n",
    "    test_data_dir,\n",
    "    target_size=(img_height, img_width),\n",
    "    batch_size=batch_size,\n",
    "    shuffle =False,\n",
    "    class_mode='categorical')"
   ]
  },
  {
   "cell_type": "code",
   "execution_count": 35,
   "metadata": {},
   "outputs": [
    {
     "name": "stdout",
     "output_type": "stream",
     "text": [
      "acc: 89.60% - loss: 0.378759\n"
     ]
    }
   ],
   "source": [
    "steps = int(math.ceil(n_test_samples / batch_size))\n",
    "\n",
    "(loss, acc) = model_total.evaluate_generator(test_generator, steps=steps)\n",
    "\n",
    "print(\"acc: {0:.2f}% - loss: {1:f}\".format(acc * 100, loss))"
   ]
  },
  {
   "cell_type": "code",
   "execution_count": 36,
   "metadata": {},
   "outputs": [],
   "source": [
    "predictions = model_total.predict_generator(test_generator, steps = steps)"
   ]
  },
  {
   "cell_type": "code",
   "execution_count": 37,
   "metadata": {},
   "outputs": [],
   "source": [
    "from sklearn.metrics import confusion_matrix\n",
    "\n",
    "PATH_TO_IMG = \"../data/input_dataset\"\n",
    "\n",
    "prediction_list = []\n",
    "real_label_list = []\n",
    "\n",
    "cat_dict = test_generator.class_indices # the key attribute\n",
    "inverse_coding = {value: key for key, value in cat_dict.items()} # dict of categories\n",
    "\n",
    "for label in test_generator.classes:\n",
    "    real_label_list.append(inverse_coding[label])\n",
    "    \n",
    "for prediction in predictions:\n",
    "    prediction_list.append(inverse_coding[np.argmax(prediction)])\n",
    "\n",
    "# in order to get the confusion matrix\n",
    "class_names = sorted([folder for folder in os.listdir(PATH_TO_IMG)\n",
    "                  if os.path.isdir(os.path.join(PATH_TO_IMG, folder))])\n",
    "prediction_list_arr = np.array(prediction_list) \n",
    "real_label_list_arr = np.array(real_label_list)\n",
    "\n",
    "VGG19_cm_ft = confusion_matrix(real_label_list_arr,prediction_list_arr)"
   ]
  },
  {
   "cell_type": "code",
   "execution_count": 38,
   "metadata": {},
   "outputs": [],
   "source": [
    "# reference http://scikit-learn.org/stable/auto_examples/model_selection/plot_confusion_matrix.html\n",
    "import itertools\n",
    "import matplotlib.pyplot as plt\n",
    "\n",
    "def plot_confusion_matrix(cm, classes, normalize=False, title='Confusion matrix',\n",
    "                          cmap=plt.cm.Blues):\n",
    "    \"\"\"\n",
    "    This function prints and plots the confusion matrix.\n",
    "    Normalization can be applied by setting `normalize=True`.\n",
    "    \"\"\"\n",
    "    if normalize:\n",
    "        cm = cm.astype('float') / cm.sum(axis=1)[:, np.newaxis]\n",
    "\n",
    "    plt.imshow(cm, interpolation='nearest', cmap=cmap)\n",
    "    plt.title(title)\n",
    "    plt.colorbar()\n",
    "    tick_marks = np.arange(len(classes))\n",
    "    plt.xticks(tick_marks, classes, rotation=45)\n",
    "    plt.yticks(tick_marks, classes)\n",
    "\n",
    "    fmt = '.2f' if normalize else 'd'\n",
    "    thresh = cm.max() / 2.\n",
    "    for i, j in itertools.product(range(cm.shape[0]), range(cm.shape[1])):\n",
    "        plt.text(j, i, format(cm[i, j], fmt),\n",
    "                 horizontalalignment=\"center\",\n",
    "                 color=\"white\" if cm[i, j] > thresh else \"black\")\n",
    "\n",
    "    plt.tight_layout()\n",
    "    plt.ylabel('True label',size=20)\n",
    "    plt.xlabel('Predicted label',size=20)"
   ]
  },
  {
   "cell_type": "code",
   "execution_count": 40,
   "metadata": {},
   "outputs": [
    {
     "data": {
      "image/png": "[encoded data removed]",
      "text/plain": [
       "<matplotlib.figure.Figure at 0x7f04f30b0940>"
      ]
     },
     "metadata": {},
     "output_type": "display_data"
    }
   ],
   "source": [
    "fig = plt.figure(figsize=(20, 6))\n",
    "\n",
    "\n",
    "fig.add_subplot(1,2,1)\n",
    "plot_confusion_matrix(VGG19_cm_ft, classes=class_names,\n",
    "                      title='Confusion matrix, without normalization')\n",
    "\n",
    "fig.add_subplot(1,2,2)\n",
    "plot_confusion_matrix(VGG19_cm_ft, classes=class_names, normalize=True,\n",
    "                      title='Normalized confusion matrix')\n",
    "\n",
    "plt.savefig(os.path.join(PATH_TO_DF, \"VGG16_ft_test.png\"), bbox_inches='tight') # png 70kb vs jpg 135 kb\n",
    "\n",
    "plt.show()"
   ]
  }
 ],
 "metadata": {
  "kernelspec": {
   "display_name": "Python 3",
   "language": "python",
   "name": "python3"
  },
  "language_info": {
   "codemirror_mode": {
    "name": "ipython",
    "version": 3
   },
   "file_extension": ".py",
   "mimetype": "text/x-python",
   "name": "python",
   "nbconvert_exporter": "python",
   "pygments_lexer": "ipython3",
   "version": "3.6.2"
  }
 },
 "nbformat": 4,
 "nbformat_minor": 2
}
