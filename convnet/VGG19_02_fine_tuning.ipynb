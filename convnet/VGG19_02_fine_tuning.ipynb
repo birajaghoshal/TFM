{
 "cells": [
  {
   "cell_type": "code",
   "execution_count": 1,
   "metadata": {},
   "outputs": [
    {
     "name": "stderr",
     "output_type": "stream",
     "text": [
      "Using TensorFlow backend.\n"
     ]
    }
   ],
   "source": [
    "from keras.preprocessing.image import ImageDataGenerator, img_to_array, load_img\n",
    "from keras.models import Sequential\n",
    "from keras.layers import Dropout, Flatten, Dense\n",
    "from keras import applications\n",
    "from keras.optimizers import SGD\n",
    "from keras.utils.np_utils import to_categorical\n",
    "\n",
    "import matplotlib.pyplot as plt\n",
    "import numpy as np\n",
    "import math"
   ]
  },
  {
   "cell_type": "code",
   "execution_count": 2,
   "metadata": {},
   "outputs": [],
   "source": [
    "img_width = 150\n",
    "img_height = 150\n",
    "\n",
    "epochs = 50\n",
    "batch_size = 16\n",
    "\n",
    "train_data_dir = \"train\"  \n",
    "validation_data_dir = \"validation\"\n",
    "test_data_dir = \"test\"\n",
    "\n",
    "nb_train_samples = 3000\n",
    "nb_validation_samples = 1000"
   ]
  },
  {
   "cell_type": "code",
   "execution_count": 3,
   "metadata": {},
   "outputs": [
    {
     "name": "stdout",
     "output_type": "stream",
     "text": [
      "Found 3000 images belonging to 8 classes.\n",
      "Found 1000 images belonging to 8 classes.\n",
      "00:00:37\n"
     ]
    }
   ],
   "source": [
    "import time\n",
    "\n",
    "ti_bn_features = time.time()\n",
    "\n",
    "model = applications.VGG19(include_top=False, weights='imagenet')\n",
    "\n",
    "datagen = ImageDataGenerator(rescale=1. / 255)\n",
    "\n",
    "'''\n",
    "https://github.com/keras-team/keras/blob/master/keras/preprocessing/image.py#L1002\n",
    "if PIL version 1.1.3 interpolation = 'lanczos'\n",
    "else interpolation = 'bicubic' \n",
    "''' \n",
    "\n",
    "generator = datagen.flow_from_directory(\n",
    "    train_data_dir,\n",
    "    target_size = (img_width, img_height),\n",
    "    batch_size = batch_size,\n",
    "    class_mode = None,\n",
    "    shuffle = False)\n",
    "\n",
    "nb_train_samples = len(generator.filenames)  \n",
    "num_classes = len(generator.class_indices)\n",
    "\n",
    "predict_size_train = int(math.ceil(nb_train_samples / batch_size)) \n",
    "\n",
    "bnfeatures_train = model.predict_generator(\n",
    "    generator, predict_size_train)\n",
    "\n",
    "np.save('../data/output_convnet/VGG19_bnfeatures_train.npy', bnfeatures_train)\n",
    "\n",
    "\n",
    "generator = datagen.flow_from_directory(\n",
    "    validation_data_dir,\n",
    "    target_size=(img_width, img_height),\n",
    "    batch_size=batch_size,\n",
    "    class_mode=None,\n",
    "    shuffle=False)\n",
    "\n",
    "nb_validation_samples = len(generator.filenames)\n",
    "predict_size_validation = int(math.ceil(nb_validation_samples / batch_size))  \n",
    "   \n",
    "bnfeatures_val = model.predict_generator(  \n",
    "     generator, predict_size_validation)\n",
    "\n",
    "np.save('../data/output_convnet/VGG19_bnfeatures_val.npy', bnfeatures_val)\n",
    "\n",
    "\n",
    "tf_bn_features = time.time()    \n",
    "tt_bn_features = tf_bn_features - ti_bn_features\n",
    "print(time.strftime(\"%H:%M:%S\", time.gmtime(tt_bn_features)))"
   ]
  },
  {
   "cell_type": "code",
   "execution_count": 4,
   "metadata": {},
   "outputs": [
    {
     "name": "stdout",
     "output_type": "stream",
     "text": [
      "Found 3000 images belonging to 8 classes.\n",
      "Found 1000 images belonging to 8 classes.\n",
      "Train on 3000 samples, validate on 1000 samples\n",
      "Epoch 1/50\n",
      "3000/3000 [==============================] - 2s 507us/step - loss: 1.6768 - acc: 0.3920 - val_loss: 1.2740 - val_acc: 0.6050\n",
      "Epoch 2/50\n",
      "3000/3000 [==============================] - 1s 318us/step - loss: 1.2480 - acc: 0.5740 - val_loss: 1.0651 - val_acc: 0.6630\n",
      "Epoch 3/50\n",
      "3000/3000 [==============================] - 1s 311us/step - loss: 1.0713 - acc: 0.6323 - val_loss: 0.9085 - val_acc: 0.7580\n",
      "Epoch 4/50\n",
      "3000/3000 [==============================] - 1s 293us/step - loss: 0.9757 - acc: 0.6760 - val_loss: 0.8401 - val_acc: 0.7550\n",
      "Epoch 5/50\n",
      "3000/3000 [==============================] - 1s 289us/step - loss: 0.9082 - acc: 0.6953 - val_loss: 0.8031 - val_acc: 0.7400\n",
      "Epoch 6/50\n",
      "3000/3000 [==============================] - 1s 287us/step - loss: 0.8395 - acc: 0.7240 - val_loss: 0.7244 - val_acc: 0.7950\n",
      "Epoch 7/50\n",
      "3000/3000 [==============================] - 1s 290us/step - loss: 0.8206 - acc: 0.7290 - val_loss: 0.7102 - val_acc: 0.7810\n",
      "Epoch 8/50\n",
      "3000/3000 [==============================] - 1s 316us/step - loss: 0.7582 - acc: 0.7527 - val_loss: 0.6584 - val_acc: 0.8090\n",
      "Epoch 9/50\n",
      "3000/3000 [==============================] - 1s 291us/step - loss: 0.7383 - acc: 0.7613 - val_loss: 0.6424 - val_acc: 0.8060\n",
      "Epoch 10/50\n",
      "3000/3000 [==============================] - 1s 298us/step - loss: 0.7094 - acc: 0.7667 - val_loss: 0.6279 - val_acc: 0.7950\n",
      "Epoch 11/50\n",
      "3000/3000 [==============================] - 1s 302us/step - loss: 0.6861 - acc: 0.7793 - val_loss: 0.5942 - val_acc: 0.8190\n",
      "Epoch 12/50\n",
      "3000/3000 [==============================] - 1s 305us/step - loss: 0.6727 - acc: 0.7750 - val_loss: 0.5846 - val_acc: 0.8250\n",
      "Epoch 13/50\n",
      "3000/3000 [==============================] - 1s 302us/step - loss: 0.6534 - acc: 0.7857 - val_loss: 0.5762 - val_acc: 0.8120\n",
      "Epoch 14/50\n",
      "3000/3000 [==============================] - 1s 294us/step - loss: 0.6354 - acc: 0.7883 - val_loss: 0.5640 - val_acc: 0.8270\n",
      "Epoch 15/50\n",
      "3000/3000 [==============================] - 1s 298us/step - loss: 0.6202 - acc: 0.7983 - val_loss: 0.5539 - val_acc: 0.8260\n",
      "Epoch 16/50\n",
      "3000/3000 [==============================] - 1s 298us/step - loss: 0.6063 - acc: 0.8017 - val_loss: 0.5546 - val_acc: 0.8260\n",
      "Epoch 17/50\n",
      "3000/3000 [==============================] - 1s 299us/step - loss: 0.5976 - acc: 0.7970 - val_loss: 0.5355 - val_acc: 0.8230\n",
      "Epoch 18/50\n",
      "3000/3000 [==============================] - 1s 298us/step - loss: 0.5844 - acc: 0.8110 - val_loss: 0.5216 - val_acc: 0.8260\n",
      "Epoch 19/50\n",
      "3000/3000 [==============================] - 1s 301us/step - loss: 0.5766 - acc: 0.8107 - val_loss: 0.5578 - val_acc: 0.8150\n",
      "Epoch 20/50\n",
      "3000/3000 [==============================] - 1s 299us/step - loss: 0.5755 - acc: 0.8163 - val_loss: 0.5279 - val_acc: 0.8270\n",
      "Epoch 21/50\n",
      "3000/3000 [==============================] - 1s 301us/step - loss: 0.5670 - acc: 0.8117 - val_loss: 0.5136 - val_acc: 0.8370\n",
      "Epoch 22/50\n",
      "3000/3000 [==============================] - 1s 298us/step - loss: 0.5521 - acc: 0.8147 - val_loss: 0.5052 - val_acc: 0.8280\n",
      "Epoch 23/50\n",
      "3000/3000 [==============================] - 1s 298us/step - loss: 0.5398 - acc: 0.8187 - val_loss: 0.5042 - val_acc: 0.8330\n",
      "Epoch 24/50\n",
      "3000/3000 [==============================] - 1s 298us/step - loss: 0.5304 - acc: 0.8203 - val_loss: 0.4824 - val_acc: 0.8380\n",
      "Epoch 25/50\n",
      "3000/3000 [==============================] - 1s 301us/step - loss: 0.5292 - acc: 0.8237 - val_loss: 0.5184 - val_acc: 0.8230\n",
      "Epoch 26/50\n",
      "3000/3000 [==============================] - 1s 325us/step - loss: 0.5099 - acc: 0.8237 - val_loss: 0.4820 - val_acc: 0.8320\n",
      "Epoch 27/50\n",
      "3000/3000 [==============================] - 1s 299us/step - loss: 0.5083 - acc: 0.8300 - val_loss: 0.4876 - val_acc: 0.8360\n",
      "Epoch 28/50\n",
      "3000/3000 [==============================] - 1s 311us/step - loss: 0.5042 - acc: 0.8317 - val_loss: 0.4694 - val_acc: 0.8450\n",
      "Epoch 29/50\n",
      "3000/3000 [==============================] - 1s 289us/step - loss: 0.4888 - acc: 0.8390 - val_loss: 0.4816 - val_acc: 0.8290\n",
      "Epoch 30/50\n",
      "3000/3000 [==============================] - 1s 295us/step - loss: 0.4968 - acc: 0.8350 - val_loss: 0.4709 - val_acc: 0.8350\n",
      "Epoch 31/50\n",
      "3000/3000 [==============================] - 1s 297us/step - loss: 0.4863 - acc: 0.8383 - val_loss: 0.4511 - val_acc: 0.8520\n",
      "Epoch 32/50\n",
      "3000/3000 [==============================] - 1s 301us/step - loss: 0.4735 - acc: 0.8363 - val_loss: 0.4557 - val_acc: 0.8440\n",
      "Epoch 33/50\n",
      "3000/3000 [==============================] - 1s 312us/step - loss: 0.4900 - acc: 0.8357 - val_loss: 0.4715 - val_acc: 0.8320\n",
      "Epoch 34/50\n",
      "3000/3000 [==============================] - 1s 294us/step - loss: 0.4762 - acc: 0.8473 - val_loss: 0.4450 - val_acc: 0.8420\n",
      "Epoch 35/50\n",
      "3000/3000 [==============================] - 1s 297us/step - loss: 0.4654 - acc: 0.8497 - val_loss: 0.4507 - val_acc: 0.8380\n",
      "Epoch 36/50\n",
      "3000/3000 [==============================] - 1s 295us/step - loss: 0.4566 - acc: 0.8510 - val_loss: 0.4457 - val_acc: 0.8510\n",
      "Epoch 37/50\n",
      "3000/3000 [==============================] - 1s 314us/step - loss: 0.4546 - acc: 0.8467 - val_loss: 0.4350 - val_acc: 0.8540\n",
      "Epoch 38/50\n",
      "3000/3000 [==============================] - 1s 296us/step - loss: 0.4433 - acc: 0.8577 - val_loss: 0.4403 - val_acc: 0.8400\n",
      "Epoch 39/50\n",
      "3000/3000 [==============================] - 1s 293us/step - loss: 0.4378 - acc: 0.8510 - val_loss: 0.4538 - val_acc: 0.8430\n",
      "Epoch 40/50\n",
      "3000/3000 [==============================] - 1s 296us/step - loss: 0.4429 - acc: 0.8497 - val_loss: 0.4258 - val_acc: 0.8540\n",
      "Epoch 41/50\n",
      "3000/3000 [==============================] - 1s 306us/step - loss: 0.4285 - acc: 0.8553 - val_loss: 0.4263 - val_acc: 0.8560\n",
      "Epoch 42/50\n",
      "3000/3000 [==============================] - 1s 302us/step - loss: 0.4373 - acc: 0.8593 - val_loss: 0.4216 - val_acc: 0.8500\n",
      "Epoch 43/50\n",
      "3000/3000 [==============================] - 1s 307us/step - loss: 0.4303 - acc: 0.8623 - val_loss: 0.4226 - val_acc: 0.8520\n",
      "Epoch 44/50\n",
      "3000/3000 [==============================] - 1s 338us/step - loss: 0.4122 - acc: 0.8683 - val_loss: 0.4169 - val_acc: 0.8540\n",
      "Epoch 45/50\n",
      "3000/3000 [==============================] - 1s 311us/step - loss: 0.4203 - acc: 0.8610 - val_loss: 0.4322 - val_acc: 0.8540\n",
      "Epoch 46/50\n",
      "3000/3000 [==============================] - 1s 301us/step - loss: 0.4106 - acc: 0.8620 - val_loss: 0.4176 - val_acc: 0.8560\n",
      "Epoch 47/50\n",
      "3000/3000 [==============================] - 1s 296us/step - loss: 0.4072 - acc: 0.8697 - val_loss: 0.4334 - val_acc: 0.8450\n",
      "Epoch 48/50\n",
      "3000/3000 [==============================] - 1s 306us/step - loss: 0.4107 - acc: 0.8650 - val_loss: 0.4144 - val_acc: 0.8650\n",
      "Epoch 49/50\n",
      "3000/3000 [==============================] - 1s 300us/step - loss: 0.4103 - acc: 0.8650 - val_loss: 0.4138 - val_acc: 0.8570\n",
      "Epoch 50/50\n",
      "3000/3000 [==============================] - 1s 302us/step - loss: 0.4037 - acc: 0.8727 - val_loss: 0.4304 - val_acc: 0.8530\n",
      "1000/1000 [==============================] - 0s 94us/step\n",
      "\n",
      "\n",
      "acc: 85.30%\n",
      "loss: 0.43041255870461465\n"
     ]
    },
    {
     "data": {
      "image/png": "[encoded data removed]",
      "text/plain": [
       "<matplotlib.figure.Figure at 0x7f5faa0dfe48>"
      ]
     },
     "metadata": {},
     "output_type": "display_data"
    },
    {
     "name": "stdout",
     "output_type": "stream",
     "text": [
      "00:00:46\n"
     ]
    }
   ],
   "source": [
    "import os\n",
    "\n",
    "ti_bn_train = time.time()\n",
    "\n",
    "datagen_top = ImageDataGenerator(rescale=1./255)  \n",
    "\n",
    "generator_top = datagen_top.flow_from_directory(\n",
    "    train_data_dir,  \n",
    "    target_size=(img_width, img_height),  \n",
    "    batch_size=batch_size,  \n",
    "    class_mode='categorical',  \n",
    "    shuffle=False,\n",
    "    interpolation = 'lanczos')  \n",
    "\n",
    "nb_train_samples = len(generator_top.filenames)  \n",
    "num_classes = len(generator_top.class_indices)  \n",
    "\n",
    "\n",
    "train_data = np.load('../data/output_convnet/VGG19_bnfeatures_train.npy')\n",
    "\n",
    "# get the class lebels for the training data, in the original order  \n",
    "train_labels = generator_top.classes  \n",
    "\n",
    "# convert the training labels to categorical vectors  \n",
    "train_labels = to_categorical(train_labels, num_classes=num_classes)\n",
    "\n",
    "\n",
    "\n",
    "generator_top = datagen_top.flow_from_directory(  \n",
    "    validation_data_dir,  \n",
    "    target_size=(img_width, img_height),  \n",
    "    batch_size=batch_size,  \n",
    "    class_mode=None,  \n",
    "    shuffle=False,\n",
    "    interpolation = 'lanczos')  \n",
    "\n",
    "nb_validation_samples = len(generator_top.filenames)  \n",
    "\n",
    "validation_data = np.load('../data/output_convnet/VGG19_bnfeatures_val.npy')  \n",
    "\n",
    "validation_labels = generator_top.classes  \n",
    "validation_labels = to_categorical(validation_labels, num_classes=num_classes)\n",
    "\n",
    "\n",
    "# top model\n",
    "model = Sequential()  \n",
    "model.add(Flatten(input_shape=train_data.shape[1:]))  \n",
    "model.add(Dense(256, activation='relu'))  \n",
    "model.add(Dropout(0.5))  \n",
    "model.add(Dense(num_classes, activation='softmax'))  \n",
    "\n",
    "model.compile(optimizer=SGD(lr=0.001),\n",
    "              loss='categorical_crossentropy', metrics=['accuracy']) \n",
    "\n",
    "history = model.fit(train_data, train_labels,\n",
    "                    epochs=epochs,\n",
    "                    batch_size=batch_size,\n",
    "                    validation_data=(validation_data, validation_labels))  \n",
    "\n",
    "model.save_weights('../data/output_convnet/bn_VGG19_model.h5')  \n",
    "\n",
    "(eval_loss, eval_accuracy) = model.evaluate(\n",
    "    validation_data, validation_labels, batch_size=batch_size, verbose=1)\n",
    "\n",
    "print()\n",
    "print()\n",
    "print(\"acc: {:.2f}%\".format(eval_accuracy * 100))  \n",
    "print(\"loss: {}\".format(eval_loss))\n",
    "\n",
    "plt.figure(1)  \n",
    "   \n",
    "# summarize history for accuracy  \n",
    "\n",
    "plt.subplot(211)  \n",
    "plt.plot(history.history['acc'])  \n",
    "plt.plot(history.history['val_acc'])  \n",
    "plt.title('model accuracy')  \n",
    "plt.ylabel('accuracy')  \n",
    "plt.xlabel('epoch')  \n",
    "plt.legend(['train', 'test'], loc='upper left')  \n",
    "\n",
    "# summarize history for loss  \n",
    "\n",
    "plt.subplot(212)  \n",
    "plt.plot(history.history['loss'])  \n",
    "plt.plot(history.history['val_loss'])  \n",
    "plt.title('model loss')  \n",
    "plt.ylabel('loss')  \n",
    "plt.xlabel('epoch')  \n",
    "plt.legend(['train', 'test'], loc='upper left')\n",
    "\n",
    "PATH_TO_OUTPUT = \"../data/output_convnet\"\n",
    "plt.savefig(os.path.join(PATH_TO_OUTPUT, \"bn_VGG19.png\"), bbox_inches='tight') # png 70kb vs jpg 135 kb\n",
    "\n",
    "plt.show()\n",
    "\n",
    "tf_bn_train = time.time()    \n",
    "tt_bn_train = tf_bn_train - ti_bn_train\n",
    "print(time.strftime(\"%H:%M:%S\", time.gmtime(tt_bn_train)))"
   ]
  },
  {
   "cell_type": "code",
   "execution_count": 5,
   "metadata": {},
   "outputs": [
    {
     "name": "stdout",
     "output_type": "stream",
     "text": [
      "['dense_1', 'dense_2', 'dropout_1', 'flatten_1']\n"
     ]
    }
   ],
   "source": [
    "import h5py\n",
    "hdf5_file = h5py.File('../data/output_convnet/bn_VGG16_model.h5', mode='r')\n",
    "print(list(hdf5_file))"
   ]
  },
  {
   "cell_type": "code",
   "execution_count": 1,
   "metadata": {},
   "outputs": [
    {
     "name": "stderr",
     "output_type": "stream",
     "text": [
      "Using TensorFlow backend.\n"
     ]
    }
   ],
   "source": [
    "from keras import applications\n",
    "from keras.preprocessing.image import ImageDataGenerator\n",
    "# from keras import optimizers\n",
    "from keras.optimizers import SGD\n",
    "from keras.models import Sequential\n",
    "from keras.layers import Dropout, Flatten, Dense\n",
    "\n",
    "from keras import applications\n",
    "from keras.preprocessing.image import ImageDataGenerator\n",
    "from keras import optimizers\n",
    "from keras.models import Sequential, Model\n",
    "from keras.layers import Dropout, Flatten, Dense, Input"
   ]
  },
  {
   "cell_type": "code",
   "execution_count": 2,
   "metadata": {},
   "outputs": [],
   "source": [
    "# path to the model weights files.\n",
    "# weights_path = '../keras/examples/vgg16_weights.h5'\n",
    "top_model_weights_path = '../data/output_convnet/bn_VGG16_model.h5'\n",
    "\n",
    "# dimensions of our images.\n",
    "img_width, img_height = 150, 150\n",
    "\n",
    "train_data_dir = 'train/'\n",
    "validation_data_dir = 'validation/'\n",
    "\n",
    "nb_train_samples = 3000\n",
    "nb_validation_samples = 1000\n",
    "epochs = 50\n",
    "batch_size = 5 # con 5 funciona con 16 es imposible probar con 10\n",
    "num_classes = 8"
   ]
  },
  {
   "cell_type": "code",
   "execution_count": 3,
   "metadata": {},
   "outputs": [
    {
     "name": "stdout",
     "output_type": "stream",
     "text": [
      "model loaded\n"
     ]
    }
   ],
   "source": [
    "# build the VGG16 network\n",
    "input_tensor = Input(shape=(img_width,img_height,3))\n",
    "base_model = applications.VGG19(weights='imagenet', include_top=False, input_tensor=input_tensor)\n",
    "print(\"model loaded\")"
   ]
  },
  {
   "cell_type": "code",
   "execution_count": 4,
   "metadata": {},
   "outputs": [
    {
     "data": {
      "text/plain": [
       "(4, 4, 512)"
      ]
     },
     "execution_count": 4,
     "metadata": {},
     "output_type": "execute_result"
    }
   ],
   "source": [
    "base_model.output_shape[1:]"
   ]
  },
  {
   "cell_type": "code",
   "execution_count": 5,
   "metadata": {},
   "outputs": [],
   "source": [
    "# build a classifier model to put on top of the convolutional model\n",
    "top_model = Sequential()\n",
    "top_model.add(Flatten(input_shape=base_model.output_shape[1:]))\n",
    "top_model.add(Dense(256, activation='relu'))\n",
    "top_model.add(Dropout(0.5))\n",
    "top_model.add(Dense(8, activation='softmax'))"
   ]
  },
  {
   "cell_type": "code",
   "execution_count": 6,
   "metadata": {},
   "outputs": [
    {
     "name": "stdout",
     "output_type": "stream",
     "text": [
      "['dense_1', 'dense_2', 'dropout_1', 'flatten_1']\n"
     ]
    }
   ],
   "source": [
    "import h5py\n",
    "hdf5_file = h5py.File(top_model_weights_path, mode='r')\n",
    "# print(len(hdf5_file))\n",
    "print(list(hdf5_file))"
   ]
  },
  {
   "cell_type": "code",
   "execution_count": 7,
   "metadata": {},
   "outputs": [
    {
     "name": "stdout",
     "output_type": "stream",
     "text": [
      "0 input_1 (None, 150, 150, 3)\n",
      "1 block1_conv1 (None, 150, 150, 64)\n",
      "2 block1_conv2 (None, 150, 150, 64)\n",
      "3 block1_pool (None, 75, 75, 64)\n",
      "4 block2_conv1 (None, 75, 75, 128)\n",
      "5 block2_conv2 (None, 75, 75, 128)\n",
      "6 block2_pool (None, 37, 37, 128)\n",
      "7 block3_conv1 (None, 37, 37, 256)\n",
      "8 block3_conv2 (None, 37, 37, 256)\n",
      "9 block3_conv3 (None, 37, 37, 256)\n",
      "10 block3_conv4 (None, 37, 37, 256)\n",
      "11 block3_pool (None, 18, 18, 256)\n",
      "12 block4_conv1 (None, 18, 18, 512)\n",
      "13 block4_conv2 (None, 18, 18, 512)\n",
      "14 block4_conv3 (None, 18, 18, 512)\n",
      "15 block4_conv4 (None, 18, 18, 512)\n",
      "16 block4_pool (None, 9, 9, 512)\n",
      "17 block5_conv1 (None, 9, 9, 512)\n",
      "18 block5_conv2 (None, 9, 9, 512)\n",
      "19 block5_conv3 (None, 9, 9, 512)\n",
      "20 block5_conv4 (None, 9, 9, 512)\n",
      "21 block5_pool (None, 4, 4, 512)\n"
     ]
    }
   ],
   "source": [
    "for i, layer in enumerate(base_model.layers):\n",
    "    print (i, layer.name, layer.output_shape)"
   ]
  },
  {
   "cell_type": "code",
   "execution_count": 8,
   "metadata": {},
   "outputs": [
    {
     "name": "stdout",
     "output_type": "stream",
     "text": [
      "0 flatten_1 (None, 8192)\n",
      "1 dense_1 (None, 256)\n",
      "2 dropout_1 (None, 256)\n",
      "3 dense_2 (None, 8)\n"
     ]
    }
   ],
   "source": [
    "for i, layer in enumerate(top_model.layers):\n",
    "    print (i, layer.name, layer.output_shape)"
   ]
  },
  {
   "cell_type": "code",
   "execution_count": 9,
   "metadata": {},
   "outputs": [],
   "source": [
    "top_model.load_weights(\"../data/output_convnet/bn_VGG19_model.h5\")"
   ]
  },
  {
   "cell_type": "code",
   "execution_count": 10,
   "metadata": {},
   "outputs": [
    {
     "name": "stderr",
     "output_type": "stream",
     "text": [
      "/home/jon/anaconda3/envs/test/lib/python3.6/site-packages/ipykernel_launcher.py:1: UserWarning: Update your `Model` call to the Keras 2 API: `Model(inputs=Tensor(\"in..., outputs=Tensor(\"se...)`\n",
      "  \"\"\"Entry point for launching an IPython kernel.\n"
     ]
    }
   ],
   "source": [
    "model_total = Model(input= base_model.input, output= top_model(base_model.output))"
   ]
  },
  {
   "cell_type": "code",
   "execution_count": 11,
   "metadata": {},
   "outputs": [
    {
     "name": "stdout",
     "output_type": "stream",
     "text": [
      "0 input_1 (None, 150, 150, 3)\n",
      "1 block1_conv1 (None, 150, 150, 64)\n",
      "2 block1_conv2 (None, 150, 150, 64)\n",
      "3 block1_pool (None, 75, 75, 64)\n",
      "4 block2_conv1 (None, 75, 75, 128)\n",
      "5 block2_conv2 (None, 75, 75, 128)\n",
      "6 block2_pool (None, 37, 37, 128)\n",
      "7 block3_conv1 (None, 37, 37, 256)\n",
      "8 block3_conv2 (None, 37, 37, 256)\n",
      "9 block3_conv3 (None, 37, 37, 256)\n",
      "10 block3_conv4 (None, 37, 37, 256)\n",
      "11 block3_pool (None, 18, 18, 256)\n",
      "12 block4_conv1 (None, 18, 18, 512)\n",
      "13 block4_conv2 (None, 18, 18, 512)\n",
      "14 block4_conv3 (None, 18, 18, 512)\n",
      "15 block4_conv4 (None, 18, 18, 512)\n",
      "16 block4_pool (None, 9, 9, 512)\n",
      "17 block5_conv1 (None, 9, 9, 512)\n",
      "18 block5_conv2 (None, 9, 9, 512)\n",
      "19 block5_conv3 (None, 9, 9, 512)\n",
      "20 block5_conv4 (None, 9, 9, 512)\n",
      "21 block5_pool (None, 4, 4, 512)\n"
     ]
    }
   ],
   "source": [
    "for i, layer in enumerate(base_model.layers):\n",
    "    print (i, layer.name, layer.output_shape)"
   ]
  },
  {
   "cell_type": "code",
   "execution_count": 12,
   "metadata": {},
   "outputs": [
    {
     "name": "stdout",
     "output_type": "stream",
     "text": [
      "0 flatten_1 (None, 8192)\n",
      "1 dense_1 (None, 256)\n",
      "2 dropout_1 (None, 256)\n",
      "3 dense_2 (None, 8)\n"
     ]
    }
   ],
   "source": [
    "for i, layer in enumerate(top_model.layers):\n",
    "    print (i, layer.name, layer.output_shape)"
   ]
  },
  {
   "cell_type": "code",
   "execution_count": 13,
   "metadata": {},
   "outputs": [
    {
     "name": "stdout",
     "output_type": "stream",
     "text": [
      "0 input_1 (None, 150, 150, 3)\n",
      "1 block1_conv1 (None, 150, 150, 64)\n",
      "2 block1_conv2 (None, 150, 150, 64)\n",
      "3 block1_pool (None, 75, 75, 64)\n",
      "4 block2_conv1 (None, 75, 75, 128)\n",
      "5 block2_conv2 (None, 75, 75, 128)\n",
      "6 block2_pool (None, 37, 37, 128)\n",
      "7 block3_conv1 (None, 37, 37, 256)\n",
      "8 block3_conv2 (None, 37, 37, 256)\n",
      "9 block3_conv3 (None, 37, 37, 256)\n",
      "10 block3_conv4 (None, 37, 37, 256)\n",
      "11 block3_pool (None, 18, 18, 256)\n",
      "12 block4_conv1 (None, 18, 18, 512)\n",
      "13 block4_conv2 (None, 18, 18, 512)\n",
      "14 block4_conv3 (None, 18, 18, 512)\n",
      "15 block4_conv4 (None, 18, 18, 512)\n",
      "16 block4_pool (None, 9, 9, 512)\n",
      "17 block5_conv1 (None, 9, 9, 512)\n",
      "18 block5_conv2 (None, 9, 9, 512)\n",
      "19 block5_conv3 (None, 9, 9, 512)\n",
      "20 block5_conv4 (None, 9, 9, 512)\n",
      "21 block5_pool (None, 4, 4, 512)\n",
      "22 sequential_1 (None, 8)\n"
     ]
    }
   ],
   "source": [
    "for i, layer in enumerate(model_total.layers):\n",
    "    print (i, layer.name, layer.output_shape)"
   ]
  },
  {
   "cell_type": "code",
   "execution_count": 14,
   "metadata": {},
   "outputs": [
    {
     "name": "stdout",
     "output_type": "stream",
     "text": [
      "layer 0, input_1 is freezed\n",
      "layer 1, block1_conv1 is trainable\n",
      "layer 2, block1_conv2 is trainable\n",
      "layer 3, block1_pool is trainable\n",
      "layer 4, block2_conv1 is trainable\n",
      "layer 5, block2_conv2 is trainable\n",
      "layer 6, block2_pool is trainable\n",
      "layer 7, block3_conv1 is trainable\n",
      "layer 8, block3_conv2 is trainable\n",
      "layer 9, block3_conv3 is trainable\n",
      "layer 10, block3_conv4 is trainable\n",
      "layer 11, block3_pool is trainable\n",
      "layer 12, block4_conv1 is trainable\n",
      "layer 13, block4_conv2 is trainable\n",
      "layer 14, block4_conv3 is trainable\n",
      "layer 15, block4_conv4 is trainable\n",
      "layer 16, block4_pool is trainable\n",
      "layer 17, block5_conv1 is trainable\n",
      "layer 18, block5_conv2 is trainable\n",
      "layer 19, block5_conv3 is trainable\n",
      "layer 20, block5_conv4 is trainable\n",
      "layer 21, block5_pool is trainable\n",
      "layer 22, sequential_1 is trainable\n"
     ]
    }
   ],
   "source": [
    "for i, layer in enumerate(model_total.layers):\n",
    "    if layer.trainable:\n",
    "        print(\"layer {0:d}, {1:s} is trainable\".format(i, layer.name))\n",
    "    else:\n",
    "        print(\"layer {0:d}, {1:s} is freezed\".format(i, layer.name))"
   ]
  },
  {
   "cell_type": "code",
   "execution_count": 17,
   "metadata": {},
   "outputs": [],
   "source": [
    "# to non-trainable (weights will not be updated)\n",
    "for layer in model_total.layers[:17]:\n",
    "    layer.trainable = False"
   ]
  },
  {
   "cell_type": "code",
   "execution_count": 18,
   "metadata": {},
   "outputs": [
    {
     "name": "stdout",
     "output_type": "stream",
     "text": [
      "layer 0, input_1 is freezed\n",
      "layer 1, block1_conv1 is freezed\n",
      "layer 2, block1_conv2 is freezed\n",
      "layer 3, block1_pool is freezed\n",
      "layer 4, block2_conv1 is freezed\n",
      "layer 5, block2_conv2 is freezed\n",
      "layer 6, block2_pool is freezed\n",
      "layer 7, block3_conv1 is freezed\n",
      "layer 8, block3_conv2 is freezed\n",
      "layer 9, block3_conv3 is freezed\n",
      "layer 10, block3_conv4 is freezed\n",
      "layer 11, block3_pool is freezed\n",
      "layer 12, block4_conv1 is freezed\n",
      "layer 13, block4_conv2 is freezed\n",
      "layer 14, block4_conv3 is freezed\n",
      "layer 15, block4_conv4 is freezed\n",
      "layer 16, block4_pool is freezed\n",
      "layer 17, block5_conv1 is trainable\n",
      "layer 18, block5_conv2 is trainable\n",
      "layer 19, block5_conv3 is trainable\n",
      "layer 20, block5_conv4 is trainable\n",
      "layer 21, block5_pool is trainable\n",
      "layer 22, sequential_1 is trainable\n"
     ]
    }
   ],
   "source": [
    "for i, layer in enumerate(model_total.layers):\n",
    "    if layer.trainable:\n",
    "        print(\"layer {0:d}, {1:s} is trainable\".format(i, layer.name))\n",
    "    else:\n",
    "        print(\"layer {0:d}, {1:s} is freezed\".format(i, layer.name))"
   ]
  },
  {
   "cell_type": "code",
   "execution_count": 19,
   "metadata": {},
   "outputs": [],
   "source": [
    "model_total.compile(optimizer=SGD(lr=1e-4, momentum=0.9),\n",
    "              loss='categorical_crossentropy', metrics=['accuracy']) "
   ]
  },
  {
   "cell_type": "code",
   "execution_count": 20,
   "metadata": {},
   "outputs": [
    {
     "name": "stdout",
     "output_type": "stream",
     "text": [
      "Found 3000 images belonging to 8 classes.\n",
      "Found 1000 images belonging to 8 classes.\n"
     ]
    }
   ],
   "source": [
    "# prepare data augmentation configuration\n",
    "train_datagen = ImageDataGenerator(\n",
    "    rescale=1. / 255,\n",
    "    shear_range=0.2,\n",
    "    zoom_range=0.2,\n",
    "    horizontal_flip=True)\n",
    "\n",
    "test_datagen = ImageDataGenerator(rescale=1. / 255)\n",
    "\n",
    "train_generator = train_datagen.flow_from_directory(\n",
    "    train_data_dir,\n",
    "    target_size=(img_height, img_width),\n",
    "    batch_size=batch_size,\n",
    "    class_mode='categorical')\n",
    "\n",
    "validation_generator = test_datagen.flow_from_directory(\n",
    "    validation_data_dir,\n",
    "    target_size=(img_height, img_width),\n",
    "    batch_size=batch_size,\n",
    "    class_mode='categorical')"
   ]
  },
  {
   "cell_type": "code",
   "execution_count": 21,
   "metadata": {},
   "outputs": [
    {
     "name": "stderr",
     "output_type": "stream",
     "text": [
      "/home/jon/anaconda3/envs/test/lib/python3.6/site-packages/ipykernel_launcher.py:15: UserWarning: Update your `fit_generator` call to the Keras 2 API: `fit_generator(<keras.pre..., epochs=50, verbose=1, validation_data=<keras.pre..., validation_steps=1000, steps_per_epoch=600)`\n",
      "  from ipykernel import kernelapp as app\n"
     ]
    },
    {
     "name": "stdout",
     "output_type": "stream",
     "text": [
      "Epoch 1/50\n",
      "600/600 [==============================] - 117s 194ms/step - loss: 0.6129 - acc: 0.7907 - val_loss: 0.3479 - val_acc: 0.8740\n",
      "Epoch 2/50\n",
      "600/600 [==============================] - 115s 192ms/step - loss: 0.4509 - acc: 0.8417 - val_loss: 0.3249 - val_acc: 0.8860\n",
      "Epoch 3/50\n",
      "600/600 [==============================] - 115s 192ms/step - loss: 0.4132 - acc: 0.8600 - val_loss: 0.3571 - val_acc: 0.8750\n",
      "Epoch 4/50\n",
      "600/600 [==============================] - 115s 192ms/step - loss: 0.3650 - acc: 0.8730 - val_loss: 0.3186 - val_acc: 0.8820\n",
      "Epoch 5/50\n",
      "600/600 [==============================] - 115s 192ms/step - loss: 0.3345 - acc: 0.8837 - val_loss: 0.2942 - val_acc: 0.8960\n",
      "Epoch 6/50\n",
      "600/600 [==============================] - 115s 192ms/step - loss: 0.3178 - acc: 0.8863 - val_loss: 0.3779 - val_acc: 0.8720\n",
      "Epoch 7/50\n",
      "600/600 [==============================] - 115s 192ms/step - loss: 0.2972 - acc: 0.8937 - val_loss: 0.2712 - val_acc: 0.8960\n",
      "Epoch 8/50\n",
      "600/600 [==============================] - 115s 192ms/step - loss: 0.2554 - acc: 0.9067 - val_loss: 0.2724 - val_acc: 0.8950\n",
      "Epoch 9/50\n",
      "600/600 [==============================] - 115s 192ms/step - loss: 0.2725 - acc: 0.9043 - val_loss: 0.2869 - val_acc: 0.8970\n",
      "Epoch 10/50\n",
      "600/600 [==============================] - 115s 192ms/step - loss: 0.2508 - acc: 0.9103 - val_loss: 0.3142 - val_acc: 0.8860\n",
      "Epoch 11/50\n",
      "600/600 [==============================] - 115s 192ms/step - loss: 0.2392 - acc: 0.9163 - val_loss: 0.3014 - val_acc: 0.8960\n",
      "Epoch 12/50\n",
      "600/600 [==============================] - 115s 192ms/step - loss: 0.2235 - acc: 0.9243 - val_loss: 0.2234 - val_acc: 0.9170\n",
      "Epoch 13/50\n",
      "600/600 [==============================] - 115s 192ms/step - loss: 0.2283 - acc: 0.9230 - val_loss: 0.3318 - val_acc: 0.8940\n",
      "Epoch 14/50\n",
      "600/600 [==============================] - 115s 192ms/step - loss: 0.1965 - acc: 0.9317 - val_loss: 0.2269 - val_acc: 0.9180\n",
      "Epoch 15/50\n",
      "600/600 [==============================] - 115s 192ms/step - loss: 0.1897 - acc: 0.9323 - val_loss: 0.3553 - val_acc: 0.8760\n",
      "Epoch 16/50\n",
      "600/600 [==============================] - 115s 191ms/step - loss: 0.1885 - acc: 0.9320 - val_loss: 0.2236 - val_acc: 0.9230\n",
      "Epoch 17/50\n",
      "600/600 [==============================] - 115s 192ms/step - loss: 0.1653 - acc: 0.9407 - val_loss: 0.2295 - val_acc: 0.9200\n",
      "Epoch 18/50\n",
      "600/600 [==============================] - 115s 192ms/step - loss: 0.1848 - acc: 0.9347 - val_loss: 0.2531 - val_acc: 0.9170\n",
      "Epoch 19/50\n",
      "600/600 [==============================] - 115s 191ms/step - loss: 0.1628 - acc: 0.9407 - val_loss: 0.2517 - val_acc: 0.9200\n",
      "Epoch 20/50\n",
      "600/600 [==============================] - 115s 191ms/step - loss: 0.1530 - acc: 0.9423 - val_loss: 0.2398 - val_acc: 0.9170\n",
      "Epoch 21/50\n",
      "600/600 [==============================] - 115s 191ms/step - loss: 0.1419 - acc: 0.9527 - val_loss: 0.2658 - val_acc: 0.9130\n",
      "Epoch 22/50\n",
      "600/600 [==============================] - 115s 191ms/step - loss: 0.1533 - acc: 0.9483 - val_loss: 0.2571 - val_acc: 0.9200\n",
      "Epoch 23/50\n",
      "600/600 [==============================] - 115s 191ms/step - loss: 0.1459 - acc: 0.9467 - val_loss: 0.2780 - val_acc: 0.9110\n",
      "Epoch 24/50\n",
      "600/600 [==============================] - 115s 192ms/step - loss: 0.1417 - acc: 0.9523 - val_loss: 0.2078 - val_acc: 0.9260\n",
      "Epoch 25/50\n",
      "600/600 [==============================] - 115s 191ms/step - loss: 0.1513 - acc: 0.9470 - val_loss: 0.2476 - val_acc: 0.9210\n",
      "Epoch 26/50\n",
      "600/600 [==============================] - 115s 191ms/step - loss: 0.1271 - acc: 0.9550 - val_loss: 0.2347 - val_acc: 0.9240\n",
      "Epoch 27/50\n",
      "600/600 [==============================] - 115s 191ms/step - loss: 0.1187 - acc: 0.9600 - val_loss: 0.2320 - val_acc: 0.9230\n",
      "Epoch 28/50\n",
      "600/600 [==============================] - 115s 192ms/step - loss: 0.1123 - acc: 0.9597 - val_loss: 0.2343 - val_acc: 0.9250\n",
      "Epoch 29/50\n",
      "600/600 [==============================] - 115s 192ms/step - loss: 0.1001 - acc: 0.9677 - val_loss: 0.4352 - val_acc: 0.8900\n",
      "Epoch 30/50\n",
      "600/600 [==============================] - 115s 192ms/step - loss: 0.1222 - acc: 0.9610 - val_loss: 0.2386 - val_acc: 0.9240\n",
      "Epoch 31/50\n",
      "600/600 [==============================] - 115s 192ms/step - loss: 0.1080 - acc: 0.9610 - val_loss: 0.3525 - val_acc: 0.8840\n",
      "Epoch 32/50\n",
      "600/600 [==============================] - 115s 192ms/step - loss: 0.1008 - acc: 0.9660 - val_loss: 0.2680 - val_acc: 0.9160\n",
      "Epoch 33/50\n",
      "600/600 [==============================] - 115s 192ms/step - loss: 0.0857 - acc: 0.9687 - val_loss: 0.2609 - val_acc: 0.9300\n",
      "Epoch 34/50\n",
      "600/600 [==============================] - 115s 191ms/step - loss: 0.1142 - acc: 0.9617 - val_loss: 0.2458 - val_acc: 0.9250\n",
      "Epoch 35/50\n",
      "600/600 [==============================] - 115s 192ms/step - loss: 0.0861 - acc: 0.9713 - val_loss: 0.2415 - val_acc: 0.9220\n",
      "Epoch 36/50\n",
      "600/600 [==============================] - 115s 191ms/step - loss: 0.0901 - acc: 0.9707 - val_loss: 0.3105 - val_acc: 0.9160\n",
      "Epoch 37/50\n",
      "600/600 [==============================] - 115s 191ms/step - loss: 0.0787 - acc: 0.9740 - val_loss: 0.2944 - val_acc: 0.9090\n",
      "Epoch 38/50\n",
      "600/600 [==============================] - 115s 192ms/step - loss: 0.0779 - acc: 0.9737 - val_loss: 0.2770 - val_acc: 0.9240\n",
      "Epoch 39/50\n",
      "600/600 [==============================] - 115s 192ms/step - loss: 0.0666 - acc: 0.9807 - val_loss: 0.2650 - val_acc: 0.9260\n",
      "Epoch 40/50\n",
      "600/600 [==============================] - 115s 191ms/step - loss: 0.0731 - acc: 0.9750 - val_loss: 0.3514 - val_acc: 0.9110\n",
      "Epoch 41/50\n",
      "600/600 [==============================] - 115s 192ms/step - loss: 0.0793 - acc: 0.9767 - val_loss: 0.2769 - val_acc: 0.9250\n",
      "Epoch 42/50\n",
      "600/600 [==============================] - 115s 192ms/step - loss: 0.0712 - acc: 0.9747 - val_loss: 0.2801 - val_acc: 0.9270\n",
      "Epoch 43/50\n",
      "600/600 [==============================] - 115s 192ms/step - loss: 0.0798 - acc: 0.9760 - val_loss: 0.2542 - val_acc: 0.9250\n",
      "Epoch 44/50\n",
      "600/600 [==============================] - 115s 192ms/step - loss: 0.0573 - acc: 0.9813 - val_loss: 0.2785 - val_acc: 0.9240\n",
      "Epoch 45/50\n",
      "600/600 [==============================] - 115s 192ms/step - loss: 0.0570 - acc: 0.9810 - val_loss: 0.2536 - val_acc: 0.9240\n",
      "Epoch 46/50\n",
      "600/600 [==============================] - 115s 192ms/step - loss: 0.0594 - acc: 0.9833 - val_loss: 0.2737 - val_acc: 0.9230\n",
      "Epoch 47/50\n",
      "600/600 [==============================] - 115s 192ms/step - loss: 0.0699 - acc: 0.9787 - val_loss: 0.2853 - val_acc: 0.9240\n",
      "Epoch 48/50\n",
      "600/600 [==============================] - 115s 192ms/step - loss: 0.0636 - acc: 0.9800 - val_loss: 0.2709 - val_acc: 0.9280\n",
      "Epoch 49/50\n",
      "600/600 [==============================] - 115s 191ms/step - loss: 0.0496 - acc: 0.9863 - val_loss: 0.2710 - val_acc: 0.9190\n",
      "Epoch 50/50\n",
      "600/600 [==============================] - 115s 191ms/step - loss: 0.0741 - acc: 0.9753 - val_loss: 0.2782 - val_acc: 0.9250\n",
      "01:35:50\n"
     ]
    }
   ],
   "source": [
    "import time\n",
    "# fine-tune the model\n",
    "\n",
    "# añadir medidas de acc loss como el bottleneck\n",
    "\n",
    "ti_ftuning = time.time()\n",
    "\n",
    "\n",
    "historical_data = model_total.fit_generator(\n",
    "    train_generator,\n",
    "    samples_per_epoch=nb_train_samples,\n",
    "    epochs=epochs,\n",
    "    verbose = 1,\n",
    "    validation_data=validation_generator,\n",
    "    validation_steps=nb_validation_samples)\n",
    "\n",
    "tf_ftuning = time.time()\n",
    "tt_ftuning = tf_ftuning - ti_ftuning\n",
    "print(time.strftime(\"%H:%M:%S\", time.gmtime(tt_ftuning)))"
   ]
  },
  {
   "cell_type": "code",
   "execution_count": 24,
   "metadata": {},
   "outputs": [
    {
     "data": {
      "text/plain": [
       "<keras.callbacks.History at 0x7fc0553f38d0>"
      ]
     },
     "execution_count": 24,
     "metadata": {},
     "output_type": "execute_result"
    }
   ],
   "source": [
    "historical_data"
   ]
  },
  {
   "cell_type": "code",
   "execution_count": 25,
   "metadata": {},
   "outputs": [
    {
     "data": {
      "image/png": "[encoded data removed]",
      "text/plain": [
       "<matplotlib.figure.Figure at 0x7fc050aa5630>"
      ]
     },
     "metadata": {},
     "output_type": "display_data"
    },
    {
     "data": {
      "image/png": "[encoded data removed]",
      "text/plain": [
       "<matplotlib.figure.Figure at 0x7fc0537a3588>"
      ]
     },
     "metadata": {},
     "output_type": "display_data"
    }
   ],
   "source": [
    "import matplotlib.pyplot as plt\n",
    "PATH_TO_DF = \"../data/output_convnet\"\n",
    "\n",
    "acc = historical_data.history['acc']\n",
    "val_acc = historical_data.history['val_acc']\n",
    "loss = historical_data.history['loss']\n",
    "val_loss = historical_data.history['val_loss']\n",
    "\n",
    "epochs = range(len(acc))\n",
    "\n",
    "plt.plot(epochs, acc, 'bo', label='Training acc')\n",
    "plt.plot(epochs, val_acc, 'b', label='Validation acc')\n",
    "plt.title('Training and validation accuracy')\n",
    "plt.legend()\n",
    "\n",
    "plt.figure()\n",
    "\n",
    "plt.plot(epochs, loss, 'bo', label='Training loss')\n",
    "plt.plot(epochs, val_loss, 'b', label='Validation loss')\n",
    "plt.title('Training and validation loss')\n",
    "plt.legend()\n",
    "\n",
    "plt.show()"
   ]
  },
  {
   "cell_type": "code",
   "execution_count": 22,
   "metadata": {},
   "outputs": [],
   "source": [
    "model_total.save_weights('../data/output_convnet/ft_VGG19_model.h5')"
   ]
  },
  {
   "cell_type": "code",
   "execution_count": 26,
   "metadata": {},
   "outputs": [
    {
     "name": "stdout",
     "output_type": "stream",
     "text": [
      "['block1_conv1', 'block1_conv2', 'block1_pool', 'block2_conv1', 'block2_conv2', 'block2_pool', 'block3_conv1', 'block3_conv2', 'block3_conv3', 'block3_conv4', 'block3_pool', 'block4_conv1', 'block4_conv2', 'block4_conv3', 'block4_conv4', 'block4_pool', 'block5_conv1', 'block5_conv2', 'block5_conv3', 'block5_conv4', 'block5_pool', 'input_1', 'sequential_1']\n"
     ]
    }
   ],
   "source": [
    "import h5py\n",
    "hdf5_file = h5py.File('../data/output_convnet/ft_VGG19_model.h5', mode='r')\n",
    "print(list(hdf5_file))"
   ]
  },
  {
   "cell_type": "code",
   "execution_count": 31,
   "metadata": {},
   "outputs": [
    {
     "name": "stdout",
     "output_type": "stream",
     "text": [
      "model base for predition loaded\n",
      "\n",
      "model top for predition loaded\n"
     ]
    }
   ],
   "source": [
    "# build the VGG16 network\n",
    "# input_tensor = Input(shape=(img_width,img_height,3))\n",
    "model_base_pred = applications.VGG19(weights='imagenet', include_top=False, input_tensor=input_tensor)  \n",
    "print(\"model base for predition loaded\")\n",
    "\n",
    "# build top model  \n",
    "model_top_pred = Sequential()  \n",
    "model_top_pred.add(Flatten(input_shape=model_base_pred.output_shape[1:]))  \n",
    "model_top_pred.add(Dense(256, activation='relu'))  \n",
    "model_top_pred.add(Dropout(0.5))  \n",
    "model_top_pred.add(Dense(8, activation='softmax'))\n",
    "print()\n",
    "print(\"model top for predition loaded\")"
   ]
  },
  {
   "cell_type": "code",
   "execution_count": 32,
   "metadata": {},
   "outputs": [
    {
     "name": "stderr",
     "output_type": "stream",
     "text": [
      "/home/jon/anaconda3/envs/test/lib/python3.6/site-packages/ipykernel_launcher.py:1: UserWarning: Update your `Model` call to the Keras 2 API: `Model(inputs=Tensor(\"in..., outputs=Tensor(\"se...)`\n",
      "  \"\"\"Entry point for launching an IPython kernel.\n"
     ]
    }
   ],
   "source": [
    "model_total_pred = Model(input= model_base_pred.input, output= model_top_pred(model_base_pred.output))"
   ]
  },
  {
   "cell_type": "code",
   "execution_count": 33,
   "metadata": {},
   "outputs": [
    {
     "name": "stdout",
     "output_type": "stream",
     "text": [
      "0 input_1 (None, 150, 150, 3)\n",
      "1 block1_conv1 (None, 150, 150, 64)\n",
      "2 block1_conv2 (None, 150, 150, 64)\n",
      "3 block1_pool (None, 75, 75, 64)\n",
      "4 block2_conv1 (None, 75, 75, 128)\n",
      "5 block2_conv2 (None, 75, 75, 128)\n",
      "6 block2_pool (None, 37, 37, 128)\n",
      "7 block3_conv1 (None, 37, 37, 256)\n",
      "8 block3_conv2 (None, 37, 37, 256)\n",
      "9 block3_conv3 (None, 37, 37, 256)\n",
      "10 block3_conv4 (None, 37, 37, 256)\n",
      "11 block3_pool (None, 18, 18, 256)\n",
      "12 block4_conv1 (None, 18, 18, 512)\n",
      "13 block4_conv2 (None, 18, 18, 512)\n",
      "14 block4_conv3 (None, 18, 18, 512)\n",
      "15 block4_conv4 (None, 18, 18, 512)\n",
      "16 block4_pool (None, 9, 9, 512)\n",
      "17 block5_conv1 (None, 9, 9, 512)\n",
      "18 block5_conv2 (None, 9, 9, 512)\n",
      "19 block5_conv3 (None, 9, 9, 512)\n",
      "20 block5_conv4 (None, 9, 9, 512)\n",
      "21 block5_pool (None, 4, 4, 512)\n",
      "22 sequential_3 (None, 8)\n"
     ]
    }
   ],
   "source": [
    "for i, layer in enumerate(model_total_pred.layers):\n",
    "    print (i, layer.name, layer.output_shape)"
   ]
  },
  {
   "cell_type": "code",
   "execution_count": 34,
   "metadata": {},
   "outputs": [],
   "source": [
    "# cargamos los pesos anteriormente obtenidos en el entrenamiento\n",
    "model_total_pred.load_weights(\"../data/output_convnet/ft_VGG19_model.h5\")"
   ]
  },
  {
   "cell_type": "code",
   "execution_count": 35,
   "metadata": {},
   "outputs": [
    {
     "name": "stdout",
     "output_type": "stream",
     "text": [
      "Found 1000 images belonging to 8 classes.\n"
     ]
    }
   ],
   "source": [
    "test_data_dir = 'test/'\n",
    "batch_size_test = 5 # probamos con esto\n",
    "\n",
    "test_convnet = ImageDataGenerator(rescale=1. / 255)\n",
    "\n",
    "test_generator = test_convnet.flow_from_directory(\n",
    "    test_data_dir,\n",
    "    target_size=(img_height, img_width),\n",
    "    batch_size=batch_size,\n",
    "    shuffle =False,\n",
    "    class_mode='categorical')\n",
    "\n",
    "cat_dict = test_generator.class_indices\n",
    "\n",
    "inverse_coding = {v: k for k, v in cat_dict.items()}"
   ]
  },
  {
   "cell_type": "code",
   "execution_count": 36,
   "metadata": {},
   "outputs": [
    {
     "name": "stdout",
     "output_type": "stream",
     "text": [
      "Category 01_TUMOR has 130 images.\n",
      "Category 02_STROMA has 124 images.\n",
      "Category 03_COMPLEX has 132 images.\n",
      "Category 04_LYMPHO has 112 images.\n",
      "Category 05_DEBRIS has 117 images.\n",
      "Category 06_MUCOSA has 127 images.\n",
      "Category 07_ADIPOSE has 131 images.\n",
      "Category 08_EMPTY has 127 images.\n"
     ]
    }
   ],
   "source": [
    "import os\n",
    "\n",
    "test_data_dir = \"test/\"\n",
    "\n",
    "# listado del train\n",
    "img_test_real = [] # listado de las imagenes pareado con img_cat_real\n",
    "img_cat_real = [] # categorias de las imagenes\n",
    "\n",
    "\n",
    "img_cat_pred = [] # elementos predichos por la convnet\n",
    "\n",
    "img_folder = sorted([folder for folder in os.listdir(test_data_dir)\n",
    "                  if os.path.isdir(os.path.join(test_data_dir, folder))])\n",
    "\n",
    "for index_folder, category in enumerate(img_folder):\n",
    "    \n",
    "    folder = os.path.join(test_data_dir, category)\n",
    "\n",
    "    for index_img, img in enumerate(os.listdir(folder)):\n",
    "        \n",
    "        if img.endswith(\".tif\"): # just in case there are other kind of files like .db\n",
    "            img_test_real.append(os.path.join(folder, img))\n",
    "            img_cat_real.append(img_folder[index_folder])\n",
    "\n",
    "    print(\"Category {0:s} has {1:d} images.\".format(category, index_img+1))"
   ]
  },
  {
   "cell_type": "code",
   "execution_count": 37,
   "metadata": {},
   "outputs": [],
   "source": [
    "from keras.preprocessing import image\n",
    "import numpy as np\n",
    "from keras.applications.vgg16 import preprocess_input"
   ]
  },
  {
   "cell_type": "code",
   "execution_count": 38,
   "metadata": {},
   "outputs": [
    {
     "name": "stdout",
     "output_type": "stream",
     "text": [
      "image 0 processed\n",
      "image 100 processed\n",
      "image 200 processed\n",
      "image 300 processed\n",
      "image 400 processed\n",
      "image 500 processed\n",
      "image 600 processed\n",
      "image 700 processed\n",
      "image 800 processed\n",
      "image 900 processed\n"
     ]
    }
   ],
   "source": [
    "for index, img_path in enumerate(img_test_real):\n",
    "    \n",
    "    if not index % 100:\n",
    "        print(\"image {0:d} processed\".format(index))\n",
    "        \n",
    "    # pre process\n",
    "    img = image.load_img(img_path, target_size=(150, 150))\n",
    "    x = image.img_to_array(img)\n",
    "    x = np.expand_dims(x, axis=0)\n",
    "    x = preprocess_input(x)\n",
    "    \n",
    "    x = x / 255\n",
    "    \n",
    "    # prediction\n",
    "    x = model_total_pred.predict(x)\n",
    "    \n",
    "    # label\n",
    "    label = inverse_coding[np.argmax(x)]\n",
    "    \n",
    "    # store the label\n",
    "    img_cat_pred.append(label)\n",
    "    "
   ]
  },
  {
   "cell_type": "code",
   "execution_count": 39,
   "metadata": {},
   "outputs": [],
   "source": [
    "img_cat_pred_arr = np.array(img_cat_pred)\n",
    "img_cat_real_arr = np.array(img_cat_real)"
   ]
  },
  {
   "cell_type": "code",
   "execution_count": 40,
   "metadata": {},
   "outputs": [],
   "source": [
    "from sklearn.metrics import confusion_matrix\n",
    "ft_conf_mat = confusion_matrix(img_cat_real_arr,img_cat_pred_arr)"
   ]
  },
  {
   "cell_type": "code",
   "execution_count": 41,
   "metadata": {},
   "outputs": [
    {
     "data": {
      "text/plain": [
       "array([[ 54,   4,   9,   0,  62,   1,   0,   0],\n",
       "       [  8,  60,  34,   3,   6,  13,   0,   0],\n",
       "       [ 10,  45,  61,   0,  15,   1,   0,   0],\n",
       "       [  0,  37,   9,   8,  58,   0,   0,   0],\n",
       "       [ 22,   4,   3,   6,  71,   3,   6,   2],\n",
       "       [  2,   7,   0,   0,   2, 116,   0,   0],\n",
       "       [  0,   0,   0,   0,   0,   0, 128,   3],\n",
       "       [  0,   0,   0,   0,   0,   0,   5, 122]])"
      ]
     },
     "execution_count": 41,
     "metadata": {},
     "output_type": "execute_result"
    }
   ],
   "source": [
    "ft_conf_mat"
   ]
  },
  {
   "cell_type": "code",
   "execution_count": 43,
   "metadata": {},
   "outputs": [],
   "source": [
    "# reference http://scikit-learn.org/stable/auto_examples/model_selection/plot_confusion_matrix.html\n",
    "import itertools\n",
    "import matplotlib.pyplot as plt\n",
    "\n",
    "def plot_confusion_matrix(cm, classes, normalize=False, title='Confusion matrix',\n",
    "                          cmap=plt.cm.Blues):\n",
    "    \"\"\"\n",
    "    This function prints and plots the confusion matrix.\n",
    "    Normalization can be applied by setting `normalize=True`.\n",
    "    \"\"\"\n",
    "    if normalize:\n",
    "        cm = cm.astype('float') / cm.sum(axis=1)[:, np.newaxis]\n",
    "#         print(\"Normalized confusion matrix\")\n",
    "#     else:\n",
    "#         print('Confusion matrix, without normalization')\n",
    "\n",
    "#     print(cm)\n",
    "\n",
    "    plt.imshow(cm, interpolation='nearest', cmap=cmap)\n",
    "    plt.title(title)\n",
    "    plt.colorbar()\n",
    "    tick_marks = np.arange(len(classes))\n",
    "    plt.xticks(tick_marks, classes, rotation=45)\n",
    "    plt.yticks(tick_marks, classes)\n",
    "\n",
    "    fmt = '.2f' if normalize else 'd'\n",
    "    thresh = cm.max() / 2.\n",
    "    for i, j in itertools.product(range(cm.shape[0]), range(cm.shape[1])):\n",
    "        plt.text(j, i, format(cm[i, j], fmt),\n",
    "                 horizontalalignment=\"center\",\n",
    "                 color=\"white\" if cm[i, j] > thresh else \"black\")\n",
    "\n",
    "    plt.tight_layout()\n",
    "    plt.ylabel('True label',size=20)\n",
    "    plt.xlabel('Predicted label',size=20)"
   ]
  },
  {
   "cell_type": "code",
   "execution_count": 44,
   "metadata": {},
   "outputs": [],
   "source": [
    "PATH_TO_IMG = \"../data/input_dataset\"\n",
    "class_names = sorted([folder for folder in os.listdir(PATH_TO_IMG)\n",
    "                      if os.path.isdir(os.path.join(PATH_TO_IMG, folder))])"
   ]
  },
  {
   "cell_type": "code",
   "execution_count": 45,
   "metadata": {},
   "outputs": [
    {
     "data": {
      "image/png": "[encoded data removed]",
      "text/plain": [
       "<matplotlib.figure.Figure at 0x7fbfdc1142e8>"
      ]
     },
     "metadata": {},
     "output_type": "display_data"
    }
   ],
   "source": [
    "fig = plt.figure(figsize=(20, 6))\n",
    "\n",
    "fig.add_subplot(1,2,1)\n",
    "plot_confusion_matrix(ft_conf_mat, classes=class_names, title='Confusion matrix')\n",
    "\n",
    "fig.add_subplot(1,2,2)\n",
    "plot_confusion_matrix(ft_conf_mat, classes=class_names, normalize=True, title='Confusion matrix')\n",
    "\n",
    "plt.savefig(os.path.join(PATH_TO_DF, \"ft_confmat_VGG19.png\"), bbox_inches='tight') # png 70kb vs jpg 135 kb\n",
    "\n",
    "plt.show()"
   ]
  }
 ],
 "metadata": {
  "kernelspec": {
   "display_name": "Python 3",
   "language": "python",
   "name": "python3"
  },
  "language_info": {
   "codemirror_mode": {
    "name": "ipython",
    "version": 3
   },
   "file_extension": ".py",
   "mimetype": "text/x-python",
   "name": "python",
   "nbconvert_exporter": "python",
   "pygments_lexer": "ipython3",
   "version": "3.6.2"
  }
 },
 "nbformat": 4,
 "nbformat_minor": 2
}
