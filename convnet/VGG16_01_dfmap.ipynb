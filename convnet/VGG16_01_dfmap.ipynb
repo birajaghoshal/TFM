{
 "cells": [
  {
   "cell_type": "code",
   "execution_count": 1,
   "metadata": {},
   "outputs": [],
   "source": [
    "# img_labels & img_list\n",
    "PATH_TO_LABELS_FILE = \"../data/output_dataset/img_labels\"\n",
    "PATH_TO_PATHS_FILE = \"../data/output_dataset/img_list\"\n",
    "\n",
    "# output convnet\n",
    "PATH_TO_OUTPUT = \"../data/output_convnet\"\n",
    "\n",
    "img_labels = []\n",
    "img_list = []\n",
    "\n",
    "with open(PATH_TO_LABELS_FILE,'r') as f_img_labels:\n",
    "    for line in f_img_labels:\n",
    "        img_labels.append(line[:-1]) \n",
    "\n",
    "with open(PATH_TO_PATHS_FILE,'r') as f_img_list:\n",
    "    for line in f_img_list:\n",
    "        img_list.append(\"../data/\"+line[:-1]) # get rid of the EOL"
   ]
  },
  {
   "cell_type": "markdown",
   "metadata": {},
   "source": [
    "# fc1 layer with activation relU"
   ]
  },
  {
   "cell_type": "code",
   "execution_count": 2,
   "metadata": {},
   "outputs": [
    {
     "name": "stderr",
     "output_type": "stream",
     "text": [
      "Using TensorFlow backend.\n"
     ]
    }
   ],
   "source": [
    "from keras.models import Model\n",
    "from keras.preprocessing import image\n",
    "from keras.applications.vgg16 import preprocess_input, VGG16\n",
    "import numpy as np"
   ]
  },
  {
   "cell_type": "code",
   "execution_count": 3,
   "metadata": {},
   "outputs": [
    {
     "name": "stdout",
     "output_type": "stream",
     "text": [
      "0 input_1 (None, 224, 224, 3)\n",
      "1 block1_conv1 (None, 224, 224, 64)\n",
      "2 block1_conv2 (None, 224, 224, 64)\n",
      "3 block1_pool (None, 112, 112, 64)\n",
      "4 block2_conv1 (None, 112, 112, 128)\n",
      "5 block2_conv2 (None, 112, 112, 128)\n",
      "6 block2_pool (None, 56, 56, 128)\n",
      "7 block3_conv1 (None, 56, 56, 256)\n",
      "8 block3_conv2 (None, 56, 56, 256)\n",
      "9 block3_conv3 (None, 56, 56, 256)\n",
      "10 block3_pool (None, 28, 28, 256)\n",
      "11 block4_conv1 (None, 28, 28, 512)\n",
      "12 block4_conv2 (None, 28, 28, 512)\n",
      "13 block4_conv3 (None, 28, 28, 512)\n",
      "14 block4_pool (None, 14, 14, 512)\n",
      "15 block5_conv1 (None, 14, 14, 512)\n",
      "16 block5_conv2 (None, 14, 14, 512)\n",
      "17 block5_conv3 (None, 14, 14, 512)\n",
      "18 block5_pool (None, 7, 7, 512)\n",
      "19 flatten (None, 25088)\n",
      "20 fc1 (None, 4096)\n",
      "21 fc2 (None, 4096)\n",
      "22 predictions (None, 1000)\n"
     ]
    }
   ],
   "source": [
    "# keras_weights = \"keras_weights/vgg16_weights_tf_dim_ordering_tf_kernels.h5\"\n",
    "model_relu = VGG16(include_top=True,weights='imagenet')\n",
    "\n",
    "# model architecture\n",
    "for i, layer in enumerate(model_relu.layers):\n",
    "    print (i, layer.name, layer.output_shape)"
   ]
  },
  {
   "cell_type": "code",
   "execution_count": 4,
   "metadata": {
    "scrolled": true
   },
   "outputs": [
    {
     "name": "stdout",
     "output_type": "stream",
     "text": [
      "image 0 processed\n"
     ]
    },
    {
     "name": "stderr",
     "output_type": "stream",
     "text": [
      "/home/jon/anaconda3/envs/test/lib/python3.6/site-packages/ipykernel_launcher.py:15: UserWarning: Update your `Model` call to the Keras 2 API: `Model(inputs=Tensor(\"in..., outputs=Tensor(\"fc...)`\n",
      "  from ipykernel import kernelapp as app\n"
     ]
    },
    {
     "name": "stdout",
     "output_type": "stream",
     "text": [
      "image 500 processed\n",
      "image 1000 processed\n",
      "image 1500 processed\n",
      "image 2000 processed\n",
      "image 2500 processed\n",
      "image 3000 processed\n",
      "image 3500 processed\n",
      "image 4000 processed\n",
      "image 4500 processed\n",
      "\n",
      "00:08:41\n",
      "\n",
      "Tamaño en memoria de la matriz de características profundas: 156.25Mb\n"
     ]
    }
   ],
   "source": [
    "import time\n",
    "from sys import getsizeof\n",
    "\n",
    "deep_features = 4096\n",
    "VGG16_dfmap = np.empty((len(img_list),deep_features))\n",
    "\n",
    "# init time\n",
    "ti_dfmap_relU = time.time()\n",
    "\n",
    "for index, img_path in enumerate(img_list):\n",
    "        \n",
    "    model_fc1 = Model(input=model_relu.input, output=model_relu.get_layer('fc1').output)\n",
    "\n",
    "    # img preprocessing\n",
    "    img = image.load_img(img_path, target_size=(224, 224), interpolation='lanczos')\n",
    "    x = image.img_to_array(img)\n",
    "    x = np.expand_dims(x, axis=0)\n",
    "    x = preprocess_input(x)\n",
    "\n",
    "    # model predict\n",
    "    x = model_fc1.predict(x)\n",
    "    \n",
    "    VGG16_dfmap[index,:] = np.squeeze(x, axis=0)\n",
    "\n",
    "# stop time\n",
    "tf_dfmap_relU = time.time()    \n",
    "tt_dfmap_relU = tf_dfmap_relU - ti_dfmap_relU\n",
    "print()\n",
    "print(time.strftime(\"%H:%M:%S\", time.gmtime(tt_dfmap_relU)))\n",
    "print()\n",
    "print(\"Tamaño en memoria de la matriz de características profundas: {0:.2f}Mb\".format(getsizeof(VGG16_dfmap)/float(1<<20)))"
   ]
  },
  {
   "cell_type": "code",
   "execution_count": 10,
   "metadata": {},
   "outputs": [
    {
     "data": {
      "text/plain": [
       "array([[ 1.4363389 ,  0.        ,  0.        , ...,  0.        ,\n",
       "         0.        ,  0.        ],\n",
       "       [ 0.        ,  0.        ,  0.        , ...,  0.47403866,\n",
       "         0.        ,  0.        ],\n",
       "       [ 7.5820446 ,  0.        ,  0.        , ...,  9.63796329,\n",
       "         0.        ,  0.        ],\n",
       "       ..., \n",
       "       [ 0.        ,  1.40950263,  0.        , ...,  0.21009497,\n",
       "         0.        ,  0.        ],\n",
       "       [ 0.        ,  0.        ,  0.        , ...,  0.99256498,\n",
       "         0.        ,  0.        ],\n",
       "       [ 0.        ,  0.57167876,  0.        , ...,  0.        ,\n",
       "         0.        ,  0.        ]])"
      ]
     },
     "execution_count": 10,
     "metadata": {},
     "output_type": "execute_result"
    }
   ],
   "source": [
    "# checking the output with relu funct\n",
    "VGG16_dfmap"
   ]
  },
  {
   "cell_type": "code",
   "execution_count": 6,
   "metadata": {},
   "outputs": [
    {
     "name": "stdout",
     "output_type": "stream",
     "text": [
      "156.25015449523926\n"
     ]
    }
   ],
   "source": [
    "# import h5py\n",
    "import os\n",
    "import pickle\n",
    "\n",
    "\n",
    "# h5py alternative\n",
    "# ti_h5file = time.time()\n",
    "\n",
    "# hf = h5py.File(os.path.join(PATH_TO_OUTPUT, 'VGG16_dfmap_relU.h5'), 'w')\n",
    "# hf.create_dataset('dfmap', data=VGG16_dfmap) #163.8 mb no compression at all\n",
    "# # hf.create_dataset('dfmap', data=VGG16_dfmap,compression=\"gzip\", compression_opts=9) # 32.4 mb\n",
    "# hf.close()\n",
    "\n",
    "# # stop time\n",
    "# tf_h5file = time.time()\n",
    "# tt_h5file = tf_h5file - ti_h5file\n",
    "# print(time.strftime(\"%H:%M:%S\", time.gmtime(tt_h5file)))\n",
    "\n",
    "pickle.dump(VGG16_dfmap, open('../data/output_convnet/VGG16/VGG16_dfmap_relU_pickle', 'wb'))\n",
    "print(os.path.getsize(\"../data/output_convnet/VGG16/VGG16_dfmap_relU_pickle\")/float(1<<20)) #156 mb"
   ]
  },
  {
   "cell_type": "code",
   "execution_count": null,
   "metadata": {},
   "outputs": [],
   "source": [
    "# file information h5py alternative\n",
    "# import h5py\n",
    "\n",
    "# hf = h5py.File(os.path.join(PATH_TO_OUTPUT, 'VGG16_dfmap_relU.h5'), 'r')\n",
    "# print(hf.keys())\n",
    "# n1 = hf.get('dfmap')\n",
    "# print(type(n1))\n",
    "# print(n1)\n",
    "\n",
    "# n1 = np.array(n1)\n",
    "# print(type(n1))\n",
    "# print(n1.shape)\n",
    "\n",
    "# hf.close()"
   ]
  },
  {
   "cell_type": "markdown",
   "metadata": {},
   "source": [
    "# fc1 layer with no activation function"
   ]
  },
  {
   "cell_type": "code",
   "execution_count": 7,
   "metadata": {},
   "outputs": [],
   "source": [
    "from keras import backend as K\n",
    "from keras.layers.core import Flatten, Dense, Dropout\n",
    "from keras.layers.convolutional import Conv2D, MaxPooling2D, ZeroPadding2D\n",
    "from keras.optimizers import SGD\n",
    "from keras.models import Sequential"
   ]
  },
  {
   "cell_type": "code",
   "execution_count": 8,
   "metadata": {},
   "outputs": [
    {
     "name": "stdout",
     "output_type": "stream",
     "text": [
      "_________________________________________________________________\n",
      "Layer (type)                 Output Shape              Param #   \n",
      "=================================================================\n",
      "zero_padding2d_1 (ZeroPaddin (None, 226, 226, 3)       0         \n",
      "_________________________________________________________________\n",
      "conv2d_1 (Conv2D)            (None, 224, 224, 64)      1792      \n",
      "_________________________________________________________________\n",
      "zero_padding2d_2 (ZeroPaddin (None, 226, 226, 64)      0         \n",
      "_________________________________________________________________\n",
      "conv2d_2 (Conv2D)            (None, 224, 224, 64)      36928     \n",
      "_________________________________________________________________\n",
      "max_pooling2d_1 (MaxPooling2 (None, 112, 112, 64)      0         \n",
      "_________________________________________________________________\n",
      "zero_padding2d_3 (ZeroPaddin (None, 114, 114, 64)      0         \n",
      "_________________________________________________________________\n",
      "conv2d_3 (Conv2D)            (None, 112, 112, 128)     73856     \n",
      "_________________________________________________________________\n",
      "zero_padding2d_4 (ZeroPaddin (None, 114, 114, 128)     0         \n",
      "_________________________________________________________________\n",
      "conv2d_4 (Conv2D)            (None, 112, 112, 128)     147584    \n",
      "_________________________________________________________________\n",
      "max_pooling2d_2 (MaxPooling2 (None, 56, 56, 128)       0         \n",
      "_________________________________________________________________\n",
      "zero_padding2d_5 (ZeroPaddin (None, 58, 58, 128)       0         \n",
      "_________________________________________________________________\n",
      "conv2d_5 (Conv2D)            (None, 56, 56, 256)       295168    \n",
      "_________________________________________________________________\n",
      "zero_padding2d_6 (ZeroPaddin (None, 58, 58, 256)       0         \n",
      "_________________________________________________________________\n",
      "conv2d_6 (Conv2D)            (None, 56, 56, 256)       590080    \n",
      "_________________________________________________________________\n",
      "zero_padding2d_7 (ZeroPaddin (None, 58, 58, 256)       0         \n",
      "_________________________________________________________________\n",
      "conv2d_7 (Conv2D)            (None, 56, 56, 256)       590080    \n",
      "_________________________________________________________________\n",
      "max_pooling2d_3 (MaxPooling2 (None, 28, 28, 256)       0         \n",
      "_________________________________________________________________\n",
      "zero_padding2d_8 (ZeroPaddin (None, 30, 30, 256)       0         \n",
      "_________________________________________________________________\n",
      "conv2d_8 (Conv2D)            (None, 28, 28, 512)       1180160   \n",
      "_________________________________________________________________\n",
      "zero_padding2d_9 (ZeroPaddin (None, 30, 30, 512)       0         \n",
      "_________________________________________________________________\n",
      "conv2d_9 (Conv2D)            (None, 28, 28, 512)       2359808   \n",
      "_________________________________________________________________\n",
      "zero_padding2d_10 (ZeroPaddi (None, 30, 30, 512)       0         \n",
      "_________________________________________________________________\n",
      "conv2d_10 (Conv2D)           (None, 28, 28, 512)       2359808   \n",
      "_________________________________________________________________\n",
      "max_pooling2d_4 (MaxPooling2 (None, 14, 14, 512)       0         \n",
      "_________________________________________________________________\n",
      "zero_padding2d_11 (ZeroPaddi (None, 16, 16, 512)       0         \n",
      "_________________________________________________________________\n",
      "conv2d_11 (Conv2D)           (None, 14, 14, 512)       2359808   \n",
      "_________________________________________________________________\n",
      "zero_padding2d_12 (ZeroPaddi (None, 16, 16, 512)       0         \n",
      "_________________________________________________________________\n",
      "conv2d_12 (Conv2D)           (None, 14, 14, 512)       2359808   \n",
      "_________________________________________________________________\n",
      "zero_padding2d_13 (ZeroPaddi (None, 16, 16, 512)       0         \n",
      "_________________________________________________________________\n",
      "conv2d_13 (Conv2D)           (None, 14, 14, 512)       2359808   \n",
      "_________________________________________________________________\n",
      "max_pooling2d_5 (MaxPooling2 (None, 7, 7, 512)         0         \n",
      "_________________________________________________________________\n",
      "flatten_1 (Flatten)          (None, 25088)             0         \n",
      "_________________________________________________________________\n",
      "fc1 (Dense)                  (None, 4096)              102764544 \n",
      "_________________________________________________________________\n",
      "dropout_1 (Dropout)          (None, 4096)              0         \n",
      "_________________________________________________________________\n",
      "fc2 (Dense)                  (None, 4096)              16781312  \n",
      "_________________________________________________________________\n",
      "dropout_2 (Dropout)          (None, 4096)              0         \n",
      "_________________________________________________________________\n",
      "dense_1 (Dense)              (None, 1000)              4097000   \n",
      "=================================================================\n",
      "Total params: 138,357,544\n",
      "Trainable params: 138,357,544\n",
      "Non-trainable params: 0\n",
      "_________________________________________________________________\n"
     ]
    }
   ],
   "source": [
    "# https://github.com/keras-team/keras/blob/master/keras/applications/vgg16.py\n",
    "\n",
    "model_no_relu = Sequential()\n",
    "model_no_relu.add(ZeroPadding2D((1,1),input_shape=(224,224,3)))\n",
    "model_no_relu.add(Conv2D(64, (3, 3), activation='relu'))\n",
    "model_no_relu.add(ZeroPadding2D((1,1)))\n",
    "model_no_relu.add(Conv2D(64, (3, 3), activation='relu'))\n",
    "model_no_relu.add(MaxPooling2D((2,2), strides=(2,2)))\n",
    "\n",
    "model_no_relu.add(ZeroPadding2D((1,1)))\n",
    "model_no_relu.add(Conv2D(128, (3, 3), activation='relu'))\n",
    "model_no_relu.add(ZeroPadding2D((1,1)))\n",
    "model_no_relu.add(Conv2D(128, (3, 3), activation='relu'))\n",
    "model_no_relu.add(MaxPooling2D((2,2), strides=(2,2)))\n",
    "\n",
    "model_no_relu.add(ZeroPadding2D((1,1)))\n",
    "model_no_relu.add(Conv2D(256, (3, 3), activation='relu'))\n",
    "model_no_relu.add(ZeroPadding2D((1,1)))\n",
    "model_no_relu.add(Conv2D(256, (3, 3), activation='relu'))\n",
    "model_no_relu.add(ZeroPadding2D((1,1)))\n",
    "model_no_relu.add(Conv2D(256, (3, 3), activation='relu'))\n",
    "model_no_relu.add(MaxPooling2D((2,2), strides=(2,2)))\n",
    "\n",
    "model_no_relu.add(ZeroPadding2D((1,1)))\n",
    "model_no_relu.add(Conv2D(512, (3, 3), activation='relu'))\n",
    "model_no_relu.add(ZeroPadding2D((1,1)))\n",
    "model_no_relu.add(Conv2D(512, (3, 3), activation='relu'))\n",
    "model_no_relu.add(ZeroPadding2D((1,1)))\n",
    "model_no_relu.add(Conv2D(512, (3, 3), activation='relu'))\n",
    "model_no_relu.add(MaxPooling2D((2,2), strides=(2,2)))\n",
    "\n",
    "model_no_relu.add(ZeroPadding2D((1,1)))\n",
    "model_no_relu.add(Conv2D(512, (3, 3), activation='relu'))\n",
    "model_no_relu.add(ZeroPadding2D((1,1)))\n",
    "model_no_relu.add(Conv2D(512, (3, 3), activation='relu'))\n",
    "model_no_relu.add(ZeroPadding2D((1,1)))\n",
    "model_no_relu.add(Conv2D(512, (3, 3), activation='relu'))\n",
    "model_no_relu.add(MaxPooling2D((2,2), strides=(2,2)))\n",
    "\n",
    "model_no_relu.add(Flatten())\n",
    "\n",
    "# top layer of the VGG net\n",
    "model_no_relu.add(Dense(4096, activation=None,name=\"fc1\")) # activation function set to none\n",
    "model_no_relu.add(Dropout(0.5))\n",
    "model_no_relu.add(Dense(4096, activation=None,name=\"fc2\")) # activation function set to none\n",
    "model_no_relu.add(Dropout(0.5))\n",
    "model_no_relu.add(Dense(1000, activation='softmax'))\n",
    "\n",
    "model_no_relu.summary()"
   ]
  },
  {
   "cell_type": "code",
   "execution_count": 9,
   "metadata": {},
   "outputs": [],
   "source": [
    "model_no_relu.load_weights(\"keras_weights/vgg16_weights_tf_dim_ordering_tf_kernels.h5\")\n",
    "model_no_relu.compile(optimizer=SGD(lr=0.01), loss='categorical_crossentropy')"
   ]
  },
  {
   "cell_type": "code",
   "execution_count": 11,
   "metadata": {},
   "outputs": [
    {
     "name": "stderr",
     "output_type": "stream",
     "text": [
      "/home/jon/anaconda3/envs/test/lib/python3.6/site-packages/ipykernel_launcher.py:8: UserWarning: Update your `Model` call to the Keras 2 API: `Model(inputs=Tensor(\"ze..., outputs=Tensor(\"fc...)`\n",
      "  \n"
     ]
    },
    {
     "name": "stdout",
     "output_type": "stream",
     "text": [
      "\n",
      "00:15:25\n",
      "\n",
      "Tamaño en memoria de la matriz de características profundas: 156.25Mb\n"
     ]
    }
   ],
   "source": [
    "VGG16_dfmap_no_relU = np.empty((len(img_list),deep_features))\n",
    "\n",
    "# init time\n",
    "ti_dfmap_no_relU = time.time()\n",
    "\n",
    "for index, img_path in enumerate(img_list):\n",
    "\n",
    "    model_fc1 = Model(input=model_no_relu.input, output=model_no_relu.get_layer('fc1').output) # no relu implemented\n",
    "\n",
    "    # img preprocessing\n",
    "    img = image.load_img(img_path, target_size=(224, 224), interpolation='lanczos')\n",
    "    x = image.img_to_array(img)\n",
    "    x = np.expand_dims(x, axis=0)\n",
    "    x = preprocess_input(x)\n",
    "\n",
    "    # model predict\n",
    "    x = model_fc1.predict(x)\n",
    "    \n",
    "    VGG16_dfmap_no_relU[index,:] = np.squeeze(x, axis=0)\n",
    "\n",
    "# stop time\n",
    "tf_dfmap_no_relU = time.time()    \n",
    "tt_dfmap_no_relU = tf_dfmap_no_relU - ti_dfmap_no_relU\n",
    "print()\n",
    "print(time.strftime(\"%H:%M:%S\", time.gmtime(tt_dfmap_no_relU)))\n",
    "print()\n",
    "print(\"Tamaño en memoria de la matriz de características profundas: {0:.2f}Mb\".format(getsizeof(VGG16_dfmap_no_relU)/float(1<<20)))"
   ]
  },
  {
   "cell_type": "code",
   "execution_count": 12,
   "metadata": {},
   "outputs": [
    {
     "data": {
      "text/plain": [
       "array([[  1.4363389 ,  -9.70764256, -14.33625031, ...,  -0.2988835 ,\n",
       "         -4.04614496,  -2.43703127],\n",
       "       [ -6.25107241,  -8.4447031 , -11.96656322, ...,   0.47403866,\n",
       "         -4.45992088,  -8.00944138],\n",
       "       [  7.5820446 , -21.92349815,  -4.70616055, ...,   9.63796329,\n",
       "         -3.06682301, -17.91776276],\n",
       "       ..., \n",
       "       [ -4.1283865 ,   1.40950263,  -4.15737724, ...,   0.21009497,\n",
       "         -0.19954918,  -1.71088219],\n",
       "       [ -3.73391938,  -0.72124833,  -5.90556002, ...,   0.99256498,\n",
       "         -0.52596283,  -2.18934989],\n",
       "       [ -2.97715545,   0.57167876,  -6.36512375, ...,  -1.06647027,\n",
       "         -1.3277365 ,  -3.27218819]])"
      ]
     },
     "execution_count": 12,
     "metadata": {},
     "output_type": "execute_result"
    }
   ],
   "source": [
    "# # checking the output with no activation funct\n",
    "VGG16_dfmap_no_relU "
   ]
  },
  {
   "cell_type": "code",
   "execution_count": 14,
   "metadata": {},
   "outputs": [
    {
     "name": "stdout",
     "output_type": "stream",
     "text": [
      "156.25015449523926\n"
     ]
    }
   ],
   "source": [
    "# import pickle\n",
    "\n",
    "# # init time\n",
    "# ti_h5file_no_relU = time.time()\n",
    "\n",
    "# hf = h5py.File(os.path.join(PATH_TO_OUTPUT, 'VGG16_dfmap_no_relU.h5'), 'w')\n",
    "# hf.create_dataset('dfmap', data=VGG16_dfmap) #163.8 mb\n",
    "# # hf.create_dataset('dfmap', data=VGG16_dfmap_no_relU,compression=\"gzip\", compression_opts=9) # 32.4 mb\n",
    "# hf.close()\n",
    "\n",
    "# # stop time\n",
    "# tf_h5file_no_relU = time.time()\n",
    "# tt_h5file_no_relU = tf_h5file_no_relU - ti_h5file_no_relU\n",
    "# print(time.strftime(\"%H:%M:%S\", time.gmtime(tt_h5file_no_relU)))\n",
    "\n",
    "\n",
    "pickle.dump(VGG16_dfmap_no_relU, open('../data/output_convnet/VGG16/VGG16_dfmap_no_relU_pickle', 'wb'))\n",
    "print(os.path.getsize(\"../data/output_convnet/VGG16/VGG16_dfmap_no_relU_pickle\")/float(1<<20)) #156 mb"
   ]
  },
  {
   "cell_type": "code",
   "execution_count": null,
   "metadata": {},
   "outputs": [],
   "source": [
    "# hf = h5py.File(os.path.join(PATH_TO_OUTPUT, 'VGG16_dfmap_no_relU.h5'), 'r')\n",
    "# print(hf.keys())\n",
    "# n1 = hf.get('dfmap')\n",
    "# print(type(n1))\n",
    "# print(n1)\n",
    "\n",
    "# n1 = np.array(n1)\n",
    "# print(type(n1))\n",
    "# print(n1.shape)\n",
    "\n",
    "# hf.close()"
   ]
  }
 ],
 "metadata": {
  "kernelspec": {
   "display_name": "Python 3",
   "language": "python",
   "name": "python3"
  },
  "language_info": {
   "codemirror_mode": {
    "name": "ipython",
    "version": 3
   },
   "file_extension": ".py",
   "mimetype": "text/x-python",
   "name": "python",
   "nbconvert_exporter": "python",
   "pygments_lexer": "ipython3",
   "version": "3.6.2"
  }
 },
 "nbformat": 4,
 "nbformat_minor": 2
}
