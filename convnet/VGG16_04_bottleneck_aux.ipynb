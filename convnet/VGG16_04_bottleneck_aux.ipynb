{
 "cells": [
  {
   "cell_type": "code",
   "execution_count": 1,
   "metadata": {},
   "outputs": [
    {
     "name": "stderr",
     "output_type": "stream",
     "text": [
      "Using TensorFlow backend.\n"
     ]
    }
   ],
   "source": [
    "from keras.preprocessing.image import ImageDataGenerator, img_to_array, load_img\n",
    "from keras.models import Sequential\n",
    "from keras.layers import Dropout, Flatten, Dense\n",
    "from keras.applications.vgg16 import preprocess_input, VGG16\n",
    "from keras.optimizers import SGD\n",
    "from keras.utils.np_utils import to_categorical\n",
    "\n",
    "import numpy as np\n",
    "import math"
   ]
  },
  {
   "cell_type": "code",
   "execution_count": 2,
   "metadata": {},
   "outputs": [],
   "source": [
    "PATH_TO_DF = \"../data/output_convnet/VGG16\"\n",
    "\n",
    "img_width = 150\n",
    "img_height = 150\n",
    "\n",
    "n_epochs = 50\n",
    "batch_size = 16\n",
    "\n",
    "train_data_dir = \"train\"  \n",
    "validation_data_dir = \"validation\"\n",
    "test_data_dir = \"test\"\n",
    "\n",
    "n_train_samples = 3000\n",
    "n_validation_samples = 1000\n",
    "n_test_samples = 1000\n",
    "n_classes = 8"
   ]
  },
  {
   "cell_type": "code",
   "execution_count": 3,
   "metadata": {},
   "outputs": [
    {
     "name": "stdout",
     "output_type": "stream",
     "text": [
      "Found 3000 images belonging to 8 classes.\n",
      "Found 1000 images belonging to 8 classes.\n"
     ]
    }
   ],
   "source": [
    "# https://b/log.keras.io/building-powerful-image-classification-models-using-very-little-data.html\n",
    "# saving bottleneck features\n",
    "import time\n",
    "\n",
    "ti_bn_features = time.time()\n",
    "\n",
    "model = VGG16(include_top=False, weights='imagenet')\n",
    "\n",
    "datagen = ImageDataGenerator(rescale=1. / 255)\n",
    "\n",
    "'''\n",
    "https://github.com/keras-team/keras/blob/master/keras/preprocessing/image.py#L1002\n",
    "if PIL version 1.1.3 interpolation = 'lanczos'\n",
    "else interpolation = 'bicubic' \n",
    "''' \n",
    "# train\n",
    "generator = datagen.flow_from_directory(\n",
    "    train_data_dir,\n",
    "    target_size = (img_width, img_height),\n",
    "    batch_size = batch_size,\n",
    "    class_mode = None,\n",
    "    shuffle = False,\n",
    "    interpolation = 'lanczos')\n",
    "\n",
    "# important step in order to get the exact number\n",
    "max_queue_size_train = int(math.ceil(n_train_samples / batch_size))\n",
    "\n",
    "bnfeatures_train = model.predict_generator(\n",
    "    generator, max_queue_size_train)\n",
    "\n",
    "np.save('../data/output_convnet/VGG16/VGG16_bnfeatures_train_aux.npy', bnfeatures_train)\n",
    "\n",
    "# ref attribute classes --> https://keras.io/preprocessing/image/\n",
    "train_labels = generator.classes # the key attribute\n",
    "train_labels = to_categorical(train_labels, num_classes=n_classes) # the key function\n",
    "\n",
    "# validation\n",
    "generator = datagen.flow_from_directory(\n",
    "    validation_data_dir,\n",
    "    target_size=(img_width, img_height),\n",
    "    batch_size=batch_size,\n",
    "    class_mode=None,\n",
    "    shuffle=False,\n",
    "    interpolation = 'lanczos')\n",
    "\n",
    "max_queue_size_val = int(math.ceil(n_validation_samples / batch_size))\n",
    "\n",
    "\n",
    "bnfeatures_val = model.predict_generator(  \n",
    "     generator, max_queue_size_val)\n",
    "\n",
    "np.save('../data/output_convnet/VGG16/VGG16_bnfeatures_val_aux.npy', bnfeatures_val)\n",
    "\n",
    "val_labels = generator.classes # the key attribute\n",
    "val_labels = to_categorical(val_labels, num_classes=n_classes) # the key function\n",
    "\n",
    "tf_bn_features = time.time()    \n",
    "tt_bn_features = tf_bn_features - ti_bn_features"
   ]
  },
  {
   "cell_type": "code",
   "execution_count": 4,
   "metadata": {},
   "outputs": [
    {
     "name": "stdout",
     "output_type": "stream",
     "text": [
      "00:00:32\n"
     ]
    }
   ],
   "source": [
    "print(time.strftime(\"%H:%M:%S\", time.gmtime(tt_bn_features)))"
   ]
  },
  {
   "cell_type": "code",
   "execution_count": 5,
   "metadata": {},
   "outputs": [
    {
     "name": "stdout",
     "output_type": "stream",
     "text": [
      "Train on 3000 samples, validate on 1000 samples\n",
      "Epoch 1/50\n",
      "3000/3000 [==============================] - 1s 471us/step - loss: 1.6802 - acc: 0.4007 - val_loss: 1.2423 - val_acc: 0.6640\n",
      "Epoch 2/50\n",
      "3000/3000 [==============================] - 1s 295us/step - loss: 1.2309 - acc: 0.5850 - val_loss: 1.0105 - val_acc: 0.7170\n",
      "Epoch 3/50\n",
      "3000/3000 [==============================] - 1s 290us/step - loss: 1.0468 - acc: 0.6537 - val_loss: 0.8735 - val_acc: 0.7510\n",
      "Epoch 4/50\n",
      "3000/3000 [==============================] - 1s 288us/step - loss: 0.9513 - acc: 0.6873 - val_loss: 0.7973 - val_acc: 0.7810\n",
      "Epoch 5/50\n",
      "3000/3000 [==============================] - 1s 286us/step - loss: 0.8723 - acc: 0.7147 - val_loss: 0.7423 - val_acc: 0.7840\n",
      "Epoch 6/50\n",
      "3000/3000 [==============================] - 1s 297us/step - loss: 0.8195 - acc: 0.7347 - val_loss: 0.6972 - val_acc: 0.7850\n",
      "Epoch 7/50\n",
      "3000/3000 [==============================] - 1s 293us/step - loss: 0.7772 - acc: 0.7457 - val_loss: 0.6512 - val_acc: 0.7960\n",
      "Epoch 8/50\n",
      "3000/3000 [==============================] - 1s 295us/step - loss: 0.7383 - acc: 0.7593 - val_loss: 0.6403 - val_acc: 0.7960\n",
      "Epoch 9/50\n",
      "3000/3000 [==============================] - 1s 285us/step - loss: 0.7015 - acc: 0.7660 - val_loss: 0.6078 - val_acc: 0.8120\n",
      "Epoch 10/50\n",
      "3000/3000 [==============================] - 1s 293us/step - loss: 0.6689 - acc: 0.7850 - val_loss: 0.5807 - val_acc: 0.8170\n",
      "Epoch 11/50\n",
      "3000/3000 [==============================] - 1s 295us/step - loss: 0.6531 - acc: 0.7863 - val_loss: 0.5609 - val_acc: 0.8170\n",
      "Epoch 12/50\n",
      "3000/3000 [==============================] - 1s 288us/step - loss: 0.6177 - acc: 0.7980 - val_loss: 0.5657 - val_acc: 0.8140\n",
      "Epoch 13/50\n",
      "3000/3000 [==============================] - 1s 300us/step - loss: 0.6150 - acc: 0.7953 - val_loss: 0.5337 - val_acc: 0.8280\n",
      "Epoch 14/50\n",
      "3000/3000 [==============================] - 1s 294us/step - loss: 0.6009 - acc: 0.8030 - val_loss: 0.5268 - val_acc: 0.8370\n",
      "Epoch 15/50\n",
      "3000/3000 [==============================] - 1s 302us/step - loss: 0.5743 - acc: 0.8027 - val_loss: 0.5382 - val_acc: 0.8240\n",
      "Epoch 16/50\n",
      "3000/3000 [==============================] - 1s 298us/step - loss: 0.5639 - acc: 0.8180 - val_loss: 0.5007 - val_acc: 0.8420\n",
      "Epoch 17/50\n",
      "3000/3000 [==============================] - 1s 298us/step - loss: 0.5516 - acc: 0.8187 - val_loss: 0.5100 - val_acc: 0.8250\n",
      "Epoch 18/50\n",
      "3000/3000 [==============================] - 1s 300us/step - loss: 0.5456 - acc: 0.8190 - val_loss: 0.5132 - val_acc: 0.8340\n",
      "Epoch 19/50\n",
      "3000/3000 [==============================] - 1s 310us/step - loss: 0.5324 - acc: 0.8250 - val_loss: 0.5054 - val_acc: 0.8300\n",
      "Epoch 20/50\n",
      "3000/3000 [==============================] - 1s 297us/step - loss: 0.5326 - acc: 0.8267 - val_loss: 0.4822 - val_acc: 0.8430\n",
      "Epoch 21/50\n",
      "3000/3000 [==============================] - 1s 296us/step - loss: 0.5112 - acc: 0.8337 - val_loss: 0.4713 - val_acc: 0.8370\n",
      "Epoch 22/50\n",
      "3000/3000 [==============================] - 1s 305us/step - loss: 0.5129 - acc: 0.8313 - val_loss: 0.4636 - val_acc: 0.8510\n",
      "Epoch 23/50\n",
      "3000/3000 [==============================] - 1s 304us/step - loss: 0.5047 - acc: 0.8353 - val_loss: 0.4593 - val_acc: 0.8410\n",
      "Epoch 24/50\n",
      "3000/3000 [==============================] - 1s 293us/step - loss: 0.4953 - acc: 0.8367 - val_loss: 0.4539 - val_acc: 0.8440\n",
      "Epoch 25/50\n",
      "3000/3000 [==============================] - 1s 301us/step - loss: 0.4801 - acc: 0.8450 - val_loss: 0.4508 - val_acc: 0.8400\n",
      "Epoch 26/50\n",
      "3000/3000 [==============================] - 1s 295us/step - loss: 0.4738 - acc: 0.8377 - val_loss: 0.4449 - val_acc: 0.8540\n",
      "Epoch 27/50\n",
      "3000/3000 [==============================] - 1s 300us/step - loss: 0.4703 - acc: 0.8503 - val_loss: 0.4326 - val_acc: 0.8540\n",
      "Epoch 28/50\n",
      "3000/3000 [==============================] - 1s 297us/step - loss: 0.4615 - acc: 0.8483 - val_loss: 0.4276 - val_acc: 0.8490\n",
      "Epoch 29/50\n",
      "3000/3000 [==============================] - 1s 287us/step - loss: 0.4486 - acc: 0.8547 - val_loss: 0.4273 - val_acc: 0.8560\n",
      "Epoch 30/50\n",
      "3000/3000 [==============================] - 1s 295us/step - loss: 0.4469 - acc: 0.8507 - val_loss: 0.4256 - val_acc: 0.8510\n",
      "Epoch 31/50\n",
      "3000/3000 [==============================] - 1s 295us/step - loss: 0.4458 - acc: 0.8553 - val_loss: 0.4396 - val_acc: 0.8500\n",
      "Epoch 32/50\n",
      "3000/3000 [==============================] - 1s 298us/step - loss: 0.4443 - acc: 0.8573 - val_loss: 0.4132 - val_acc: 0.8620\n",
      "Epoch 33/50\n",
      "3000/3000 [==============================] - 1s 295us/step - loss: 0.4300 - acc: 0.8557 - val_loss: 0.4154 - val_acc: 0.8560\n",
      "Epoch 34/50\n",
      "3000/3000 [==============================] - 1s 295us/step - loss: 0.4343 - acc: 0.8547 - val_loss: 0.4298 - val_acc: 0.8530\n",
      "Epoch 35/50\n",
      "3000/3000 [==============================] - 1s 300us/step - loss: 0.4324 - acc: 0.8607 - val_loss: 0.4180 - val_acc: 0.8530\n",
      "Epoch 36/50\n",
      "3000/3000 [==============================] - 1s 299us/step - loss: 0.4200 - acc: 0.8703 - val_loss: 0.4179 - val_acc: 0.8550\n",
      "Epoch 37/50\n",
      "3000/3000 [==============================] - 1s 316us/step - loss: 0.4072 - acc: 0.8627 - val_loss: 0.4080 - val_acc: 0.8530\n",
      "Epoch 38/50\n",
      "3000/3000 [==============================] - 1s 296us/step - loss: 0.4124 - acc: 0.8657 - val_loss: 0.4001 - val_acc: 0.8600\n",
      "Epoch 39/50\n",
      "3000/3000 [==============================] - 1s 305us/step - loss: 0.4029 - acc: 0.8730 - val_loss: 0.4017 - val_acc: 0.8660\n",
      "Epoch 40/50\n",
      "3000/3000 [==============================] - 1s 311us/step - loss: 0.3955 - acc: 0.8687 - val_loss: 0.3966 - val_acc: 0.8610\n",
      "Epoch 41/50\n",
      "3000/3000 [==============================] - 1s 298us/step - loss: 0.3904 - acc: 0.8723 - val_loss: 0.3927 - val_acc: 0.8650\n",
      "Epoch 42/50\n",
      "3000/3000 [==============================] - 1s 319us/step - loss: 0.3954 - acc: 0.8737 - val_loss: 0.4025 - val_acc: 0.8570\n",
      "Epoch 43/50\n",
      "3000/3000 [==============================] - 1s 297us/step - loss: 0.3912 - acc: 0.8770 - val_loss: 0.3964 - val_acc: 0.8540\n",
      "Epoch 44/50\n",
      "3000/3000 [==============================] - 1s 309us/step - loss: 0.3768 - acc: 0.8857 - val_loss: 0.3889 - val_acc: 0.8620\n",
      "Epoch 45/50\n",
      "3000/3000 [==============================] - 1s 294us/step - loss: 0.3728 - acc: 0.8787 - val_loss: 0.3739 - val_acc: 0.8640\n",
      "Epoch 46/50\n",
      "3000/3000 [==============================] - 1s 308us/step - loss: 0.3801 - acc: 0.8793 - val_loss: 0.3830 - val_acc: 0.8670\n",
      "Epoch 47/50\n",
      "3000/3000 [==============================] - 1s 295us/step - loss: 0.3682 - acc: 0.8860 - val_loss: 0.3758 - val_acc: 0.8750\n",
      "Epoch 48/50\n",
      "3000/3000 [==============================] - 1s 297us/step - loss: 0.3684 - acc: 0.8843 - val_loss: 0.3812 - val_acc: 0.8630\n",
      "Epoch 49/50\n",
      "3000/3000 [==============================] - 1s 296us/step - loss: 0.3616 - acc: 0.8853 - val_loss: 0.3732 - val_acc: 0.8670\n",
      "Epoch 50/50\n",
      "3000/3000 [==============================] - 1s 305us/step - loss: 0.3538 - acc: 0.8883 - val_loss: 0.3693 - val_acc: 0.8710\n"
     ]
    }
   ],
   "source": [
    "# training top layer\n",
    "import os\n",
    "\n",
    "ti_bn_train = time.time()\n",
    "\n",
    "\n",
    "train_data = np.load('../data/output_convnet/VGG16/VGG16_bnfeatures_train_aux.npy')\n",
    "val_data = np.load('../data/output_convnet/VGG16/VGG16_bnfeatures_val_aux.npy') \n",
    "\n",
    "# top model, could be with a diff dense, optimizer, momentum -> https://keras.io/optimizers/\n",
    "model = Sequential()  \n",
    "model.add(Flatten(input_shape=train_data.shape[1:]))  \n",
    "model.add(Dense(256, activation='relu'))  \n",
    "model.add(Dropout(0.5))  \n",
    "model.add(Dense(n_classes, activation='softmax'))  \n",
    "\n",
    "\n",
    "model.compile(optimizer=SGD(lr=0.001),\n",
    "              loss='categorical_crossentropy', metrics=['accuracy']) \n",
    "\n",
    "\n",
    "historical_data = model.fit(train_data, train_labels,\n",
    "                    epochs=n_epochs,\n",
    "                    batch_size=batch_size,\n",
    "                    validation_data=(val_data, val_labels))  \n",
    "\n",
    "# h5py\n",
    "model.save_weights('../data/output_convnet/VGG16/VGG16_bn_model_aux.h5')  \n",
    "\n",
    "tf_bn_train = time.time()    \n",
    "tt_bn_train = tf_bn_train - ti_bn_train"
   ]
  },
  {
   "cell_type": "code",
   "execution_count": null,
   "metadata": {},
   "outputs": [],
   "source": [
    "# # training top layer\n",
    "# import os\n",
    "\n",
    "# ti_bn_train = time.time()\n",
    "\n",
    "# # we have to get the classes names so we build again a generator\n",
    "# datagen_top_layer = ImageDataGenerator(rescale=1./255)  \n",
    "\n",
    "# # train\n",
    "# generator_top_layer = datagen_top_layer.flow_from_directory(\n",
    "#     train_data_dir,  \n",
    "#     target_size=(img_width, img_height),  \n",
    "#     batch_size=batch_size,  \n",
    "#     class_mode='categorical',  \n",
    "#     shuffle=False,\n",
    "#     interpolation = 'lanczos')  \n",
    "\n",
    "# train_data = np.load('../data/output_convnet/VGG16/VGG16_bnfeatures_train.npy')\n",
    "\n",
    "# # ref attribute classes --> https://keras.io/preprocessing/image/\n",
    "# train_labels = generator_top_layer.classes # the key attribute\n",
    "# train_labels = to_categorical(train_labels, num_classes=n_classes) # the key function\n",
    "\n",
    "# # validation\n",
    "# generator_top_layer = datagen_top_layer.flow_from_directory(  \n",
    "#     validation_data_dir,  \n",
    "#     target_size=(img_width, img_height),  \n",
    "#     batch_size=batch_size,  \n",
    "#     class_mode=None,  \n",
    "#     shuffle=False,\n",
    "#     interpolation = 'lanczos')  \n",
    "\n",
    "# # val_data = np.load('../data/output_convnet/VGG16/bnfeatures_val.npy')\n",
    "# val_data = np.load('../data/output_convnet/VGG16/VGG16_bnfeatures_val.npy') \n",
    "\n",
    "# val_labels = generator_top_layer.classes # the key attribute\n",
    "# val_labels = to_categorical(val_labels, num_classes=n_classes) # the key function\n",
    "\n",
    "\n",
    "# # top model, could be with a diff dense, optimizer, momentum -> https://keras.io/optimizers/\n",
    "# model = Sequential()  \n",
    "# model.add(Flatten(input_shape=train_data.shape[1:]))  \n",
    "# model.add(Dense(256, activation='relu'))  \n",
    "# model.add(Dropout(0.5))  \n",
    "# model.add(Dense(n_classes, activation='softmax'))  \n",
    "\n",
    "\n",
    "# model.compile(optimizer=SGD(lr=0.001),\n",
    "#               loss='categorical_crossentropy', metrics=['accuracy']) \n",
    "\n",
    "\n",
    "# historical_data = model.fit(train_data, train_labels,\n",
    "#                     epochs=n_epochs,\n",
    "#                     batch_size=batch_size,\n",
    "#                     validation_data=(val_data, val_labels))  \n",
    "\n",
    "# # h5py\n",
    "# model.save_weights('../data/output_convnet/VGG16/VGG16_bn_model.h5')  \n",
    "\n",
    "# tf_bn_train = time.time()    \n",
    "# tt_bn_train = tf_bn_train - ti_bn_train"
   ]
  },
  {
   "cell_type": "code",
   "execution_count": 6,
   "metadata": {},
   "outputs": [
    {
     "name": "stdout",
     "output_type": "stream",
     "text": [
      "00:00:45\n"
     ]
    }
   ],
   "source": [
    "print(time.strftime(\"%H:%M:%S\", time.gmtime(tt_bn_train)))"
   ]
  },
  {
   "cell_type": "code",
   "execution_count": 7,
   "metadata": {},
   "outputs": [
    {
     "name": "stdout",
     "output_type": "stream",
     "text": [
      "['dense_1', 'dense_2', 'dropout_1', 'flatten_1']\n"
     ]
    }
   ],
   "source": [
    "import h5py\n",
    "hdf5_file = h5py.File('../data/output_convnet/VGG16/VGG16_bn_model_aux.h5', mode='r')\n",
    "print(list(hdf5_file))"
   ]
  },
  {
   "cell_type": "code",
   "execution_count": 8,
   "metadata": {},
   "outputs": [
    {
     "name": "stdout",
     "output_type": "stream",
     "text": [
      "acc: 87.10% - loss: 0.369282\n"
     ]
    }
   ],
   "source": [
    "(loss, acc) = model.evaluate(val_data, val_labels, batch_size=batch_size, verbose=0)\n",
    "print(\"acc: {0:.2f}% - loss: {1:f}\".format(acc * 100, loss))  "
   ]
  },
  {
   "cell_type": "code",
   "execution_count": 10,
   "metadata": {},
   "outputs": [
    {
     "data": {
      "image/png": "[encoded data removed]",
      "text/plain": [
       "<matplotlib.figure.Figure at 0x7f6b31c18208>"
      ]
     },
     "metadata": {},
     "output_type": "display_data"
    }
   ],
   "source": [
    "# historical_data.history acc and loss data over the epochs (train and validation)\n",
    "import matplotlib.pyplot as plt\n",
    "\n",
    "train_acc = historical_data.history['acc']\n",
    "train_loss = historical_data.history['loss']\n",
    "\n",
    "val_acc = historical_data.history['val_acc'] # validation\n",
    "val_loss = historical_data.history['val_loss'] # validation\n",
    "\n",
    "range_epochs = range(n_epochs)\n",
    "\n",
    "fig = plt.figure(figsize=(20, 6))\n",
    "\n",
    "fig.add_subplot(1,2,1)\n",
    "plt.plot(range_epochs, train_acc, 'bo', label='Training acc')\n",
    "plt.plot(range_epochs, val_acc, 'b', label='Validation acc')\n",
    "plt.title('Training and validation accuracy')\n",
    "plt.legend()\n",
    "\n",
    "# plt.figure()\n",
    "fig.add_subplot(1,2,2)\n",
    "plt.plot(range_epochs, train_loss, 'bo', label='Training loss')\n",
    "plt.plot(range_epochs, val_loss, 'b', label='Validation loss')\n",
    "plt.title('Training and validation loss')\n",
    "plt.legend()\n",
    "\n",
    "plt.savefig(os.path.join(PATH_TO_DF, \"VGG16_bn_acc_loss.png\"), bbox_inches='tight') # png 70kb vs jpg 135 kb\n",
    "plt.show()"
   ]
  }
 ],
 "metadata": {
  "kernelspec": {
   "display_name": "Python 3",
   "language": "python",
   "name": "python3"
  },
  "language_info": {
   "codemirror_mode": {
    "name": "ipython",
    "version": 3
   },
   "file_extension": ".py",
   "mimetype": "text/x-python",
   "name": "python",
   "nbconvert_exporter": "python",
   "pygments_lexer": "ipython3",
   "version": "3.6.2"
  }
 },
 "nbformat": 4,
 "nbformat_minor": 2
}
