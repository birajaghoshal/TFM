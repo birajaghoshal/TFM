{
 "cells": [
  {
   "cell_type": "markdown",
   "metadata": {
    "collapsed": true
   },
   "source": [
    "revisar pq se ha cambiado la forma de cargar pesos e implementar la red\n",
    "\n",
    "POR HACER\n",
    "* cargar archivos txt, pickle o hd5py (unificar)\n",
    "* refactorizar codigo\n",
    "* implementar bucle o funcion para leer el conjunto test y obtener la matriz de confusion\n",
    "* revisar codigo alternativa 1 y 2\n",
    "\n",
    "\n",
    "HECHOS\n",
    "* crear modelo cambiando la ultima capa y congelar capas a partir de la ultima convolucional\n",
    "* cargar pesos\n",
    "* compilar\n",
    "* muestras train, val y test"
   ]
  },
  {
   "cell_type": "markdown",
   "metadata": {},
   "source": [
    "Comentarios:\n",
    "\n",
    "* parametros a tunear\n",
    "    \n",
    "    * input de 150x150 mejora mucho frente a 224x224 (aunque se use bicubic o lanzcos)\n",
    "    * numero de capas y  cantidad 256 // 1024 // 2048 // 4096\n",
    "    * loss functions https://keras.io/losses/\n",
    "    * softmax (algunos autores incluso en multiclass usan sigmoid ¿?)\n",
    "    * optimizer rmsprop (creo q es el apropiado) vs SGD con lr 0.01 y 0.001\n",
    "    \n",
    "mejores resultados con softmax (que creo que son los adecuados)\n",
    "\n",
    "1.- 1 capa dense de 256 sgd con lr 0.01 --> 88.60% con loss 0.3513\n",
    "\n",
    "2.- 1 capa dense de 256 rmsprop --> 89.1% con loss 0.8582\n",
    "\n",
    "3.- 2 capa dense de 1024 rmsprop --> 87.80% con loss 1.1068\n",
    "\n",
    "4.- 1 capa dense de 1024 rmsprop --> 89.70% con loss 1.0047\n",
    "\n",
    "        "
   ]
  },
  {
   "cell_type": "code",
   "execution_count": null,
   "metadata": {},
   "outputs": [],
   "source": [
    "# http://www.codesofinterest.com/2017/08/bottleneck-features-multi-class-classification-keras.html"
   ]
  },
  {
   "cell_type": "code",
   "execution_count": 1,
   "metadata": {},
   "outputs": [
    {
     "name": "stderr",
     "output_type": "stream",
     "text": [
      "Using TensorFlow backend.\n"
     ]
    }
   ],
   "source": [
    "import numpy as np\n",
    "from keras.preprocessing.image import ImageDataGenerator, img_to_array, load_img\n",
    "from keras.models import Sequential\n",
    "from keras.layers import Dropout, Flatten, Dense\n",
    "from keras import applications\n",
    "from keras.optimizers import SGD\n",
    "from keras.utils.np_utils import to_categorical\n",
    "import matplotlib.pyplot as plt\n",
    "import math\n",
    "import os\n",
    "# import cv2"
   ]
  },
  {
   "cell_type": "code",
   "execution_count": 2,
   "metadata": {},
   "outputs": [],
   "source": [
    "# dimensions of our images.\n",
    "img_width, img_height = 150, 150\n",
    "\n",
    "top_model_weights_path = '../data/output_convnet/bottleneck_fc_model.h5'\n",
    "train_data_dir = 'train'\n",
    "validation_data_dir = 'validation'\n",
    "test_data_dir = 'test'\n",
    "\n",
    "# number of epochs to train top model\n",
    "epochs = 50\n",
    "# batch size used by flow_from_directory and predict_generator\n",
    "batch_size = 16"
   ]
  },
  {
   "cell_type": "code",
   "execution_count": 3,
   "metadata": {},
   "outputs": [],
   "source": [
    "def save_bottlebeck_features():\n",
    "    # build the VGG16 network\n",
    "    model = applications.VGG16(include_top=False, weights='imagenet')\n",
    "\n",
    "    datagen = ImageDataGenerator(rescale=1. / 255)\n",
    "\n",
    "    generator = datagen.flow_from_directory(\n",
    "        train_data_dir,\n",
    "        target_size=(img_width, img_height),\n",
    "        batch_size=batch_size,\n",
    "        class_mode=None,\n",
    "        shuffle=False)\n",
    "\n",
    "    print(len(generator.filenames))\n",
    "    print(generator.class_indices)\n",
    "    print(len(generator.class_indices))\n",
    "\n",
    "    nb_train_samples = len(generator.filenames)\n",
    "    num_classes = len(generator.class_indices)\n",
    "\n",
    "    predict_size_train = int(math.ceil(nb_train_samples / batch_size))\n",
    "\n",
    "    bottleneck_features_train = model.predict_generator(\n",
    "        generator, predict_size_train)\n",
    "\n",
    "    np.save('../data/output_convnet/bottleneck_features_train.npy', bottleneck_features_train)\n",
    "\n",
    "    generator = datagen.flow_from_directory(\n",
    "        validation_data_dir,\n",
    "        target_size=(img_width, img_height),\n",
    "        batch_size=batch_size,\n",
    "        class_mode=None,\n",
    "        shuffle=False)\n",
    "\n",
    "    nb_validation_samples = len(generator.filenames)\n",
    "\n",
    "    predict_size_validation = int(\n",
    "        math.ceil(nb_validation_samples / batch_size))\n",
    "\n",
    "    bottleneck_features_validation = model.predict_generator(\n",
    "        generator, predict_size_validation)\n",
    "\n",
    "    np.save('../data/output_convnet/bottleneck_features_validation.npy',\n",
    "            bottleneck_features_validation)"
   ]
  },
  {
   "cell_type": "code",
   "execution_count": 4,
   "metadata": {},
   "outputs": [
    {
     "name": "stdout",
     "output_type": "stream",
     "text": [
      "Found 3000 images belonging to 8 classes.\n",
      "3000\n",
      "{'01_TUMOR': 0, '02_STROMA': 1, '03_COMPLEX': 2, '04_LYMPHO': 3, '05_DEBRIS': 4, '06_MUCOSA': 5, '07_ADIPOSE': 6, '08_EMPTY': 7}\n",
      "8\n",
      "Found 1000 images belonging to 8 classes.\n"
     ]
    }
   ],
   "source": [
    "from time import time # execution time no the best accurate but the easiest sometimes does not work\n",
    "\n",
    "ti_bn_features = time()\n",
    "\n",
    "save_bottlebeck_features()\n",
    "\n",
    "tf_bn_features = time()    \n",
    "\n",
    "tt_bn_features = tf_bn_features - ti_bn_features"
   ]
  },
  {
   "cell_type": "code",
   "execution_count": 5,
   "metadata": {},
   "outputs": [
    {
     "name": "stdout",
     "output_type": "stream",
     "text": [
      "00:00:32\n"
     ]
    }
   ],
   "source": [
    "import time\n",
    "print(time.strftime(\"%H:%M:%S\", time.gmtime(tt_bn_features)))"
   ]
  },
  {
   "cell_type": "code",
   "execution_count": 33,
   "metadata": {},
   "outputs": [],
   "source": [
    "def train_top_model():\n",
    "    datagen_top = ImageDataGenerator(rescale=1. / 255)\n",
    "    generator_top = datagen_top.flow_from_directory(\n",
    "        train_data_dir,\n",
    "        target_size=(img_width, img_height),\n",
    "        batch_size=batch_size,\n",
    "        class_mode='categorical',\n",
    "        shuffle=False)\n",
    "\n",
    "    nb_train_samples = len(generator_top.filenames)\n",
    "    num_classes = len(generator_top.class_indices)\n",
    "\n",
    "    # save the class indices to use use later in predictions\n",
    "    np.save('../data/output_convnet/class_indices.npy', generator_top.class_indices)\n",
    "\n",
    "    # load the bottleneck features saved earlier\n",
    "    train_data = np.load('../data/output_convnet/bottleneck_features_train.npy')\n",
    "\n",
    "    # get the class lebels for the training data, in the original order\n",
    "    train_labels = generator_top.classes\n",
    "\n",
    "    # https://github.com/fchollet/keras/issues/3467\n",
    "    # convert the training labels to categorical vectors\n",
    "    train_labels = to_categorical(train_labels, num_classes=num_classes)\n",
    "\n",
    "    generator_top = datagen_top.flow_from_directory(\n",
    "        validation_data_dir,\n",
    "        target_size=(img_width, img_height),\n",
    "        batch_size=batch_size,\n",
    "        class_mode=None,\n",
    "        shuffle=False)\n",
    "\n",
    "    nb_validation_samples = len(generator_top.filenames)\n",
    "\n",
    "    validation_data = np.load('../data/output_convnet/bottleneck_features_validation.npy')\n",
    "\n",
    "    validation_labels = generator_top.classes\n",
    "    validation_labels = to_categorical(\n",
    "        validation_labels, num_classes=num_classes)\n",
    "    \n",
    "    model = Sequential()\n",
    "    model.add(Flatten(input_shape=train_data.shape[1:]))\n",
    "    model.add(Dense(256, activation='relu'))\n",
    "    model.add(Dropout(0.5))\n",
    "    model.add(Dense(8, activation='softmax'))\n",
    "\n",
    "#     model = Sequential()\n",
    "#     model.add(Flatten(input_shape=train_data.shape[1:]))\n",
    "#     model.add(Dense(4096, activation='relu'))\n",
    "#     model.add(Dropout(0.5))\n",
    "# #     model.add(Dense(8, activation='sigmoid'))\n",
    "#     model.add(Dense(8, activation='softmax'))\n",
    "\n",
    "#     model = Sequential()\n",
    "#     model.add(Flatten(input_shape=train_data.shape[1:]))\n",
    "#     model.add(Dense(2048, activation='relu'))\n",
    "#     model.add(Dropout(0.5))\n",
    "#     model.add(Dense(2048, activation='relu'))\n",
    "#     model.add(Dropout(0.5))\n",
    "#     model.add(Dense(8, activation='softmax'))\n",
    "\n",
    "    learning_rate = 0.01\n",
    "    \n",
    "    model.compile(optimizer=SGD(lr=learning_rate),\n",
    "                  loss='categorical_crossentropy', metrics=['accuracy'])\n",
    "\n",
    "#     model.compile(optimizer='rmsprop',\n",
    "#                   loss='categorical_crossentropy', metrics=['accuracy'])\n",
    "\n",
    "    \n",
    "    history = model.fit(train_data, train_labels,\n",
    "                        epochs=epochs,\n",
    "                        batch_size=batch_size,\n",
    "                        validation_data=(validation_data, validation_labels))\n",
    "\n",
    "    model.save_weights(top_model_weights_path)\n",
    "\n",
    "    (eval_loss, eval_accuracy) = model.evaluate(\n",
    "        validation_data, validation_labels, batch_size=batch_size, verbose=1)\n",
    "\n",
    "    print(\"[INFO] accuracy: {:.2f}%\".format(eval_accuracy * 100))\n",
    "    print(\"[INFO] Loss: {}\".format(eval_loss))\n",
    "\n",
    "    plt.figure(1)\n",
    "\n",
    "    # summarize history for accuracy\n",
    "\n",
    "    plt.subplot(211)\n",
    "    plt.plot(history.history['acc'])\n",
    "    plt.plot(history.history['val_acc'])\n",
    "    plt.title('model accuracy')\n",
    "    plt.ylabel('accuracy')\n",
    "    plt.xlabel('epoch')\n",
    "    plt.legend(['train', 'test'], loc='upper left')\n",
    "\n",
    "    # summarize history for loss\n",
    "\n",
    "    plt.subplot(212)\n",
    "    plt.plot(history.history['loss'])\n",
    "    plt.plot(history.history['val_loss'])\n",
    "    plt.title('model loss')\n",
    "    plt.ylabel('loss')\n",
    "    plt.xlabel('epoch')\n",
    "    plt.legend(['train', 'test'], loc='upper left')\n",
    "    plt.show()"
   ]
  },
  {
   "cell_type": "code",
   "execution_count": 34,
   "metadata": {
    "scrolled": true
   },
   "outputs": [
    {
     "name": "stdout",
     "output_type": "stream",
     "text": [
      "Found 3000 images belonging to 8 classes.\n",
      "Found 1000 images belonging to 8 classes.\n",
      "Train on 3000 samples, validate on 1000 samples\n",
      "Epoch 1/50\n",
      "3000/3000 [==============================] - 2s 564us/step - loss: 1.4991 - acc: 0.4507 - val_loss: 1.1149 - val_acc: 0.5300\n",
      "Epoch 2/50\n",
      "3000/3000 [==============================] - 1s 365us/step - loss: 1.0084 - acc: 0.6403 - val_loss: 0.7962 - val_acc: 0.7360\n",
      "Epoch 3/50\n",
      "3000/3000 [==============================] - 1s 373us/step - loss: 0.8493 - acc: 0.6983 - val_loss: 0.8611 - val_acc: 0.6500\n",
      "Epoch 4/50\n",
      "3000/3000 [==============================] - 1s 382us/step - loss: 0.7556 - acc: 0.7373 - val_loss: 0.6925 - val_acc: 0.7490\n",
      "Epoch 5/50\n",
      "3000/3000 [==============================] - 1s 383us/step - loss: 0.7112 - acc: 0.7393 - val_loss: 0.5919 - val_acc: 0.7800\n",
      "Epoch 6/50\n",
      "3000/3000 [==============================] - 1s 349us/step - loss: 0.6431 - acc: 0.7773 - val_loss: 0.5656 - val_acc: 0.7800\n",
      "Epoch 7/50\n",
      "3000/3000 [==============================] - 1s 374us/step - loss: 0.6212 - acc: 0.7803 - val_loss: 0.5363 - val_acc: 0.8160\n",
      "Epoch 8/50\n",
      "3000/3000 [==============================] - 1s 390us/step - loss: 0.5788 - acc: 0.7927 - val_loss: 0.5300 - val_acc: 0.8070\n",
      "Epoch 9/50\n",
      "3000/3000 [==============================] - 1s 381us/step - loss: 0.5694 - acc: 0.8040 - val_loss: 0.4789 - val_acc: 0.8230\n",
      "Epoch 10/50\n",
      "3000/3000 [==============================] - 1s 396us/step - loss: 0.5602 - acc: 0.8067 - val_loss: 0.4604 - val_acc: 0.8270\n",
      "Epoch 11/50\n",
      "3000/3000 [==============================] - 1s 370us/step - loss: 0.5186 - acc: 0.8100 - val_loss: 0.4950 - val_acc: 0.8170\n",
      "Epoch 12/50\n",
      "3000/3000 [==============================] - 1s 379us/step - loss: 0.5031 - acc: 0.8227 - val_loss: 0.4302 - val_acc: 0.8380\n",
      "Epoch 13/50\n",
      "3000/3000 [==============================] - 1s 370us/step - loss: 0.4825 - acc: 0.8363 - val_loss: 0.4135 - val_acc: 0.8460\n",
      "Epoch 14/50\n",
      "3000/3000 [==============================] - 1s 379us/step - loss: 0.4912 - acc: 0.8240 - val_loss: 0.4026 - val_acc: 0.8440\n",
      "Epoch 15/50\n",
      "3000/3000 [==============================] - 1s 373us/step - loss: 0.4794 - acc: 0.8287 - val_loss: 0.4273 - val_acc: 0.8490\n",
      "Epoch 16/50\n",
      "3000/3000 [==============================] - 1s 372us/step - loss: 0.4440 - acc: 0.8397 - val_loss: 0.4446 - val_acc: 0.8280\n",
      "Epoch 17/50\n",
      "3000/3000 [==============================] - 1s 374us/step - loss: 0.4470 - acc: 0.8373 - val_loss: 0.4097 - val_acc: 0.8550\n",
      "Epoch 18/50\n",
      "3000/3000 [==============================] - 1s 374us/step - loss: 0.4270 - acc: 0.8457 - val_loss: 0.4623 - val_acc: 0.8340\n",
      "Epoch 19/50\n",
      "3000/3000 [==============================] - 1s 377us/step - loss: 0.4253 - acc: 0.8493 - val_loss: 0.4461 - val_acc: 0.8350\n",
      "Epoch 20/50\n",
      "3000/3000 [==============================] - 1s 419us/step - loss: 0.4085 - acc: 0.8580 - val_loss: 0.3920 - val_acc: 0.8680\n",
      "Epoch 21/50\n",
      "3000/3000 [==============================] - 1s 377us/step - loss: 0.4005 - acc: 0.8603 - val_loss: 0.3689 - val_acc: 0.8590\n",
      "Epoch 22/50\n",
      "3000/3000 [==============================] - 1s 373us/step - loss: 0.3886 - acc: 0.8647 - val_loss: 0.3785 - val_acc: 0.8560\n",
      "Epoch 23/50\n",
      "3000/3000 [==============================] - 1s 369us/step - loss: 0.3732 - acc: 0.8693 - val_loss: 0.3881 - val_acc: 0.8570\n",
      "Epoch 24/50\n",
      "3000/3000 [==============================] - 1s 376us/step - loss: 0.3603 - acc: 0.8770 - val_loss: 0.3842 - val_acc: 0.8580\n",
      "Epoch 25/50\n",
      "3000/3000 [==============================] - 1s 392us/step - loss: 0.3657 - acc: 0.8690 - val_loss: 0.3822 - val_acc: 0.8560\n",
      "Epoch 26/50\n",
      "3000/3000 [==============================] - 1s 366us/step - loss: 0.3662 - acc: 0.8677 - val_loss: 0.3685 - val_acc: 0.8610\n",
      "Epoch 27/50\n",
      "3000/3000 [==============================] - 1s 387us/step - loss: 0.3440 - acc: 0.8803 - val_loss: 0.4173 - val_acc: 0.8530\n",
      "Epoch 28/50\n",
      "3000/3000 [==============================] - 1s 388us/step - loss: 0.3502 - acc: 0.8750 - val_loss: 0.3501 - val_acc: 0.8800\n",
      "Epoch 29/50\n",
      "3000/3000 [==============================] - 1s 384us/step - loss: 0.3476 - acc: 0.8807 - val_loss: 0.4764 - val_acc: 0.8420\n",
      "Epoch 30/50\n",
      "3000/3000 [==============================] - 1s 382us/step - loss: 0.3215 - acc: 0.8917 - val_loss: 0.3896 - val_acc: 0.8640\n",
      "Epoch 31/50\n",
      "3000/3000 [==============================] - 1s 370us/step - loss: 0.3191 - acc: 0.8893 - val_loss: 0.3519 - val_acc: 0.8790\n",
      "Epoch 32/50\n",
      "3000/3000 [==============================] - 1s 394us/step - loss: 0.3286 - acc: 0.8823 - val_loss: 0.3395 - val_acc: 0.8800\n",
      "Epoch 33/50\n",
      "3000/3000 [==============================] - 1s 370us/step - loss: 0.2992 - acc: 0.8957 - val_loss: 0.3574 - val_acc: 0.8720\n",
      "Epoch 34/50\n",
      "3000/3000 [==============================] - 1s 385us/step - loss: 0.3151 - acc: 0.8930 - val_loss: 0.3518 - val_acc: 0.8760\n",
      "Epoch 35/50\n",
      "3000/3000 [==============================] - 1s 380us/step - loss: 0.3006 - acc: 0.8940 - val_loss: 0.3955 - val_acc: 0.8540\n",
      "Epoch 36/50\n",
      "3000/3000 [==============================] - 1s 375us/step - loss: 0.2870 - acc: 0.8967 - val_loss: 0.3271 - val_acc: 0.8850\n",
      "Epoch 37/50\n",
      "3000/3000 [==============================] - 1s 389us/step - loss: 0.2757 - acc: 0.9053 - val_loss: 0.3456 - val_acc: 0.8730\n",
      "Epoch 38/50\n",
      "3000/3000 [==============================] - 1s 384us/step - loss: 0.2885 - acc: 0.8990 - val_loss: 0.3517 - val_acc: 0.8710\n",
      "Epoch 39/50\n",
      "3000/3000 [==============================] - 1s 393us/step - loss: 0.2753 - acc: 0.9083 - val_loss: 0.3753 - val_acc: 0.8670\n",
      "Epoch 40/50\n",
      "3000/3000 [==============================] - 1s 370us/step - loss: 0.2553 - acc: 0.9087 - val_loss: 0.3844 - val_acc: 0.8620\n",
      "Epoch 41/50\n",
      "3000/3000 [==============================] - 1s 400us/step - loss: 0.2661 - acc: 0.9070 - val_loss: 0.3521 - val_acc: 0.8750\n",
      "Epoch 42/50\n",
      "3000/3000 [==============================] - 1s 378us/step - loss: 0.2631 - acc: 0.9130 - val_loss: 0.3509 - val_acc: 0.8780\n",
      "Epoch 43/50\n",
      "3000/3000 [==============================] - 1s 390us/step - loss: 0.2580 - acc: 0.9093 - val_loss: 0.4043 - val_acc: 0.8530\n",
      "Epoch 44/50\n",
      "3000/3000 [==============================] - 1s 384us/step - loss: 0.2357 - acc: 0.9227 - val_loss: 0.3616 - val_acc: 0.8780\n",
      "Epoch 45/50\n",
      "3000/3000 [==============================] - 1s 354us/step - loss: 0.2386 - acc: 0.9130 - val_loss: 0.4834 - val_acc: 0.8300\n",
      "Epoch 46/50\n",
      "3000/3000 [==============================] - 1s 373us/step - loss: 0.2459 - acc: 0.9177 - val_loss: 0.3567 - val_acc: 0.8850\n",
      "Epoch 47/50\n",
      "3000/3000 [==============================] - 1s 386us/step - loss: 0.2330 - acc: 0.9230 - val_loss: 0.3252 - val_acc: 0.8800\n",
      "Epoch 48/50\n",
      "3000/3000 [==============================] - 1s 394us/step - loss: 0.2366 - acc: 0.9170 - val_loss: 0.3467 - val_acc: 0.8800\n",
      "Epoch 49/50\n",
      "3000/3000 [==============================] - 1s 382us/step - loss: 0.2282 - acc: 0.9240 - val_loss: 0.3562 - val_acc: 0.8740\n",
      "Epoch 50/50\n",
      "3000/3000 [==============================] - 1s 371us/step - loss: 0.2177 - acc: 0.9237 - val_loss: 0.3513 - val_acc: 0.8860\n",
      "1000/1000 [==============================] - 0s 126us/step\n",
      "[INFO] accuracy: 88.60%\n",
      "[INFO] Loss: 0.3513415638968581\n"
     ]
    },
    {
     "data": {
      "image/png": "[encoded data removed]",
      "text/plain": [
       "<matplotlib.figure.Figure at 0x7f9db81e1a58>"
      ]
     },
     "metadata": {},
     "output_type": "display_data"
    }
   ],
   "source": [
    "from time import time # execution time no the best accurate but the easiest sometimes does not work\n",
    "\n",
    "ti_bn_train = time()\n",
    "\n",
    "train_top_model()\n",
    "\n",
    "tf_bn_train = time()    \n",
    "\n",
    "tt_bn_train = tf_bn_train - ti_bn_train"
   ]
  },
  {
   "cell_type": "code",
   "execution_count": 35,
   "metadata": {},
   "outputs": [
    {
     "name": "stdout",
     "output_type": "stream",
     "text": [
      "00:00:58\n"
     ]
    }
   ],
   "source": [
    "import time\n",
    "print(time.strftime(\"%H:%M:%S\", time.gmtime(tt_bn_train)))"
   ]
  },
  {
   "cell_type": "code",
   "execution_count": null,
   "metadata": {},
   "outputs": [],
   "source": [
    "def predict():\n",
    "    # load the class_indices saved in the earlier step\n",
    "    class_dictionary = np.load('class_indices.npy').item()\n",
    "\n",
    "    num_classes = len(class_dictionary)\n",
    "\n",
    "    # add the path to your test image below\n",
    "    image_path = test_data_dir\n",
    "\n",
    "    orig = cv2.imread(image_path)\n",
    "\n",
    "    print(\"[INFO] loading and preprocessing image...\")\n",
    "    image = load_img(image_path, target_size=(224, 224))\n",
    "    image = img_to_array(image)\n",
    "\n",
    "################################################\n",
    "#     #pre procesado de imagen\n",
    "#     img = image.load_img(img_path, target_size=(224, 224), interpolation='lanczos')\n",
    "#     x = image.img_to_array(img)\n",
    "#     x = np.expand_dims(x, axis=0)\n",
    "#     x = preprocess_input(x)\n",
    "################################################\n",
    "\n",
    "    # important! otherwise the predictions will be '0'\n",
    "    image = image / 255\n",
    "\n",
    "    image = np.expand_dims(image, axis=0)\n",
    "\n",
    "    # build the VGG16 network\n",
    "    model = applications.VGG16(include_top=False, weights='imagenet')\n",
    "\n",
    "    # get the bottleneck prediction from the pre-trained VGG16 model\n",
    "    bottleneck_prediction = model.predict(image)\n",
    "\n",
    "    # build top model\n",
    "    model = Sequential()\n",
    "    model.add(Flatten(input_shape=bottleneck_prediction.shape[1:]))\n",
    "    model.add(Dense(256, activation='relu'))\n",
    "    model.add(Dropout(0.5))\n",
    "    model.add(Dense(8, activation='sigmoid'))\n",
    "\n",
    "    model.load_weights(top_model_weights_path)\n",
    "\n",
    "    # use the bottleneck prediction on the top model to get the final\n",
    "    # classification\n",
    "    class_predicted = model.predict_classes(bottleneck_prediction)\n",
    "\n",
    "    probabilities = model.predict_proba(bottleneck_prediction)\n",
    "\n",
    "    inID = class_predicted[0]\n",
    "\n",
    "    inv_map = {v: k for k, v in class_dictionary.items()}\n",
    "\n",
    "    label = inv_map[inID]\n",
    "\n",
    "    # get the prediction label\n",
    "    print(\"Image ID: {}, Label: {}\".format(inID, label))\n",
    "\n",
    "    # display the predictions with the image\n",
    "    cv2.putText(orig, \"Predicted: {}\".format(label), (10, 30),\n",
    "                cv2.FONT_HERSHEY_PLAIN, 1.5, (43, 99, 255), 2)\n",
    "\n",
    "    cv2.imshow(\"Classification\", orig)\n",
    "    cv2.waitKey(0)\n",
    "    cv2.destroyAllWindows()"
   ]
  },
  {
   "cell_type": "code",
   "execution_count": null,
   "metadata": {},
   "outputs": [],
   "source": []
  },
  {
   "cell_type": "code",
   "execution_count": null,
   "metadata": {},
   "outputs": [],
   "source": []
  },
  {
   "cell_type": "code",
   "execution_count": null,
   "metadata": {},
   "outputs": [],
   "source": [
    "predict()"
   ]
  },
  {
   "cell_type": "code",
   "execution_count": null,
   "metadata": {},
   "outputs": [],
   "source": []
  },
  {
   "cell_type": "code",
   "execution_count": null,
   "metadata": {},
   "outputs": [],
   "source": []
  },
  {
   "cell_type": "code",
   "execution_count": null,
   "metadata": {},
   "outputs": [],
   "source": []
  },
  {
   "cell_type": "code",
   "execution_count": null,
   "metadata": {},
   "outputs": [],
   "source": []
  },
  {
   "cell_type": "code",
   "execution_count": null,
   "metadata": {},
   "outputs": [],
   "source": []
  },
  {
   "cell_type": "code",
   "execution_count": null,
   "metadata": {},
   "outputs": [],
   "source": []
  },
  {
   "cell_type": "code",
   "execution_count": null,
   "metadata": {},
   "outputs": [],
   "source": []
  },
  {
   "cell_type": "code",
   "execution_count": null,
   "metadata": {},
   "outputs": [],
   "source": []
  },
  {
   "cell_type": "code",
   "execution_count": null,
   "metadata": {},
   "outputs": [],
   "source": []
  },
  {
   "cell_type": "code",
   "execution_count": null,
   "metadata": {},
   "outputs": [],
   "source": []
  },
  {
   "cell_type": "code",
   "execution_count": null,
   "metadata": {},
   "outputs": [],
   "source": []
  },
  {
   "cell_type": "code",
   "execution_count": null,
   "metadata": {},
   "outputs": [],
   "source": []
  },
  {
   "cell_type": "code",
   "execution_count": null,
   "metadata": {},
   "outputs": [],
   "source": []
  },
  {
   "cell_type": "code",
   "execution_count": null,
   "metadata": {},
   "outputs": [],
   "source": []
  },
  {
   "cell_type": "code",
   "execution_count": null,
   "metadata": {},
   "outputs": [],
   "source": []
  },
  {
   "cell_type": "code",
   "execution_count": null,
   "metadata": {},
   "outputs": [],
   "source": []
  },
  {
   "cell_type": "code",
   "execution_count": null,
   "metadata": {},
   "outputs": [],
   "source": []
  },
  {
   "cell_type": "code",
   "execution_count": null,
   "metadata": {},
   "outputs": [],
   "source": []
  },
  {
   "cell_type": "code",
   "execution_count": null,
   "metadata": {},
   "outputs": [],
   "source": []
  },
  {
   "cell_type": "code",
   "execution_count": null,
   "metadata": {},
   "outputs": [],
   "source": []
  },
  {
   "cell_type": "markdown",
   "metadata": {},
   "source": [
    "# alternativa 1 no funciona correctamente"
   ]
  },
  {
   "cell_type": "code",
   "execution_count": null,
   "metadata": {},
   "outputs": [],
   "source": [
    "from keras.preprocessing.image import ImageDataGenerator\n",
    "from keras.models import Sequential\n",
    "from keras.layers import Dropout, Flatten, Dense\n",
    "from keras import applications\n",
    "from keras.optimizers import SGD\n",
    "import numpy as np"
   ]
  },
  {
   "cell_type": "code",
   "execution_count": null,
   "metadata": {},
   "outputs": [],
   "source": [
    "# dimensions of our images.\n",
    "img_width, img_height = 150, 150 # con el resize a 224 no funciona\n",
    "\n",
    "# top_model_weights_path = '../data/output_convnet/bottleneck_fc_model.h5'\n",
    "# train_data_dir = '../data/samples/train'\n",
    "# validation_data_dir = '../data/samples/validation'\n",
    "\n",
    "top_model_weights_path = 'bottleneck_fc_model.h5'\n",
    "train_data_dir = 'train'\n",
    "validation_data_dir = 'validation'\n",
    "\n",
    "nb_train_samples = 3000\n",
    "nb_validation_samples = 1000\n",
    "epochs = 50\n",
    "batch_size = 10"
   ]
  },
  {
   "cell_type": "code",
   "execution_count": null,
   "metadata": {},
   "outputs": [],
   "source": [
    "# esto es algo parecido a deepfeatures\n",
    "\n",
    "def save_bottlebeck_features():\n",
    "    datagen = ImageDataGenerator(rescale=1. / 255)\n",
    "\n",
    "    # build the VGG16 network\n",
    "    model = applications.VGG16(include_top=False, weights='imagenet')\n",
    "    \n",
    "    generator = datagen.flow_from_directory(\n",
    "        train_data_dir,\n",
    "        target_size=(img_width, img_height),\n",
    "        batch_size=batch_size,\n",
    "        class_mode=None,\n",
    "        shuffle=False)\n",
    "    \n",
    "    \n",
    "    bottleneck_features_train = model.predict_generator(\n",
    "        generator, nb_train_samples // batch_size)\n",
    "    \n",
    "    np.save(open('bottleneck_features_train.npy', 'wb'),\n",
    "            bottleneck_features_train)\n",
    "\n",
    "    print(\"se salva el archivo 1 y comienza el segundo generador\")\n",
    "    generator = datagen.flow_from_directory(\n",
    "        validation_data_dir,\n",
    "        target_size=(img_width, img_height),\n",
    "        batch_size=batch_size,\n",
    "        class_mode=None,\n",
    "        shuffle=False)\n",
    "    \n",
    "    bottleneck_features_validation = model.predict_generator(\n",
    "        generator, nb_validation_samples // batch_size)\n",
    "    \n",
    "    np.save(open('bottleneck_features_validation.npy', 'wb'),\n",
    "            bottleneck_features_validation)"
   ]
  },
  {
   "cell_type": "code",
   "execution_count": null,
   "metadata": {},
   "outputs": [],
   "source": [
    "from time import time # execution time no the best accurate but the easiest sometimes does not work"
   ]
  },
  {
   "cell_type": "code",
   "execution_count": null,
   "metadata": {},
   "outputs": [],
   "source": [
    "ti_bn_features = time()\n",
    "\n",
    "save_bottlebeck_features()\n",
    "\n",
    "tf_bn_features = time()    \n",
    "\n",
    "tt_bn_features = tf_bn_features - ti_bn_features"
   ]
  },
  {
   "cell_type": "code",
   "execution_count": null,
   "metadata": {},
   "outputs": [],
   "source": [
    "import time\n",
    "print(time.strftime(\"%H:%M:%S\", time.gmtime(tt_bn_features)))"
   ]
  },
  {
   "cell_type": "code",
   "execution_count": null,
   "metadata": {},
   "outputs": [],
   "source": [
    "# # para que este punto\n",
    "# '''\n",
    "# the generator will only yield batches of image data, which is useful\n",
    "# to use model.predict_generator(),  model.evaluate_generator()\n",
    "# '''\n",
    "# train_labels = np.array(\n",
    "#         [0] * (nb_train_samples // 2) + [1] * (nb_train_samples // 2))\n",
    "\n",
    "# validation_labels = np.array(\n",
    "#         [0] * (nb_validation_samples // 2) + [1] * (nb_validation_samples // 2))"
   ]
  },
  {
   "cell_type": "code",
   "execution_count": null,
   "metadata": {},
   "outputs": [],
   "source": [
    "# print(train_labels)"
   ]
  },
  {
   "cell_type": "code",
   "execution_count": null,
   "metadata": {},
   "outputs": [],
   "source": [
    "# print(validation_labels)"
   ]
  },
  {
   "cell_type": "code",
   "execution_count": null,
   "metadata": {},
   "outputs": [],
   "source": [
    "def train_top_model():\n",
    "    train_data = np.load(open('bottleneck_features_train.npy','rb'))\n",
    "    train_labels = np.array(\n",
    "        [0] * (nb_train_samples // 2) + [1] * (nb_train_samples // 2))\n",
    "\n",
    "    \n",
    "    validation_data = np.load(open('bottleneck_features_validation.npy','rb')) \n",
    "    validation_labels = np.array(\n",
    "        [0] * (nb_validation_samples // 2) + [1] * (nb_validation_samples // 2))\n",
    "\n",
    "    model = Sequential()\n",
    "    model.add(Flatten(input_shape=train_data.shape[1:]))\n",
    "    model.add(Dense(4096, activation='relu', name = \"fc1\"))\n",
    "    model.add(Dropout(0.5))\n",
    "    model.add(Dense(4096, activation='relu', name = \"fc2\"))\n",
    "    model.add(Dropout(0.5))\n",
    "    model.add(Dense(8, activation='softmax', name = \"new_cats\"))\n",
    "\n",
    "#     model.compile(optimizer=SGD(), loss='categorical_crossentropy') # no arranca\n",
    "#     model.compile(optimizer=SGD(), loss='sparse_categorical_crossentropy', metrics=['accuracy'])\n",
    "#     model.compile(optimizer='rmsprop', loss='sparse_categorical_crossentropy', metrics=['accuracy'])\n",
    "    my_sgd = SGD(lr=0.001)\n",
    "    model.compile(optimizer=my_sgd,\n",
    "                  loss='categorical_crossentropy', metrics=['accuracy'])\n",
    "\n",
    "    model.fit(train_data, train_labels,\n",
    "              epochs=epochs,\n",
    "              batch_size=batch_size,\n",
    "              validation_data=(validation_data, validation_labels))\n",
    "    model.save_weights(top_model_weights_path)"
   ]
  },
  {
   "cell_type": "code",
   "execution_count": null,
   "metadata": {},
   "outputs": [],
   "source": [
    "from time import time\n",
    "\n",
    "ti_bn_train = time()\n",
    "\n",
    "train_top_model()\n",
    "\n",
    "tf_bn_train = time()    \n",
    "\n",
    "tt_bn_train = tf_bn_train - ti_bn_train"
   ]
  },
  {
   "cell_type": "code",
   "execution_count": null,
   "metadata": {},
   "outputs": [],
   "source": [
    "'''\n",
    "@srikar2097, I found the reason for that issue. \n",
    "flow_from_directory selects from one folder at a \n",
    "time and as there are more then 2000 images in the \n",
    "first folder (13k for me) it just takes images from one folder/class \n",
    "but still pretends like the val data is half from one class half from the other. See line 145.'''"
   ]
  },
  {
   "cell_type": "code",
   "execution_count": null,
   "metadata": {},
   "outputs": [],
   "source": [
    "import time\n",
    "print(time.strftime(\"%H:%M:%S\", time.gmtime(tt_bn_train)))"
   ]
  },
  {
   "cell_type": "code",
   "execution_count": null,
   "metadata": {},
   "outputs": [],
   "source": [
    "# https://stackoverflow.com/questions/39376169/keras-convolution2d-input-error-when-checking-model-input-expected-convolution\n",
    "img = load_img('my_img.jpg',False, (img_width, img_height))\n",
    "x = img_to_array(img)\n",
    "prediction = model.predict(x.reshape((1,3,img_width, img_height)),batch_size=32, verbose=0)\n",
    "print(prediction)"
   ]
  },
  {
   "cell_type": "code",
   "execution_count": null,
   "metadata": {},
   "outputs": [],
   "source": [
    "'''\n",
    "https://stackoverflow.com/questions/36927025/how-to-use-keras-multi-layer-perceptron-for-multi-class-classification\n",
    "For multiclass prediction you need to convert your labels via to_categorical. \n",
    "https://github.com/keras-team/keras/blob/master/keras/utils/np_utils.py#L9\n",
    "\n",
    "\n",
    "For more info see this:\n",
    "\n",
    "http://stackoverflow.com/questions/36927025/how-to-use-keras-multi-layer-perceptron-for-multi-class-classification\n",
    "'''"
   ]
  },
  {
   "cell_type": "markdown",
   "metadata": {},
   "source": [
    "# alternativa 2 no funciona correctamente"
   ]
  },
  {
   "cell_type": "code",
   "execution_count": null,
   "metadata": {},
   "outputs": [],
   "source": [
    "from time import time # execution time no the best accurate but the easiest sometimes does not work"
   ]
  },
  {
   "cell_type": "code",
   "execution_count": null,
   "metadata": {},
   "outputs": [],
   "source": [
    "n_categories = 8 # numero de categorias en las que clasificar las imagenes"
   ]
  },
  {
   "cell_type": "code",
   "execution_count": null,
   "metadata": {},
   "outputs": [],
   "source": [
    "from keras import backend as K\n",
    "from keras.models import Sequential, Model\n",
    "from keras.layers.core import Flatten, Dense, Dropout\n",
    "from keras.layers.convolutional import Conv2D, MaxPooling2D, ZeroPadding2D\n",
    "from keras.optimizers import SGD\n",
    "from keras.preprocessing import image\n",
    "from keras.applications.vgg16 import preprocess_input\n",
    "from keras.preprocessing.image import ImageDataGenerator, array_to_img, img_to_array, load_img\n",
    "import numpy as np"
   ]
  },
  {
   "cell_type": "code",
   "execution_count": null,
   "metadata": {},
   "outputs": [],
   "source": [
    "# comprobar si el modelo es vgg16 como el implementado en keras\n",
    "# https://github.com/keras-team/keras/blob/master/keras/applications/vgg16.py # estructura implementada en keras\n",
    "model = Sequential()\n",
    "model.add(ZeroPadding2D((1,1),input_shape=(224,224,3)))\n",
    "model.add(Conv2D(64, (3, 3), activation='relu'))\n",
    "model.add(ZeroPadding2D((1,1)))\n",
    "model.add(Conv2D(64, (3, 3), activation='relu'))\n",
    "model.add(MaxPooling2D((2,2), strides=(2,2)))\n",
    "\n",
    "model.add(ZeroPadding2D((1,1)))\n",
    "model.add(Conv2D(128, (3, 3), activation='relu'))\n",
    "model.add(ZeroPadding2D((1,1)))\n",
    "model.add(Conv2D(128, (3, 3), activation='relu'))\n",
    "model.add(MaxPooling2D((2,2), strides=(2,2)))\n",
    "\n",
    "model.add(ZeroPadding2D((1,1)))\n",
    "model.add(Conv2D(256, (3, 3), activation='relu'))\n",
    "model.add(ZeroPadding2D((1,1)))\n",
    "model.add(Conv2D(256, (3, 3), activation='relu'))\n",
    "model.add(ZeroPadding2D((1,1)))\n",
    "model.add(Conv2D(256, (3, 3), activation='relu'))\n",
    "model.add(MaxPooling2D((2,2), strides=(2,2)))\n",
    "\n",
    "model.add(ZeroPadding2D((1,1)))\n",
    "model.add(Conv2D(512, (3, 3), activation='relu'))\n",
    "model.add(ZeroPadding2D((1,1)))\n",
    "model.add(Conv2D(512, (3, 3), activation='relu'))\n",
    "model.add(ZeroPadding2D((1,1)))\n",
    "model.add(Conv2D(512, (3, 3), activation='relu'))\n",
    "model.add(MaxPooling2D((2,2), strides=(2,2)))\n",
    "\n",
    "model.add(ZeroPadding2D((1,1)))\n",
    "model.add(Conv2D(512, (3, 3), activation='relu'))\n",
    "model.add(ZeroPadding2D((1,1)))\n",
    "model.add(Conv2D(512, (3, 3), activation='relu'))\n",
    "model.add(ZeroPadding2D((1,1)))\n",
    "model.add(Conv2D(512, (3, 3), activation='relu'))\n",
    "model.add(MaxPooling2D((2,2), strides=(2,2)))\n",
    "\n",
    "model.add(Flatten())\n",
    "\n",
    "#top layer of the VGG net\n",
    "model.add(Dense(4096, activation='relu',name=\"fc1\"))\n",
    "model.add(Dropout(0.5))\n",
    "model.add(Dense(4096, activation='relu',name=\"fc2\"))\n",
    "model.add(Dropout(0.5))\n",
    "model.add(Dense(1000, activation='softmax',name=\"last_layer\"))\n",
    "\n",
    "# model.summary() # lo oculto por ahora"
   ]
  },
  {
   "cell_type": "code",
   "execution_count": null,
   "metadata": {},
   "outputs": [],
   "source": [
    "model.load_weights(\"keras_weights/vgg16_weights_tf_dim_ordering_tf_kernels.h5\")"
   ]
  },
  {
   "cell_type": "code",
   "execution_count": null,
   "metadata": {},
   "outputs": [],
   "source": [
    "model.layers.pop()\n",
    "model.outputs = [model.layers[-1].output]\n",
    "model.layers[-1].outbound_nodes = []\n",
    "\n",
    "# activacion softmax para calcular multiclasificacion\n",
    "model.add(Dense(n_categories, activation='softmax',name=\"new_cats\"))"
   ]
  },
  {
   "cell_type": "code",
   "execution_count": null,
   "metadata": {},
   "outputs": [],
   "source": [
    "model.summary()"
   ]
  },
  {
   "cell_type": "code",
   "execution_count": null,
   "metadata": {},
   "outputs": [],
   "source": [
    "# for i, layer in enumerate(model.layers):\n",
    "#     print (i, layer.name, layer.output_shape)"
   ]
  },
  {
   "cell_type": "code",
   "execution_count": null,
   "metadata": {},
   "outputs": [],
   "source": [
    "# congelamos todas salvo las fc1 fc2 y new_cats, en estas los pesos se actualizaran (entrenaran)\n",
    "for layer in model.layers[:31]:\n",
    "    layer.trainable = False"
   ]
  },
  {
   "cell_type": "code",
   "execution_count": null,
   "metadata": {},
   "outputs": [],
   "source": [
    "for i, layer in enumerate(model.layers):\n",
    "    if layer.trainable:\n",
    "        print(\"layer {0:s} is trainable\".format(layer.name))\n",
    "    else:\n",
    "        print(\"layer {0:s} is freezed\".format(layer.name))"
   ]
  },
  {
   "cell_type": "code",
   "execution_count": null,
   "metadata": {},
   "outputs": [],
   "source": [
    "# revisar estos hiperparametros --> leer sobre ellos y tomar decisiones\n",
    "# sgd = SGD(lr=1e-3, decay=1e-6, momentum=0.9, nesterov=True)\n",
    "# model.compile(optimizer=SGD(), loss='categorical_crossentropy', metrics=['accuracy'])\n",
    "\n",
    "# compilamos este como el caso anterior para poder compararlos\n",
    "model.compile(optimizer=SGD(), loss='categorical_crossentropy')"
   ]
  },
  {
   "cell_type": "code",
   "execution_count": null,
   "metadata": {},
   "outputs": [],
   "source": [
    "# ahora ya hay que pasarle lista de fotografias a entrenar"
   ]
  },
  {
   "cell_type": "code",
   "execution_count": null,
   "metadata": {},
   "outputs": [],
   "source": [
    "# https://keras.io/models/sequential/\n",
    "\n",
    "scores = []\n",
    "\n",
    "ti_bn_fit = time()\n",
    "\n",
    "for i, index_path in enumerate(img_list_train):\n",
    "    \n",
    "    # img preparation\n",
    "    img = image.load_img(index_path, target_size=(224, 224), interpolation='lanczos')\n",
    "    x = image.img_to_array(img)\n",
    "    x = np.expand_dims(x, axis=0)\n",
    "    x = preprocess_input(x)\n",
    "    \n",
    "    # model init\n",
    "#     model.fit(x, labels_train[i], verbose=1, validation_split=0.2)\n",
    "    model.fit(x, labels_train[i], verbose=1)\n",
    "\n",
    "    # model eval\n",
    "#     score = model.evaluate(x, labels_train[i], verbose=1)\n",
    "    \n",
    "#     scores.append(score[1] * 100)\n",
    "\n",
    "tf_bn_fit = time()    \n",
    "\n",
    "tt_bn_fit = tf_bn_fit - ti_bn_fit"
   ]
  },
  {
   "cell_type": "code",
   "execution_count": null,
   "metadata": {},
   "outputs": [],
   "source": [
    "import time\n",
    "print(time.strftime(\"%H:%M:%S\", time.gmtime(tt_bn_fit)))"
   ]
  },
  {
   "cell_type": "code",
   "execution_count": null,
   "metadata": {},
   "outputs": [],
   "source": [
    "#resultados"
   ]
  },
  {
   "cell_type": "code",
   "execution_count": null,
   "metadata": {},
   "outputs": [],
   "source": [
    "# https://keras.io/models/sequential/\n",
    "ti_bn_evaluate = time()\n",
    "\n",
    "model.evaluate(img_list_test, labels_test,verbose=1)\n",
    "\n",
    "tf_bn_evaluate = time()    \n",
    "\n",
    "tt_bn_evaluate = tf_bn_evaluate - ti_bn_evaluate"
   ]
  },
  {
   "cell_type": "code",
   "execution_count": null,
   "metadata": {},
   "outputs": [],
   "source": [
    "import time\n",
    "print(time.strftime(\"%H:%M:%S\", time.gmtime(tt_bn_evaluate)))"
   ]
  },
  {
   "cell_type": "code",
   "execution_count": null,
   "metadata": {},
   "outputs": [],
   "source": [
    "#resultados"
   ]
  },
  {
   "cell_type": "code",
   "execution_count": null,
   "metadata": {},
   "outputs": [],
   "source": [
    "# https://keras.io/models/sequential/\n",
    "ti_bn_predict = time()\n",
    "\n",
    "model.predict_classes(img_list_test,verbose=1)\n",
    "\n",
    "tf_bn_predict = time()    \n",
    "\n",
    "tt_bn_predict = tf_bn_predict - ti_bn_predictt"
   ]
  },
  {
   "cell_type": "code",
   "execution_count": null,
   "metadata": {},
   "outputs": [],
   "source": [
    "import time\n",
    "print(time.strftime(\"%H:%M:%S\", time.gmtime(tt_bn_predict)))"
   ]
  },
  {
   "cell_type": "code",
   "execution_count": null,
   "metadata": {},
   "outputs": [],
   "source": [
    "#resultados"
   ]
  }
 ],
 "metadata": {
  "kernelspec": {
   "display_name": "Python 3",
   "language": "python",
   "name": "python3"
  },
  "language_info": {
   "codemirror_mode": {
    "name": "ipython",
    "version": 3
   },
   "file_extension": ".py",
   "mimetype": "text/x-python",
   "name": "python",
   "nbconvert_exporter": "python",
   "pygments_lexer": "ipython3",
   "version": "3.6.3"
  }
 },
 "nbformat": 4,
 "nbformat_minor": 2
}
