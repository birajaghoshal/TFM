{
 "cells": [
  {
   "cell_type": "code",
   "execution_count": 1,
   "metadata": {},
   "outputs": [
    {
     "name": "stderr",
     "output_type": "stream",
     "text": [
      "Using TensorFlow backend.\n"
     ]
    }
   ],
   "source": [
    "from keras.preprocessing.image import ImageDataGenerator, img_to_array, load_img\n",
    "from keras.models import Sequential\n",
    "from keras.layers import Dropout, Flatten, Dense\n",
    "from keras.applications.vgg16 import preprocess_input, VGG16\n",
    "from keras.optimizers import SGD\n",
    "from keras.utils.np_utils import to_categorical\n",
    "\n",
    "import numpy as np\n",
    "import math"
   ]
  },
  {
   "cell_type": "code",
   "execution_count": 2,
   "metadata": {},
   "outputs": [],
   "source": [
    "PATH_TO_DF = \"../data/output_convnet/VGG16\"\n",
    "\n",
    "img_width = 150\n",
    "img_height = 150\n",
    "\n",
    "n_epochs = 50\n",
    "batch_size = 16\n",
    "\n",
    "train_data_dir = \"train\"  \n",
    "validation_data_dir = \"validation\"\n",
    "test_data_dir = \"test\"\n",
    "\n",
    "n_train_samples = 3000\n",
    "n_validation_samples = 1000\n",
    "n_test_samples = 1000\n",
    "n_classes = 8"
   ]
  },
  {
   "cell_type": "code",
   "execution_count": 3,
   "metadata": {},
   "outputs": [
    {
     "name": "stdout",
     "output_type": "stream",
     "text": [
      "Found 3000 images belonging to 8 classes.\n",
      "Found 1000 images belonging to 8 classes.\n"
     ]
    }
   ],
   "source": [
    "# https://b/log.keras.io/building-powerful-image-classification-models-using-very-little-data.html\n",
    "# saving bottleneck features\n",
    "import time\n",
    "\n",
    "ti_bn_features = time.time()\n",
    "\n",
    "model = VGG16(include_top=False, weights='imagenet')\n",
    "\n",
    "datagen = ImageDataGenerator(rescale=1. / 255)\n",
    "\n",
    "'''\n",
    "https://github.com/keras-team/keras/blob/master/keras/preprocessing/image.py#L1002\n",
    "if PIL version 1.1.3 interpolation = 'lanczos'\n",
    "else interpolation = 'bicubic' \n",
    "''' \n",
    "# train\n",
    "generator = datagen.flow_from_directory(\n",
    "    train_data_dir,\n",
    "    target_size = (img_width, img_height),\n",
    "    batch_size = batch_size,\n",
    "    class_mode = None,\n",
    "    shuffle = False,\n",
    "    interpolation = 'lanczos')\n",
    "\n",
    "# important step in order to get the exact number\n",
    "max_queue_size_train = int(math.ceil(n_train_samples / batch_size))\n",
    "\n",
    "bnfeatures_train = model.predict_generator(\n",
    "    generator, max_queue_size_train)\n",
    "\n",
    "np.save('../data/output_convnet/VGG16/VGG16_bnfeatures_train.npy', bnfeatures_train)\n",
    "\n",
    "# validation\n",
    "generator = datagen.flow_from_directory(\n",
    "    validation_data_dir,\n",
    "    target_size=(img_width, img_height),\n",
    "    batch_size=batch_size,\n",
    "    class_mode=None,\n",
    "    shuffle=False,\n",
    "    interpolation = 'lanczos')\n",
    "\n",
    "max_queue_size_val = int(math.ceil(n_validation_samples / batch_size))\n",
    "\n",
    "\n",
    "bnfeatures_val = model.predict_generator(  \n",
    "     generator, max_queue_size_val)\n",
    "\n",
    "np.save('../data/output_convnet/VGG16/VGG16_bnfeatures_val.npy', bnfeatures_val)\n",
    "\n",
    "\n",
    "tf_bn_features = time.time()    \n",
    "tt_bn_features = tf_bn_features - ti_bn_features"
   ]
  },
  {
   "cell_type": "code",
   "execution_count": 4,
   "metadata": {},
   "outputs": [
    {
     "name": "stdout",
     "output_type": "stream",
     "text": [
      "00:00:31\n"
     ]
    }
   ],
   "source": [
    "print(time.strftime(\"%H:%M:%S\", time.gmtime(tt_bn_features)))"
   ]
  },
  {
   "cell_type": "code",
   "execution_count": 5,
   "metadata": {},
   "outputs": [
    {
     "name": "stdout",
     "output_type": "stream",
     "text": [
      "Found 3000 images belonging to 8 classes.\n",
      "Found 1000 images belonging to 8 classes.\n",
      "Train on 3000 samples, validate on 1000 samples\n",
      "Epoch 1/50\n",
      "3000/3000 [==============================] - 1s 440us/step - loss: 1.6519 - acc: 0.4117 - val_loss: 1.2709 - val_acc: 0.5930\n",
      "Epoch 2/50\n",
      "3000/3000 [==============================] - 1s 283us/step - loss: 1.2329 - acc: 0.5883 - val_loss: 1.0211 - val_acc: 0.7410\n",
      "Epoch 3/50\n",
      "3000/3000 [==============================] - 1s 283us/step - loss: 1.0600 - acc: 0.6470 - val_loss: 0.9011 - val_acc: 0.7620\n",
      "Epoch 4/50\n",
      "3000/3000 [==============================] - 1s 282us/step - loss: 0.9548 - acc: 0.6883 - val_loss: 0.8018 - val_acc: 0.7970\n",
      "Epoch 5/50\n",
      "3000/3000 [==============================] - 1s 309us/step - loss: 0.8869 - acc: 0.7067 - val_loss: 0.7437 - val_acc: 0.8070\n",
      "Epoch 6/50\n",
      "3000/3000 [==============================] - 1s 305us/step - loss: 0.8111 - acc: 0.7323 - val_loss: 0.7004 - val_acc: 0.8040\n",
      "Epoch 7/50\n",
      "3000/3000 [==============================] - 1s 289us/step - loss: 0.7703 - acc: 0.7477 - val_loss: 0.6735 - val_acc: 0.7970\n",
      "Epoch 8/50\n",
      "3000/3000 [==============================] - 1s 288us/step - loss: 0.7262 - acc: 0.7647 - val_loss: 0.6457 - val_acc: 0.8010\n",
      "Epoch 9/50\n",
      "3000/3000 [==============================] - 1s 290us/step - loss: 0.7031 - acc: 0.7680 - val_loss: 0.6197 - val_acc: 0.8140\n",
      "Epoch 10/50\n",
      "3000/3000 [==============================] - 1s 284us/step - loss: 0.6722 - acc: 0.7827 - val_loss: 0.5942 - val_acc: 0.8260\n",
      "Epoch 11/50\n",
      "3000/3000 [==============================] - 1s 290us/step - loss: 0.6482 - acc: 0.7877 - val_loss: 0.5753 - val_acc: 0.8260\n",
      "Epoch 12/50\n",
      "3000/3000 [==============================] - 1s 281us/step - loss: 0.6320 - acc: 0.7900 - val_loss: 0.5568 - val_acc: 0.8350\n",
      "Epoch 13/50\n",
      "3000/3000 [==============================] - 1s 297us/step - loss: 0.6060 - acc: 0.8053 - val_loss: 0.5607 - val_acc: 0.8170\n",
      "Epoch 14/50\n",
      "3000/3000 [==============================] - 1s 301us/step - loss: 0.5921 - acc: 0.8053 - val_loss: 0.5362 - val_acc: 0.8310\n",
      "Epoch 15/50\n",
      "3000/3000 [==============================] - 1s 306us/step - loss: 0.5783 - acc: 0.8103 - val_loss: 0.5356 - val_acc: 0.8340\n",
      "Epoch 16/50\n",
      "3000/3000 [==============================] - 1s 311us/step - loss: 0.5762 - acc: 0.8080 - val_loss: 0.5261 - val_acc: 0.8350\n",
      "Epoch 17/50\n",
      "3000/3000 [==============================] - 1s 354us/step - loss: 0.5447 - acc: 0.8297 - val_loss: 0.5220 - val_acc: 0.8260\n",
      "Epoch 18/50\n",
      "3000/3000 [==============================] - 1s 321us/step - loss: 0.5373 - acc: 0.8250 - val_loss: 0.4952 - val_acc: 0.8330\n",
      "Epoch 19/50\n",
      "3000/3000 [==============================] - 1s 300us/step - loss: 0.5372 - acc: 0.8233 - val_loss: 0.4860 - val_acc: 0.8430\n",
      "Epoch 20/50\n",
      "3000/3000 [==============================] - 1s 298us/step - loss: 0.5137 - acc: 0.8350 - val_loss: 0.5050 - val_acc: 0.8400\n",
      "Epoch 21/50\n",
      "3000/3000 [==============================] - 1s 299us/step - loss: 0.5143 - acc: 0.8297 - val_loss: 0.4788 - val_acc: 0.8380\n",
      "Epoch 22/50\n",
      "3000/3000 [==============================] - 1s 282us/step - loss: 0.5128 - acc: 0.8323 - val_loss: 0.4735 - val_acc: 0.8490\n",
      "Epoch 23/50\n",
      "3000/3000 [==============================] - 1s 283us/step - loss: 0.4987 - acc: 0.8423 - val_loss: 0.4768 - val_acc: 0.8400\n",
      "Epoch 24/50\n",
      "3000/3000 [==============================] - 1s 291us/step - loss: 0.4769 - acc: 0.8453 - val_loss: 0.4535 - val_acc: 0.8510\n",
      "Epoch 25/50\n",
      "3000/3000 [==============================] - 1s 280us/step - loss: 0.4734 - acc: 0.8447 - val_loss: 0.4583 - val_acc: 0.8360\n",
      "Epoch 26/50\n",
      "3000/3000 [==============================] - 1s 285us/step - loss: 0.4675 - acc: 0.8480 - val_loss: 0.4502 - val_acc: 0.8460\n",
      "Epoch 27/50\n",
      "3000/3000 [==============================] - 1s 291us/step - loss: 0.4746 - acc: 0.8470 - val_loss: 0.4639 - val_acc: 0.8440\n",
      "Epoch 28/50\n",
      "3000/3000 [==============================] - 1s 315us/step - loss: 0.4484 - acc: 0.8553 - val_loss: 0.4386 - val_acc: 0.8470\n",
      "Epoch 29/50\n",
      "3000/3000 [==============================] - 1s 296us/step - loss: 0.4531 - acc: 0.8520 - val_loss: 0.4398 - val_acc: 0.8550\n",
      "Epoch 30/50\n",
      "3000/3000 [==============================] - 1s 281us/step - loss: 0.4449 - acc: 0.8570 - val_loss: 0.4378 - val_acc: 0.8570\n",
      "Epoch 31/50\n",
      "3000/3000 [==============================] - 1s 286us/step - loss: 0.4380 - acc: 0.8543 - val_loss: 0.4294 - val_acc: 0.8490\n",
      "Epoch 32/50\n",
      "3000/3000 [==============================] - 1s 285us/step - loss: 0.4263 - acc: 0.8607 - val_loss: 0.4383 - val_acc: 0.8420\n",
      "Epoch 33/50\n",
      "3000/3000 [==============================] - 1s 292us/step - loss: 0.4244 - acc: 0.8653 - val_loss: 0.4543 - val_acc: 0.8470\n",
      "Epoch 34/50\n",
      "3000/3000 [==============================] - 1s 290us/step - loss: 0.4234 - acc: 0.8630 - val_loss: 0.4271 - val_acc: 0.8540\n",
      "Epoch 35/50\n",
      "3000/3000 [==============================] - 1s 285us/step - loss: 0.4189 - acc: 0.8693 - val_loss: 0.4127 - val_acc: 0.8560\n",
      "Epoch 36/50\n",
      "3000/3000 [==============================] - 1s 279us/step - loss: 0.4130 - acc: 0.8653 - val_loss: 0.4138 - val_acc: 0.8540\n",
      "Epoch 37/50\n",
      "3000/3000 [==============================] - 1s 287us/step - loss: 0.4083 - acc: 0.8700 - val_loss: 0.4081 - val_acc: 0.8530\n",
      "Epoch 38/50\n",
      "3000/3000 [==============================] - 1s 293us/step - loss: 0.4156 - acc: 0.8667 - val_loss: 0.4062 - val_acc: 0.8630\n",
      "Epoch 39/50\n",
      "3000/3000 [==============================] - 1s 298us/step - loss: 0.4040 - acc: 0.8707 - val_loss: 0.4012 - val_acc: 0.8630\n",
      "Epoch 40/50\n",
      "3000/3000 [==============================] - 1s 289us/step - loss: 0.4076 - acc: 0.8727 - val_loss: 0.4035 - val_acc: 0.8630\n",
      "Epoch 41/50\n",
      "3000/3000 [==============================] - 1s 290us/step - loss: 0.3845 - acc: 0.8813 - val_loss: 0.4020 - val_acc: 0.8600\n",
      "Epoch 42/50\n",
      "3000/3000 [==============================] - 1s 285us/step - loss: 0.3803 - acc: 0.8770 - val_loss: 0.3948 - val_acc: 0.8550\n",
      "Epoch 43/50\n",
      "3000/3000 [==============================] - 1s 293us/step - loss: 0.3884 - acc: 0.8800 - val_loss: 0.3979 - val_acc: 0.8600\n",
      "Epoch 44/50\n",
      "3000/3000 [==============================] - 1s 291us/step - loss: 0.3794 - acc: 0.8750 - val_loss: 0.3910 - val_acc: 0.8640\n",
      "Epoch 45/50\n",
      "3000/3000 [==============================] - 1s 278us/step - loss: 0.3675 - acc: 0.8790 - val_loss: 0.3898 - val_acc: 0.8600\n",
      "Epoch 46/50\n",
      "3000/3000 [==============================] - 1s 292us/step - loss: 0.3750 - acc: 0.8813 - val_loss: 0.3879 - val_acc: 0.8640\n",
      "Epoch 47/50\n",
      "3000/3000 [==============================] - 1s 290us/step - loss: 0.3561 - acc: 0.8860 - val_loss: 0.3901 - val_acc: 0.8650\n",
      "Epoch 48/50\n",
      "3000/3000 [==============================] - 1s 289us/step - loss: 0.3703 - acc: 0.8817 - val_loss: 0.3945 - val_acc: 0.8590\n",
      "Epoch 49/50\n",
      "3000/3000 [==============================] - 1s 303us/step - loss: 0.3593 - acc: 0.8863 - val_loss: 0.3844 - val_acc: 0.8710\n",
      "Epoch 50/50\n",
      "3000/3000 [==============================] - 1s 290us/step - loss: 0.3540 - acc: 0.8937 - val_loss: 0.3901 - val_acc: 0.8650\n"
     ]
    }
   ],
   "source": [
    "# training top layer\n",
    "import os\n",
    "\n",
    "ti_bn_train = time.time()\n",
    "\n",
    "# we have to get the classes names so we build again a generator\n",
    "datagen_top_layer = ImageDataGenerator(rescale=1./255)  \n",
    "\n",
    "# train\n",
    "generator_top_layer = datagen_top_layer.flow_from_directory(\n",
    "    train_data_dir,  \n",
    "    target_size=(img_width, img_height),  \n",
    "    batch_size=batch_size,  \n",
    "    class_mode='categorical',  \n",
    "    shuffle=False,\n",
    "    interpolation = 'lanczos')  \n",
    "\n",
    "train_data = np.load('../data/output_convnet/VGG16/VGG16_bnfeatures_train.npy')\n",
    "\n",
    "# ref attribute classes --> https://keras.io/preprocessing/image/\n",
    "train_labels = generator_top_layer.classes # the key attribute\n",
    "train_labels = to_categorical(train_labels, num_classes=n_classes) # the key function\n",
    "\n",
    "# validation\n",
    "generator_top_layer = datagen_top_layer.flow_from_directory(  \n",
    "    validation_data_dir,  \n",
    "    target_size=(img_width, img_height),  \n",
    "    batch_size=batch_size,  \n",
    "    class_mode=None,  \n",
    "    shuffle=False,\n",
    "    interpolation = 'lanczos')  \n",
    "\n",
    "# val_data = np.load('../data/output_convnet/VGG16/bnfeatures_val.npy')\n",
    "val_data = np.load('../data/output_convnet/VGG16/VGG16_bnfeatures_val.npy') \n",
    "\n",
    "val_labels = generator_top_layer.classes # the key attribute\n",
    "val_labels = to_categorical(val_labels, num_classes=n_classes) # the key function\n",
    "\n",
    "\n",
    "# top model, could be with a diff dense, optimizer, momentum -> https://keras.io/optimizers/\n",
    "model = Sequential()  \n",
    "model.add(Flatten(input_shape=train_data.shape[1:]))  \n",
    "model.add(Dense(256, activation='relu'))  \n",
    "model.add(Dropout(0.5))  \n",
    "model.add(Dense(n_classes, activation='softmax'))  \n",
    "\n",
    "\n",
    "model.compile(optimizer=SGD(lr=0.001),\n",
    "              loss='categorical_crossentropy', metrics=['accuracy']) \n",
    "\n",
    "\n",
    "historical_data = model.fit(train_data, train_labels,\n",
    "                    epochs=n_epochs,\n",
    "                    batch_size=batch_size,\n",
    "                    validation_data=(val_data, val_labels))  \n",
    "\n",
    "# h5py\n",
    "model.save_weights('../data/output_convnet/VGG16/VGG16_bn_model.h5')  \n",
    "\n",
    "tf_bn_train = time.time()    \n",
    "tt_bn_train = tf_bn_train - ti_bn_train"
   ]
  },
  {
   "cell_type": "code",
   "execution_count": 6,
   "metadata": {},
   "outputs": [
    {
     "name": "stdout",
     "output_type": "stream",
     "text": [
      "00:00:44\n"
     ]
    }
   ],
   "source": [
    "print(time.strftime(\"%H:%M:%S\", time.gmtime(tt_bn_train)))"
   ]
  },
  {
   "cell_type": "code",
   "execution_count": 7,
   "metadata": {},
   "outputs": [
    {
     "name": "stdout",
     "output_type": "stream",
     "text": [
      "['dense_1', 'dense_2', 'dropout_1', 'flatten_1']\n"
     ]
    }
   ],
   "source": [
    "import h5py\n",
    "hdf5_file = h5py.File('../data/output_convnet/VGG16/VGG16_bn_model.h5', mode='r')\n",
    "print(list(hdf5_file))"
   ]
  },
  {
   "cell_type": "code",
   "execution_count": 8,
   "metadata": {},
   "outputs": [
    {
     "name": "stdout",
     "output_type": "stream",
     "text": [
      "acc: 86.50% - loss: 0.390120\n"
     ]
    }
   ],
   "source": [
    "(loss, acc) = model.evaluate(val_data, val_labels, batch_size=batch_size, verbose=0)\n",
    "print(\"acc: {0:.2f}% - loss: {1:f}\".format(acc * 100, loss))  "
   ]
  },
  {
   "cell_type": "code",
   "execution_count": 9,
   "metadata": {},
   "outputs": [
    {
     "data": {
      "image/png": "[encoded data removed]",
      "text/plain": [
       "<matplotlib.figure.Figure at 0x7fe5728910b8>"
      ]
     },
     "metadata": {},
     "output_type": "display_data"
    }
   ],
   "source": [
    "# historical_data.history acc and loss data over the epochs (train and validation)\n",
    "import matplotlib.pyplot as plt\n",
    "\n",
    "train_acc = historical_data.history['acc']\n",
    "train_loss = historical_data.history['loss']\n",
    "\n",
    "val_acc = historical_data.history['val_acc'] # validation\n",
    "val_loss = historical_data.history['val_loss'] # validation\n",
    "\n",
    "range_epochs = range(n_epochs)\n",
    "\n",
    "fig = plt.figure(figsize=(20, 6))\n",
    "\n",
    "fig.add_subplot(1,2,1)\n",
    "plt.plot(range_epochs, train_acc, 'bo', label='Training acc')\n",
    "plt.plot(range_epochs, val_acc, 'b', label='Validation acc')\n",
    "plt.title('Training and validation accuracy')\n",
    "plt.legend()\n",
    "\n",
    "# plt.figure()\n",
    "fig.add_subplot(1,2,2)\n",
    "plt.plot(range_epochs, train_loss, 'bo', label='Training loss')\n",
    "plt.plot(range_epochs, val_loss, 'b', label='Validation loss')\n",
    "plt.title('Training and validation loss')\n",
    "plt.legend()\n",
    "\n",
    "plt.savefig(os.path.join(PATH_TO_DF, \"VGG16_bn_acc_loss.png\"), bbox_inches='tight') # png 70kb vs jpg 135 kb\n",
    "plt.show()"
   ]
  }
 ],
 "metadata": {
  "kernelspec": {
   "display_name": "Python 3",
   "language": "python",
   "name": "python3"
  },
  "language_info": {
   "codemirror_mode": {
    "name": "ipython",
    "version": 3
   },
   "file_extension": ".py",
   "mimetype": "text/x-python",
   "name": "python",
   "nbconvert_exporter": "python",
   "pygments_lexer": "ipython3",
   "version": "3.6.2"
  }
 },
 "nbformat": 4,
 "nbformat_minor": 2
}
