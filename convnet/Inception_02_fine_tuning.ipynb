{
 "cells": [
  {
   "cell_type": "code",
   "execution_count": 1,
   "metadata": {},
   "outputs": [
    {
     "name": "stderr",
     "output_type": "stream",
     "text": [
      "Using TensorFlow backend.\n"
     ]
    }
   ],
   "source": [
    "# check them out\n",
    "from keras.preprocessing.image import ImageDataGenerator, img_to_array, load_img\n",
    "from keras.models import Sequential\n",
    "from keras.layers import Dropout, Flatten, Dense\n",
    "from keras.applications.vgg16 import preprocess_input\n",
    "from keras.optimizers import SGD\n",
    "from keras.utils.np_utils import to_categorical\n",
    "from keras.applications.inception_v3 import InceptionV3\n",
    "from keras.preprocessing import image\n",
    "from keras.models import Model\n",
    "from keras.layers import Dense, GlobalAveragePooling2D\n",
    "from keras import backend as K\n",
    "\n",
    "import numpy as np\n",
    "import math"
   ]
  },
  {
   "cell_type": "code",
   "execution_count": 2,
   "metadata": {},
   "outputs": [],
   "source": [
    "PATH_TO_DF = \"../data/output_convnet/VGG16\"\n",
    "\n",
    "img_width = 150\n",
    "img_height = 150\n",
    "\n",
    "n_epochs = 50\n",
    "batch_size = 16\n",
    "\n",
    "train_data_dir = \"train\"  \n",
    "validation_data_dir = \"validation\"\n",
    "test_data_dir = \"test\"\n",
    "\n",
    "n_train_samples = 3000\n",
    "n_validation_samples = 1000\n",
    "n_test_samples = 1000\n",
    "n_classes = 8"
   ]
  },
  {
   "cell_type": "code",
   "execution_count": 6,
   "metadata": {},
   "outputs": [
    {
     "name": "stdout",
     "output_type": "stream",
     "text": [
      "Found 3000 images belonging to 8 classes.\n",
      "Found 1000 images belonging to 8 classes.\n"
     ]
    }
   ],
   "source": [
    "import time\n",
    "\n",
    "ti_bn_features = time.time()\n",
    "\n",
    "model = InceptionV3(include_top=False, weights='imagenet')\n",
    "\n",
    "datagen = ImageDataGenerator(rescale=1. / 255)\n",
    "\n",
    "'''\n",
    "https://github.com/keras-team/keras/blob/master/keras/preprocessing/image.py#L1002\n",
    "if PIL version 1.1.3 interpolation = 'lanczos'\n",
    "else interpolation = 'bicubic' \n",
    "''' \n",
    "\n",
    "# train\n",
    "generator = datagen.flow_from_directory(\n",
    "    train_data_dir,\n",
    "    target_size = (img_width, img_height),\n",
    "    batch_size = batch_size,\n",
    "    class_mode = None,\n",
    "    shuffle = False,\n",
    "    interpolation = 'lanczos')\n",
    "\n",
    "# important step in order to get the exact number\n",
    "max_queue_size_train = int(math.ceil(n_train_samples / batch_size))\n",
    "\n",
    "bnfeatures_train = model.predict_generator(\n",
    "    generator, max_queue_size_train)\n",
    "\n",
    "np.save('../data/output_convnet/Inception/inception_bnfeatures_train.npy', bnfeatures_train)\n",
    "\n",
    "# validation\n",
    "generator = datagen.flow_from_directory(\n",
    "    validation_data_dir,\n",
    "    target_size=(img_width, img_height),\n",
    "    batch_size=batch_size,\n",
    "    class_mode=None,\n",
    "    shuffle=False,\n",
    "    interpolation = 'lanczos')\n",
    "\n",
    "max_queue_size_val = int(math.ceil(n_validation_samples / batch_size))\n",
    "\n",
    "\n",
    "bnfeatures_val = model.predict_generator(  \n",
    "     generator, max_queue_size_val)\n",
    "\n",
    "np.save('../data/output_convnet/Inception/inception_bnfeatures_val.npy', bnfeatures_val)\n",
    "\n",
    "\n",
    "tf_bn_features = time.time()    \n",
    "tt_bn_features = tf_bn_features - ti_bn_features"
   ]
  },
  {
   "cell_type": "code",
   "execution_count": 7,
   "metadata": {},
   "outputs": [
    {
     "name": "stdout",
     "output_type": "stream",
     "text": [
      "00:00:25\n"
     ]
    }
   ],
   "source": [
    "print(time.strftime(\"%H:%M:%S\", time.gmtime(tt_bn_features)))"
   ]
  },
  {
   "cell_type": "code",
   "execution_count": 8,
   "metadata": {},
   "outputs": [
    {
     "name": "stdout",
     "output_type": "stream",
     "text": [
      "Found 3000 images belonging to 8 classes.\n",
      "Found 1000 images belonging to 8 classes.\n",
      "Train on 3000 samples, validate on 1000 samples\n",
      "Epoch 1/50\n",
      "3000/3000 [==============================] - 2s 810us/step - loss: 1.4343 - acc: 0.5513 - val_loss: 0.8317 - val_acc: 0.7690\n",
      "Epoch 2/50\n",
      "3000/3000 [==============================] - 2s 503us/step - loss: 0.8116 - acc: 0.7490 - val_loss: 0.6677 - val_acc: 0.8110\n",
      "Epoch 3/50\n",
      "3000/3000 [==============================] - 2s 531us/step - loss: 0.6434 - acc: 0.8010 - val_loss: 0.5998 - val_acc: 0.8100\n",
      "Epoch 4/50\n",
      "3000/3000 [==============================] - 2s 577us/step - loss: 0.5259 - acc: 0.8413 - val_loss: 0.5362 - val_acc: 0.8250\n",
      "Epoch 5/50\n",
      "3000/3000 [==============================] - 2s 510us/step - loss: 0.4401 - acc: 0.8600 - val_loss: 0.5046 - val_acc: 0.8210\n",
      "Epoch 6/50\n",
      "3000/3000 [==============================] - 2s 516us/step - loss: 0.3925 - acc: 0.8833 - val_loss: 0.4869 - val_acc: 0.8360\n",
      "Epoch 7/50\n",
      "3000/3000 [==============================] - 2s 517us/step - loss: 0.3662 - acc: 0.8857 - val_loss: 0.4716 - val_acc: 0.8450\n",
      "Epoch 8/50\n",
      "3000/3000 [==============================] - 2s 522us/step - loss: 0.3254 - acc: 0.9033 - val_loss: 0.4495 - val_acc: 0.8510\n",
      "Epoch 9/50\n",
      "3000/3000 [==============================] - 2s 530us/step - loss: 0.2911 - acc: 0.9173 - val_loss: 0.4481 - val_acc: 0.8480\n",
      "Epoch 10/50\n",
      "3000/3000 [==============================] - 2s 522us/step - loss: 0.2619 - acc: 0.9247 - val_loss: 0.4465 - val_acc: 0.8500\n",
      "Epoch 11/50\n",
      "3000/3000 [==============================] - 2s 510us/step - loss: 0.2512 - acc: 0.9273 - val_loss: 0.4346 - val_acc: 0.8570\n",
      "Epoch 12/50\n",
      "3000/3000 [==============================] - 2s 542us/step - loss: 0.2318 - acc: 0.9357 - val_loss: 0.4371 - val_acc: 0.8540\n",
      "Epoch 13/50\n",
      "3000/3000 [==============================] - 2s 522us/step - loss: 0.2179 - acc: 0.9453 - val_loss: 0.4377 - val_acc: 0.8520\n",
      "Epoch 14/50\n",
      "3000/3000 [==============================] - 2s 516us/step - loss: 0.1976 - acc: 0.9490 - val_loss: 0.4261 - val_acc: 0.8570\n",
      "Epoch 15/50\n",
      "3000/3000 [==============================] - 2s 516us/step - loss: 0.1838 - acc: 0.9550 - val_loss: 0.4177 - val_acc: 0.8580\n",
      "Epoch 16/50\n",
      "3000/3000 [==============================] - 2s 527us/step - loss: 0.1800 - acc: 0.9557 - val_loss: 0.4216 - val_acc: 0.8600\n",
      "Epoch 17/50\n",
      "3000/3000 [==============================] - 2s 523us/step - loss: 0.1695 - acc: 0.9577 - val_loss: 0.4106 - val_acc: 0.8650\n",
      "Epoch 18/50\n",
      "3000/3000 [==============================] - 2s 542us/step - loss: 0.1560 - acc: 0.9647 - val_loss: 0.4128 - val_acc: 0.8600\n",
      "Epoch 19/50\n",
      "3000/3000 [==============================] - 2s 506us/step - loss: 0.1536 - acc: 0.9603 - val_loss: 0.4100 - val_acc: 0.8660\n",
      "Epoch 20/50\n",
      "3000/3000 [==============================] - 2s 505us/step - loss: 0.1446 - acc: 0.9663 - val_loss: 0.4068 - val_acc: 0.8590\n",
      "Epoch 21/50\n",
      "3000/3000 [==============================] - 2s 506us/step - loss: 0.1355 - acc: 0.9663 - val_loss: 0.4068 - val_acc: 0.8600\n",
      "Epoch 22/50\n",
      "3000/3000 [==============================] - 2s 515us/step - loss: 0.1329 - acc: 0.9710 - val_loss: 0.4072 - val_acc: 0.8630\n",
      "Epoch 23/50\n",
      "3000/3000 [==============================] - 2s 504us/step - loss: 0.1274 - acc: 0.9733 - val_loss: 0.4102 - val_acc: 0.8660\n",
      "Epoch 24/50\n",
      "3000/3000 [==============================] - 2s 534us/step - loss: 0.1183 - acc: 0.9700 - val_loss: 0.4111 - val_acc: 0.8610\n",
      "Epoch 25/50\n",
      "3000/3000 [==============================] - 2s 506us/step - loss: 0.1129 - acc: 0.9760 - val_loss: 0.4050 - val_acc: 0.8640\n",
      "Epoch 26/50\n",
      "3000/3000 [==============================] - 2s 535us/step - loss: 0.1154 - acc: 0.9757 - val_loss: 0.4064 - val_acc: 0.8650\n",
      "Epoch 27/50\n",
      "3000/3000 [==============================] - 2s 520us/step - loss: 0.1026 - acc: 0.9807 - val_loss: 0.4097 - val_acc: 0.8600\n",
      "Epoch 28/50\n",
      "3000/3000 [==============================] - 2s 516us/step - loss: 0.0981 - acc: 0.9830 - val_loss: 0.4106 - val_acc: 0.8640\n",
      "Epoch 29/50\n",
      "3000/3000 [==============================] - 2s 526us/step - loss: 0.0991 - acc: 0.9817 - val_loss: 0.4060 - val_acc: 0.8710\n",
      "Epoch 30/50\n",
      "3000/3000 [==============================] - 2s 522us/step - loss: 0.0978 - acc: 0.9823 - val_loss: 0.4017 - val_acc: 0.8730\n",
      "Epoch 31/50\n",
      "3000/3000 [==============================] - 2s 521us/step - loss: 0.0958 - acc: 0.9803 - val_loss: 0.4039 - val_acc: 0.8680\n",
      "Epoch 32/50\n",
      "3000/3000 [==============================] - 2s 517us/step - loss: 0.0911 - acc: 0.9837 - val_loss: 0.4034 - val_acc: 0.8600\n",
      "Epoch 33/50\n",
      "3000/3000 [==============================] - 2s 545us/step - loss: 0.0876 - acc: 0.9833 - val_loss: 0.4039 - val_acc: 0.8680\n",
      "Epoch 34/50\n",
      "3000/3000 [==============================] - 2s 558us/step - loss: 0.0837 - acc: 0.9863 - val_loss: 0.4034 - val_acc: 0.8650\n",
      "Epoch 35/50\n",
      "3000/3000 [==============================] - 2s 516us/step - loss: 0.0817 - acc: 0.9860 - val_loss: 0.4054 - val_acc: 0.8640\n",
      "Epoch 36/50\n",
      "3000/3000 [==============================] - 2s 512us/step - loss: 0.0768 - acc: 0.9853 - val_loss: 0.4036 - val_acc: 0.8660\n",
      "Epoch 37/50\n",
      "3000/3000 [==============================] - 2s 547us/step - loss: 0.0790 - acc: 0.9830 - val_loss: 0.4044 - val_acc: 0.8650\n",
      "Epoch 38/50\n",
      "3000/3000 [==============================] - 2s 534us/step - loss: 0.0721 - acc: 0.9880 - val_loss: 0.4060 - val_acc: 0.8680\n",
      "Epoch 39/50\n",
      "3000/3000 [==============================] - 2s 515us/step - loss: 0.0694 - acc: 0.9880 - val_loss: 0.4111 - val_acc: 0.8700\n",
      "Epoch 40/50\n",
      "3000/3000 [==============================] - 2s 508us/step - loss: 0.0684 - acc: 0.9910 - val_loss: 0.4089 - val_acc: 0.8700\n",
      "Epoch 41/50\n",
      "3000/3000 [==============================] - 2s 540us/step - loss: 0.0674 - acc: 0.9913 - val_loss: 0.4068 - val_acc: 0.8720\n",
      "Epoch 42/50\n",
      "3000/3000 [==============================] - 2s 512us/step - loss: 0.0675 - acc: 0.9893 - val_loss: 0.4050 - val_acc: 0.8690\n",
      "Epoch 43/50\n",
      "3000/3000 [==============================] - 2s 521us/step - loss: 0.0636 - acc: 0.9883 - val_loss: 0.4063 - val_acc: 0.8640\n",
      "Epoch 44/50\n",
      "3000/3000 [==============================] - 2s 515us/step - loss: 0.0611 - acc: 0.9917 - val_loss: 0.4156 - val_acc: 0.8690\n",
      "Epoch 45/50\n",
      "3000/3000 [==============================] - 2s 550us/step - loss: 0.0560 - acc: 0.9910 - val_loss: 0.4137 - val_acc: 0.8670\n",
      "Epoch 46/50\n",
      "3000/3000 [==============================] - 2s 537us/step - loss: 0.0570 - acc: 0.9940 - val_loss: 0.4122 - val_acc: 0.8670\n",
      "Epoch 47/50\n",
      "3000/3000 [==============================] - 2s 531us/step - loss: 0.0582 - acc: 0.9913 - val_loss: 0.4100 - val_acc: 0.8670\n",
      "Epoch 48/50\n",
      "3000/3000 [==============================] - 2s 501us/step - loss: 0.0539 - acc: 0.9917 - val_loss: 0.4135 - val_acc: 0.8620\n",
      "Epoch 49/50\n",
      "3000/3000 [==============================] - 2s 503us/step - loss: 0.0548 - acc: 0.9923 - val_loss: 0.4089 - val_acc: 0.8680\n",
      "Epoch 50/50\n",
      "3000/3000 [==============================] - 2s 506us/step - loss: 0.0553 - acc: 0.9900 - val_loss: 0.4101 - val_acc: 0.8630\n"
     ]
    }
   ],
   "source": [
    "# training top layer\n",
    "import os\n",
    "\n",
    "ti_bn_train = time.time()\n",
    "\n",
    "# we have to get the classes names so we build again a generator\n",
    "datagen_top_layer = ImageDataGenerator(rescale=1./255)  \n",
    "\n",
    "# train\n",
    "generator_top_layer = datagen_top_layer.flow_from_directory(\n",
    "    train_data_dir,  \n",
    "    target_size=(img_width, img_height),  \n",
    "    batch_size=batch_size,  \n",
    "    class_mode='categorical',  \n",
    "    shuffle=False,\n",
    "    interpolation = 'lanczos')  \n",
    "\n",
    "train_data = np.load('../data/output_convnet/Inception/inception_bnfeatures_train.npy')\n",
    "\n",
    "# ref attribute classes --> https://keras.io/preprocessing/image/\n",
    "train_labels = generator_top_layer.classes # the key attribute\n",
    "train_labels = to_categorical(train_labels, num_classes=n_classes) # the key function\n",
    "\n",
    "# validation\n",
    "generator_top_layer = datagen_top_layer.flow_from_directory(  \n",
    "    validation_data_dir,  \n",
    "    target_size=(img_width, img_height),  \n",
    "    batch_size=batch_size,  \n",
    "    class_mode=None,  \n",
    "    shuffle=False,\n",
    "    interpolation = 'lanczos')  \n",
    "\n",
    "val_data = np.load('../data/output_convnet/Inception/inception_bnfeatures_val.npy') \n",
    "\n",
    "val_labels = generator_top_layer.classes # the key attribute\n",
    "val_labels = to_categorical(val_labels, num_classes=n_classes) # the key function\n",
    "\n",
    "\n",
    "# top model, could be with a diff dense, optimizer, momentum -> https://keras.io/optimizers/\n",
    "model = Sequential()  \n",
    "model.add(Flatten(input_shape=train_data.shape[1:]))  \n",
    "model.add(Dense(256, activation='relu'))  \n",
    "model.add(Dropout(0.5))  \n",
    "model.add(Dense(n_classes, activation='softmax'))  \n",
    "\n",
    "\n",
    "model.compile(optimizer=SGD(lr=0.001),\n",
    "              loss='categorical_crossentropy', metrics=['accuracy']) \n",
    "\n",
    "\n",
    "historical_data = model.fit(train_data, train_labels,\n",
    "                    epochs=n_epochs,\n",
    "                    batch_size=batch_size,\n",
    "                    validation_data=(val_data, val_labels))  \n",
    "\n",
    "# h5py\n",
    "model.save_weights('../data/output_convnet/Inception/inception_bn_model.h5')  \n",
    "\n",
    "tf_bn_train = time.time()    \n",
    "tt_bn_train = tf_bn_train - ti_bn_train"
   ]
  },
  {
   "cell_type": "code",
   "execution_count": 9,
   "metadata": {},
   "outputs": [
    {
     "name": "stdout",
     "output_type": "stream",
     "text": [
      "00:01:19\n"
     ]
    }
   ],
   "source": [
    "print(time.strftime(\"%H:%M:%S\", time.gmtime(tt_bn_train)))"
   ]
  },
  {
   "cell_type": "code",
   "execution_count": 10,
   "metadata": {},
   "outputs": [
    {
     "name": "stdout",
     "output_type": "stream",
     "text": [
      "['dense_1', 'dense_2', 'dropout_1', 'flatten_1']\n"
     ]
    }
   ],
   "source": [
    "import h5py\n",
    "hdf5_file = h5py.File('../data/output_convnet/Inception/inception_bn_model.h5', mode='r')\n",
    "print(list(hdf5_file))"
   ]
  },
  {
   "cell_type": "code",
   "execution_count": 11,
   "metadata": {},
   "outputs": [
    {
     "name": "stdout",
     "output_type": "stream",
     "text": [
      "acc: 86.30% - loss: 0.410055\n"
     ]
    }
   ],
   "source": [
    "(loss, acc) = model.evaluate(val_data, val_labels, batch_size=batch_size, verbose=0)\n",
    "print(\"acc: {0:.2f}% - loss: {1:f}\".format(acc * 100, loss))  "
   ]
  },
  {
   "cell_type": "code",
   "execution_count": 13,
   "metadata": {},
   "outputs": [
    {
     "data": {
      "image/png": "[encoded data removed]",
      "text/plain": [
       "<matplotlib.figure.Figure at 0x7fad146718d0>"
      ]
     },
     "metadata": {},
     "output_type": "display_data"
    }
   ],
   "source": [
    "# historical_data.history acc and loss data over the epochs (train and validation)\n",
    "import matplotlib.pyplot as plt\n",
    "\n",
    "train_acc = historical_data.history['acc']\n",
    "train_loss = historical_data.history['loss']\n",
    "\n",
    "val_acc = historical_data.history['val_acc'] # validation\n",
    "val_loss = historical_data.history['val_loss'] # validation\n",
    "\n",
    "range_epochs = range(n_epochs)\n",
    "\n",
    "fig = plt.figure(figsize=(20, 6))\n",
    "\n",
    "fig.add_subplot(1,2,1)\n",
    "plt.plot(range_epochs, train_acc, 'bo', label='Training acc')\n",
    "plt.plot(range_epochs, val_acc, 'b', label='Validation acc')\n",
    "plt.title('Training and validation accuracy')\n",
    "plt.legend()\n",
    "\n",
    "# plt.figure()\n",
    "fig.add_subplot(1,2,2)\n",
    "plt.plot(range_epochs, train_loss, 'bo', label='Training loss')\n",
    "plt.plot(range_epochs, val_loss, 'b', label='Validation loss')\n",
    "plt.title('Training and validation loss')\n",
    "plt.legend()\n",
    "\n",
    "plt.savefig(os.path.join(PATH_TO_DF, \"inception_bn_acc_loss.png\"), bbox_inches='tight') # png 70kb vs jpg 135 kb\n",
    "plt.show()"
   ]
  },
  {
   "cell_type": "code",
   "execution_count": null,
   "metadata": {},
   "outputs": [],
   "source": [
    "top_model_weights_path = '../data/output_convnet/bn_inception_model.h5'\n",
    "\n",
    "batch_size = 5 # con 5 funciona con 16 es imposible probar con 10"
   ]
  },
  {
   "cell_type": "code",
   "execution_count": null,
   "metadata": {},
   "outputs": [],
   "source": [
    "from keras import applications\n",
    "from keras.preprocessing.image import ImageDataGenerator\n",
    "# from keras import optimizers\n",
    "from keras.optimizers import SGD\n",
    "from keras.models import Sequential\n",
    "from keras.layers import Dropout, Flatten, Dense\n",
    "\n",
    "from keras import applications\n",
    "from keras.preprocessing.image import ImageDataGenerator\n",
    "from keras import optimizers\n",
    "from keras.models import Sequential, Model\n",
    "from keras.layers import Dropout, Flatten, Dense, Input"
   ]
  },
  {
   "cell_type": "code",
   "execution_count": null,
   "metadata": {},
   "outputs": [],
   "source": [
    "input_tensor = Input(shape=(img_width,img_height,3))\n",
    "base_model = InceptionV3(weights='imagenet', include_top=False, input_tensor=input_tensor)\n",
    "print(\"model loaded\")"
   ]
  },
  {
   "cell_type": "code",
   "execution_count": null,
   "metadata": {},
   "outputs": [],
   "source": [
    "base_model.output_shape[1:]"
   ]
  },
  {
   "cell_type": "code",
   "execution_count": null,
   "metadata": {},
   "outputs": [],
   "source": [
    "# build a classifier model to put on top of the convolutional model\n",
    "top_model = Sequential()\n",
    "# model.add(Flatten(input_shape=train_data.shape[1:]))\n",
    "top_model.add(GlobalAveragePooling2D(input_shape=train_data.shape[1:]))\n",
    "top_model.add(Dense(1024, activation='relu'))\n",
    "top_model.add(Dense(num_classes, activation='softmax'))"
   ]
  },
  {
   "cell_type": "code",
   "execution_count": null,
   "metadata": {},
   "outputs": [],
   "source": [
    "# for i, layer in enumerate(base_model.layers):\n",
    "#     print (i, layer.name, layer.output_shape)"
   ]
  },
  {
   "cell_type": "code",
   "execution_count": null,
   "metadata": {},
   "outputs": [],
   "source": [
    "for i, layer in enumerate(top_model.layers):\n",
    "    print (i, layer.name, layer.output_shape)"
   ]
  },
  {
   "cell_type": "code",
   "execution_count": null,
   "metadata": {},
   "outputs": [],
   "source": [
    "top_model.load_weights(\"../data/output_convnet/bn_inception_model.h5\")"
   ]
  },
  {
   "cell_type": "code",
   "execution_count": null,
   "metadata": {},
   "outputs": [],
   "source": [
    "model_total = Model(input= base_model.input, output= top_model(base_model.output))"
   ]
  },
  {
   "cell_type": "code",
   "execution_count": null,
   "metadata": {},
   "outputs": [],
   "source": [
    "for layer in model_total.layers[:280]:\n",
    "    layer.trainable = False\n",
    "for layer in model_total.layers[280:]:\n",
    "    layer.trainable = True"
   ]
  },
  {
   "cell_type": "code",
   "execution_count": null,
   "metadata": {},
   "outputs": [],
   "source": [
    "# for i, layer in enumerate(model_total.layers):\n",
    "#     if layer.trainable:\n",
    "#         print(\"layer {0:d}, {1:s} is trainable\".format(i, layer.name))\n",
    "#     else:\n",
    "#         print(\"layer {0:d}, {1:s} is freezed\".format(i, layer.name))"
   ]
  },
  {
   "cell_type": "code",
   "execution_count": null,
   "metadata": {},
   "outputs": [],
   "source": [
    "model_total.compile(optimizer=SGD(lr=0.0001, momentum=0.9),\n",
    "              loss='categorical_crossentropy', metrics=['accuracy']) "
   ]
  },
  {
   "cell_type": "code",
   "execution_count": null,
   "metadata": {},
   "outputs": [],
   "source": [
    "# prepare data augmentation configuration\n",
    "train_datagen = ImageDataGenerator(\n",
    "    rescale=1. / 255,\n",
    "    shear_range=0.2,\n",
    "    zoom_range=0.2,\n",
    "    horizontal_flip=True)\n",
    "\n",
    "test_datagen = ImageDataGenerator(rescale=1. / 255)\n",
    "\n",
    "train_generator = train_datagen.flow_from_directory(\n",
    "    train_data_dir,\n",
    "    target_size=(img_height, img_width),\n",
    "    batch_size=batch_size,\n",
    "    class_mode='categorical')\n",
    "\n",
    "validation_generator = test_datagen.flow_from_directory(\n",
    "    validation_data_dir,\n",
    "    target_size=(img_height, img_width),\n",
    "    batch_size=batch_size,\n",
    "    class_mode='categorical')"
   ]
  },
  {
   "cell_type": "code",
   "execution_count": null,
   "metadata": {},
   "outputs": [],
   "source": [
    "import time\n",
    "# fine-tune the model\n",
    "\n",
    "# añadir medidas de acc loss como el bottleneck\n",
    "\n",
    "ti_ftuning = time.time()\n",
    "\n",
    "\n",
    "historical_data = model_total.fit_generator(\n",
    "    train_generator,\n",
    "    samples_per_epoch=nb_train_samples,\n",
    "    epochs=epochs,\n",
    "    verbose = 1,\n",
    "    validation_data=validation_generator,\n",
    "    validation_steps=nb_validation_samples)\n",
    "\n",
    "tf_ftuning = time.time()\n",
    "tt_ftuning = tf_ftuning - ti_ftuning\n",
    "print(time.strftime(\"%H:%M:%S\", time.gmtime(tt_ftuning)))"
   ]
  },
  {
   "cell_type": "code",
   "execution_count": null,
   "metadata": {},
   "outputs": [],
   "source": [
    "import matplotlib.pyplot as plt\n",
    "PATH_TO_DF = \"../data/output_convnet\"\n",
    "\n",
    "acc = historical_data.history['acc']\n",
    "val_acc = historical_data.history['val_acc']\n",
    "loss = historical_data.history['loss']\n",
    "val_loss = historical_data.history['val_loss']\n",
    "\n",
    "epochs = range(len(acc))\n",
    "\n",
    "plt.plot(epochs, acc, 'bo', label='Training acc')\n",
    "plt.plot(epochs, val_acc, 'b', label='Validation acc')\n",
    "plt.title('Training and validation accuracy')\n",
    "plt.legend()\n",
    "\n",
    "plt.figure()\n",
    "\n",
    "plt.plot(epochs, loss, 'bo', label='Training loss')\n",
    "plt.plot(epochs, val_loss, 'b', label='Validation loss')\n",
    "plt.title('Training and validation loss')\n",
    "plt.legend()\n",
    "\n",
    "plt.show()"
   ]
  },
  {
   "cell_type": "code",
   "execution_count": null,
   "metadata": {},
   "outputs": [],
   "source": [
    "model_total.save_weights('../data/output_convnet/ft_inception_model.h5')"
   ]
  },
  {
   "cell_type": "code",
   "execution_count": null,
   "metadata": {},
   "outputs": [],
   "source": [
    "import h5py\n",
    "hdf5_file = h5py.File('../data/output_convnet/ft_inception_model.h5', mode='r')\n",
    "print(list(hdf5_file))"
   ]
  },
  {
   "cell_type": "code",
   "execution_count": null,
   "metadata": {},
   "outputs": [],
   "source": [
    "# build the VGG16 network\n",
    "# input_tensor = Input(shape=(img_width,img_height,3))\n",
    "model_base_pred = InceptionV3(weights='imagenet', include_top=False, input_tensor=input_tensor)  \n",
    "print(\"model base for predition loaded\")\n",
    "\n",
    "# build top model  \n",
    "top_model = Sequential()\n",
    "# model.add(Flatten(input_shape=train_data.shape[1:]))\n",
    "top_model.add(GlobalAveragePooling2D(input_shape=train_data.shape[1:]))\n",
    "top_model.add(Dense(1024, activation='relu'))\n",
    "top_model.add(Dense(num_classes, activation='softmax'))\n",
    "print()\n",
    "print(\"model top for predition loaded\")"
   ]
  },
  {
   "cell_type": "code",
   "execution_count": null,
   "metadata": {},
   "outputs": [],
   "source": [
    "model_total_pred = Model(input= model_base_pred.input, output= top_model(model_base_pred.output))"
   ]
  },
  {
   "cell_type": "code",
   "execution_count": null,
   "metadata": {},
   "outputs": [],
   "source": [
    "# for i, layer in enumerate(model_total_pred.layers):\n",
    "#     print (i, layer.name, layer.output_shape)"
   ]
  },
  {
   "cell_type": "code",
   "execution_count": null,
   "metadata": {},
   "outputs": [],
   "source": [
    "# cargamos los pesos anteriormente obtenidos en el entrenamiento\n",
    "model_total_pred.load_weights(\"../data/output_convnet/ft_inception_model.h5\")"
   ]
  },
  {
   "cell_type": "code",
   "execution_count": null,
   "metadata": {},
   "outputs": [],
   "source": [
    "test_data_dir = 'test/'\n",
    "batch_size_test = 5 # probamos con esto\n",
    "\n",
    "test_convnet = ImageDataGenerator(rescale=1. / 255)\n",
    "\n",
    "test_generator = test_convnet.flow_from_directory(\n",
    "    test_data_dir,\n",
    "    target_size=(img_height, img_width),\n",
    "    batch_size=batch_size,\n",
    "    shuffle =False,\n",
    "    class_mode='categorical')\n",
    "\n",
    "cat_dict = test_generator.class_indices\n",
    "\n",
    "inverse_coding = {v: k for k, v in cat_dict.items()}"
   ]
  },
  {
   "cell_type": "code",
   "execution_count": null,
   "metadata": {},
   "outputs": [],
   "source": [
    "import os\n",
    "\n",
    "test_data_dir = \"test/\"\n",
    "\n",
    "# listado del train\n",
    "img_test_real = [] # listado de las imagenes pareado con img_cat_real\n",
    "img_cat_real = [] # categorias de las imagenes\n",
    "\n",
    "\n",
    "img_cat_pred = [] # elementos predichos por la convnet\n",
    "\n",
    "img_folder = sorted([folder for folder in os.listdir(test_data_dir)\n",
    "                  if os.path.isdir(os.path.join(test_data_dir, folder))])\n",
    "\n",
    "for index_folder, category in enumerate(img_folder):\n",
    "    \n",
    "    folder = os.path.join(test_data_dir, category)\n",
    "\n",
    "    for index_img, img in enumerate(os.listdir(folder)):\n",
    "        \n",
    "        if img.endswith(\".tif\"): # just in case there are other kind of files like .db\n",
    "            img_test_real.append(os.path.join(folder, img))\n",
    "            img_cat_real.append(img_folder[index_folder])\n",
    "\n",
    "    print(\"Category {0:s} has {1:d} images.\".format(category, index_img+1))"
   ]
  },
  {
   "cell_type": "code",
   "execution_count": null,
   "metadata": {},
   "outputs": [],
   "source": [
    "from keras.preprocessing import image\n",
    "import numpy as np\n",
    "from keras.applications.vgg16 import preprocess_input"
   ]
  },
  {
   "cell_type": "code",
   "execution_count": null,
   "metadata": {},
   "outputs": [],
   "source": [
    "print(len(img_cat_pred))\n",
    "print(len(img_test_real))"
   ]
  },
  {
   "cell_type": "code",
   "execution_count": null,
   "metadata": {},
   "outputs": [],
   "source": [
    "for index, img_path in enumerate(img_test_real):\n",
    "    \n",
    "    \n",
    "    if not index % 100:\n",
    "        print(\"image {0:d} processed\".format(index))\n",
    "        \n",
    "    # pre process\n",
    "    img = image.load_img(img_path, target_size=(150, 150))\n",
    "    x = image.img_to_array(img)\n",
    "    x = np.expand_dims(x, axis=0)\n",
    "    x = preprocess_input(x)\n",
    "    \n",
    "    x = x / 255\n",
    "    \n",
    "    # prediction\n",
    "    x = model_total_pred.predict(x)\n",
    "    \n",
    "    # label\n",
    "    label = inverse_coding[np.argmax(x)]\n",
    "    \n",
    "#     print(label)\n",
    "    \n",
    "    # store the label\n",
    "    img_cat_pred.append(label)\n",
    "    "
   ]
  },
  {
   "cell_type": "code",
   "execution_count": null,
   "metadata": {},
   "outputs": [],
   "source": [
    "print(len(img_cat_pred))\n",
    "print(len(img_test_real))"
   ]
  },
  {
   "cell_type": "code",
   "execution_count": null,
   "metadata": {},
   "outputs": [],
   "source": [
    "img_cat_pred_arr = np.array(img_cat_pred)\n",
    "img_cat_real_arr = np.array(img_cat_real)"
   ]
  },
  {
   "cell_type": "code",
   "execution_count": null,
   "metadata": {},
   "outputs": [],
   "source": [
    "print(len(img_cat_pred_arr))\n",
    "print(len(img_cat_real_arr))"
   ]
  },
  {
   "cell_type": "code",
   "execution_count": null,
   "metadata": {},
   "outputs": [],
   "source": [
    "from sklearn.metrics import confusion_matrix\n",
    "ft_conf_mat = confusion_matrix(img_cat_real_arr,img_cat_pred_arr)"
   ]
  },
  {
   "cell_type": "code",
   "execution_count": null,
   "metadata": {},
   "outputs": [],
   "source": [
    "ft_conf_mat"
   ]
  },
  {
   "cell_type": "code",
   "execution_count": null,
   "metadata": {},
   "outputs": [],
   "source": [
    "# reference http://scikit-learn.org/stable/auto_examples/model_selection/plot_confusion_matrix.html\n",
    "import itertools\n",
    "import matplotlib.pyplot as plt\n",
    "\n",
    "def plot_confusion_matrix(cm, classes, normalize=False, title='Confusion matrix',\n",
    "                          cmap=plt.cm.Blues):\n",
    "    \"\"\"\n",
    "    This function prints and plots the confusion matrix.\n",
    "    Normalization can be applied by setting `normalize=True`.\n",
    "    \"\"\"\n",
    "    if normalize:\n",
    "        cm = cm.astype('float') / cm.sum(axis=1)[:, np.newaxis]\n",
    "#         print(\"Normalized confusion matrix\")\n",
    "#     else:\n",
    "#         print('Confusion matrix, without normalization')\n",
    "\n",
    "#     print(cm)\n",
    "\n",
    "    plt.imshow(cm, interpolation='nearest', cmap=cmap)\n",
    "    plt.title(title)\n",
    "    plt.colorbar()\n",
    "    tick_marks = np.arange(len(classes))\n",
    "    plt.xticks(tick_marks, classes, rotation=45)\n",
    "    plt.yticks(tick_marks, classes)\n",
    "\n",
    "    fmt = '.2f' if normalize else 'd'\n",
    "    thresh = cm.max() / 2.\n",
    "    for i, j in itertools.product(range(cm.shape[0]), range(cm.shape[1])):\n",
    "        plt.text(j, i, format(cm[i, j], fmt),\n",
    "                 horizontalalignment=\"center\",\n",
    "                 color=\"white\" if cm[i, j] > thresh else \"black\")\n",
    "\n",
    "    plt.tight_layout()\n",
    "    plt.ylabel('True label',size=20)\n",
    "    plt.xlabel('Predicted label',size=20)"
   ]
  },
  {
   "cell_type": "code",
   "execution_count": null,
   "metadata": {},
   "outputs": [],
   "source": [
    "PATH_TO_IMG = \"../data/input_dataset\"\n",
    "class_names = sorted([folder for folder in os.listdir(PATH_TO_IMG)\n",
    "                      if os.path.isdir(os.path.join(PATH_TO_IMG, folder))])"
   ]
  },
  {
   "cell_type": "code",
   "execution_count": null,
   "metadata": {},
   "outputs": [],
   "source": [
    "fig = plt.figure(figsize=(20, 6))\n",
    "\n",
    "fig.add_subplot(1,2,1)\n",
    "plot_confusion_matrix(ft_conf_mat, classes=class_names, title='Confusion matrix')\n",
    "\n",
    "fig.add_subplot(1,2,2)\n",
    "plot_confusion_matrix(ft_conf_mat, classes=class_names, normalize=True, title='Confusion matrix')\n",
    "\n",
    "plt.savefig(os.path.join(PATH_TO_DF, \"ft_confmat_VGG16.png\"), bbox_inches='tight') # png 70kb vs jpg 135 kb\n",
    "\n",
    "plt.show()"
   ]
  },
  {
   "cell_type": "code",
   "execution_count": null,
   "metadata": {},
   "outputs": [],
   "source": [
    "from sklearn.metrics import classification_report, accuracy_score\n",
    "\n",
    "# print(classification_report(y_test, pred_categorical))\n",
    "# print(\"The total accuracy is\", accuracy_score(y_test, pred_categorical))"
   ]
  }
 ],
 "metadata": {
  "kernelspec": {
   "display_name": "Python 3",
   "language": "python",
   "name": "python3"
  },
  "language_info": {
   "codemirror_mode": {
    "name": "ipython",
    "version": 3
   },
   "file_extension": ".py",
   "mimetype": "text/x-python",
   "name": "python",
   "nbconvert_exporter": "python",
   "pygments_lexer": "ipython3",
   "version": "3.6.2"
  }
 },
 "nbformat": 4,
 "nbformat_minor": 2
}
