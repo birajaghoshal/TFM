{
 "cells": [
  {
   "cell_type": "markdown",
   "metadata": {},
   "source": [
    "# Clasificación de las características profundas\n",
    "\n",
    "1. Máquinas de soporte vectorial sin reducción de dimensiones\n",
    "\n",
    "2. Máquinas de soporte vectorial con reducción de dimensiones\n",
    "\n",
    "3. Árboles de decisión sin reducción de dimensiones\n",
    "\n",
    "4. Árboles de decisión con reducción de dimensiones\n",
    "\n",
    "5. Bosques aleatorios sin reducción de dimensiones\n",
    "\n",
    "6. Bosques aleatorios sin reducción de dimensiones"
   ]
  },
  {
   "cell_type": "markdown",
   "metadata": {},
   "source": [
    "## Preparación de datos"
   ]
  },
  {
   "cell_type": "code",
   "execution_count": null,
   "metadata": {
    "collapsed": true
   },
   "outputs": [],
   "source": [
    "import os\n",
    "import numpy as np\n",
    "import pickle\n",
    "\n",
    "PATH_TO_DATA = \"../architecture/feature-maps/\"\n",
    "DF_MAP = \"VGG16-dfmap\"\n",
    "DF_MAP_PCA = \"VGG16-dfmap-PCA\"\n",
    "LABELS = \"VGG16-imgLabels\"\n",
    "\n",
    "features = pickle.load(open(os.path.join(PATH_TO_DATA,DF_MAP),'rb')) # first without PCA technique\n",
    "labels = pickle.load(open(os.path.join(PATH_TO_DATA,LABELS),'rb'))"
   ]
  },
  {
   "cell_type": "code",
   "execution_count": null,
   "metadata": {
    "collapsed": true
   },
   "outputs": [],
   "source": []
  },
  {
   "cell_type": "markdown",
   "metadata": {},
   "source": [
    "## Máquinas de soporte vectorial sin reducción de dimensiones"
   ]
  },
  {
   "cell_type": "code",
   "execution_count": null,
   "metadata": {
    "collapsed": true
   },
   "outputs": [],
   "source": []
  },
  {
   "cell_type": "code",
   "execution_count": null,
   "metadata": {
    "collapsed": true
   },
   "outputs": [],
   "source": []
  }
 ],
 "metadata": {
  "kernelspec": {
   "display_name": "Python 3",
   "language": "python",
   "name": "python3"
  },
  "language_info": {
   "codemirror_mode": {
    "name": "ipython",
    "version": 3
   },
   "file_extension": ".py",
   "mimetype": "text/x-python",
   "name": "python",
   "nbconvert_exporter": "python",
   "pygments_lexer": "ipython3",
   "version": "3.6.2"
  }
 },
 "nbformat": 4,
 "nbformat_minor": 2
}
