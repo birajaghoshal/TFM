{
 "cells": [
  {
   "cell_type": "markdown",
   "metadata": {},
   "source": [
    "# Red convolucional - VGG16\n",
    "\n",
    "\n",
    "0. Organización\n",
    "1. Introducción arquitectura VGG16.\n",
    "2. Carga de imágenes.\n",
    "    * Estructura listado\n",
    "3. Implementación arquitectura.\n",
    "    * Keras\n",
    "    * Capas\n",
    "    * Arquitectura pre entrenada - Imagenet \n",
    "4. Transferencia de aprendizaje: descriptores profundos.\n",
    "    * Pre procesado de imágenes\n",
    "    * Reducción dimensionalidad\n",
    "    * Clasificación\n",
    "    * Medidas de desempeño\n",
    "5. Transferencia de aprendizaje: Fine tuning.\n",
    "    * Medidas de desempeño\n",
    "6. Mejoras\n",
    "7. Resultados - Tablas. Resumen\n",
    "8. Discusión resultados"
   ]
  },
  {
   "cell_type": "markdown",
   "metadata": {},
   "source": [
    "## Organización"
   ]
  },
  {
   "cell_type": "markdown",
   "metadata": {},
   "source": [
    "Estructura de archivos y carpetas, qué parte se encuentra en cada archivo y explicacion de la división que se ha hecho"
   ]
  },
  {
   "cell_type": "markdown",
   "metadata": {},
   "source": [
    "## Introducción arquitectura VGG_16."
   ]
  },
  {
   "cell_type": "markdown",
   "metadata": {
    "collapsed": true
   },
   "source": [
    "http://www.vlfeat.org/matconvnet/models/imagenet-vgg-verydeep-16.svg"
   ]
  },
  {
   "cell_type": "markdown",
   "metadata": {},
   "source": [
    "## Carga de imágenes"
   ]
  },
  {
   "cell_type": "markdown",
   "metadata": {},
   "source": [
    "Esta parte se enlaza con el notebook info_dataset explicación"
   ]
  },
  {
   "cell_type": "markdown",
   "metadata": {
    "collapsed": true
   },
   "source": [
    "Abrimos los archivos generados con los nombres de categoria y sus respectivos paths..."
   ]
  },
  {
   "cell_type": "code",
   "execution_count": 1,
   "metadata": {},
   "outputs": [],
   "source": [
    "# img_labels & img_list - completed path to file\n",
    "PATH_TO_LABELS_FILE = \"../data/output_dataset/img_labels\"\n",
    "PATH_TO_PATHS_FILE = \"../data/output_dataset/img_list\"\n",
    "\n",
    "# output convnet files path\n",
    "PATH_TO_OUTPUT = \"../data/output_convnet\""
   ]
  },
  {
   "cell_type": "code",
   "execution_count": null,
   "metadata": {},
   "outputs": [],
   "source": [
    "# de esta forma se obtiene una lista de listas y quiero una lista de cadenas\n",
    "\n",
    "# with open(PATH_TO_LABELS_FILE,'r') as f_img_labels:\n",
    "    \n",
    "#     img_labels = [linea.split() for linea in f_img_labels]\n",
    "\n",
    "# with open(PATH_TO_PATHS_FILE,'r') as f_img_list:\n",
    "    \n",
    "#     img_list = [linea.split() for linea in f_img_list]"
   ]
  },
  {
   "cell_type": "code",
   "execution_count": 15,
   "metadata": {},
   "outputs": [],
   "source": [
    "img_labels = []\n",
    "img_list = []\n",
    "\n",
    "'''\n",
    "para eliminar el retorno de carro --> [:-1]\n",
    "para encontrar el path correcto hay que transformar \n",
    "la ruta puesto que este fichero y desde el que se crea tienen rutas distintas\n",
    "'''\n",
    "# input_dataset/01_TUMOR/2642_CRC-Prim-HE-07_025.tif_Row_1351_Col_601.tif\n",
    "\n",
    "with open(PATH_TO_LABELS_FILE,'r') as f_img_labels:\n",
    "    for line in f_img_labels:\n",
    "        img_labels.append(line[:-1]) \n",
    "\n",
    "with open(PATH_TO_PATHS_FILE,'r') as f_img_list:\n",
    "    for line in f_img_list:\n",
    "        img_list.append(\"../data/\"+line[:-1]) # para eliminar el retorno de carro"
   ]
  },
  {
   "cell_type": "code",
   "execution_count": 16,
   "metadata": {},
   "outputs": [
    {
     "name": "stdout",
     "output_type": "stream",
     "text": [
      "5000\n",
      "../data/input_dataset/01_TUMOR/2642_CRC-Prim-HE-07_025.tif_Row_1351_Col_601.tif\n",
      "<class 'str'>\n"
     ]
    }
   ],
   "source": [
    "# print(len(img_list))\n",
    "# print(img_list[0])\n",
    "# print(type(img_list[0]))\n",
    "\n",
    "# print(len(img_labels))\n",
    "# print(img_labels[0])\n",
    "# print(type(img_labels[0]))\n"
   ]
  },
  {
   "cell_type": "markdown",
   "metadata": {},
   "source": [
    "## Implementación arquitectura."
   ]
  },
  {
   "cell_type": "markdown",
   "metadata": {},
   "source": [
    "que es keras / tensorflow "
   ]
  },
  {
   "cell_type": "code",
   "execution_count": 3,
   "metadata": {},
   "outputs": [
    {
     "name": "stderr",
     "output_type": "stream",
     "text": [
      "Using TensorFlow backend.\n"
     ]
    }
   ],
   "source": [
    "# conda install -c conda-forge keras hecho en configuración carpeta system\n",
    "from keras import backend as K\n",
    "from keras.models import Sequential\n",
    "from keras.layers.core import Flatten, Dense, Dropout\n",
    "from keras.layers.convolutional import Conv2D, MaxPooling2D, ZeroPadding2D\n",
    "from keras.optimizers import SGD\n",
    "import numpy as np"
   ]
  },
  {
   "cell_type": "markdown",
   "metadata": {},
   "source": [
    "Explicación de la implementación de vgg16 y de eliminar la funcion de activacion en las ultimas capas\n",
    "\n",
    "# activacion softmax ultima capa puesto q es posterior y recuperamos la anterior no hace falta ponerla o como actuar\n"
   ]
  },
  {
   "cell_type": "markdown",
   "metadata": {},
   "source": [
    "asi se puede cargar una red + pesos en fichero h5"
   ]
  },
  {
   "cell_type": "code",
   "execution_count": 4,
   "metadata": {},
   "outputs": [],
   "source": [
    "#https://blog.keras.io/img/imgclf/vgg16_original.png\n",
    "#fuente https://blog.keras.io/\n",
    "model = Sequential()\n",
    "model.add(ZeroPadding2D((1,1),input_shape=(224,224,3)))\n",
    "model.add(Conv2D(64, (3, 3), activation='relu'))\n",
    "model.add(ZeroPadding2D((1,1)))\n",
    "model.add(Conv2D(64, (3, 3), activation='relu'))\n",
    "model.add(MaxPooling2D((2,2), strides=(2,2)))\n",
    "\n",
    "model.add(ZeroPadding2D((1,1)))\n",
    "model.add(Conv2D(128, (3, 3), activation='relu'))\n",
    "model.add(ZeroPadding2D((1,1)))\n",
    "model.add(Conv2D(128, (3, 3), activation='relu'))\n",
    "model.add(MaxPooling2D((2,2), strides=(2,2)))\n",
    "\n",
    "model.add(ZeroPadding2D((1,1)))\n",
    "model.add(Conv2D(256, (3, 3), activation='relu'))\n",
    "model.add(ZeroPadding2D((1,1)))\n",
    "model.add(Conv2D(256, (3, 3), activation='relu'))\n",
    "model.add(ZeroPadding2D((1,1)))\n",
    "model.add(Conv2D(256, (3, 3), activation='relu'))\n",
    "model.add(MaxPooling2D((2,2), strides=(2,2)))\n",
    "\n",
    "model.add(ZeroPadding2D((1,1)))\n",
    "model.add(Conv2D(512, (3, 3), activation='relu'))\n",
    "model.add(ZeroPadding2D((1,1)))\n",
    "model.add(Conv2D(512, (3, 3), activation='relu'))\n",
    "model.add(ZeroPadding2D((1,1)))\n",
    "model.add(Conv2D(512, (3, 3), activation='relu'))\n",
    "model.add(MaxPooling2D((2,2), strides=(2,2)))\n",
    "\n",
    "model.add(ZeroPadding2D((1,1)))\n",
    "model.add(Conv2D(512, (3, 3), activation='relu'))\n",
    "model.add(ZeroPadding2D((1,1)))\n",
    "model.add(Conv2D(512, (3, 3), activation='relu'))\n",
    "model.add(ZeroPadding2D((1,1)))\n",
    "model.add(Conv2D(512, (3, 3), activation='relu'))\n",
    "model.add(MaxPooling2D((2,2), strides=(2,2)))\n",
    "\n",
    "model.add(Flatten())\n",
    "\n",
    "#top layer of the VGG net\n",
    "model.add(Dense(4096, activation=None))\n",
    "model.add(Dropout(0.5))\n",
    "model.add(Dense(4096, activation=None))\n",
    "model.add(Dropout(0.5))\n",
    "model.add(Dense(1000, activation='softmax'))\n",
    "\n",
    "# excluir para ahorrar espacio?\n",
    "# model.summary()"
   ]
  },
  {
   "cell_type": "markdown",
   "metadata": {},
   "source": [
    "# Explicacion de estos pesos preguntar Santiago y diferenciarlos de los que se bajan al cargar keras y de los de imagenet\n",
    "\n",
    "yo entiendo que esta forma es implementar una red desde 0 con los pesos obtenidos y guardados por chollet en un fichero h5"
   ]
  },
  {
   "cell_type": "code",
   "execution_count": 5,
   "metadata": {},
   "outputs": [],
   "source": [
    "# https://github.com/fchollet/deep-learning-models/releases\n",
    "# format h5py\n",
    "\n",
    "model.load_weights(\"keras_weights/vgg16_weights_tf_dim_ordering_tf_kernels.h5\")"
   ]
  },
  {
   "cell_type": "markdown",
   "metadata": {},
   "source": [
    "Explicacion y ajuste hiperparametros --> mejora resultados"
   ]
  },
  {
   "cell_type": "code",
   "execution_count": 6,
   "metadata": {},
   "outputs": [],
   "source": [
    "model.compile(optimizer=SGD(), loss='categorical_crossentropy')"
   ]
  },
  {
   "cell_type": "markdown",
   "metadata": {},
   "source": [
    "# Explicacion preguntar santiago \n",
    "\n",
    "antes se ha cargado una estructura + unos pesos + hiperparametros --> \"a mano\"\n",
    "\n",
    "ahora se carga otra estructura + otros pesos + hiperparametros --> \"usando la 'clase' dentro de keras\"\n",
    "\n",
    "elegir una la otra ponerla y explicarla o documentarla y tener en cuenta nombres"
   ]
  },
  {
   "cell_type": "markdown",
   "metadata": {
    "collapsed": true
   },
   "source": [
    "## Extracción descriptores profundos, explicar"
   ]
  },
  {
   "cell_type": "code",
   "execution_count": 7,
   "metadata": {},
   "outputs": [],
   "source": [
    "# REPASAR\n",
    "from keras.applications.vgg16 import VGG16\n",
    "# prebuild model with pre-trained weights on imagenet\n",
    "model = VGG16(weights='imagenet', include_top=True)\n",
    "sgd = SGD(lr=0.1, decay=1e-6, momentum=0.9, nesterov=True)\n",
    "model.compile(optimizer=sgd, loss='categorical_crossentropy')"
   ]
  },
  {
   "cell_type": "code",
   "execution_count": 8,
   "metadata": {},
   "outputs": [],
   "source": [
    "# REPASAR\n",
    "from keras.models import Model\n",
    "from keras.preprocessing import image\n",
    "from keras.applications.vgg16 import preprocess_input"
   ]
  },
  {
   "cell_type": "markdown",
   "metadata": {},
   "source": [
    "aqui lo que hace es conectar con un server y bajarse los pesos (creo recordar)"
   ]
  },
  {
   "cell_type": "code",
   "execution_count": null,
   "metadata": {},
   "outputs": [],
   "source": [
    "PATH_TO_WEIGHTS_VGG16 = \"\""
   ]
  },
  {
   "cell_type": "code",
   "execution_count": 9,
   "metadata": {},
   "outputs": [
    {
     "name": "stdout",
     "output_type": "stream",
     "text": [
      "0 input_2 (None, 224, 224, 3)\n",
      "1 block1_conv1 (None, 224, 224, 64)\n",
      "2 block1_conv2 (None, 224, 224, 64)\n",
      "3 block1_pool (None, 112, 112, 64)\n",
      "4 block2_conv1 (None, 112, 112, 128)\n",
      "5 block2_conv2 (None, 112, 112, 128)\n",
      "6 block2_pool (None, 56, 56, 128)\n",
      "7 block3_conv1 (None, 56, 56, 256)\n",
      "8 block3_conv2 (None, 56, 56, 256)\n",
      "9 block3_conv3 (None, 56, 56, 256)\n",
      "10 block3_pool (None, 28, 28, 256)\n",
      "11 block4_conv1 (None, 28, 28, 512)\n",
      "12 block4_conv2 (None, 28, 28, 512)\n",
      "13 block4_conv3 (None, 28, 28, 512)\n",
      "14 block4_pool (None, 14, 14, 512)\n",
      "15 block5_conv1 (None, 14, 14, 512)\n",
      "16 block5_conv2 (None, 14, 14, 512)\n",
      "17 block5_conv3 (None, 14, 14, 512)\n",
      "18 block5_pool (None, 7, 7, 512)\n",
      "19 flatten (None, 25088)\n",
      "20 fc1 (None, 4096)\n",
      "21 fc2 (None, 4096)\n",
      "22 predictions (None, 1000)\n"
     ]
    }
   ],
   "source": [
    "# pre-built and pre-trained deep learning VGG16 model\n",
    "base_model = VGG16(weights='imagenet', include_top=True)\n",
    "\n",
    "for i, layer in enumerate(base_model.layers):\n",
    "    print (i, layer.name, layer.output_shape)"
   ]
  },
  {
   "cell_type": "markdown",
   "metadata": {},
   "source": [
    "Ejemplo con una fotografía deep features"
   ]
  },
  {
   "cell_type": "markdown",
   "metadata": {},
   "source": [
    "# mejorar el codigo para ponder implementar funciones\n",
    "\n",
    "gente hace notebooks solo con funciones e inserta en la cabecera de una celda la carga del notebook con las funciones encontrar la forma más adecuada\n",
    "\n",
    "http://nbviewer.jupyter.org/github/jupyter/notebook/blob/master/docs/source/examples/Notebook/Importing%20Notebooks.ipynb\n",
    "\n",
    "refactorizar los archivos de las implementaciones de arquitecturas hoy viernes tras comprobar el metodo seguido con santiago"
   ]
  },
  {
   "cell_type": "code",
   "execution_count": 17,
   "metadata": {},
   "outputs": [],
   "source": [
    "from PIL import Image\n",
    "\n",
    "def img_preprocessing(arch, img, width = 150, height = 150):\n",
    "    \n",
    "    aux = Image.open(img)\n",
    "    \n",
    "    if(arch==\"VGG16\"):\n",
    "        return aux.resize((224,224))\n",
    "    \n",
    "#     if(arch==\"VGG19\"):\n",
    "#         return aux.resize((224,224))\n",
    "    \n",
    "#     if(arch==\"resnet\"):\n",
    "#         return aux.resize((224,224))\n",
    "    \n",
    "#     if(arch==\"inception\"):\n",
    "#         return aux.resize((224,224))\n",
    "    \n",
    "    return img"
   ]
  },
  {
   "cell_type": "code",
   "execution_count": 18,
   "metadata": {},
   "outputs": [
    {
     "data": {
      "image/png": "[encoded data removed]",
      "text/plain": [
       "<PIL.TiffImagePlugin.TiffImageFile image mode=RGB size=150x150 at 0x7F4A54820128>"
      ]
     },
     "execution_count": 18,
     "metadata": {},
     "output_type": "execute_result"
    }
   ],
   "source": [
    "random_image_path = Image.open(img_list[0])\n",
    "random_image_path"
   ]
  },
  {
   "cell_type": "code",
   "execution_count": 22,
   "metadata": {},
   "outputs": [
    {
     "data": {
      "image/png": "[encoded data removed]",
      "text/plain": [
       "<PIL.Image.Image image mode=RGB size=224x224 at 0x7F49DD66B0F0>"
      ]
     },
     "execution_count": 22,
     "metadata": {},
     "output_type": "execute_result"
    }
   ],
   "source": [
    "example_proccesed = img_preprocessing(\"VGG16\",img_list[0])\n",
    "example_proccesed "
   ]
  },
  {
   "cell_type": "markdown",
   "metadata": {},
   "source": [
    "fc1 vs fc2: la 1 es una capa en la que sus pesos no estan tan ajustados al cojunto de dato como la segunda"
   ]
  },
  {
   "cell_type": "markdown",
   "metadata": {},
   "source": [
    "# ejemplo procesado de una imagen"
   ]
  },
  {
   "cell_type": "code",
   "execution_count": 23,
   "metadata": {},
   "outputs": [
    {
     "name": "stderr",
     "output_type": "stream",
     "text": [
      "/home/jon/anaconda3/envs/test/lib/python3.6/site-packages/ipykernel_launcher.py:2: UserWarning: Update your `Model` call to the Keras 2 API: `Model(inputs=Tensor(\"in..., outputs=Tensor(\"fc...)`\n",
      "  \n"
     ]
    },
    {
     "name": "stdout",
     "output_type": "stream",
     "text": [
      "Layer fc1:  (1, 4096)\n",
      "Layer fc2:  (1, 4096)\n"
     ]
    },
    {
     "name": "stderr",
     "output_type": "stream",
     "text": [
      "/home/jon/anaconda3/envs/test/lib/python3.6/site-packages/ipykernel_launcher.py:12: UserWarning: Update your `Model` call to the Keras 2 API: `Model(inputs=Tensor(\"in..., outputs=Tensor(\"fc...)`\n",
      "  if sys.path[0] == '':\n"
     ]
    }
   ],
   "source": [
    "# fc1\n",
    "model = Model(input=base_model.input, output=base_model.get_layer('fc1').output)\n",
    "\n",
    "dfImgExample_fc1  = image.img_to_array(example_proccesed)\n",
    "dfImgExample_fc1  = np.expand_dims(dfImgExample_fc1 , axis=0)\n",
    "dfImgExample_fc1  = preprocess_input(dfImgExample_fc1 )\n",
    "\n",
    "# get the features from this block\n",
    "features_fc1  = model.predict(dfImgExample_fc1) # numpy.ndarray\n",
    "\n",
    "# fc2\n",
    "model = Model(input=base_model.input, output=base_model.get_layer('fc2').output)\n",
    "\n",
    "dfImgExample_fc2 = image.img_to_array(example_proccesed)\n",
    "dfImgExample_fc2 = np.expand_dims(dfImgExample_fc2, axis=0)\n",
    "dfImgExample_fc2 = preprocess_input(dfImgExample_fc2)\n",
    "\n",
    "# get the features from this block\n",
    "features_fc2 = model.predict(dfImgExample_fc2)\n",
    "\n",
    "\n",
    "print(\"Layer fc1: \",features_fc1.shape)\n",
    "print(\"Layer fc2: \",features_fc2.shape)"
   ]
  },
  {
   "cell_type": "markdown",
   "metadata": {},
   "source": [
    "## feature maps -->  2x4096"
   ]
  },
  {
   "cell_type": "markdown",
   "metadata": {},
   "source": [
    "# ejemplo lista 2 fotos"
   ]
  },
  {
   "cell_type": "code",
   "execution_count": null,
   "metadata": {},
   "outputs": [],
   "source": [
    "# example with 2 images\n",
    "exampleList = []\n",
    "exampleList.append(img_list[0])\n",
    "exampleList.append(img_list[1])\n",
    "\n",
    "# structure \n",
    "ndeepfeatures = 4096 # get the shape from the model instead\n",
    "dfmap = np.empty((len(exampleList),ndeepfeatures)) # just 2 images\n",
    "imgLabels = [] # check if it is better in another place ya esta creada pero este codigo lo tendre que refactorizar\n",
    "\n",
    "# imgList deep feature map\n",
    "for i, img in enumerate(exampleList):\n",
    "    model = Model(input=base_model.input, output=base_model.get_layer('fc1').output)\n",
    "    \n",
    "    # pre procesado\n",
    "    aux = img_preprocessing(\"VGG16\", img)\n",
    "    \n",
    "    aux = image.img_to_array(aux)\n",
    "    aux = np.expand_dims(aux, axis=0)\n",
    "    aux = preprocess_input(aux)\n",
    "\n",
    "    # get the features from this block\n",
    "    aux  = model.predict(aux)\n",
    "    \n",
    "    # fill the structure\n",
    "    dfmap[i,:] = np.squeeze(aux, axis=0)\n",
    "    imgLabels.append(re.split('_\\d+',img.split('/')[3])[0])\n",
    "\n"
   ]
  },
  {
   "cell_type": "code",
   "execution_count": 27,
   "metadata": {},
   "outputs": [
    {
     "data": {
      "text/plain": [
       "'01_TUMOR'"
      ]
     },
     "execution_count": 27,
     "metadata": {},
     "output_type": "execute_result"
    }
   ],
   "source": [
    "# import re\n",
    "# re.split('_\\d+',img_list[0].split('/')[3])[0]"
   ]
  },
  {
   "cell_type": "markdown",
   "metadata": {},
   "source": [
    "Se guardarán los resultados en unos ficheros para no tener que volver a repetir este proceso que necesita mucho tiempo"
   ]
  },
  {
   "cell_type": "code",
   "execution_count": null,
   "metadata": {},
   "outputs": [],
   "source": [
    "# check the dimensions of the structures created\n",
    "print(type(dfmap))\n",
    "print(dfmap.shape)\n",
    "print(type(imgLabels))"
   ]
  },
  {
   "cell_type": "code",
   "execution_count": null,
   "metadata": {},
   "outputs": [],
   "source": [
    "import pickle\n",
    "pickle.dump(dfmap, open('feature-maps/VGG16-example_dfmap', 'wb'))\n",
    "pickle.dump(imgLabels, open('feature-maps/VGG16-example_imgLabels', 'wb'))"
   ]
  },
  {
   "cell_type": "code",
   "execution_count": null,
   "metadata": {},
   "outputs": [],
   "source": []
  },
  {
   "cell_type": "code",
   "execution_count": null,
   "metadata": {},
   "outputs": [],
   "source": [
    "Procesamiento de todo el conjunto de imágenes - deep features"
   ]
  },
  {
   "cell_type": "code",
   "execution_count": null,
   "metadata": {},
   "outputs": [],
   "source": []
  },
  {
   "cell_type": "code",
   "execution_count": null,
   "metadata": {},
   "outputs": [],
   "source": [
    "# run the whole imgList - extraction of fc1 layer\n",
    "from PIL import Image # imported before\n",
    "\n",
    "# structure \n",
    "ndeepfeatures = 4096 # get the shape from the model instead\n",
    "dfmap = np.empty((len(imgList),ndeepfeatures))\n",
    "imgLabels = [] # check if it is better in another place\n",
    "\n",
    "# imgList deep feature map\n",
    "for i, img in enumerate(imgList):\n",
    "    if (i == 1000) or (i == 2000) or (i == 3000) or (i == 4000):\n",
    "        print(\"Processing image nº %s:\" % i)\n",
    "        \n",
    "    model = Model(input=base_model.input, output=base_model.get_layer('fc1').output)\n",
    "    \n",
    "    # pre procesado\n",
    "    aux = img_preprocessing(\"VGG16\", img)\n",
    "    \n",
    "    aux = image.img_to_array(aux)\n",
    "    aux = np.expand_dims(aux, axis=0)\n",
    "    aux = preprocess_input(aux)\n",
    "\n",
    "    # get the features from this block\n",
    "    aux  = model.predict(aux)\n",
    "    \n",
    "    # fill the structure\n",
    "    dfmap[i,:] = np.squeeze(aux, axis=0)\n",
    "    imgLabels.append(re.split('_\\d+',img.split('/')[2])[0])\n"
   ]
  },
  {
   "cell_type": "code",
   "execution_count": null,
   "metadata": {},
   "outputs": [],
   "source": [
    "Guardamos los resultados "
   ]
  },
  {
   "cell_type": "code",
   "execution_count": null,
   "metadata": {},
   "outputs": [],
   "source": [
    "pickle.dump(dfmap, open('feature-maps/VGG16-dfmap', 'wb'))\n",
    "pickle.dump(imgLabels, open('feature-maps/VGG16-imgLabels', 'wb'))"
   ]
  },
  {
   "cell_type": "code",
   "execution_count": null,
   "metadata": {},
   "outputs": [],
   "source": [
    "# SVM - sin reduccion de features"
   ]
  },
  {
   "cell_type": "code",
   "execution_count": null,
   "metadata": {},
   "outputs": [],
   "source": []
  },
  {
   "cell_type": "code",
   "execution_count": null,
   "metadata": {},
   "outputs": [],
   "source": []
  },
  {
   "cell_type": "code",
   "execution_count": null,
   "metadata": {},
   "outputs": [],
   "source": []
  },
  {
   "cell_type": "code",
   "execution_count": null,
   "metadata": {},
   "outputs": [],
   "source": [
    "#Using the bottleneck features of a pre-trained network\n",
    "# https://blog.keras.io/building-powerful-image-classification-models-using-very-little-data.html"
   ]
  },
  {
   "cell_type": "code",
   "execution_count": null,
   "metadata": {},
   "outputs": [],
   "source": []
  },
  {
   "cell_type": "code",
   "execution_count": null,
   "metadata": {},
   "outputs": [],
   "source": []
  },
  {
   "cell_type": "code",
   "execution_count": null,
   "metadata": {},
   "outputs": [],
   "source": [
    "Entrenamiento de las últimas capas Fine tuning"
   ]
  },
  {
   "cell_type": "code",
   "execution_count": null,
   "metadata": {},
   "outputs": [],
   "source": [
    "# transformacion de imgList a dataframe ¿?"
   ]
  },
  {
   "cell_type": "code",
   "execution_count": null,
   "metadata": {},
   "outputs": [],
   "source": [
    "# https://blog.keras.io/img/imgclf/vgg16_modified.png"
   ]
  },
  {
   "cell_type": "code",
   "execution_count": null,
   "metadata": {},
   "outputs": [],
   "source": [
    "# check the imports\n",
    "from keras.applications.vgg16 import VGG16\n",
    "from keras import applications\n",
    "from keras.preprocessing.image import ImageDataGenerator\n",
    "from keras import optimizers\n",
    "from keras.models import Sequential\n",
    "from keras.layers import Dropout, Flatten, Dense\n",
    "import numpy as np"
   ]
  },
  {
   "cell_type": "code",
   "execution_count": null,
   "metadata": {},
   "outputs": [],
   "source": [
    "# paths\n"
   ]
  },
  {
   "cell_type": "code",
   "execution_count": null,
   "metadata": {},
   "outputs": [],
   "source": [
    "# bottle neck --> es como la 1 parte\n",
    "# https://blog.keras.io/building-powerful-image-classification-models-using-very-little-data.html\n",
    "# create the base pre-trained model. Exclude the top !!\n",
    "base_model_bn = VGG16(weights='imagenet', include_top=False)\n",
    "# all layers will be non-trainable (weights will not be updated)\n",
    "for layer in base_model_bn.layers:\n",
    "    layer.trainable = False\n",
    "\n",
    "for i, layer in enumerate(base_model_bn.layers):\n",
    "    print(\"Layer %d: %s, trainable - %s\" % (i, layer.name, layer.trainable))\n",
    "    print(\"Layer output: \",layer.output_shape)\n",
    "\n",
    "print(base_model_bn.summary())"
   ]
  },
  {
   "cell_type": "code",
   "execution_count": null,
   "metadata": {},
   "outputs": [],
   "source": [
    "# train and validation sets from imgList y labels\n",
    "import numpy as np\n",
    "import re\n",
    "\n",
    "imgList = []\n",
    "\n",
    "for imgCategory in imgCategories:\n",
    "    imgFolder = os.path.join(PATH_TO_IMG, imgCategory)\n",
    "    \n",
    "    for img in os.listdir(imgFolder):\n",
    "        if img.endswith(\".tif\"): # just in case there are other kind of files like .db\n",
    "            \n",
    "            # windows users: backslash management method replace is used [it is not mandatory tbh]\n",
    "            #imgList.append(os.path.join(imgFolder, img).replace(\"\\\\\",\"/\"))\n",
    "            \n",
    "            # linux users:\n",
    "            imgList.append(os.path.join(imgFolder, img))\n",
    "\n",
    "\n",
    "\n",
    "\n",
    "imgLabels = []\n",
    "\n",
    "for img in imgList:\n",
    "    imgLabels.append(re.split('_\\d+',img.split('/')[2])[0])\n",
    "\n",
    "dataSet = []\n",
    "for i, movida in enumerate(imgLabels):\n",
    "    dataSet[i-1] =imgLabels[i-1] + imgList[i-1]\n",
    "\n",
    "\n",
    "# train_set_bn\n",
    "# validation_set_bn\n",
    "\n"
   ]
  },
  {
   "cell_type": "code",
   "execution_count": null,
   "metadata": {},
   "outputs": [],
   "source": [
    "# better with pickle?\n",
    "\n",
    "# prediction with train and validation sets\n",
    "\n",
    "train_features_bn = base_model_bn.predict(train_set_bn)\n",
    "np.save(open('train_features_bn.npy', 'w'), train_features_bn)\n",
    "\n",
    "validation_features_bn = base_model_bn.predict(validation_set_bn)\n",
    "np.save(open('validation_features_bn.npy', 'w'), validation_features_bn)"
   ]
  },
  {
   "cell_type": "code",
   "execution_count": null,
   "metadata": {},
   "outputs": [],
   "source": [
    "# get the data saved in npys mandatory¿?\n",
    "# de train_features hay que extraer train_data y train_labels\n",
    "# de validation_features hay que estraer validation_data y validation_labels\n",
    "\n",
    "\n",
    "\n",
    "\n"
   ]
  },
  {
   "cell_type": "code",
   "execution_count": null,
   "metadata": {},
   "outputs": [],
   "source": [
    "top_model_bn = Sequential()\n",
    "top_model_bn.add(Flatten(input_shape=model.output_shape[1:]))\n",
    "top_model_bn.add(Dense(4096, activation='relu'))\n",
    "top_model_bn.add(Dropout(0.5))\n",
    "top_model_bn.add(Dense(4096, activation='relu'))\n",
    "top_model_bn.add(Dropout(0.5))\n",
    "top_model_bn.add(Dense(8, activation='softmax'))\n",
    "\n",
    "# en la 1 parte\n",
    "# sgd = SGD(lr=0.1, decay=1e-6, momentum=0.9, nesterov=True)\n",
    "# model.compile(optimizer=sgd, loss='categorical_crossentropy')\n",
    "\n",
    "\n",
    "#check the args\n",
    "model.compile(optimizer='rmsprop',loss='binary_crossentropy', metrics=['accuracy'])\n",
    "\n",
    "#\n",
    "bn_result = model.fit(train_data, train_labels, epochs=epochs,\\\\\n",
    "                      batch_size=batch_size, validation_data=(validation_data, validation_labels))"
   ]
  },
  {
   "cell_type": "code",
   "execution_count": null,
   "metadata": {},
   "outputs": [],
   "source": [
    "# comparar la estructura que tiene los labels y son los reales con los predichos por el modelo en bn_result\n",
    "\n",
    "# matriz confusion 8x8"
   ]
  },
  {
   "cell_type": "code",
   "execution_count": null,
   "metadata": {},
   "outputs": [],
   "source": [
    "# segunda parte fine tuning"
   ]
  },
  {
   "cell_type": "code",
   "execution_count": null,
   "metadata": {},
   "outputs": [],
   "source": [
    "# repasar con cuidad la forma de cargar y contruir el modelo sobre todo los pesos\n",
    "\n",
    "'''\n",
    "igual me tienes que explicar la diferencia entre usar los pesos de imagenet vs estos pesos\n",
    "\n",
    "yo tengo estos pesos\n",
    "\n",
    "vgg16_weights_tf_dim_ordering_tf_kernels.h5\n",
    "vgg16_weights_tf_dim_ordering_tf_kernels_notop.h5\n",
    "\n",
    "\n",
    "chollet hace esto\n",
    "\n",
    "link original https://blog.keras.io/building-powerful-image-classification-models-using-very-little-data.html\n",
    "\n",
    "en github https://gist.github.com/fchollet/7eb39b44eb9e16e59632d25fb3119975 linea 69\n",
    "\n",
    "\n",
    "carga los pesos de top_model sin haber unido esa capa con las convolucionales vgg16 no_top = true\n",
    "la variable de esos pesos es top_model_weights_path = 'fc_model.h5' a que se corresponde este fichero\n",
    "una vez cargados si que une esa capa con el resto de la convnet para luego poner la base de la convnet\n",
    "como no entrenable para fijar los pesos y entrenar la capa top\n",
    "\n",
    "por lo que tenemos base con los pesos de imagenet no entrenable + top con esos pesos desconocidos entrenable\n",
    "\n",
    "una vez hecho esto compila el modelo con\n",
    "model.compile(loss='binary_crossentropy', optimizer=optimizers.SGD(lr=1e-4, momentum=0.9),\n",
    "              metrics=['accuracy'])\n",
    "\n",
    "'''\n",
    "'''\n",
    "\n",
    "\n",
    "\n",
    "\n",
    "\n",
    "'''"
   ]
  },
  {
   "cell_type": "code",
   "execution_count": null,
   "metadata": {},
   "outputs": [],
   "source": [
    "# https://gist.github.com/fchollet/f35fbc80e066a49d65f1688a7e99f069\n",
    "\n",
    "# PUEDE SER QUE SEA LA MISMA EN AMBAS APROXIMACIONES BOTTLE NECK Y FINE TUNING\n",
    "# add the top layer (classifier) to the conv-net\n",
    "# top_model_bn = Sequential()\n",
    "# top_model_bn.add(Flatten(input_shape=model.output_shape[1:]))\n",
    "# top_model_bn.add(Dense(4096, activation='relu'))\n",
    "# top_model_bn.add(Dropout(0.5))\n",
    "# top_model_bn.add(Dense(4096, activation='relu'))\n",
    "# top_model_bn.add(Dropout(0.5))\n",
    "# top_model_bn.add(Dense(8, activation='softmax'))\n",
    "\n",
    "# add the last layer to the bottle neck model\n",
    "# https://github.com/flyyufelix/cnn_finetune/blob/master/vgg16.py\n",
    "\n",
    "\n",
    "\n",
    "# https://gist.github.com/fchollet/7eb39b44eb9e16e59632d25fb3119975\n",
    "# note that it is necessary to start with a fully-trained\n",
    "# classifier, including the top classifier,\n",
    "# in order to successfully do fine-tuning\n",
    "# top_model_bn.load_weights(top_model_weights_path)\n",
    "\n",
    "# # add the model on top of the convolutional base\n",
    "# model_bn.add(top_model_bn)\n"
   ]
  },
  {
   "cell_type": "code",
   "execution_count": null,
   "metadata": {},
   "outputs": [],
   "source": [
    "# # all layers will be non-trainable (weights will not be updated)\n",
    "# for layer in base_model_bn.layers:\n",
    "#     layer.trainable = False\n",
    "\n",
    "# for i, layer in enumerate(base_model_bn.layers):\n",
    "#     print(\"Layer %d: %s, trainable - %s\" % (i, layer.name, layer.trainable))\n",
    "#     print(\"Layer output: \",layer.output_shape)\n",
    "\n",
    "# print(base_model_bn.summary())"
   ]
  },
  {
   "cell_type": "code",
   "execution_count": null,
   "metadata": {},
   "outputs": [],
   "source": []
  },
  {
   "cell_type": "code",
   "execution_count": null,
   "metadata": {},
   "outputs": [],
   "source": []
  },
  {
   "cell_type": "code",
   "execution_count": null,
   "metadata": {},
   "outputs": [],
   "source": []
  },
  {
   "cell_type": "code",
   "execution_count": null,
   "metadata": {},
   "outputs": [],
   "source": [
    "# fine tuning\n",
    "# create the base pre-trained model. Exclude the top !!\n",
    "base_model_ft = VGG16(weights='imagenet', include_top=False) \n",
    "\n",
    "# last conv-layer will be trainable (weights will not be updated)\n",
    "for layer in base_model_ft.layers[:-4]:\n",
    "    layer.trainable = False\n",
    "\n",
    "for i, layer in enumerate(base_model_ft.layers):\n",
    "    print(\"Layer %d: %s, trainable - %s\" % (i, layer.name, layer.trainable))\n",
    "    print(\"Layer output: \",layer.output_shape)\n",
    "\n",
    "print(base_model_ft.summary()) # the architecture is the same"
   ]
  },
  {
   "cell_type": "code",
   "execution_count": null,
   "metadata": {},
   "outputs": [],
   "source": []
  },
  {
   "cell_type": "code",
   "execution_count": null,
   "metadata": {},
   "outputs": [],
   "source": []
  },
  {
   "cell_type": "code",
   "execution_count": null,
   "metadata": {},
   "outputs": [],
   "source": [
    "model.compile(loss='binary_crossentropy', optimizer=optimizers.SGD(lr=1e-4, momentum=0.9), \\\n",
    "              metrics=['accuracy'])"
   ]
  },
  {
   "cell_type": "code",
   "execution_count": null,
   "metadata": {},
   "outputs": [],
   "source": []
  },
  {
   "cell_type": "code",
   "execution_count": null,
   "metadata": {},
   "outputs": [],
   "source": []
  },
  {
   "cell_type": "code",
   "execution_count": null,
   "metadata": {},
   "outputs": [],
   "source": []
  },
  {
   "cell_type": "code",
   "execution_count": null,
   "metadata": {},
   "outputs": [],
   "source": []
  },
  {
   "cell_type": "markdown",
   "metadata": {
    "collapsed": true
   },
   "source": [
    "# Mejoras\n",
    "\n",
    "* mejorar la lectura de los ficheros\n",
    "* repasar los imports y eliminar los repetidos\n",
    "* mejora de la organizacion de los ficheros de los pesos\n",
    "* entender los distintos pesos (3 tipos imagenet, los precargados en ficheros h5 y los que se bajan la primera vez)\n",
    "* mejora guardado de archivos con hd5py o similares"
   ]
  },
  {
   "cell_type": "code",
   "execution_count": null,
   "metadata": {},
   "outputs": [],
   "source": []
  }
 ],
 "metadata": {
  "kernelspec": {
   "display_name": "Python 3",
   "language": "python",
   "name": "python3"
  },
  "language_info": {
   "codemirror_mode": {
    "name": "ipython",
    "version": 3
   },
   "file_extension": ".py",
   "mimetype": "text/x-python",
   "name": "python",
   "nbconvert_exporter": "python",
   "pygments_lexer": "ipython3",
   "version": "3.6.3"
  }
 },
 "nbformat": 4,
 "nbformat_minor": 2
}
