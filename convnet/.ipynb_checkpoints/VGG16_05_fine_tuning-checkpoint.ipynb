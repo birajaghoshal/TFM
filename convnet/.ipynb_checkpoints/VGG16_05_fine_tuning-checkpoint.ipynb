{
 "cells": [
  {
   "cell_type": "code",
   "execution_count": 1,
   "metadata": {},
   "outputs": [
    {
     "name": "stderr",
     "output_type": "stream",
     "text": [
      "Using TensorFlow backend.\n"
     ]
    }
   ],
   "source": [
    "from keras import applications\n",
    "from keras.preprocessing.image import ImageDataGenerator\n",
    "from keras.optimizers import SGD\n",
    "from keras.models import Sequential, Model\n",
    "from keras.layers import Dropout, Flatten, Dense, Input"
   ]
  },
  {
   "cell_type": "code",
   "execution_count": 2,
   "metadata": {},
   "outputs": [],
   "source": [
    "top_model_weights_path = '../data/output_convnet/VGG16/VGG16_bn_model.h5'\n",
    "\n",
    "img_width = 150\n",
    "img_height = 150\n",
    "\n",
    "n_epochs = 50\n",
    "batch_size = 5 # reduce to 5 in order to be able to compute the calcs\n",
    "\n",
    "train_data_dir = \"train\"  \n",
    "validation_data_dir = \"validation\"\n",
    "test_data_dir = \"test\"\n",
    "\n",
    "n_train_samples = 3000\n",
    "n_validation_samples = 1000\n",
    "n_test_samples = 1000\n",
    "n_classes = 8"
   ]
  },
  {
   "cell_type": "code",
   "execution_count": 3,
   "metadata": {},
   "outputs": [],
   "source": [
    "# base model\n",
    "input_tensor = Input(shape=(img_width,img_height,3)) # another way to shape the input\n",
    "base_model = applications.VGG16(weights='imagenet', include_top=False, input_tensor=input_tensor)"
   ]
  },
  {
   "cell_type": "code",
   "execution_count": 4,
   "metadata": {},
   "outputs": [],
   "source": [
    "# top model\n",
    "top_model = Sequential()\n",
    "top_model.add(Flatten(input_shape=base_model.output_shape[1:]))\n",
    "top_model.add(Dense(256, activation='relu'))\n",
    "top_model.add(Dropout(0.5))\n",
    "top_model.add(Dense(8, activation='softmax'))"
   ]
  },
  {
   "cell_type": "code",
   "execution_count": 5,
   "metadata": {},
   "outputs": [],
   "source": [
    "# base model has its weights, now we load the weights on the top layer\n",
    "top_model.load_weights(\"../data/output_convnet/VGG16/VGG16_bn_model.h5\")"
   ]
  },
  {
   "cell_type": "code",
   "execution_count": 6,
   "metadata": {},
   "outputs": [
    {
     "name": "stderr",
     "output_type": "stream",
     "text": [
      "/home/jon/anaconda3/envs/test/lib/python3.6/site-packages/ipykernel_launcher.py:2: UserWarning: Update your `Model` call to the Keras 2 API: `Model(inputs=Tensor(\"in..., outputs=Tensor(\"se...)`\n",
      "  \n"
     ]
    }
   ],
   "source": [
    "# we join base and top it has to be updated to api2\n",
    "model_total = Model(input= base_model.input, output= top_model(base_model.output))"
   ]
  },
  {
   "cell_type": "code",
   "execution_count": 7,
   "metadata": {},
   "outputs": [
    {
     "name": "stdout",
     "output_type": "stream",
     "text": [
      "0 input_1 (None, 150, 150, 3)\n",
      "1 block1_conv1 (None, 150, 150, 64)\n",
      "2 block1_conv2 (None, 150, 150, 64)\n",
      "3 block1_pool (None, 75, 75, 64)\n",
      "4 block2_conv1 (None, 75, 75, 128)\n",
      "5 block2_conv2 (None, 75, 75, 128)\n",
      "6 block2_pool (None, 37, 37, 128)\n",
      "7 block3_conv1 (None, 37, 37, 256)\n",
      "8 block3_conv2 (None, 37, 37, 256)\n",
      "9 block3_conv3 (None, 37, 37, 256)\n",
      "10 block3_pool (None, 18, 18, 256)\n",
      "11 block4_conv1 (None, 18, 18, 512)\n",
      "12 block4_conv2 (None, 18, 18, 512)\n",
      "13 block4_conv3 (None, 18, 18, 512)\n",
      "14 block4_pool (None, 9, 9, 512)\n",
      "15 block5_conv1 (None, 9, 9, 512)\n",
      "16 block5_conv2 (None, 9, 9, 512)\n",
      "17 block5_conv3 (None, 9, 9, 512)\n",
      "18 block5_pool (None, 4, 4, 512)\n",
      "19 sequential_1 (None, 8)\n"
     ]
    }
   ],
   "source": [
    "# sequential is the top layer a complex one\n",
    "for i, layer in enumerate(model_total.layers):\n",
    "    print (i, layer.name, layer.output_shape)"
   ]
  },
  {
   "cell_type": "code",
   "execution_count": 8,
   "metadata": {},
   "outputs": [
    {
     "name": "stdout",
     "output_type": "stream",
     "text": [
      "layer 0, input_1 is freezed\n",
      "layer 1, block1_conv1 is trainable\n",
      "layer 2, block1_conv2 is trainable\n",
      "layer 3, block1_pool is trainable\n",
      "layer 4, block2_conv1 is trainable\n",
      "layer 5, block2_conv2 is trainable\n",
      "layer 6, block2_pool is trainable\n",
      "layer 7, block3_conv1 is trainable\n",
      "layer 8, block3_conv2 is trainable\n",
      "layer 9, block3_conv3 is trainable\n",
      "layer 10, block3_pool is trainable\n",
      "layer 11, block4_conv1 is trainable\n",
      "layer 12, block4_conv2 is trainable\n",
      "layer 13, block4_conv3 is trainable\n",
      "layer 14, block4_pool is trainable\n",
      "layer 15, block5_conv1 is trainable\n",
      "layer 16, block5_conv2 is trainable\n",
      "layer 17, block5_conv3 is trainable\n",
      "layer 18, block5_pool is trainable\n",
      "layer 19, sequential_1 is trainable\n"
     ]
    }
   ],
   "source": [
    "for i, layer in enumerate(model_total.layers):\n",
    "    if layer.trainable:\n",
    "        print(\"layer {0:d}, {1:s} is trainable\".format(i, layer.name))\n",
    "    else:\n",
    "        print(\"layer {0:d}, {1:s} is freezed\".format(i, layer.name))"
   ]
  },
  {
   "cell_type": "code",
   "execution_count": 9,
   "metadata": {},
   "outputs": [],
   "source": [
    "# freezing layers implies they will not update their weights over the training\n",
    "for layer in model_total.layers[:15]:\n",
    "    layer.trainable = False"
   ]
  },
  {
   "cell_type": "code",
   "execution_count": 10,
   "metadata": {},
   "outputs": [
    {
     "name": "stdout",
     "output_type": "stream",
     "text": [
      "layer 0, input_1 is freezed\n",
      "layer 1, block1_conv1 is freezed\n",
      "layer 2, block1_conv2 is freezed\n",
      "layer 3, block1_pool is freezed\n",
      "layer 4, block2_conv1 is freezed\n",
      "layer 5, block2_conv2 is freezed\n",
      "layer 6, block2_pool is freezed\n",
      "layer 7, block3_conv1 is freezed\n",
      "layer 8, block3_conv2 is freezed\n",
      "layer 9, block3_conv3 is freezed\n",
      "layer 10, block3_pool is freezed\n",
      "layer 11, block4_conv1 is freezed\n",
      "layer 12, block4_conv2 is freezed\n",
      "layer 13, block4_conv3 is freezed\n",
      "layer 14, block4_pool is freezed\n",
      "layer 15, block5_conv1 is trainable\n",
      "layer 16, block5_conv2 is trainable\n",
      "layer 17, block5_conv3 is trainable\n",
      "layer 18, block5_pool is trainable\n",
      "layer 19, sequential_1 is trainable\n"
     ]
    }
   ],
   "source": [
    "# check for updates\n",
    "for i, layer in enumerate(model_total.layers):\n",
    "    if layer.trainable:\n",
    "        print(\"layer {0:d}, {1:s} is trainable\".format(i, layer.name))\n",
    "    else:\n",
    "        print(\"layer {0:d}, {1:s} is freezed\".format(i, layer.name))"
   ]
  },
  {
   "cell_type": "code",
   "execution_count": 11,
   "metadata": {},
   "outputs": [],
   "source": [
    "model_total.compile(optimizer=SGD(lr=1e-4, momentum=0.9),\n",
    "              loss='categorical_crossentropy', metrics=['accuracy'])"
   ]
  },
  {
   "cell_type": "code",
   "execution_count": 12,
   "metadata": {},
   "outputs": [
    {
     "name": "stdout",
     "output_type": "stream",
     "text": [
      "Found 3000 images belonging to 8 classes.\n",
      "Found 1000 images belonging to 8 classes.\n"
     ]
    }
   ],
   "source": [
    "# diff with bottleneck, we have to use data augmentation here\n",
    "train_datagen = ImageDataGenerator(\n",
    "    rescale=1. / 255,\n",
    "    shear_range=0.2,\n",
    "    zoom_range=0.2,\n",
    "    horizontal_flip=True)\n",
    "\n",
    "train_generator = train_datagen.flow_from_directory(\n",
    "    train_data_dir,\n",
    "    target_size=(img_height, img_width),\n",
    "    batch_size=batch_size,\n",
    "    class_mode='categorical')\n",
    "\n",
    "val_datagen = ImageDataGenerator(rescale=1. / 255) # not in the val data\n",
    "\n",
    "val_generator = val_datagen.flow_from_directory(\n",
    "    validation_data_dir,\n",
    "    target_size=(img_height, img_width),\n",
    "    batch_size=batch_size,\n",
    "    class_mode='categorical')\n"
   ]
  },
  {
   "cell_type": "code",
   "execution_count": 14,
   "metadata": {},
   "outputs": [
    {
     "data": {
      "text/plain": [
       "'\\nsome cells are run based only in 5 epoch just for testing purposes\\nthe real weights were calculated with 50 epochs and will be loaded ahead\\n'"
      ]
     },
     "execution_count": 14,
     "metadata": {},
     "output_type": "execute_result"
    }
   ],
   "source": [
    "n_epochs = 5 # just for testing purposes\n",
    "'''\n",
    "some cells are run based only in 5 epoch just for testing purposes\n",
    "the real weights were calculated with 50 epochs and will be loaded ahead\n",
    "'''"
   ]
  },
  {
   "cell_type": "code",
   "execution_count": 15,
   "metadata": {},
   "outputs": [
    {
     "name": "stderr",
     "output_type": "stream",
     "text": [
      "/home/jon/anaconda3/envs/test/lib/python3.6/site-packages/ipykernel_launcher.py:13: UserWarning: Update your `fit_generator` call to the Keras 2 API: `fit_generator(<keras.pre..., epochs=5, verbose=1, validation_data=<keras.pre..., validation_steps=1000, steps_per_epoch=600)`\n",
      "  del sys.path[0]\n"
     ]
    },
    {
     "name": "stdout",
     "output_type": "stream",
     "text": [
      "Epoch 1/5\n",
      "600/600 [==============================] - 94s 156ms/step - loss: 0.5334 - acc: 0.8190 - val_loss: 0.3544 - val_acc: 0.8640\n",
      "Epoch 2/5\n",
      "600/600 [==============================] - 93s 155ms/step - loss: 0.4137 - acc: 0.8600 - val_loss: 0.2840 - val_acc: 0.8890\n",
      "Epoch 3/5\n",
      "600/600 [==============================] - 92s 153ms/step - loss: 0.3883 - acc: 0.8663 - val_loss: 0.2947 - val_acc: 0.8960\n",
      "Epoch 4/5\n",
      "600/600 [==============================] - 92s 153ms/step - loss: 0.3512 - acc: 0.8797 - val_loss: 0.3158 - val_acc: 0.8920\n",
      "Epoch 5/5\n",
      "600/600 [==============================] - 91s 152ms/step - loss: 0.2964 - acc: 0.8943 - val_loss: 0.2966 - val_acc: 0.8880\n"
     ]
    }
   ],
   "source": [
    "import time\n",
    "# fine-tune the model\n",
    "\n",
    "ti_ftuning = time.time()\n",
    "\n",
    "\n",
    "historical_data = model_total.fit_generator(\n",
    "    train_generator,\n",
    "    samples_per_epoch=n_train_samples,\n",
    "    epochs=n_epochs,\n",
    "    verbose = 1,\n",
    "    validation_data=val_generator,\n",
    "    validation_steps=n_validation_samples)\n",
    "\n",
    "tf_ftuning = time.time()\n",
    "tt_ftuning = tf_ftuning - ti_ftuning"
   ]
  },
  {
   "cell_type": "code",
   "execution_count": 16,
   "metadata": {},
   "outputs": [
    {
     "name": "stdout",
     "output_type": "stream",
     "text": [
      "00:07:41\n"
     ]
    }
   ],
   "source": [
    "print(time.strftime(\"%H:%M:%S\", time.gmtime(tt_ftuning)))"
   ]
  },
  {
   "cell_type": "code",
   "execution_count": null,
   "metadata": {},
   "outputs": [],
   "source": [
    "model_total.save_weights('../data/output_convnet/VGG16/VGG16_ft_testing_model.h5') # testing\n",
    "# model_total.save_weights('../data/output_convnet/VGG16/VGG16_ft_model.h5')"
   ]
  },
  {
   "cell_type": "code",
   "execution_count": 19,
   "metadata": {},
   "outputs": [
    {
     "name": "stdout",
     "output_type": "stream",
     "text": [
      "acc: 88.80% - loss: 0.296627\n"
     ]
    }
   ],
   "source": [
    "# check it out!\n",
    "import math\n",
    "steps = int(math.ceil(n_validation_samples / batch_size))\n",
    "\n",
    "(loss, acc) = model_total.evaluate_generator(val_generator, steps=steps)\n",
    "\n",
    "print(\"acc: {0:.2f}% - loss: {1:f}\".format(acc * 100, loss))"
   ]
  },
  {
   "cell_type": "code",
   "execution_count": 20,
   "metadata": {},
   "outputs": [
    {
     "name": "stdout",
     "output_type": "stream",
     "text": [
      "train acc mean: 0.86 * train loss mean: 0.40\n",
      "validation acc mean: 0.89 * validation loss mean: 0.31\n"
     ]
    }
   ],
   "source": [
    "import numpy as np\n",
    "\n",
    "train_acc = historical_data.history['acc']\n",
    "train_loss = historical_data.history['loss']\n",
    "\n",
    "val_acc = historical_data.history['val_acc'] # validation\n",
    "val_loss = historical_data.history['val_loss'] # validation\n",
    "\n",
    "print(\"train acc mean: {0:.2f} * train loss mean: {1:.2f}\".format(np.average(train_acc),np.average(train_loss)))\n",
    "print(\"validation acc mean: {0:.2f} * validation loss mean: {1:.2f}\".format(np.average(val_acc),np.average(val_loss)))"
   ]
  },
  {
   "cell_type": "code",
   "execution_count": 22,
   "metadata": {},
   "outputs": [
    {
     "data": {
      "image/png": "[encoded data removed]",
      "text/plain": [
       "<matplotlib.figure.Figure at 0x7ff4c9689710>"
      ]
     },
     "metadata": {},
     "output_type": "display_data"
    }
   ],
   "source": [
    "# historical_data.history acc and loss data over the epochs (train and validation)\n",
    "import matplotlib.pyplot as plt\n",
    "import os\n",
    "\n",
    "PATH_TO_DF = \"../data/output_convnet/VGG16\"\n",
    "\n",
    "range_epochs = range(n_epochs)\n",
    "\n",
    "fig = plt.figure(figsize=(20, 6))\n",
    "\n",
    "fig.add_subplot(1,2,1)\n",
    "plt.plot(range_epochs, train_acc, 'bo', label='Training acc')\n",
    "plt.plot(range_epochs, val_acc, 'b', label='Validation acc')\n",
    "plt.title('Training and validation accuracy')\n",
    "plt.legend()\n",
    "\n",
    "# plt.figure()\n",
    "fig.add_subplot(1,2,2)\n",
    "plt.plot(range_epochs, train_loss, 'bo', label='Training loss')\n",
    "plt.plot(range_epochs, val_loss, 'b', label='Validation loss')\n",
    "plt.title('Training and validation loss')\n",
    "plt.legend()\n",
    "\n",
    "plt.savefig(os.path.join(PATH_TO_DF, \"VGG16_ft_testing_acc_loss.png\"), bbox_inches='tight')\n",
    "# plt.savefig(os.path.join(PATH_TO_DF, \"VGG16_ft_acc_loss.png\"), bbox_inches='tight')\n",
    "plt.show()"
   ]
  },
  {
   "cell_type": "markdown",
   "metadata": {},
   "source": [
    "next cell is used to load the training weigths, in case you have a better GPU they can be ignored"
   ]
  },
  {
   "cell_type": "code",
   "execution_count": 29,
   "metadata": {
    "scrolled": true
   },
   "outputs": [
    {
     "name": "stderr",
     "output_type": "stream",
     "text": [
      "/home/jon/anaconda3/envs/test/lib/python3.6/site-packages/ipykernel_launcher.py:13: UserWarning: Update your `Model` call to the Keras 2 API: `Model(inputs=Tensor(\"in..., outputs=Tensor(\"se...)`\n",
      "  del sys.path[0]\n"
     ]
    }
   ],
   "source": [
    "# import h5py\n",
    "\n",
    "# hdf5_file = h5py.File('../data/output_convnet/VGG16/VGG16_ft_model.h5', mode='r')\n",
    "\n",
    "model_base = applications.VGG16(weights='imagenet', include_top=False, input_tensor=input_tensor)  \n",
    "\n",
    "model_top = Sequential()  \n",
    "model_top.add(Flatten(input_shape=model_base.output_shape[1:]))  \n",
    "model_top.add(Dense(256, activation='relu'))  \n",
    "model_top.add(Dropout(0.5))  \n",
    "model_top.add(Dense(8, activation='softmax'))\n",
    "\n",
    "model_total = Model(input= model_base.input, output= model_top(model_base.output))\n",
    "\n",
    "# loading the weights trained before\n",
    "model_total.load_weights(\"../data/output_convnet/VGG16/VGG16_ft_model.h5\")\n",
    "\n",
    "model_total.compile(optimizer=SGD(lr=1e-4, momentum=0.9),\n",
    "              loss='categorical_crossentropy', metrics=['accuracy']) "
   ]
  },
  {
   "cell_type": "code",
   "execution_count": 31,
   "metadata": {},
   "outputs": [
    {
     "name": "stdout",
     "output_type": "stream",
     "text": [
      "Found 1000 images belonging to 8 classes.\n"
     ]
    }
   ],
   "source": [
    "batch_size_test = 5 # cannnot test it with a higher size\n",
    "\n",
    "test_convnet = ImageDataGenerator(rescale=1. / 255)\n",
    "\n",
    "test_generator = test_convnet.flow_from_directory(\n",
    "    test_data_dir,\n",
    "    target_size=(img_height, img_width),\n",
    "    batch_size=batch_size,\n",
    "    shuffle =False,\n",
    "    class_mode='categorical')"
   ]
  },
  {
   "cell_type": "code",
   "execution_count": 32,
   "metadata": {},
   "outputs": [
    {
     "name": "stdout",
     "output_type": "stream",
     "text": [
      "acc: 91.40% - loss: 0.255411\n"
     ]
    }
   ],
   "source": [
    "import math\n",
    "steps = int(math.ceil(n_test_samples / batch_size))\n",
    "\n",
    "(loss, acc) = model_total.evaluate_generator(test_generator, steps=steps)\n",
    "\n",
    "print(\"acc: {0:.2f}% - loss: {1:f}\".format(acc * 100, loss))"
   ]
  },
  {
   "cell_type": "code",
   "execution_count": 33,
   "metadata": {},
   "outputs": [],
   "source": [
    "predictions = model_total.predict_generator(test_generator, steps = steps)"
   ]
  },
  {
   "cell_type": "code",
   "execution_count": 38,
   "metadata": {},
   "outputs": [],
   "source": [
    "from sklearn.metrics import confusion_matrix\n",
    "\n",
    "PATH_TO_IMG = \"../data/input_dataset\"\n",
    "\n",
    "prediction_list = []\n",
    "real_label_list = []\n",
    "\n",
    "cat_dict = test_generator.class_indices # the key attribute\n",
    "inverse_coding = {value: key for key, value in cat_dict.items()} # dict of categories\n",
    "\n",
    "for label in test_generator.classes:\n",
    "    real_label_list.append(inverse_coding[label])\n",
    "    \n",
    "for prediction in predictions:\n",
    "    prediction_list.append(inverse_coding[np.argmax(prediction)])\n",
    "\n",
    "# in order to get the confusion matrix\n",
    "class_names = sorted([folder for folder in os.listdir(PATH_TO_IMG)\n",
    "                  if os.path.isdir(os.path.join(PATH_TO_IMG, folder))])\n",
    "prediction_list_arr = np.array(prediction_list) \n",
    "real_label_list_arr = np.array(real_label_list)\n",
    "\n",
    "VGG16_cm_ft = confusion_matrix(real_label_list_arr,prediction_list_arr)"
   ]
  },
  {
   "cell_type": "code",
   "execution_count": 39,
   "metadata": {},
   "outputs": [],
   "source": [
    "# reference http://scikit-learn.org/stable/auto_examples/model_selection/plot_confusion_matrix.html\n",
    "import itertools\n",
    "import matplotlib.pyplot as plt\n",
    "\n",
    "def plot_confusion_matrix(cm, classes, normalize=False, title='Confusion matrix',\n",
    "                          cmap=plt.cm.Blues):\n",
    "    \"\"\"\n",
    "    This function prints and plots the confusion matrix.\n",
    "    Normalization can be applied by setting `normalize=True`.\n",
    "    \"\"\"\n",
    "    if normalize:\n",
    "        cm = cm.astype('float') / cm.sum(axis=1)[:, np.newaxis]\n",
    "\n",
    "    plt.imshow(cm, interpolation='nearest', cmap=cmap)\n",
    "    plt.title(title)\n",
    "    plt.colorbar()\n",
    "    tick_marks = np.arange(len(classes))\n",
    "    plt.xticks(tick_marks, classes, rotation=45)\n",
    "    plt.yticks(tick_marks, classes)\n",
    "\n",
    "    fmt = '.2f' if normalize else 'd'\n",
    "    thresh = cm.max() / 2.\n",
    "    for i, j in itertools.product(range(cm.shape[0]), range(cm.shape[1])):\n",
    "        plt.text(j, i, format(cm[i, j], fmt),\n",
    "                 horizontalalignment=\"center\",\n",
    "                 color=\"white\" if cm[i, j] > thresh else \"black\")\n",
    "\n",
    "    plt.tight_layout()\n",
    "    plt.ylabel('True label',size=20)\n",
    "    plt.xlabel('Predicted label',size=20)"
   ]
  },
  {
   "cell_type": "code",
   "execution_count": 40,
   "metadata": {},
   "outputs": [
    {
     "data": {
      "image/png": "[encoded data removed]",
      "text/plain": [
       "<matplotlib.figure.Figure at 0x7ff4666dbf60>"
      ]
     },
     "metadata": {},
     "output_type": "display_data"
    }
   ],
   "source": [
    "fig = plt.figure(figsize=(20, 6))\n",
    "\n",
    "\n",
    "fig.add_subplot(1,2,1)\n",
    "plot_confusion_matrix(VGG16_cm_ft, classes=class_names,\n",
    "                      title='Confusion matrix, without normalization')\n",
    "\n",
    "fig.add_subplot(1,2,2)\n",
    "plot_confusion_matrix(VGG16_cm_ft, classes=class_names, normalize=True,\n",
    "                      title='Normalized confusion matrix')\n",
    "\n",
    "plt.savefig(os.path.join(PATH_TO_DF, \"VGG16_ft_test.png\"), bbox_inches='tight') # png 70kb vs jpg 135 kb\n",
    "\n",
    "plt.show()"
   ]
  }
 ],
 "metadata": {
  "kernelspec": {
   "display_name": "Python 3",
   "language": "python",
   "name": "python3"
  },
  "language_info": {
   "codemirror_mode": {
    "name": "ipython",
    "version": 3
   },
   "file_extension": ".py",
   "mimetype": "text/x-python",
   "name": "python",
   "nbconvert_exporter": "python",
   "pygments_lexer": "ipython3",
   "version": "3.6.2"
  }
 },
 "nbformat": 4,
 "nbformat_minor": 2
}
