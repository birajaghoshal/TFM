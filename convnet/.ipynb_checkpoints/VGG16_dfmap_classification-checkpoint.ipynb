{
 "cells": [
  {
   "cell_type": "markdown",
   "metadata": {},
   "source": [
    "# Clasificación de las características profundas\n",
    "\n",
    "Preparación de los datos\n",
    "\n",
    "1. Máquinas de soporte vectorial sin reducción de dimensiones\n",
    "\n",
    "2. Máquinas de soporte vectorial con reducción de dimensiones\n",
    "\n",
    "3. Árboles de decisión sin reducción de dimensiones\n",
    "\n",
    "4. Árboles de decisión con reducción de dimensiones\n",
    "\n",
    "5. Bosques aleatorios sin reducción de dimensiones\n",
    "\n",
    "6. Bosques aleatorios sin reducción de dimensiones\n",
    "\n",
    "Mejoras"
   ]
  },
  {
   "cell_type": "markdown",
   "metadata": {},
   "source": [
    "## Preparación de los datos"
   ]
  },
  {
   "cell_type": "code",
   "execution_count": 3,
   "metadata": {
    "collapsed": true
   },
   "outputs": [],
   "source": [
    "PATH_TO_DF = \"../data/output_convnet\"\n",
    "DF_MAP = \"VGG16_dfmap\"\n",
    "DF_MAP_PCA = \"VGG16_dfmap_pca\"\n",
    "LABELS = \"VGG16_img_labels\"\n",
    "\n",
    "# img_labels file text\n",
    "# PATH_TO_LABELS = \"../data/output_dataset\"\n",
    "# LABELS = \"img_labels\""
   ]
  },
  {
   "cell_type": "code",
   "execution_count": 5,
   "metadata": {},
   "outputs": [],
   "source": [
    "import os\n",
    "import numpy as np\n",
    "import pickle\n",
    "\n",
    "features = pickle.load(open(os.path.join(PATH_TO_DF,DF_MAP),'rb'))\n",
    "features_pca = pickle.load(open(os.path.join(PATH_TO_DF,DF_MAP_PCA),'rb'))\n",
    "\n",
    "labels = pickle.load(open(os.path.join(PATH_TO_DF,LABELS),'rb'))\n",
    "\n",
    "# open img_list dataset output ¿?"
   ]
  },
  {
   "cell_type": "markdown",
   "metadata": {},
   "source": [
    "Comprobamos..."
   ]
  },
  {
   "cell_type": "code",
   "execution_count": 16,
   "metadata": {},
   "outputs": [
    {
     "name": "stdout",
     "output_type": "stream",
     "text": [
      "Matriz de características profundas:  (5000, 4096)\n",
      "Matriz de características profundas reducidas mediante componentes principales:  (5000, 800)\n",
      "Nº Listado de etiquetas:  5000\n"
     ]
    }
   ],
   "source": [
    "print(\"Matriz de características profundas: \", features.shape)\n",
    "print(\"Matriz de características profundas reducidas mediante componentes principales: \", features_pca.shape)\n",
    "print(\"Nº Listado de etiquetas: \", len(labels))"
   ]
  },
  {
   "cell_type": "markdown",
   "metadata": {},
   "source": [
    "## Máquinas de soporte vectorial sin reducción de dimensiones"
   ]
  },
  {
   "cell_type": "code",
   "execution_count": 17,
   "metadata": {},
   "outputs": [],
   "source": [
    "# just in case\n",
    "features_arr = np.array(features)\n",
    "labels_arr = np.array(labels)"
   ]
  },
  {
   "cell_type": "code",
   "execution_count": null,
   "metadata": {
    "collapsed": true
   },
   "outputs": [],
   "source": []
  }
 ],
 "metadata": {
  "kernelspec": {
   "display_name": "Python 3",
   "language": "python",
   "name": "python3"
  },
  "language_info": {
   "codemirror_mode": {
    "name": "ipython",
    "version": 3
   },
   "file_extension": ".py",
   "mimetype": "text/x-python",
   "name": "python",
   "nbconvert_exporter": "python",
   "pygments_lexer": "ipython3",
   "version": "3.6.2"
  }
 },
 "nbformat": 4,
 "nbformat_minor": 2
}
