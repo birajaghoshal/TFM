{
 "cells": [
  {
   "cell_type": "markdown",
   "metadata": {},
   "source": [
    "# Reducción del número de descriptores profundos\n",
    "\n",
    "* Análisis componentes principales\n",
    "\n",
    "Mejoras"
   ]
  },
  {
   "cell_type": "markdown",
   "metadata": {},
   "source": [
    "## Análisis componentes principales\n",
    "\n",
    "Descripción breve..."
   ]
  },
  {
   "cell_type": "code",
   "execution_count": 4,
   "metadata": {
    "collapsed": true
   },
   "outputs": [],
   "source": [
    "PATH_TO_DF = \"../data/output_convnet\"\n",
    "DF_MAP = \"VGG16_dfmap\"\n",
    "LABELS = \"VGG16_img_labels\"\n",
    "\n",
    "# img_labels file text\n",
    "# PATH_TO_LABELS = \"../data/output_dataset\"\n",
    "# LABELS = \"img_labels\""
   ]
  },
  {
   "cell_type": "code",
   "execution_count": 5,
   "metadata": {
    "collapsed": true
   },
   "outputs": [],
   "source": [
    "import os\n",
    "import pickle\n",
    "\n",
    "features = pickle.load(open(os.path.join(PATH_TO_DF,DF_MAP),'rb'))\n",
    "labels = pickle.load(open(os.path.join(PATH_TO_DF,LABELS),'rb'))"
   ]
  },
  {
   "cell_type": "code",
   "execution_count": 25,
   "metadata": {},
   "outputs": [
    {
     "data": {
      "text/plain": [
       "tuple"
      ]
     },
     "execution_count": 25,
     "metadata": {},
     "output_type": "execute_result"
    }
   ],
   "source": [
    "# just in case\n",
    "import numpy as np\n",
    "\n",
    "features_arr = np.array(features)\n",
    "labels_arr = np.array(labels)\n",
    "\n",
    "type(features_arr.shape)"
   ]
  },
  {
   "cell_type": "markdown",
   "metadata": {},
   "source": [
    "Importados ficheros, comprobamos las dimensiones de los descriptores profundos:"
   ]
  },
  {
   "cell_type": "code",
   "execution_count": 27,
   "metadata": {},
   "outputs": [
    {
     "name": "stdout",
     "output_type": "stream",
     "text": [
      "Deep features - deep feature map\n",
      "\n",
      "Structure dims: 5000 x 4096\n",
      "\n",
      "N of deep features arrays:  5000\n",
      "\n",
      "N of deep features:  4096\n",
      "\n",
      "[[ 1.59203267  0.          0.         ...,  0.          0.          0.        ]\n",
      " [ 0.          0.          0.         ...,  0.45862061  0.          0.        ]\n",
      " [ 3.66870189  0.          0.         ...,  9.95420551  0.          0.        ]\n",
      " ..., \n",
      " [ 0.          1.27594543  0.         ...,  0.          0.29772317  0.        ]\n",
      " [ 0.          0.          0.         ...,  0.81036121  0.          0.        ]\n",
      " [ 0.          0.1871326   0.         ...,  0.          0.          0.        ]]\n",
      "\n",
      "\n",
      "Image's labels\n",
      "Structure:  <class 'numpy.ndarray'>\n",
      "Nº of image labels:  5000\n",
      "['01_TUMOR' '01_TUMOR' '01_TUMOR' ..., '08_EMPTY' '08_EMPTY' '08_EMPTY']\n"
     ]
    }
   ],
   "source": [
    "# features --> image x deep features\n",
    "print(\"Deep features - deep feature map\")\n",
    "print()\n",
    "print(\"Structure dims: {0:d} x {1:d}\".format(features_arr.shape[0], features_arr.shape[1]))\n",
    "print()\n",
    "print(\"N of deep features arrays: \", features_arr.shape[0])\n",
    "print()\n",
    "print(\"N of deep features: \",features_arr.shape[1])\n",
    "print()\n",
    "print(features) # array with deep features\n",
    "\n",
    "print()\n",
    "print()\n",
    "\n",
    "# labels --> list with image's cat\n",
    "\n",
    "print(\"Image's labels\")\n",
    "print()\n",
    "print(\"Structure: \", type(labels_arr))\n",
    "print()\n",
    "print(\"Nº of image labels: \", len(labels_arr))\n",
    "print()\n",
    "print(labels_arr) # img's label\n",
    "\n",
    "# so we have to reduce the colums number (deep features)"
   ]
  },
  {
   "cell_type": "markdown",
   "metadata": {},
   "source": [
    "La función de la que se hará uso toma las dimensiones a reducir por filas, en nuestra estructura se encuentran en las columas"
   ]
  },
  {
   "cell_type": "code",
   "execution_count": 31,
   "metadata": {
    "collapsed": true
   },
   "outputs": [],
   "source": [
    "features_arr = features_arr.T"
   ]
  },
  {
   "cell_type": "markdown",
   "metadata": {},
   "source": [
    "A continuación se calcula, la varianza explicada acumulada por las sucesivas dimensiones, se opta por este procedimiento para obtener una idea aproximada de forma gráfica de cuantas dimensiones serían necesarias para conservar un determinado porcentaje de varianza."
   ]
  },
  {
   "cell_type": "code",
   "execution_count": 32,
   "metadata": {},
   "outputs": [
    {
     "data": {
      "text/plain": [
       "<matplotlib.text.Text at 0x7ff90b01c588>"
      ]
     },
     "execution_count": 32,
     "metadata": {},
     "output_type": "execute_result"
    },
    {
     "data": {
      "image/png": "[encoded data removed]",
      "text/plain": [
       "<matplotlib.figure.Figure at 0x7ff94b21f780>"
      ]
     },
     "metadata": {},
     "output_type": "display_data"
    }
   ],
   "source": [
    "from sklearn.decomposition import PCA\n",
    "import matplotlib.pyplot as plt\n",
    "%matplotlib inline\n",
    "\n",
    "# calcs\n",
    "features_model_pca = PCA().fit(features_arr) # model\n",
    "\n",
    "# plot\n",
    "plt.plot(np.cumsum(features_model_pca.explained_variance_ratio_))\n",
    "plt.xlabel('Number of features')\n",
    "plt.ylabel('Cumulative explained variance')\n",
    "\n",
    "# print (pca.explained_variance_ratio_.cumsum()) # numpy.ndarray\n"
   ]
  },
  {
   "cell_type": "code",
   "execution_count": null,
   "metadata": {
    "collapsed": true
   },
   "outputs": [],
   "source": [
    "# mas variables para explicar el algoritmo pca\n",
    "# print (pca.explained_variance_)\n",
    "# print (pca.explained_variance_ratio_)\n"
   ]
  },
  {
   "cell_type": "markdown",
   "metadata": {},
   "source": [
    "Para saber de forma analítica (¿?) el número (aproximado) de componentes fijado un porcentaje (tanto por 1) de varianza explicativa acumulada, ...."
   ]
  },
  {
   "cell_type": "code",
   "execution_count": 34,
   "metadata": {
    "scrolled": true
   },
   "outputs": [
    {
     "name": "stdout",
     "output_type": "stream",
     "text": [
      "With 18 features we get 0.700000 of cumulative explicative variance.\n",
      "With 35 features we get 0.750000 of cumulative explicative variance.\n",
      "With 70 features we get 0.800000 of cumulative explicative variance.\n",
      "With 148 features we get 0.850000 of cumulative explicative variance.\n",
      "With 338 features we get 0.900000 of cumulative explicative variance.\n",
      "With 794 features we get 0.950000 of cumulative explicative variance.\n",
      "With 4090 features we get 1.000000 of cumulative explicative variance.\n"
     ]
    }
   ],
   "source": [
    "# weird output in the final step of arange()\n",
    "\n",
    "for i in np.arange(0.7,1,0.05):\n",
    "    print(\"With %d features we get %f of cumulative explicative variance.\" % \\\n",
    "          (np.argmax(features_model_pca.explained_variance_ratio_.cumsum() > i), i))"
   ]
  },
  {
   "cell_type": "markdown",
   "metadata": {},
   "source": [
    "explicar que las nuevas \"dimensiones\" se forman a partir de las dimensiones anteriores mediante proyecciones, otro método es el de selección de características (deep feature selection)"
   ]
  },
  {
   "cell_type": "code",
   "execution_count": null,
   "metadata": {
    "collapsed": true
   },
   "outputs": [],
   "source": [
    "Se reducen a 800 las dimensiones(proyecciones) habiendo partido de 4096 output de la convnet"
   ]
  },
  {
   "cell_type": "code",
   "execution_count": 36,
   "metadata": {},
   "outputs": [
    {
     "data": {
      "text/plain": [
       "PCA(copy=True, iterated_power='auto', n_components=800, random_state=None,\n",
       "  svd_solver='auto', tol=0.0, whiten=False)"
      ]
     },
     "execution_count": 36,
     "metadata": {},
     "output_type": "execute_result"
    }
   ],
   "source": [
    "features_model_pca = PCA(n_components=800) # fixed number of features\n",
    "features_model_pca.fit(features_arr)"
   ]
  },
  {
   "cell_type": "markdown",
   "metadata": {},
   "source": [
    "Se traspone la matriz de nuevo para tener los vectores de las imáganes ordenadas por filas. Guardamos la nueva estructura."
   ]
  },
  {
   "cell_type": "code",
   "execution_count": 38,
   "metadata": {
    "collapsed": true
   },
   "outputs": [],
   "source": [
    "import pickle\n",
    "\n",
    "pickle.dump(features_model_pca.components_.T, open(os.path.join(PATH_TO_DF,\"VGG16_dfmap_pca\"), 'wb'))"
   ]
  },
  {
   "cell_type": "markdown",
   "metadata": {},
   "source": [
    "## Mejoras\n",
    "\n",
    "Relativas a la posible mejora de los resultados analíticos:\n",
    "\n",
    "* Reducción de dimensiones mediante selección de características profundas\n",
    "\n",
    "Relativas a la mejora de los códigos Python:\n",
    "\n",
    "* mejora de código en general y estructuras (jolib, h5py)\n",
    "* lectura del fichero img_labels (con la convnet se vuelve a crear otro distinto)\n",
    "* control de errores en cada parte del proceso"
   ]
  }
 ],
 "metadata": {
  "kernelspec": {
   "display_name": "Python 3",
   "language": "python",
   "name": "python3"
  },
  "language_info": {
   "codemirror_mode": {
    "name": "ipython",
    "version": 3
   },
   "file_extension": ".py",
   "mimetype": "text/x-python",
   "name": "python",
   "nbconvert_exporter": "python",
   "pygments_lexer": "ipython3",
   "version": "3.6.3"
  }
 },
 "nbformat": 4,
 "nbformat_minor": 2
}
