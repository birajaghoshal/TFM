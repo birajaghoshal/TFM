{
 "cells": [
  {
   "cell_type": "markdown",
   "metadata": {},
   "source": [
    "# CODIGOS ANTIGUOS"
   ]
  },
  {
   "cell_type": "code",
   "execution_count": null,
   "metadata": {},
   "outputs": [],
   "source": [
    "from sklearn.model_selection import train_test_split\n",
    "\n",
    "test_sample_size = 0.2\n",
    "\n",
    "# http://scikit-learn.org/stable/modules/cross_validation.html\n",
    "# http://scikit-learn.org/stable/modules/generated/sklearn.model_selection.train_test_split.html\n",
    "\n",
    "# no pca\n",
    "x_train, x_test, y_train, y_test = \\\n",
    "train_test_split(features_arr, labels_arr, test_size = test_sample_size, random_state = 42)\n",
    "\n",
    "# pca\n",
    "x_pca_train, x_pca_test, y_pca_train, y_pca_test = \\\n",
    "train_test_split(features_pca_arr, labels_arr, test_size = test_sample_size, random_state = 42)"
   ]
  },
  {
   "cell_type": "markdown",
   "metadata": {},
   "source": [
    "Las muestras quedan así:\n",
    "\n",
    "con random_state 42 --> quedaran muestras identicas?"
   ]
  },
  {
   "cell_type": "code",
   "execution_count": null,
   "metadata": {},
   "outputs": [],
   "source": [
    "def print_info_dataset(x_train, x_test, y_train, y_test):\n",
    "\n",
    "    print(\"Train sample:\")\n",
    "    print(\"x\",type(x_train))\n",
    "    print(\"x\",x_train.shape)\n",
    "    print()\n",
    "    print(\"y\",type(y_train))\n",
    "    print(\"y\",y_train.shape)\n",
    "    print()\n",
    "    print()\n",
    "    print(\"test\")\n",
    "    print(\"x\",type(x_test))\n",
    "    print(\"x\",x_test.shape)\n",
    "    print()\n",
    "    print(\"y\",type(y_test))\n",
    "    print(\"y\",y_test.shape)"
   ]
  },
  {
   "cell_type": "code",
   "execution_count": null,
   "metadata": {},
   "outputs": [],
   "source": [
    "print(\"Data set without pca: \")\n",
    "print_info_dataset(x_train, x_test, y_train, y_test)\n",
    "print()\n",
    "print(\"Data set with pca: \")\n",
    "print_info_dataset(x_pca_train, x_pca_test, y_pca_train, y_pca_test)"
   ]
  },
  {
   "cell_type": "markdown",
   "metadata": {},
   "source": [
    "## 1 Máquinas de soporte vectorial sin reducción de dimensiones"
   ]
  },
  {
   "cell_type": "code",
   "execution_count": null,
   "metadata": {},
   "outputs": [],
   "source": [
    "from sklearn.svm import LinearSVC\n",
    "\n",
    "# model definition\n",
    "SVM = LinearSVC()\n",
    "\n",
    "# model training\n",
    "SVM.fit(x_train, y_train)\n",
    "\n",
    "# model predict\n",
    "y_pred_svm = SVM.predict(x_test)"
   ]
  },
  {
   "cell_type": "code",
   "execution_count": null,
   "metadata": {},
   "outputs": [],
   "source": [
    "from sklearn.metrics import confusion_matrix\n",
    "import matplotlib.pyplot as plt\n",
    "%matplotlib inline\n",
    "\n",
    "def conf_matrix(y_true,y_pred):\n",
    "    \n",
    "    # confusion matrix\n",
    "    CM = confusion_matrix(y_true,y_pred)\n",
    "    \n",
    "    # image's categories\n",
    "    true_labels = np.unique(y_true)\n",
    "    pred_labels = np.unique(y_pred)\n",
    "    \n",
    "    # color pallete\n",
    "    plt.imshow(CM[:-1,:-1], interpolation='nearest', cmap=plt.cm.Blues)\n",
    "    \n",
    "    plt.title(\"Confusion matrix\", fontsize=16)\n",
    "    \n",
    "    cbar = plt.colorbar(fraction=0.046, pad=0.04)\n",
    "    cbar.set_label('Number of images', rotation=270, labelpad=30, fontsize=12)\n",
    "    \n",
    "    xtick_marks = np.arange(len(true_labels))\n",
    "    ytick_marks = np.arange(len(pred_labels))\n",
    "    \n",
    "    plt.xticks(xtick_marks, true_labels, rotation=90)\n",
    "    plt.yticks(ytick_marks,pred_labels)\n",
    "    \n",
    "    plt.tight_layout()\n",
    "    \n",
    "    plt.ylabel('True label', fontsize=14)\n",
    "    plt.xlabel('Predicted label', fontsize=14)\n",
    "    \n",
    "    fig_size = plt.rcParams[\"figure.figsize\"]\n",
    "    fig_size[0] = 12\n",
    "    fig_size[1] = 12\n",
    "    plt.rcParams[\"figure.figsize\"] = fig_size\n",
    "\n",
    "conf_matrix(y_test,y_pred_svm)"
   ]
  },
  {
   "cell_type": "code",
   "execution_count": null,
   "metadata": {},
   "outputs": [],
   "source": [
    "from sklearn.metrics import accuracy_score\n",
    "\n",
    "def calc_metric(a,b):\n",
    "    print(\"Accuracy: {0:0.1f}%\".format(accuracy_score(a,b)*100))\n",
    "    \n",
    "calc_metric(y_test,y_pred_svm)"
   ]
  },
  {
   "cell_type": "markdown",
   "metadata": {},
   "source": [
    "## 2 Máquinas de soporte vectorial sin reducción de dimensiones"
   ]
  },
  {
   "cell_type": "code",
   "execution_count": null,
   "metadata": {},
   "outputs": [],
   "source": [
    "from sklearn.svm import LinearSVC\n",
    "\n",
    "# model definition\n",
    "SVM_PCA = LinearSVC()\n",
    "\n",
    "# model training\n",
    "SVM_PCA.fit(x_pca_train, y_pca_train)\n",
    "\n",
    "# model predict\n",
    "y_pca_pred_svm = SVM_PCA.predict(x_pca_test)"
   ]
  },
  {
   "cell_type": "code",
   "execution_count": null,
   "metadata": {},
   "outputs": [],
   "source": [
    "%matplotlib inline\n",
    "conf_matrix(y_pca_test,y_pca_pred_svm)"
   ]
  },
  {
   "cell_type": "code",
   "execution_count": null,
   "metadata": {},
   "outputs": [],
   "source": [
    "calc_metric(y_pca_test,y_pca_pred_svm)"
   ]
  },
  {
   "cell_type": "markdown",
   "metadata": {},
   "source": [
    "## 3 Árboles de decisión sin reducción de dimensiones"
   ]
  },
  {
   "cell_type": "code",
   "execution_count": null,
   "metadata": {},
   "outputs": [],
   "source": [
    "from sklearn.tree import DecisionTreeClassifier\n",
    "\n",
    "# model definition\n",
    "DTC = DecisionTreeClassifier()\n",
    "\n",
    "# model training\n",
    "DTC.fit(x_train, y_train)\n",
    "\n",
    "# model predict\n",
    "y_pred_dtc = DTC.predict(x_test)"
   ]
  },
  {
   "cell_type": "code",
   "execution_count": null,
   "metadata": {},
   "outputs": [],
   "source": [
    "%matplotlib inline\n",
    "conf_matrix(y_test,y_pred_dtc)"
   ]
  },
  {
   "cell_type": "code",
   "execution_count": null,
   "metadata": {},
   "outputs": [],
   "source": [
    "calc_metric(y_test,y_pred_dtc)"
   ]
  },
  {
   "cell_type": "markdown",
   "metadata": {},
   "source": [
    "## 4 Árboles de decisión con reducción de dimensiones\n",
    "\n"
   ]
  },
  {
   "cell_type": "code",
   "execution_count": null,
   "metadata": {},
   "outputs": [],
   "source": [
    "from sklearn.tree import DecisionTreeClassifier\n",
    "\n",
    "# model definition\n",
    "DTC_PCA = DecisionTreeClassifier()\n",
    "\n",
    "# model training\n",
    "DTC_PCA.fit(x_pca_train, y_pca_train)\n",
    "\n",
    "# model predict\n",
    "y_pca_pred_dtc = DTC_PCA.predict(x_pca_test)"
   ]
  },
  {
   "cell_type": "code",
   "execution_count": null,
   "metadata": {},
   "outputs": [],
   "source": [
    "%matplotlib inline\n",
    "conf_matrix(y_pca_test,y_pca_pred_dtc)"
   ]
  },
  {
   "cell_type": "code",
   "execution_count": null,
   "metadata": {
    "scrolled": true
   },
   "outputs": [],
   "source": [
    "calc_metric(y_pca_test,y_pca_pred_dtc)"
   ]
  },
  {
   "cell_type": "markdown",
   "metadata": {},
   "source": [
    "## 5 Bosques aleatorios sin reducción de dimensiones\n",
    "\n"
   ]
  },
  {
   "cell_type": "code",
   "execution_count": null,
   "metadata": {},
   "outputs": [],
   "source": [
    "from sklearn.ensemble import RandomForestClassifier\n",
    "\n",
    "# model definition\n",
    "RFC = RandomForestClassifier()\n",
    "\n",
    "# model training\n",
    "RFC.fit(x_train, y_train)\n",
    "\n",
    "# model predict\n",
    "y_pred_rfc = RFC.predict(x_test)"
   ]
  },
  {
   "cell_type": "code",
   "execution_count": null,
   "metadata": {},
   "outputs": [],
   "source": [
    "%matplotlib inline\n",
    "conf_matrix(y_test,y_pred_rfc)"
   ]
  },
  {
   "cell_type": "markdown",
   "metadata": {},
   "source": [
    "metricas"
   ]
  },
  {
   "cell_type": "code",
   "execution_count": null,
   "metadata": {},
   "outputs": [],
   "source": [
    "calc_metric(y_test,y_pred_rfc)"
   ]
  },
  {
   "cell_type": "markdown",
   "metadata": {},
   "source": [
    "## 6 Bosques aleatorios con reducción de dimensiones"
   ]
  },
  {
   "cell_type": "code",
   "execution_count": null,
   "metadata": {},
   "outputs": [],
   "source": [
    "from sklearn.ensemble import RandomForestClassifier\n",
    "\n",
    "# model definition\n",
    "RFC_PCA = RandomForestClassifier()\n",
    "\n",
    "# model training\n",
    "RFC_PCA.fit(x_pca_train, y_pca_train)\n",
    "\n",
    "# model predict\n",
    "y_pca_pred_rfc = RFC_PCA.predict(x_pca_test)"
   ]
  },
  {
   "cell_type": "code",
   "execution_count": null,
   "metadata": {},
   "outputs": [],
   "source": [
    "%matplotlib inline\n",
    "conf_matrix(y_pca_test,y_pca_pred_rfc)"
   ]
  },
  {
   "cell_type": "code",
   "execution_count": null,
   "metadata": {},
   "outputs": [],
   "source": [
    "calc_metric(y_pca_test,y_pca_pred_rfc)"
   ]
  }
 ],
 "metadata": {
  "kernelspec": {
   "display_name": "Python 3",
   "language": "python",
   "name": "python3"
  },
  "language_info": {
   "codemirror_mode": {
    "name": "ipython",
    "version": 3
   },
   "file_extension": ".py",
   "mimetype": "text/x-python",
   "name": "python",
   "nbconvert_exporter": "python",
   "pygments_lexer": "ipython3",
   "version": "3.6.3"
  }
 },
 "nbformat": 4,
 "nbformat_minor": 2
}
