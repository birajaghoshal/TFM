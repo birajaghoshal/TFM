{
 "cells": [
  {
   "cell_type": "code",
   "execution_count": 1,
   "metadata": {},
   "outputs": [
    {
     "name": "stdout",
     "output_type": "stream",
     "text": [
      "Hello World!\n"
     ]
    }
   ],
   "source": [
    "# python check\n",
    "print (\"Hello World!\")"
   ]
  },
  {
   "cell_type": "code",
   "execution_count": 2,
   "metadata": {},
   "outputs": [
    {
     "name": "stdout",
     "output_type": "stream",
     "text": [
      "b'Hello, TensorFlow!'\n"
     ]
    }
   ],
   "source": [
    "# tensorflow check\n",
    "import tensorflow as tf\n",
    "hello = tf.constant('Hello, TensorFlow!')\n",
    "sess = tf.Session()\n",
    "print(sess.run(hello))"
   ]
  },
  {
   "cell_type": "code",
   "execution_count": null,
   "metadata": {},
   "outputs": [],
   "source": [
    "# library versions check for more libraries\n",
    "import numpy\n",
    "import scipy\n",
    "import skimage\n",
    "\n",
    "print(\"scipy=={}\".format(scipy.__version__))\n",
    "print(\"numpy=={}\".format(numpy.__version__))\n",
    "print(\"scikit-image=={}\".format(skimage.__version__))"
   ]
  },
  {
   "cell_type": "code",
   "execution_count": null,
   "metadata": {},
   "outputs": [],
   "source": [
    "# keras\n",
    "# .keras/keras.json\n",
    "# {\n",
    "#     \"floatx\": \"float32\",\n",
    "#     \"epsilon\": 1e-07,\n",
    "#     \"backend\": \"tensorflow\",\n",
    "#     \"image_data_format\": \"channels_last\" \n",
    "# }\n",
    "\n",
    "# channels_last input format --> (150,150,3)\n",
    "\n",
    "# in anaconda environment --> set \"KERAS_BACKEND=tensorflow\" (problems reading keras.json)"
   ]
  },
  {
   "cell_type": "code",
   "execution_count": 11,
   "metadata": {},
   "outputs": [],
   "source": [
    "# check this function!!!!\n",
    "import sys\n",
    "import os\n",
    "\n",
    "if os in sys.modules:\n",
    "    print(\"modulo os cargado\")\n",
    "\n",
    "# modulename = 'tensorflow'\n",
    "# if modulename not in sys.modules:\n",
    "#     print ('You have not imported the {} module'.format(modulename))"
   ]
  }
 ],
 "metadata": {
  "kernelspec": {
   "display_name": "Python 3",
   "language": "python",
   "name": "python3"
  },
  "language_info": {
   "codemirror_mode": {
    "name": "ipython",
    "version": 3
   },
   "file_extension": ".py",
   "mimetype": "text/x-python",
   "name": "python",
   "nbconvert_exporter": "python",
   "pygments_lexer": "ipython3",
   "version": "3.6.3"
  }
 },
 "nbformat": 4,
 "nbformat_minor": 2
}
